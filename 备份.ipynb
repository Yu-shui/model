{
 "cells": [
  {
   "cell_type": "code",
   "execution_count": 46,
   "metadata": {
    "collapsed": true
   },
   "outputs": [],
   "source": [
    "#导入相应的包\n",
    "import torch\n",
    "import torch.nn as nn\n",
    "import torch.nn.functional as F\n",
    "import torch.optim as optim\n",
    "\n",
    "import numpy as np\n",
    "import pandas as pd\n",
    "import torchvision\n",
    "from torch.utils.data import DataLoader\n",
    "from datetime import datetime  # 用于计算时间\n",
    "\n",
    "import os\n",
    "import sys\n",
    "from collections import Counter\n",
    "import re\n",
    "\n",
    "#import tensorflow.contrib.keras as kr\n",
    "from torch.nn.utils.rnn import pack_padded_sequence\n",
    "from torch.nn.utils.rnn import pad_packed_sequence\n",
    "\n",
    "from torchtext import data\n",
    "import jieba\n",
    "\n",
    "import cv2\n",
    "import os\n",
    "\n",
    "from torch.autograd import Variable\n",
    "import tensorwatch as tw\n",
    "import torchvision.models\n",
    "\n",
    "from pathlib import Path\n",
    "import pandas as pd\n",
    "\n",
    "import matplotlib.pyplot as plt\n",
    "torch.set_printoptions(precision=15)\n",
    "pd.set_option('display.max_rows',None)\n",
    "pd.set_option('display.max_columns',None)\n",
    "np.set_printoptions(threshold=np.inf)\n",
    "\n",
    "\n",
    "import seaborn as sns\n",
    "# seaborn中文乱码解决方案\n",
    "from matplotlib.font_manager import FontProperties\n",
    "myfont=FontProperties(fname=r'C:\\Windows\\Fonts\\simhei.ttf',size=14)\n",
    "sns.set(font=myfont.get_name())"
   ]
  },
  {
   "cell_type": "markdown",
   "metadata": {},
   "source": [
    "## 路径"
   ]
  },
  {
   "cell_type": "code",
   "execution_count": 3,
   "metadata": {
    "collapsed": true
   },
   "outputs": [],
   "source": [
    "video_path = 'C:/Users/wuxun/Desktop/Data/feat_dat/'\n",
    "image_path = 'C:/Users/wuxun/Desktop/Data/image/'#存储到image文件夹中\n",
    "clip_path = 'C:/Users/wuxun/Desktop/Data/clip/'\n",
    "text_dir = 'C:/Users/wuxun/Desktop/Data/clear_text.txt'\n",
    "vocab_dir = 'C:/Users/wuxun/Desktop/Data/vocab.txt'\n",
    "train_path = 'C:/Users/wuxun/Desktop/Data/training/training.txt'\n",
    "val_path = 'C:/Users/wuxun/Desktop/Data/validation/validation.txt'\n",
    "csv_path = 'D:/csv/'\n",
    "save_path = 'C:/Users/wuxun/Desktop/Data/save_model/'\n",
    "save_path2 = 'C:/Users/wuxun/Desktop/Data/save_model2/params.pkl'\n",
    "test_path = 'C:/Users/wuxun/Desktop/Data/TALL/testing/test.txt'"
   ]
  },
  {
   "cell_type": "markdown",
   "metadata": {},
   "source": [
    "## 参数定义"
   ]
  },
  {
   "cell_type": "code",
   "execution_count": 4,
   "metadata": {
    "collapsed": true
   },
   "outputs": [],
   "source": [
    "#固定随机数种子\n",
    "seed=0\n",
    "torch.manual_seed(seed)\n",
    "torch.cuda.manual_seed(seed)\n",
    "torch.cuda.manual_seed_all(seed)\n",
    "np.random.seed(seed)"
   ]
  },
  {
   "cell_type": "markdown",
   "metadata": {},
   "source": [
    "# 数据处理"
   ]
  },
  {
   "cell_type": "code",
   "execution_count": 5,
   "metadata": {
    "collapsed": true
   },
   "outputs": [],
   "source": [
    " def read_file(filename):\n",
    "\n",
    "    \"\"\"读取文件数据\"\"\"\n",
    "    \n",
    "    contents = []\n",
    "    with open(filename) as f:\n",
    "        for line in f:\n",
    "            contents.append(re.split('[, \\n.]',line))\n",
    "    return contents"
   ]
  },
  {
   "cell_type": "code",
   "execution_count": 6,
   "metadata": {
    "collapsed": true
   },
   "outputs": [],
   "source": [
    "def build_vocab(text_dir, vocab_dir, vocab_size=3000):\n",
    "\n",
    "    \"\"\"根据训练集构建词汇表，存储\"\"\"\n",
    "    data_train = read_file(text_dir)\n",
    "    all_data = []\n",
    "    for content in data_train:\n",
    "        for k in content:\n",
    "            if len(k)!=0:\n",
    "                all_data.append(k)\n",
    "    print(all_data)\n",
    "    counter = Counter(all_data)\n",
    "    count_pairs = counter.most_common(vocab_size - 1)\n",
    "    words, _ = list(zip(*count_pairs))\n",
    "    # 添加一个 <PAD> 来将所有文本pad为同一长度\n",
    "    words = ['<PAD>'] + list(words)\n",
    "    open(vocab_dir, mode='w').write('\\n'.join(words) + '\\n')"
   ]
  },
  {
   "cell_type": "code",
   "execution_count": 7,
   "metadata": {
    "collapsed": true
   },
   "outputs": [],
   "source": [
    "def read_vocab(vocab_dir):\n",
    "\n",
    "    \"\"\"读取词汇表\"\"\"\n",
    "\n",
    "    with open(vocab_dir) as fp:\n",
    "        words = [(_.strip()) for _ in fp.readlines()]\n",
    "    word_to_id = dict(zip(words, range(len(words))))\n",
    "    return words, word_to_id"
   ]
  },
  {
   "cell_type": "code",
   "execution_count": 8,
   "metadata": {
    "collapsed": true
   },
   "outputs": [],
   "source": [
    "def to_words(content, words):\n",
    "\n",
    "    \"\"\"将id表示的内容转换为文字\"\"\"\n",
    "\n",
    "    return ''.join(words[x] for x in content)"
   ]
  },
  {
   "cell_type": "code",
   "execution_count": 12,
   "metadata": {
    "collapsed": true
   },
   "outputs": [],
   "source": [
    "def get_dict(path, csv_path):\n",
    "    '''\n",
    "    获得最终的数据集\n",
    "    path:文本数据集\n",
    "    csv_path\n",
    "    '''\n",
    "    words, word_to_id = read_vocab(vocab_dir)\n",
    "    data_id = []\n",
    "    source_csv=[]\n",
    "    target_csv=[]\n",
    "    fake_time_list=[]\n",
    "    source_time_list=[]\n",
    "    target_time_list=[]\n",
    "    Max_len=-1\n",
    "    count=0\n",
    "    with open(path) as contents:\n",
    "        for line in contents:\n",
    "            count+=1\n",
    "            List = line.split('#')\n",
    "            video_name = List[0]\n",
    "            time_length = float(List[1])\n",
    "            foldtype = List[2]\n",
    "            recipetype = List[3]\n",
    "            source = List[4]\n",
    "            target = List[5]\n",
    "            fake_time = (List[7].split('_'))\n",
    "            fake_time_l=int(fake_time[0])\n",
    "            fake_time_r=int(fake_time[1])\n",
    "            fake_time_list.append([fake_time_l, fake_time_r])\n",
    "            \n",
    "            #将句子转换为id表示：\n",
    "            sentence = List[6].strip('\\n').strip()\n",
    "            sentence = re.split(r\"[,| |.]\",sentence)\n",
    "            sentence_id = [word_to_id[x] for x in sentence if x in word_to_id]\n",
    "            if len(sentence_id) > Max_len:\n",
    "                Max_len = len(sentence_id)\n",
    "            data_id.append(sentence_id)\n",
    "            \n",
    "            #寻找路径,先统一取0001\n",
    "            dir_path = csv_path+'/'+foldtype+'/'+recipetype+'/'+video_name+'/0001/'\n",
    "            name = os.listdir(dir_path)[0]\n",
    "            dir_path = dir_path + name\n",
    "            \n",
    "            #读取csv文件\n",
    "            my_file = Path(dir_path)\n",
    "            if my_file.exists():\n",
    "                frame_sum = pd.read_csv(dir_path, header=None)\n",
    "            else:\n",
    "                print(\"目录不存在！\")\n",
    "            \n",
    "            #确定时间点\n",
    "            source = source.split('_')\n",
    "            target = target.split('_')\n",
    "            \n",
    "            source_time = (float(source[0])+float(source[1]))//2\n",
    "            source_time_list.append([float(source[0]),float(source[1])])\n",
    "            source_frame_num = int(source_time/time_length*500)\n",
    "            source_frame = frame_sum.loc[source_frame_num]\n",
    "            source_csv.append([source_frame])\n",
    "            \n",
    "            target_time = (float(target[0])+float(target[1]))//2\n",
    "            target_time_list.append([float(target[0]),float(target[1])])\n",
    "            target_frame_num = int(target_time/time_length*500)\n",
    "            target_frame = frame_sum.loc[target_frame_num]\n",
    "            target_csv.append([target_frame])\n",
    "            \n",
    "#             #添加其余帧数据作为对抗样本\n",
    "#             fake_time = (fake_time_l + fake_time_r)//2\n",
    "#             fake_time_num = int(fake_time/time_length*500)\n",
    "#             #print(str(count)+\"     \"+str(fake_time_num))\n",
    "#             fake_frame = frame_sum.loc[fake_time_num]\n",
    "            \n",
    "#             #补充数据\n",
    "#             source_csv.append([source_frame])\n",
    "#             data_id.append(sentence_id)\n",
    "#             target_csv.append([fake_frame])\n",
    "#             source_time_list.append([float(source[0]),float(source[1])])\n",
    "#             target_time_list.append([fake_time_l, fake_time_r])\n",
    "            \n",
    "    #将所有的句子pad为同一最大长度\n",
    "    batch_data_id = np.array([line +[0]*(Max_len-len(line)) \n",
    "                                for line in data_id])\n",
    "    batch_seq = torch.LongTensor(batch_data_id)\n",
    "            \n",
    "    print(len(batch_seq),len(source_csv),len(target_csv))\n",
    "    \n",
    "    return batch_seq, source_csv, target_csv, source_time_list, target_time_list"
   ]
  },
  {
   "cell_type": "markdown",
   "metadata": {},
   "source": [
    "# 读取数据"
   ]
  },
  {
   "cell_type": "code",
   "execution_count": 14,
   "metadata": {},
   "outputs": [
    {
     "name": "stdout",
     "output_type": "stream",
     "text": [
      "1548 1548 1548\n"
     ]
    }
   ],
   "source": [
    "#训练集\n",
    "x_batch_train, x_csv_train, y_csv_train, source_list_train, target_list_train = get_dict(train_path, csv_path)"
   ]
  },
  {
   "cell_type": "code",
   "execution_count": 15,
   "metadata": {},
   "outputs": [
    {
     "name": "stdout",
     "output_type": "stream",
     "text": [
      "523 523 523\n"
     ]
    }
   ],
   "source": [
    "#验证集\n",
    "x_batch_val, x_csv_val, y_csv_val, source_list_val, target_list_val = get_dict(val_path, csv_path)"
   ]
  },
  {
   "cell_type": "markdown",
   "metadata": {},
   "source": [
    "# 基础模型"
   ]
  },
  {
   "cell_type": "markdown",
   "metadata": {},
   "source": [
    "### 模型定义"
   ]
  },
  {
   "cell_type": "code",
   "execution_count": 16,
   "metadata": {
    "collapsed": true
   },
   "outputs": [],
   "source": [
    "batch_size = 32\n",
    "lamba = 0.2"
   ]
  },
  {
   "cell_type": "code",
   "execution_count": 17,
   "metadata": {
    "collapsed": true
   },
   "outputs": [],
   "source": [
    "# 定义LSTM的结构\n",
    "class LSTM_CNN(nn.Module):\n",
    "    \n",
    "    def __init__(self):\n",
    "        super(LSTM_CNN, self).__init__()\n",
    "        \n",
    "        self.embedding = nn.Embedding(5000, 64)\n",
    "        self.rnn = nn.LSTM(input_size=64, hidden_size=128, num_layers=2, bidirectional=True)\n",
    "        #self.rnn = nn.GRU(input_size=64, hidden_size=128, num_layers=2, bidirectional=True)\n",
    "        self.f1 = nn.Sequential(nn.Linear(256,128), nn.Dropout(0.8), nn.ReLU())\n",
    "\n",
    "        self.f2 = nn.Sequential(nn.Linear(128,64))\n",
    "        \n",
    "        \n",
    "        self.conv1=torch.nn.Sequential(\n",
    "            torch.nn.Conv1d(1,10,3),\n",
    "            torch.nn.ReLU(),\n",
    "            torch.nn.MaxPool1d(2),\n",
    "        )\n",
    "        \n",
    "        self.conv2=torch.nn.Sequential(\n",
    "            torch.nn.Conv1d(10,20,3),\n",
    "            torch.nn.ReLU(),\n",
    "            torch.nn.MaxPool1d(2),\n",
    "        )\n",
    "\n",
    "        #self.fc1=torch.nn.Linear(2520,128)\n",
    "        self.fc1=torch.nn.Linear(512,128)\n",
    "        self.fc1_drop=torch.nn.Dropout(p=0.4)\n",
    "        self.fc2=torch.nn.Linear(128, 64)\n",
    "        #self.fc2_drop=torch.nn.Dropout(p=0.4)\n",
    "        #self.fc3=torch.nn.Linear(50,10)\n",
    "        \n",
    "        #特征融合\n",
    "        self.final_fc = nn.Linear(in_features=128, out_features=64)\n",
    "        self.score_fc = torch.nn.Conv2d(64,3,kernel_size=1,stride=1)\n",
    "        \n",
    "        \n",
    "    def cnnout(self, x2):\n",
    "        in_fc=x2.view(x2.size(0),-1)\n",
    "        out_fc1=self.fc1(in_fc)\n",
    "        out_drop=self.fc1_drop(out_fc1)\n",
    "        out_fc2=self.fc2(out_drop)\n",
    "        return out_fc2\n",
    "        \n",
    "    def forward(self, x1, x2): \n",
    "        if x1.shape[0]!=2:\n",
    "            #lstm\n",
    "            x = self.embedding(x1)\n",
    "            x,_ = self.rnn(x)\n",
    "            x = F.dropout(x,p=0.8)\n",
    "            x = self.f1(x[:,-1,:])\n",
    "            lstm_output = self.f2(x)\n",
    "\n",
    "            #cnn\n",
    "            cnn_out=self.cnnout(x2)\n",
    "            #concat\n",
    "            output = torch.cat((lstm_output, cnn_out), 1)\n",
    "            output = self.final_fc(output)\n",
    "            return output\n",
    "        else:\n",
    "            cnn_out=self.cnnout(x2)\n",
    "            return cnn_out"
   ]
  },
  {
   "cell_type": "markdown",
   "metadata": {},
   "source": [
    "### 生成批次数据"
   ]
  },
  {
   "cell_type": "code",
   "execution_count": 18,
   "metadata": {
    "collapsed": true
   },
   "outputs": [],
   "source": [
    "def batch_iter(x_batch, x_csv, y_csv, source_list, target_list, batch_size=32):\n",
    "\n",
    "    \"\"\"\n",
    "    生成批次数据\n",
    "    \"\"\"\n",
    "\n",
    "    data_len = x_batch.shape[0]\n",
    "    num_batch = int((data_len - 1) / batch_size) + 1\n",
    "\n",
    "    indices = np.random.permutation(np.arange(data_len))\n",
    "    x_batch_shuffle = x_batch[indices]\n",
    "    x_csv_shuffle =np.array(x_csv)[indices]\n",
    "    y_csv_shuffle = np.array(y_csv)[indices]\n",
    "    source_list = np.array(source_list)[indices]\n",
    "    target_list = np.array(target_list)[indices]\n",
    "\n",
    "    for i in range(num_batch):\n",
    "        start_id = i * batch_size\n",
    "        end_id = min((i + 1) * batch_size, data_len)\n",
    "        yield x_batch_shuffle[start_id:end_id], x_csv_shuffle[start_id:end_id], y_csv_shuffle[start_id:end_id], source_list[start_id:end_id], target_list[start_id:end_id]"
   ]
  },
  {
   "cell_type": "code",
   "execution_count": 19,
   "metadata": {
    "collapsed": true
   },
   "outputs": [],
   "source": [
    "#存储loss数据\n",
    "train_loss_list = []\n",
    "val_loss_list = []"
   ]
  },
  {
   "cell_type": "markdown",
   "metadata": {},
   "source": [
    "### 训练函数"
   ]
  },
  {
   "cell_type": "code",
   "execution_count": 20,
   "metadata": {
    "collapsed": true
   },
   "outputs": [],
   "source": [
    "def train():\n",
    "    model = LSTM_CNN()\n",
    "    #model.load_state_dict(torch.load('C:/Users/wuxun/Desktop/Data/save_model/110epoch_20200713_params.pkl'))\n",
    "    Loss = torch.nn.TripletMarginLoss(margin=1.0, p=2)\n",
    "    optimizer = optim.Adam(model.parameters(), lr = 0.001)\n",
    "    T=Variable(torch.FloatTensor([[1.0,1.0],[1.0,1.0]]))\n",
    "    best_val_loss = 1000000\n",
    "    print(\"train begin......\")\n",
    "\n",
    "    for epoch in range(100):\n",
    "        batch_train = batch_iter(x_batch_train, x_csv_train, y_csv_train, source_list_train, target_list_train, batch_size)\n",
    "        print(\"====================  epoch:\"+str(epoch)+\"  ========================\")\n",
    "        train_loss_sum = 0\n",
    "        train_loss_avg = 0\n",
    "        count = 0\n",
    "        for x_batch, x_csv, y_csv, source_time, target_time in batch_train:\n",
    "            if x_csv.shape[0]==batch_size:\n",
    "                count += 1\n",
    "                x1 = Variable(torch.LongTensor(x_batch))\n",
    "                x2 = Variable(torch.FloatTensor(np.array(x_csv)))\n",
    "                y = Variable(torch.FloatTensor(np.array(y_csv)))\n",
    "                pred_y = model(x1, x2)\n",
    "                negtive = model(T, x2)\n",
    "                postive = model(T, y)\n",
    "                loss_reg = Loss(pred_y, postive, negtive)\n",
    "                train_loss_sum += loss_reg\n",
    "                optimizer.zero_grad()\n",
    "                loss_reg.backward()\n",
    "                #nn.utils.clip_grad_norm_(model.parameters(), max_norm=20, norm_type=2)#梯度裁剪\n",
    "                optimizer.step()\n",
    "                \n",
    "        train_loss_avg = train_loss_sum /count\n",
    "        print(\"train_loss: \"+str(train_loss_sum))\n",
    "        train_loss_list.append(train_loss_sum)\n",
    "\n",
    "        #对模型进行验证：\n",
    "        if (epoch+1)%5 == 0:\n",
    "            print(\"进行验证.....\")\n",
    "            count = 0\n",
    "            val_loss_sum = 0\n",
    "            val_loss_avg = 0\n",
    "            batch_val = batch_iter(x_batch_val, x_csv_val, y_csv_val,source_list_val,target_list_val, batch_size)\n",
    "            for x_batch, x_csv, y_csv, source_time, target_time in batch_val:\n",
    "                if x_csv.shape[0]==batch_size:\n",
    "                    count += 1\n",
    "                    x1 = Variable(torch.LongTensor(x_batch))\n",
    "                    x2 = Variable(torch.FloatTensor(np.array(x_csv)))\n",
    "                    y = Variable(torch.FloatTensor(np.array(y_csv)))\n",
    "                    pred_y = model(x1, x2)\n",
    "                    negtive = model(T, x2)\n",
    "                    postive = model(T, y)\n",
    "                    loss_reg = Loss(pred_y, postive, negtive)\n",
    "                    #loss_reg = torch.abs(pred_y - postive).mean()\n",
    "                    val_loss_sum += loss_reg\n",
    "                    optimizer.zero_grad()\n",
    "                    loss_reg.backward()\n",
    "                    #nn.utils.clip_grad_norm_(model.parameters(), max_norm=20, norm_type=2)#梯度裁剪\n",
    "                    optimizer.step()\n",
    "                    \n",
    "            val_loss_avg = val_loss_sum /count\n",
    "            print(\"val_loss: \"+str(val_loss_sum))\n",
    "            val_loss_list.append(val_loss_sum)   \n",
    "            torch.save(model.state_dict(), save_path+str(epoch)+'_not_better_params.pkl')\n",
    "            if val_loss_sum < best_val_loss:\n",
    "                torch.save(model.state_dict(), save_path+str(epoch)+'_better_params.pkl')\n",
    "                best_val_loss = val_loss_sum\n",
    "                print(\"model save!\")"
   ]
  },
  {
   "cell_type": "markdown",
   "metadata": {},
   "source": [
    "### 训练基础模型"
   ]
  },
  {
   "cell_type": "code",
   "execution_count": null,
   "metadata": {
    "collapsed": true
   },
   "outputs": [],
   "source": [
    "train()"
   ]
  },
  {
   "cell_type": "markdown",
   "metadata": {
    "collapsed": true
   },
   "source": [
    "### 绘制Loss曲线"
   ]
  },
  {
   "cell_type": "code",
   "execution_count": 21,
   "metadata": {
    "collapsed": true
   },
   "outputs": [],
   "source": [
    "def draw(train_loss_list, val_loss_list):\n",
    "    x1 = range(0, len(train_loss_list))\n",
    "    x2 = range(0, len(val_loss_list))\n",
    "    #with plt.style.context(['science']):\n",
    "    plt.subplot(2, 1, 1)\n",
    "    plt.plot(x1, train_loss_list[:len(train_loss_list)], 'o-')\n",
    "    plt.title('train loss vs. epoches')\n",
    "    plt.ylabel('train loss')\n",
    "    plt.subplot(2, 1, 2)\n",
    "    plt.plot(x2,val_loss_list[:len(val_loss_list)] , '.-')\n",
    "    plt.xlabel('Val loss vs. epoches')\n",
    "    plt.ylabel('Val loss')\n",
    "    plt.show()"
   ]
  },
  {
   "cell_type": "code",
   "execution_count": 17,
   "metadata": {},
   "outputs": [
    {
     "data": {
      "image/png": "[encoded data removed]",
      "text/plain": [
       "<Figure size 432x288 with 2 Axes>"
      ]
     },
     "metadata": {},
     "output_type": "display_data"
    }
   ],
   "source": [
    "draw(train_loss_list, val_loss_list)"
   ]
  },
  {
   "cell_type": "markdown",
   "metadata": {},
   "source": [
    "# 回归模型"
   ]
  },
  {
   "cell_type": "markdown",
   "metadata": {},
   "source": [
    "### 回归模型定义"
   ]
  },
  {
   "cell_type": "code",
   "execution_count": 22,
   "metadata": {
    "collapsed": true
   },
   "outputs": [],
   "source": [
    "#超参数lambda\n",
    "lamba = 0.2\n",
    "batch_size2 = 32"
   ]
  },
  {
   "cell_type": "code",
   "execution_count": 23,
   "metadata": {
    "collapsed": true
   },
   "outputs": [],
   "source": [
    "# 定义LSTM的结构\n",
    "class Change(nn.Module):\n",
    "    def __init__(self):\n",
    "        super(Change, self).__init__()\n",
    "        #特征融合\n",
    "        self.score_fc = torch.nn.Conv2d(64,3,kernel_size=1,stride=1)\n",
    "        \n",
    "    def forward(self, x):\n",
    "        output = x\n",
    "        #特征转换\n",
    "        output_expand = output.expand([batch_size2, batch_size2, 64])\n",
    "        output_expand = output_expand.unsqueeze(0).permute(0,3,1,2)\n",
    "        score = self.score_fc(output_expand).squeeze(0)\n",
    "\n",
    "        alignment_mat = score[0]\n",
    "        l_mat = score[1]\n",
    "        r_mat = score[2]\n",
    "        \n",
    "        I = torch.eye(batch_size2)\n",
    "        allone = torch.ones(batch_size2, batch_size2)\n",
    "        mask = allone-2*I\n",
    "\n",
    "        l_reg = torch.mm(l_mat*I, torch.ones(batch_size2,1))\n",
    "        r_reg = torch.mm(r_mat*I, torch.ones(batch_size2,1))\n",
    "        offset_pred = torch.cat([l_reg, r_reg],1)\n",
    "        \n",
    "        loss_mat = torch.log(allone + torch.exp(mask * score[0]))\n",
    "        \n",
    "        para = I + 1.0 / batch_size2 * allone\n",
    "        loss_mat = loss_mat * para\n",
    "        loss_alignment = loss_mat.mean()\n",
    "        \n",
    "        return offset_pred, loss_alignment"
   ]
  },
  {
   "cell_type": "code",
   "execution_count": 24,
   "metadata": {
    "collapsed": true
   },
   "outputs": [],
   "source": [
    "train_loss_2_list=[]\n",
    "val_loss_2_list=[]\n",
    "resualt_text_path='C:/Users/wuxun/Desktop/resualt.txt'"
   ]
  },
  {
   "cell_type": "markdown",
   "metadata": {},
   "source": [
    "### 训练函数"
   ]
  },
  {
   "cell_type": "code",
   "execution_count": 25,
   "metadata": {
    "collapsed": true
   },
   "outputs": [],
   "source": [
    "def train_2():\n",
    "    change_model = Change()\n",
    "    model = LSTM_CNN()\n",
    "    model.load_state_dict(torch.load('C:/Users/wuxun/Desktop/Data/save_model/189epoch_20200713_64_dim_params.pkl'))\n",
    "    change_model.load_state_dict(torch.load('C:/Users/wuxun/Desktop/Data/save_model2/the_first_model/the_first_model_epoch_158_batchsize1_params.pkl'))\n",
    "    optimizer = optim.Adam(change_model.parameters(), lr = 0.0005)\n",
    "    best_val_loss_2 = 1000000\n",
    "    print(\"train begin......\")\n",
    "    for epoch in range(200):\n",
    "        batch_train = batch_iter(x_batch_train, x_csv_train, y_csv_train, source_list_train, target_list_train, batch_size2)\n",
    "        count = 0\n",
    "        train_loss_sum = 0\n",
    "        train_alignmentloss_sum = 0\n",
    "        train_regloss_sum =0\n",
    "        for x_batch, x_csv, y_csv, source_time, target_time in batch_train:\n",
    "            if x_csv.shape[0]==batch_size2:\n",
    "                count += 1\n",
    "                x1 = Variable(torch.LongTensor(x_batch))\n",
    "                x2 = Variable(torch.FloatTensor(np.array(x_csv)))\n",
    "                source_time = Variable(torch.FloatTensor(np.array(source_time)))\n",
    "                target_time = Variable(torch.FloatTensor(np.array(target_time)))\n",
    "                pred = model(x1, x2)\n",
    "                pred2, loss_alignment = change_model(pred)\n",
    "                train_alignmentloss_sum += loss_alignment\n",
    "                loss_reg = torch.abs(pred2 - target_time).mean()\n",
    "                train_regloss_sum += loss_reg\n",
    "                Loss = loss_reg*lamba + loss_alignment\n",
    "                train_loss_sum += Loss\n",
    "                optimizer.zero_grad()\n",
    "                Loss.backward()\n",
    "                optimizer.step()\n",
    "        print('Epoch: %d | Loss: %.3f | loss_align: %.3f | loss_reg: %.3f' % (epoch, train_loss_sum / (count), train_alignmentloss_sum / (count), train_regloss_sum / (count)))\n",
    "        train_loss_2_list.append(train_loss_sum / count)\n",
    "\n",
    "        if (epoch+1)%5==0:\n",
    "            print(\"进行验证.......\")\n",
    "            batch_val = batch_iter(x_batch_val, x_csv_val, y_csv_val,source_list_val,target_list_val, batch_size2)\n",
    "            count = 0\n",
    "            val_loss_sum = 0\n",
    "            val_alignmentloss_sum =0\n",
    "            val_regloss_sum =0\n",
    "            for x_batch, x_csv, y_csv, source_time, target_time in batch_val:\n",
    "                if x_csv.shape[0]==batch_size2:\n",
    "                    count += 1\n",
    "                    x1 = Variable(torch.LongTensor(x_batch))\n",
    "                    x2 = Variable(torch.FloatTensor(np.array(x_csv)))\n",
    "                    source_time = Variable(torch.FloatTensor(np.array(source_time)))\n",
    "                    target_time = Variable(torch.FloatTensor(np.array(target_time)))\n",
    "                    pred = model(x1, x2)\n",
    "                    pred2, loss_alignment = change_model(pred)\n",
    "                    val_alignmentloss_sum += loss_alignment\n",
    "                    loss_reg = torch.abs(pred2 - target_time).mean()\n",
    "                    val_regloss_sum += loss_reg\n",
    "                    #模型最终的loss\n",
    "                    Loss = loss_reg * lamba + loss_alignment\n",
    "                    val_loss_sum += Loss\n",
    "                    optimizer.zero_grad()\n",
    "                    Loss.backward()\n",
    "                    optimizer.step()\n",
    "            print('Epoch: %d | Loss: %.3f | loss_align: %.3f | loss_reg: %.3f' % (epoch, val_loss_sum / (count), val_alignmentloss_sum / (count), val_regloss_sum / (count)))\n",
    "            val_loss_2_list.append(val_loss_sum / count) \n",
    "            torch.save(change_model.state_dict(), 'C:/Users/wuxun/Desktop/Data/save_model2/the_first_model/the_first_model_epoch_'+str(158 + epoch)+'_batchsize1_params.pkl')\n",
    "            if (val_loss_sum / count ) < best_val_loss_2:\n",
    "                torch.save(change_model.state_dict(), 'C:/Users/wuxun/Desktop/Data/save_model2/the_first_model/params.pkl')\n",
    "                best_val_loss_2 = val_loss_sum / count\n",
    "                print(\"model save!\")"
   ]
  },
  {
   "cell_type": "markdown",
   "metadata": {},
   "source": [
    "### 训练回归模型"
   ]
  },
  {
   "cell_type": "code",
   "execution_count": 22,
   "metadata": {
    "scrolled": true
   },
   "outputs": [
    {
     "name": "stdout",
     "output_type": "stream",
     "text": [
      "train begin......\n",
      "Epoch: 0 | Loss: 23.496 | loss_align: 0.044 | loss_reg: 117.264\n",
      "Epoch: 1 | Loss: 23.162 | loss_align: 0.043 | loss_reg: 115.592\n",
      "Epoch: 2 | Loss: 23.138 | loss_align: 0.044 | loss_reg: 115.475\n",
      "Epoch: 3 | Loss: 23.035 | loss_align: 0.044 | loss_reg: 114.954\n",
      "Epoch: 4 | Loss: 22.928 | loss_align: 0.044 | loss_reg: 114.421\n",
      "进行验证.......\n",
      "Epoch: 4 | Loss: 22.683 | loss_align: 0.043 | loss_reg: 113.198\n",
      "model save!\n",
      "Epoch: 5 | Loss: 22.885 | loss_align: 0.043 | loss_reg: 114.206\n",
      "Epoch: 6 | Loss: 22.804 | loss_align: 0.043 | loss_reg: 113.802\n",
      "Epoch: 7 | Loss: 22.816 | loss_align: 0.044 | loss_reg: 113.862\n",
      "Epoch: 8 | Loss: 22.898 | loss_align: 0.044 | loss_reg: 114.270\n",
      "Epoch: 9 | Loss: 22.964 | loss_align: 0.043 | loss_reg: 114.600\n",
      "进行验证.......\n",
      "Epoch: 9 | Loss: 22.682 | loss_align: 0.043 | loss_reg: 113.193\n",
      "model save!\n",
      "Epoch: 10 | Loss: 22.860 | loss_align: 0.043 | loss_reg: 114.082\n",
      "Epoch: 11 | Loss: 22.686 | loss_align: 0.044 | loss_reg: 113.212\n",
      "Epoch: 12 | Loss: 22.881 | loss_align: 0.044 | loss_reg: 114.186\n",
      "Epoch: 13 | Loss: 23.062 | loss_align: 0.044 | loss_reg: 115.092\n",
      "Epoch: 14 | Loss: 22.692 | loss_align: 0.043 | loss_reg: 113.245\n",
      "进行验证.......\n",
      "Epoch: 14 | Loss: 23.480 | loss_align: 0.044 | loss_reg: 117.183\n",
      "Epoch: 15 | Loss: 23.076 | loss_align: 0.044 | loss_reg: 115.159\n",
      "Epoch: 16 | Loss: 23.213 | loss_align: 0.043 | loss_reg: 115.847\n",
      "Epoch: 17 | Loss: 22.928 | loss_align: 0.043 | loss_reg: 114.424\n",
      "Epoch: 18 | Loss: 22.742 | loss_align: 0.043 | loss_reg: 113.491\n",
      "Epoch: 19 | Loss: 23.022 | loss_align: 0.043 | loss_reg: 114.894\n",
      "进行验证.......\n",
      "Epoch: 19 | Loss: 22.478 | loss_align: 0.044 | loss_reg: 112.171\n",
      "model save!\n",
      "Epoch: 20 | Loss: 22.771 | loss_align: 0.044 | loss_reg: 113.637\n",
      "Epoch: 21 | Loss: 23.117 | loss_align: 0.044 | loss_reg: 115.370\n",
      "Epoch: 22 | Loss: 23.096 | loss_align: 0.044 | loss_reg: 115.263\n",
      "Epoch: 23 | Loss: 23.236 | loss_align: 0.043 | loss_reg: 115.963\n",
      "Epoch: 24 | Loss: 22.933 | loss_align: 0.044 | loss_reg: 114.449\n",
      "进行验证.......\n",
      "Epoch: 24 | Loss: 22.065 | loss_align: 0.044 | loss_reg: 110.110\n",
      "model save!\n",
      "Epoch: 25 | Loss: 22.709 | loss_align: 0.044 | loss_reg: 113.326\n",
      "Epoch: 26 | Loss: 22.725 | loss_align: 0.044 | loss_reg: 113.407\n",
      "Epoch: 27 | Loss: 22.854 | loss_align: 0.044 | loss_reg: 114.053\n",
      "Epoch: 28 | Loss: 22.831 | loss_align: 0.044 | loss_reg: 113.937\n",
      "Epoch: 29 | Loss: 23.001 | loss_align: 0.044 | loss_reg: 114.785\n",
      "进行验证.......\n",
      "Epoch: 29 | Loss: 22.271 | loss_align: 0.043 | loss_reg: 111.139\n",
      "Epoch: 30 | Loss: 22.776 | loss_align: 0.044 | loss_reg: 113.663\n",
      "Epoch: 31 | Loss: 23.055 | loss_align: 0.044 | loss_reg: 115.057\n",
      "Epoch: 32 | Loss: 23.000 | loss_align: 0.044 | loss_reg: 114.782\n",
      "Epoch: 33 | Loss: 23.019 | loss_align: 0.044 | loss_reg: 114.877\n",
      "Epoch: 34 | Loss: 23.000 | loss_align: 0.044 | loss_reg: 114.783\n",
      "进行验证.......\n",
      "Epoch: 34 | Loss: 22.836 | loss_align: 0.044 | loss_reg: 113.961\n",
      "Epoch: 35 | Loss: 22.949 | loss_align: 0.043 | loss_reg: 114.526\n",
      "Epoch: 36 | Loss: 22.854 | loss_align: 0.043 | loss_reg: 114.051\n",
      "Epoch: 37 | Loss: 23.095 | loss_align: 0.044 | loss_reg: 115.256\n",
      "Epoch: 38 | Loss: 22.847 | loss_align: 0.044 | loss_reg: 114.016\n",
      "Epoch: 39 | Loss: 22.803 | loss_align: 0.044 | loss_reg: 113.799\n",
      "进行验证.......\n",
      "Epoch: 39 | Loss: 22.636 | loss_align: 0.044 | loss_reg: 112.960\n",
      "Epoch: 40 | Loss: 23.374 | loss_align: 0.044 | loss_reg: 116.655\n",
      "Epoch: 41 | Loss: 22.938 | loss_align: 0.044 | loss_reg: 114.472\n",
      "Epoch: 42 | Loss: 22.909 | loss_align: 0.044 | loss_reg: 114.328\n",
      "Epoch: 43 | Loss: 23.095 | loss_align: 0.044 | loss_reg: 115.259\n",
      "Epoch: 44 | Loss: 22.846 | loss_align: 0.044 | loss_reg: 114.013\n",
      "进行验证.......\n"
     ]
    },
    {
     "ename": "TypeError",
     "evalue": "can't convert np.ndarray of type numpy.object_. The only supported types are: double, float, float16, int64, int32, and uint8.",
     "output_type": "error",
     "traceback": [
      "\u001b[1;31m---------------------------------------------------------------------------\u001b[0m",
      "\u001b[1;31mTypeError\u001b[0m                                 Traceback (most recent call last)",
      "\u001b[1;32m<ipython-input-22-5ec64c8924c4>\u001b[0m in \u001b[0;36m<module>\u001b[1;34m()\u001b[0m\n\u001b[1;32m----> 1\u001b[1;33m \u001b[0mtrain_2\u001b[0m\u001b[1;33m(\u001b[0m\u001b[1;33m)\u001b[0m\u001b[1;33m\u001b[0m\u001b[1;33m\u001b[0m\u001b[0m\n\u001b[0m",
      "\u001b[1;32m<ipython-input-21-b409ed848fcf>\u001b[0m in \u001b[0;36mtrain_2\u001b[1;34m()\u001b[0m\n\u001b[0;32m     44\u001b[0m                     \u001b[0mcount\u001b[0m \u001b[1;33m+=\u001b[0m \u001b[1;36m1\u001b[0m\u001b[1;33m\u001b[0m\u001b[1;33m\u001b[0m\u001b[0m\n\u001b[0;32m     45\u001b[0m                     \u001b[0mx1\u001b[0m \u001b[1;33m=\u001b[0m \u001b[0mVariable\u001b[0m\u001b[1;33m(\u001b[0m\u001b[0mtorch\u001b[0m\u001b[1;33m.\u001b[0m\u001b[0mLongTensor\u001b[0m\u001b[1;33m(\u001b[0m\u001b[0mx_batch\u001b[0m\u001b[1;33m)\u001b[0m\u001b[1;33m)\u001b[0m\u001b[1;33m\u001b[0m\u001b[1;33m\u001b[0m\u001b[0m\n\u001b[1;32m---> 46\u001b[1;33m                     \u001b[0mx2\u001b[0m \u001b[1;33m=\u001b[0m \u001b[0mVariable\u001b[0m\u001b[1;33m(\u001b[0m\u001b[0mtorch\u001b[0m\u001b[1;33m.\u001b[0m\u001b[0mFloatTensor\u001b[0m\u001b[1;33m(\u001b[0m\u001b[0mnp\u001b[0m\u001b[1;33m.\u001b[0m\u001b[0marray\u001b[0m\u001b[1;33m(\u001b[0m\u001b[0mx_csv\u001b[0m\u001b[1;33m)\u001b[0m\u001b[1;33m)\u001b[0m\u001b[1;33m)\u001b[0m\u001b[1;33m\u001b[0m\u001b[1;33m\u001b[0m\u001b[0m\n\u001b[0m\u001b[0;32m     47\u001b[0m                     \u001b[0msource_time\u001b[0m \u001b[1;33m=\u001b[0m \u001b[0mVariable\u001b[0m\u001b[1;33m(\u001b[0m\u001b[0mtorch\u001b[0m\u001b[1;33m.\u001b[0m\u001b[0mFloatTensor\u001b[0m\u001b[1;33m(\u001b[0m\u001b[0mnp\u001b[0m\u001b[1;33m.\u001b[0m\u001b[0marray\u001b[0m\u001b[1;33m(\u001b[0m\u001b[0msource_time\u001b[0m\u001b[1;33m)\u001b[0m\u001b[1;33m)\u001b[0m\u001b[1;33m)\u001b[0m\u001b[1;33m\u001b[0m\u001b[1;33m\u001b[0m\u001b[0m\n\u001b[0;32m     48\u001b[0m                     \u001b[0mtarget_time\u001b[0m \u001b[1;33m=\u001b[0m \u001b[0mVariable\u001b[0m\u001b[1;33m(\u001b[0m\u001b[0mtorch\u001b[0m\u001b[1;33m.\u001b[0m\u001b[0mFloatTensor\u001b[0m\u001b[1;33m(\u001b[0m\u001b[0mnp\u001b[0m\u001b[1;33m.\u001b[0m\u001b[0marray\u001b[0m\u001b[1;33m(\u001b[0m\u001b[0mtarget_time\u001b[0m\u001b[1;33m)\u001b[0m\u001b[1;33m)\u001b[0m\u001b[1;33m)\u001b[0m\u001b[1;33m\u001b[0m\u001b[1;33m\u001b[0m\u001b[0m\n",
      "\u001b[1;31mTypeError\u001b[0m: can't convert np.ndarray of type numpy.object_. The only supported types are: double, float, float16, int64, int32, and uint8."
     ]
    }
   ],
   "source": [
    "train_2()"
   ]
  },
  {
   "cell_type": "markdown",
   "metadata": {},
   "source": [
    "### 绘制loss"
   ]
  },
  {
   "cell_type": "code",
   "execution_count": 23,
   "metadata": {},
   "outputs": [
    {
     "data": {
      "image/png": "[encoded data removed]",
      "text/plain": [
       "<Figure size 432x288 with 2 Axes>"
      ]
     },
     "metadata": {},
     "output_type": "display_data"
    }
   ],
   "source": [
    "draw(train_loss_2_list, val_loss_2_list)"
   ]
  },
  {
   "cell_type": "markdown",
   "metadata": {
    "collapsed": true
   },
   "source": [
    "#### 计算R@1"
   ]
  },
  {
   "cell_type": "code",
   "execution_count": 27,
   "metadata": {},
   "outputs": [],
   "source": [
    "middle_model = LSTM_CNN()\n",
    "change_model = Change()\n",
    "middle_model.load_state_dict(torch.load('C:/Users/wuxun/Desktop/Data/save_model/189epoch_20200713_64_dim_params.pkl'))\n",
    "change_model.load_state_dict(torch.load('C:/Users/wuxun/Desktop/Data/save_model2/the_first_model/the_first_model_epoch_197_batchsize1_params.pkl'))"
   ]
  },
  {
   "cell_type": "code",
   "execution_count": 28,
   "metadata": {},
   "outputs": [
    {
     "data": {
      "text/plain": [
       "Change(\n",
       "  (score_fc): Conv2d(64, 3, kernel_size=(1, 1), stride=(1, 1))\n",
       ")"
      ]
     },
     "execution_count": 28,
     "metadata": {},
     "output_type": "execute_result"
    }
   ],
   "source": [
    "middle_model.eval()\n",
    "change_model.eval()"
   ]
  },
  {
   "cell_type": "code",
   "execution_count": 29,
   "metadata": {
    "collapsed": true
   },
   "outputs": [],
   "source": [
    "def read_vocab(vocab_dir):\n",
    "\n",
    "    \"\"\"读取词汇表\"\"\"\n",
    "\n",
    "    with open(vocab_dir) as fp:\n",
    "        words = [(_.strip()) for _ in fp.readlines()]\n",
    "    word_to_id = dict(zip(words, range(len(words))))\n",
    "    return words, word_to_id"
   ]
  },
  {
   "cell_type": "code",
   "execution_count": 30,
   "metadata": {
    "collapsed": true
   },
   "outputs": [],
   "source": [
    "#读取test集\n",
    "# 读取test数据集\n",
    "def get_test_dict_for_My_model(path, csv_path):\n",
    "    words, word_to_id = read_vocab(vocab_dir)\n",
    "    data_id = []\n",
    "    csv=[]\n",
    "    time_list=[]\n",
    "    Max_len=-1\n",
    "    count=0\n",
    "    with open(path) as contents:\n",
    "        for line in contents:\n",
    "            count+=1\n",
    "            List = line.split('#')\n",
    "            video_name = List[0]\n",
    "            time_length = float(List[1])\n",
    "            foldtype = List[2]\n",
    "            recipetype = List[3]\n",
    "            target = List[4]\n",
    "            \n",
    "            #将句子转换为id表示：\n",
    "            sentence = List[6].strip('\\n').strip()\n",
    "            sentence = re.split(r\"[,| |.]\",sentence)\n",
    "            sentence_id = [word_to_id[x] for x in sentence if x in word_to_id]\n",
    "            if len(sentence_id) > Max_len:\n",
    "                Max_len = len(sentence_id)\n",
    "            data_id.append(sentence_id)\n",
    "            \n",
    "            #寻找路径,先统一取0001\n",
    "            dir_path = csv_path+'/'+foldtype+'/'+recipetype+'/'+video_name+'/0001/'\n",
    "            name = os.listdir(dir_path)[0]\n",
    "            dir_path = dir_path + name\n",
    "            \n",
    "            #读取csv文件\n",
    "            my_file = Path(dir_path)\n",
    "            if my_file.exists():\n",
    "                frame_sum = pd.read_csv(dir_path, header=None)\n",
    "            else:\n",
    "                print(\"目录不存在！\")\n",
    "            \n",
    "            #确定时间点，前帧后帧取pooling\n",
    "            target = target.split('_')\n",
    "            cur_start = float(target[0])\n",
    "            cur_end = float(target[1])\n",
    "            middle_time = (cur_start + cur_end)//2\n",
    "            \n",
    "            #中间帧\n",
    "            target_frame_num = int(middle_time/time_length*500)\n",
    "            target_middle_frame = frame_sum.loc[target_frame_num]\n",
    "            \n",
    "            csv.append(target_middle_frame)\n",
    "            time_list.append([cur_start, cur_end])\n",
    "            \n",
    "    #将所有的句子pad为同一最大长度\n",
    "    batch_data_id = np.array([line +[0]*(Max_len-len(line)) \n",
    "                                            for line in data_id])\n",
    "    batch_seq = torch.LongTensor(batch_data_id)    \n",
    "    print(len(batch_seq),len(csv),len(time_list))\n",
    "    \n",
    "    return batch_seq, csv, time_list"
   ]
  },
  {
   "cell_type": "code",
   "execution_count": 31,
   "metadata": {},
   "outputs": [
    {
     "name": "stdout",
     "output_type": "stream",
     "text": [
      "523 523 523\n"
     ]
    }
   ],
   "source": [
    "My_test_seq, My_test_csv, My_test_time_list = get_test_dict_for_My_model(val_path, csv_path)"
   ]
  },
  {
   "cell_type": "code",
   "execution_count": 34,
   "metadata": {
    "collapsed": true
   },
   "outputs": [],
   "source": [
    "IoU_thresh = [0.1, 0.3, 0.5, 0.7]"
   ]
  },
  {
   "cell_type": "code",
   "execution_count": 35,
   "metadata": {
    "collapsed": true
   },
   "outputs": [],
   "source": [
    "def calculate_IoU(i0, i1):\n",
    "    # calculate temporal intersection over union\n",
    "    union = (min(i0[0], i1[0]), max(i0[1], i1[1]))\n",
    "    inter = (max(i0[0], i1[0]), min(i0[1], i1[1]))\n",
    "    iou = 1.0*(inter[1]-inter[0])/(union[1]-union[0])\n",
    "    return iou"
   ]
  },
  {
   "cell_type": "code",
   "execution_count": 36,
   "metadata": {
    "collapsed": true
   },
   "outputs": [],
   "source": [
    "def compute_IoU_recall_top_n_forreg(iou_thresh, time_mat, time_pre_mat):#top\n",
    "    correct_num = 0\n",
    "    for i in range(time_mat.shape[0]):\n",
    "        gt_start = time_mat[i][0]\n",
    "        gt_end = time_mat[i][1]\n",
    "        pred_start = time_pre_mat[i][0]\n",
    "        pred_end = time_pre_mat[i][1]\n",
    "        iou = calculate_IoU((gt_start, gt_end),(pred_start, pred_end))\n",
    "        if iou>=iou_thresh:\n",
    "            correct_num+=1\n",
    "    return correct_num"
   ]
  },
  {
   "cell_type": "code",
   "execution_count": 32,
   "metadata": {
    "collapsed": true
   },
   "outputs": [],
   "source": [
    "x = Variable(torch.LongTensor(My_test_seq))\n",
    "y = Variable(torch.FloatTensor(np.array(My_test_csv)))\n",
    "My_time_mat = Variable(torch.FloatTensor(np.array(My_test_time_list)))\n",
    "batch_size = x.shape[0]\n",
    "batch_size2 = x.shape[0]\n",
    "My_output1 = middle_model(x, y)\n",
    "My_pred_time_mat, _ = change_model(My_output1)"
   ]
  },
  {
   "cell_type": "code",
   "execution_count": 37,
   "metadata": {},
   "outputs": [
    {
     "name": "stdout",
     "output_type": "stream",
     "text": [
      "My_model: R@1 for iou_thresh: 0.1 is : 0.140\n",
      "My_model: R@1 for iou_thresh: 0.3 is : 0.069\n",
      "My_model: R@1 for iou_thresh: 0.5 is : 0.028\n",
      "My_model: R@1 for iou_thresh: 0.7 is : 0.005\n"
     ]
    }
   ],
   "source": [
    "for iou_thresh in IoU_thresh:\n",
    "    corrnum = compute_IoU_recall_top_n_forreg(iou_thresh, My_time_mat, My_pred_time_mat)\n",
    "    corr_avg = corrnum*1.0 / My_time_mat.shape[0] \n",
    "    print(\"My_model: R@1 for iou_thresh: %.1f is : %.3f\" % (iou_thresh, corr_avg))"
   ]
  },
  {
   "cell_type": "code",
   "execution_count": 41,
   "metadata": {},
   "outputs": [],
   "source": [
    "begin_time_list = [x[0] for x in My_pred_time_mat.detach().numpy()] "
   ]
  },
  {
   "cell_type": "code",
   "execution_count": 42,
   "metadata": {},
   "outputs": [
    {
     "name": "stdout",
     "output_type": "stream",
     "text": [
      "<class 'numpy.float32'>\n",
      "1548\n"
     ]
    }
   ],
   "source": [
    "print(type(begin_time_list[0]))\n",
    "print(len(begin_time_list))"
   ]
  },
  {
   "cell_type": "code",
   "execution_count": 43,
   "metadata": {
    "collapsed": true
   },
   "outputs": [],
   "source": [
    "Max_v=-1;\n",
    "Min_v=2000\n",
    "for i in range(len(begin_time_list)):\n",
    "    if begin_time_list[i] > Max_v:\n",
    "        Max_v=begin_time_list[i]\n",
    "    if begin_time_list[i] < Min_v:\n",
    "        Min_v=begin_time_list[i]"
   ]
  },
  {
   "cell_type": "code",
   "execution_count": 44,
   "metadata": {},
   "outputs": [
    {
     "name": "stdout",
     "output_type": "stream",
     "text": [
      "246.027 53.72785\n",
      "19.229913330078126\n"
     ]
    }
   ],
   "source": [
    "print(Max_v, Min_v)\n",
    "num_block = ((Max_v - Min_v)/10)\n",
    "print(num_block)"
   ]
  },
  {
   "cell_type": "code",
   "execution_count": 47,
   "metadata": {},
   "outputs": [
    {
     "data": {
      "image/png": "[encoded data removed]",
      "text/plain": [
       "<Figure size 432x288 with 1 Axes>"
      ]
     },
     "metadata": {},
     "output_type": "display_data"
    }
   ],
   "source": [
    "plt.hist(x = begin_time_list, # 指定绘图数据\n",
    "         bins = 20, # 指定直方图中条块的个数\n",
    "         color = 'steelblue', # 指定直方图的填充色\n",
    "         edgecolor = 'black' # 指定直方图的边框色\n",
    "         )\n",
    "# 添加x轴和y轴标签\n",
    "plt.xlabel('开始时间')\n",
    "plt.ylabel('频数')\n",
    "# 添加标题\n",
    "plt.title('train集预测所得开始时间分布')\n",
    "# 显示图形\n",
    "plt.show()"
   ]
  },
  {
   "cell_type": "code",
   "execution_count": null,
   "metadata": {
    "collapsed": true
   },
   "outputs": [],
   "source": []
  }
 ],
 "metadata": {
  "kernelspec": {
   "display_name": "Python [conda env:Anaconda3]",
   "language": "python",
   "name": "conda-env-Anaconda3-py"
  },
  "language_info": {
   "codemirror_mode": {
    "name": "ipython",
    "version": 3
   },
   "file_extension": ".py",
   "mimetype": "text/x-python",
   "name": "python",
   "nbconvert_exporter": "python",
   "pygments_lexer": "ipython3",
   "version": "3.6.8"
  }
 },
 "nbformat": 4,
 "nbformat_minor": 2
}
