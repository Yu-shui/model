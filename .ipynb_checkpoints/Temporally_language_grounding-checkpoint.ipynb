{
 "cells": [
  {
   "cell_type": "markdown",
   "metadata": {},
   "source": [
    "## TALL模型实现"
   ]
  },
  {
   "cell_type": "code",
   "execution_count": 1,
   "metadata": {
    "collapsed": true
   },
   "outputs": [],
   "source": [
    "import torch\n",
    "import torch.nn as nn\n",
    "import torch.nn.functional as F\n",
    "import numpy as np\n",
    "from torch.autograd import Variable\n",
    "import torch\n",
    "import torch.nn as nn\n",
    "import torch.nn.functional as F\n",
    "import torch.optim as optim\n",
    "\n",
    "import numpy as np\n",
    "import pandas as pd\n",
    "import torchvision\n",
    "from torch.utils.data import DataLoader\n",
    "from datetime import datetime  # 用于计算时间\n",
    "\n",
    "import os\n",
    "import sys\n",
    "from collections import Counter\n",
    "import re\n",
    "\n",
    "#import tensorflow.contrib.keras as kr\n",
    "from torch.nn.utils.rnn import pack_padded_sequence\n",
    "from torch.nn.utils.rnn import pad_packed_sequence\n",
    "\n",
    "from torchtext import data\n",
    "import jieba\n",
    "\n",
    "import cv2\n",
    "import os\n",
    "\n",
    "from torch.autograd import Variable\n",
    "import tensorwatch as tw\n",
    "import torchvision.models\n",
    "\n",
    "from pathlib import Path\n",
    "import pandas as pd\n",
    "\n",
    "import matplotlib.pyplot as plt\n",
    "torch.set_printoptions(precision=15)\n",
    "pd.set_option('display.max_rows',None)\n",
    "pd.set_option('display.max_columns',None)\n",
    "np.set_printoptions(threshold=np.inf)\n",
    "\n",
    "from torch.optim import lr_scheduler"
   ]
  },
  {
   "cell_type": "markdown",
   "metadata": {},
   "source": [
    "## 数据准备"
   ]
  },
  {
   "cell_type": "markdown",
   "metadata": {},
   "source": [
    "### 路径"
   ]
  },
  {
   "cell_type": "code",
   "execution_count": 24,
   "metadata": {
    "collapsed": true
   },
   "outputs": [],
   "source": [
    "train_path = 'C:/Users/wuxun/Desktop/Data/TALL/traning/training.txt'\n",
    "val_path = 'C:/Users/wuxun/Desktop/Data/TALL/validation/validation.txt'\n",
    "vocab_dir = 'C:/Users/wuxun/Desktop/Data/vocab.txt'\n",
    "csv_path = 'D:/csv/'\n",
    "save_path = 'C:/Users/wuxun/Desktop/Data/TALL/save_model/'\n",
    "test_path = 'C:/Users/wuxun/Desktop/Data/TALL/testing/test.txt'"
   ]
  },
  {
   "cell_type": "code",
   "execution_count": 3,
   "metadata": {
    "collapsed": true
   },
   "outputs": [],
   "source": [
    "BATCH_SIZE = 64\n",
    "EPOCH = 200"
   ]
  },
  {
   "cell_type": "code",
   "execution_count": 4,
   "metadata": {
    "collapsed": true
   },
   "outputs": [],
   "source": [
    "def read_vocab(vocab_dir):\n",
    "\n",
    "    \"\"\"读取词汇表\"\"\"\n",
    "\n",
    "    with open(vocab_dir) as fp:\n",
    "        words = [(_.strip()) for _ in fp.readlines()]\n",
    "    word_to_id = dict(zip(words, range(len(words))))\n",
    "    return words, word_to_id"
   ]
  },
  {
   "cell_type": "code",
   "execution_count": 5,
   "metadata": {
    "collapsed": true
   },
   "outputs": [],
   "source": [
    "def get_dict(path, csv_path):\n",
    "    '''\n",
    "    获得最终的数据集\n",
    "    path:文本数据集\n",
    "    csv_path\n",
    "    '''\n",
    "    words, word_to_id = read_vocab(vocab_dir)\n",
    "    data_id = []\n",
    "    target_csv=[]\n",
    "    target_time_list=[]\n",
    "    Max_len=-1\n",
    "    count=0\n",
    "    with open(path) as contents:\n",
    "        for line in contents:\n",
    "            count+=1\n",
    "            List = line.split('#')\n",
    "            video_name = List[0]\n",
    "            time_length = float(List[1])\n",
    "            foldtype = List[2]\n",
    "            recipetype = List[3]\n",
    "            target = List[4]\n",
    "            \n",
    "            #将句子转换为id表示：\n",
    "            sentence = List[6].strip('\\n').strip()\n",
    "            sentence = re.split(r\"[,| |.]\",sentence)\n",
    "            sentence_id = [word_to_id[x] for x in sentence if x in word_to_id]\n",
    "            if len(sentence_id) > Max_len:\n",
    "                Max_len = len(sentence_id)\n",
    "            data_id.append(sentence_id)\n",
    "            \n",
    "            #寻找路径,先统一取0001\n",
    "            dir_path = csv_path+'/'+foldtype+'/'+recipetype+'/'+video_name+'/0001/'\n",
    "            name = os.listdir(dir_path)[0]\n",
    "            dir_path = dir_path + name\n",
    "            \n",
    "            #读取csv文件\n",
    "            my_file = Path(dir_path)\n",
    "            if my_file.exists():\n",
    "                frame_sum = pd.read_csv(dir_path, header=None)\n",
    "            else:\n",
    "                print(\"目录不存在！\")\n",
    "            \n",
    "            #确定时间点，前帧后帧取pooling\n",
    "            target = target.split('_')\n",
    "            cur_start = float(target[0])\n",
    "            cur_end = float(target[1])\n",
    "            middle_time = (cur_start + cur_end)//2\n",
    "            \n",
    "            #中间帧\n",
    "            target_frame_num = int(middle_time/time_length*500)\n",
    "            target_middle_frame = frame_sum.loc[target_frame_num]\n",
    "            \n",
    "            #上下文信息\n",
    "            target_frame_start = int(cur_start/time_length*500)\n",
    "            target_frame_end = int(cur_end/time_length*500)\n",
    "            if target_frame_start == target_frame_num:\n",
    "                print(str(cur_start)+\"  \"+str(cur_end)+\" \"+str(time_length))\n",
    "                print(\"出现重复！\")\n",
    "                target_frame_start = min(target_frame_num - 3, 0)\n",
    "            if  target_frame_end ==target_frame_num:\n",
    "                print(str(cur_start)+\"  \"+str(cur_end)+\" \"+str(time_length))\n",
    "                print(\"出现重复！\")\n",
    "                target_frame_start = min(target_frame_num + 3, 499)\n",
    "                \n",
    "            pre_context = np.zeros([target_frame_num - target_frame_start, 512], dtype=np.float32)\n",
    "            post_context = np.zeros([target_frame_end - target_frame_num, 512], dtype=np.float32) \n",
    "            for i in range(target_frame_num - target_frame_start):\n",
    "                pre_context[i] = frame_sum.loc[i]\n",
    "                \n",
    "            for i in range(target_frame_end - target_frame_num):\n",
    "                post_context[i] = frame_sum.loc[i]\n",
    "            \n",
    "            #对pre_context和post_context取均值\n",
    "            pre_context = np.mean(pre_context, axis=0)\n",
    "            post_context = np.mean(post_context, axis=0)\n",
    "            \n",
    "            #对三段信息进行拼接\n",
    "            image = np.hstack((pre_context, target_middle_frame, post_context))\n",
    "            \n",
    "            target_csv.append(image)\n",
    "            target_time_list.append([cur_start, cur_end])\n",
    "            \n",
    "    #将所有的句子pad为同一最大长度\n",
    "    batch_data_id = np.array([line +[0]*(Max_len-len(line)) \n",
    "                                            for line in data_id])\n",
    "    batch_seq = torch.LongTensor(batch_data_id)    \n",
    "    print(len(batch_seq),len(target_csv),len(target_time_list))\n",
    "    \n",
    "    return batch_seq, target_csv, target_time_list"
   ]
  },
  {
   "cell_type": "markdown",
   "metadata": {},
   "source": [
    "### 读取数据"
   ]
  },
  {
   "cell_type": "code",
   "execution_count": 6,
   "metadata": {},
   "outputs": [
    {
     "name": "stdout",
     "output_type": "stream",
     "text": [
      "106.0  107.0 219.22\n",
      "出现重复！\n",
      "50.0  51.0 244.37\n",
      "出现重复！\n",
      "87.0  88.0 244.37\n",
      "出现重复！\n",
      "30.0  31.0 129.24\n",
      "出现重复！\n",
      "258.0  259.0 396.3\n",
      "出现重复！\n",
      "31.0  32.0 88.22\n",
      "出现重复！\n",
      "51.0  52.0 271.07\n",
      "出现重复！\n",
      "1548 1548 1548\n"
     ]
    }
   ],
   "source": [
    "sentence_tarin_batch, target_train_csv, target_train_list = get_dict(train_path, csv_path)"
   ]
  },
  {
   "cell_type": "code",
   "execution_count": 7,
   "metadata": {},
   "outputs": [
    {
     "name": "stdout",
     "output_type": "stream",
     "text": [
      "146.0  148.0 561.49\n",
      "出现重复！\n",
      "262.0  263.0 352.4\n",
      "出现重复！\n",
      "183.0  184.0 329.89\n",
      "出现重复！\n",
      "281.0  282.0 349.68\n",
      "出现重复！\n",
      "523 523 523\n"
     ]
    }
   ],
   "source": [
    "sentence_val_batch, target_val_csv, target_val_list = get_dict(val_path, csv_path)"
   ]
  },
  {
   "cell_type": "code",
   "execution_count": 12,
   "metadata": {
    "collapsed": true
   },
   "outputs": [],
   "source": [
    "def batch_iter(x_batch, target_csv, target_list, batch_size = 64):\n",
    "    \"\"\"\n",
    "    生成批次数据\n",
    "    \"\"\"\n",
    "    data_len = x_batch.shape[0]\n",
    "    num_batch = int((data_len - 1) / batch_size) + 1\n",
    "    indices = np.random.permutation(np.arange(data_len))\n",
    "    \n",
    "    x_batch_shuffle = x_batch[indices]\n",
    "    y_csv_shuffle = np.array(target_csv)[indices]\n",
    "    target_list = np.array(target_list)[indices]\n",
    "\n",
    "    for i in range(num_batch):\n",
    "        start_id = i * batch_size\n",
    "        end_id = min((i + 1) * batch_size, data_len)\n",
    "        yield x_batch_shuffle[start_id:end_id], y_csv_shuffle[start_id:end_id], target_list[start_id:end_id]"
   ]
  },
  {
   "cell_type": "markdown",
   "metadata": {},
   "source": [
    "## 模型定义"
   ]
  },
  {
   "cell_type": "code",
   "execution_count": 13,
   "metadata": {
    "collapsed": true
   },
   "outputs": [],
   "source": [
    "def weights_init(m):\n",
    "    classname = m.__class__.__name__\n",
    "    if classname.find('Conv') != -1:\n",
    "        torch.nn.init.normal_(m.weight.data, mean=0, std=0.01)\n",
    "        m.bias.data.fill_(0)\n",
    "    elif classname.find('Linear') != -1:\n",
    "        torch.nn.init.normal_(m.weight.data)\n",
    "        m.bias.data.fill_(0)"
   ]
  },
  {
   "cell_type": "code",
   "execution_count": 14,
   "metadata": {
    "collapsed": true
   },
   "outputs": [],
   "source": [
    "class TALL(nn.Module):\n",
    "    def __init__(self):\n",
    "        super(TALL, self).__init__()\n",
    "        self.semantic_size = 128 # the size of visual and semantic comparison size\n",
    "        #self.sentence_embedding_size = 4800\n",
    "        self.visual_feature_dim = 1536\n",
    "        self.v2s_lt = nn.Linear(self.visual_feature_dim, self.semantic_size)#视觉提取\n",
    "        self.s2s_lt = nn.Linear(256, 128)#句子提取\n",
    "        self.fc1 = torch.nn.Conv2d(128*4, 128, kernel_size=1, stride=1)\n",
    "        self.fc2 = torch.nn.Conv2d(128, 3, kernel_size=1, stride=1)\n",
    "        # Initializing weights\n",
    "        self.apply(weights_init)\n",
    "        \n",
    "        #self_add\n",
    "        self.embedding = nn.Embedding(5000, 64)\n",
    "        self.lstm = nn.LSTM(input_size=64, hidden_size=128, num_layers=2, bidirectional=True)\n",
    "\n",
    "    def cross_modal_comb(self, visual_feat, sentence_embed):\n",
    "        batch_size = visual_feat.size(0)\n",
    "        #print(\"进入交叉阶段,batch_size = \"+str(batch_size))\n",
    "\n",
    "        vv_feature = visual_feat.expand([batch_size,batch_size,self.semantic_size])\n",
    "        ss_feature = sentence_embed.repeat(1,1,batch_size).view(batch_size,batch_size,self.semantic_size)\n",
    "\n",
    "        concat_feature = torch.cat([vv_feature, ss_feature], 2)\n",
    "\n",
    "        mul_feature = vv_feature * ss_feature # 64,64,128\n",
    "        add_feature = vv_feature + ss_feature # 64,64,128\n",
    "\n",
    "        comb_feature = torch.cat([mul_feature, add_feature, concat_feature], 2)\n",
    "\n",
    "        return comb_feature\n",
    "\n",
    "\n",
    "    def forward(self, visual_feature_train, sentence_embed_train):\n",
    "        transformed_clip_train = self.v2s_lt(visual_feature_train)\n",
    "        transformed_clip_train_norm = F.normalize(transformed_clip_train, p=2, dim=1)\n",
    "        \n",
    "        sentence_embed_train = self.embedding(sentence_embed_train)\n",
    "        sentence_embed_train,_ =self.lstm(sentence_embed_train)\n",
    "        transformed_sentence_train = self.s2s_lt(sentence_embed_train[:,-1,:])\n",
    "        transformed_sentence_train_norm = F.normalize(transformed_sentence_train, p=2, dim=1)\n",
    "        \n",
    "        cross_modal_vec_train = self.cross_modal_comb(transformed_clip_train_norm, transformed_sentence_train_norm)\n",
    "        \n",
    "        cross_modal_vec_train = cross_modal_vec_train.unsqueeze(0).permute(0, 3, 1, 2)\n",
    "        mid_output = self.fc1(cross_modal_vec_train)\n",
    "        mid_output = F.relu(mid_output)\n",
    "        sim_score_mat_train = self.fc2(mid_output).squeeze(0)\n",
    "        \n",
    "        return sim_score_mat_train"
   ]
  },
  {
   "cell_type": "markdown",
   "metadata": {},
   "source": [
    "## 回归阶段"
   ]
  },
  {
   "cell_type": "code",
   "execution_count": 34,
   "metadata": {
    "collapsed": true
   },
   "outputs": [],
   "source": [
    "TALL_model = TALL()\n",
    "lr = 0.001\n",
    "train_loss_list = []\n",
    "val_loss_list = []\n",
    "optimizer = torch.optim.Adam(TALL_model.parameters(), lr = lr)"
   ]
  },
  {
   "cell_type": "code",
   "execution_count": 35,
   "metadata": {
    "collapsed": true
   },
   "outputs": [],
   "source": [
    "def train():\n",
    "    # compute alignment and regression loss\n",
    "    Max_loss = 1000\n",
    "    print(\"start traning.......\")\n",
    "    for epoch in range(EPOCH):\n",
    "        train_loss = 0\n",
    "        loss_align_sum = 0\n",
    "        loss_reg_sum = 0\n",
    "        count = 0\n",
    "        batch_train = batch_iter(sentence_tarin_batch, target_train_csv, target_train_list, BATCH_SIZE)\n",
    "        for x_batch, y_csv, target_time in batch_train:\n",
    "            if y_csv.shape[0]==BATCH_SIZE:\n",
    "                count += 1\n",
    "                x = Variable(torch.LongTensor(x_batch))\n",
    "                y = Variable(torch.FloatTensor(np.array(y_csv)))\n",
    "                offsets = Variable(torch.FloatTensor(np.array(target_time)))\n",
    "                outputs = TALL_model(y, x)\n",
    "                sim_score_mat = outputs[0]\n",
    "                p_reg_mat = outputs[1]\n",
    "                l_reg_mat = outputs[2]\n",
    "                # loss cls, not considering iou\n",
    "                input_size = outputs.size(1)\n",
    "                I = torch.eye(input_size)\n",
    "                I_2 = -2 * I\n",
    "                all1 = torch.ones(input_size, input_size)\n",
    "\n",
    "                mask_mat = I_2 + all1  \n",
    "\n",
    "                alpha = 1.0 / input_size\n",
    "                lambda_regression = 0.01\n",
    "                batch_para_mat = alpha * all1\n",
    "                para_mat = I + batch_para_mat\n",
    "\n",
    "                loss_mat = torch.log(all1 + torch.exp(mask_mat*sim_score_mat))\n",
    "                loss_mat = loss_mat*para_mat\n",
    "                loss_align = loss_mat.mean()\n",
    "\n",
    "                # regression loss\n",
    "                l_reg_diag = torch.mm(l_reg_mat*I, torch.ones(input_size, 1))\n",
    "                p_reg_diag = torch.mm(p_reg_mat*I, torch.ones(input_size, 1))\n",
    "                offset_pred = torch.cat([p_reg_diag, l_reg_diag], 1)\n",
    "                loss_reg = torch.abs(offset_pred - offsets).mean() # L1 loss\n",
    "\n",
    "                loss= lambda_regression*loss_reg +loss_align\n",
    "                optimizer.zero_grad()\n",
    "                loss.backward()\n",
    "                optimizer.step()\n",
    "                train_loss += loss\n",
    "                loss_reg_sum += loss_reg\n",
    "                loss_align_sum += loss_align\n",
    "        \n",
    "        print('Epoch: %d | Loss: %.3f | loss_align: %.3f | loss_reg: %.3f' % (epoch, train_loss / (count), loss_align_sum / (count), loss_reg_sum / (count)))\n",
    "        train_loss_list.append(train_loss / (count))\n",
    "        \n",
    "        if (epoch + 1)%5 == 0:\n",
    "            print(\"validation.....\")\n",
    "            val_loss = 0\n",
    "            valloss_align_sum = 0\n",
    "            valloss_reg_sum = 0\n",
    "            count = 0\n",
    "            batch_val = batch_iter(sentence_val_batch, target_val_csv, target_val_list, BATCH_SIZE)\n",
    "            for x_batch, y_csv, target_time in batch_val:\n",
    "                if y_csv.shape[0]==BATCH_SIZE:\n",
    "                    count += 1\n",
    "                    x = Variable(torch.LongTensor(x_batch))\n",
    "                    y = Variable(torch.FloatTensor(np.array(y_csv)))\n",
    "                    offsets = Variable(torch.FloatTensor(np.array(target_time)))\n",
    "                    outputs = TALL_model(y, x)\n",
    "                    sim_score_mat = outputs[0]\n",
    "                    p_reg_mat = outputs[1]\n",
    "                    l_reg_mat = outputs[2]\n",
    "                    input_size = outputs.size(1)\n",
    "                    I = torch.eye(input_size)\n",
    "                    I_2 = -2 * I\n",
    "                    all1 = torch.ones(input_size, input_size)\n",
    "\n",
    "                    mask_mat = I_2 + all1  \n",
    "\n",
    "                    alpha = 1.0 / input_size\n",
    "                    lambda_regression = 0.01\n",
    "                    batch_para_mat = alpha * all1\n",
    "                    para_mat = I + batch_para_mat\n",
    "\n",
    "                    loss_mat = torch.log(all1 + torch.exp(mask_mat*sim_score_mat))\n",
    "                    loss_mat = loss_mat*para_mat\n",
    "                    loss_align = loss_mat.mean()\n",
    "\n",
    "                    # regression loss\n",
    "                    l_reg_diag = torch.mm(l_reg_mat*I, torch.ones(input_size, 1))\n",
    "                    p_reg_diag = torch.mm(p_reg_mat*I, torch.ones(input_size, 1))\n",
    "                    offset_pred = torch.cat([p_reg_diag, l_reg_diag], 1)\n",
    "                    loss_reg = torch.abs(offset_pred - offsets).mean() # L1 loss\n",
    "\n",
    "                    loss= lambda_regression*loss_reg +loss_align\n",
    "                    optimizer.zero_grad()\n",
    "                    loss.backward()\n",
    "                    optimizer.step()\n",
    "                    val_loss += loss\n",
    "                    valloss_reg_sum += loss_reg\n",
    "                    valloss_align_sum += loss_align\n",
    "\n",
    "            print('Epoch: %d | Loss: %.3f | loss_align: %.3f | loss_reg: %.3f' % (epoch, val_loss / (count), valloss_align_sum / (count), valloss_reg_sum / (count)))\n",
    "            val_loss_list.append(val_loss / (count))\n",
    "            if val_loss / count < Max_loss:\n",
    "                torch.save(TALL_model.state_dict(), save_path + 'epoch'+str(epoch)+'params.pkl')\n",
    "                Max_loss = val_loss / count\n",
    "                print(\"model save!\")"
   ]
  },
  {
   "cell_type": "code",
   "execution_count": 36,
   "metadata": {
    "collapsed": true
   },
   "outputs": [
    {
     "name": "stdout",
     "output_type": "stream",
     "text": [
      "start traning.......\n",
      "Epoch: 0 | Loss: 1.428 | loss_align: 0.022 | loss_reg: 140.671\n",
      "Epoch: 1 | Loss: 1.391 | loss_align: 0.022 | loss_reg: 136.938\n",
      "Epoch: 2 | Loss: 1.271 | loss_align: 0.022 | loss_reg: 124.962\n",
      "Epoch: 3 | Loss: 1.092 | loss_align: 0.022 | loss_reg: 107.039\n",
      "Epoch: 4 | Loss: 0.911 | loss_align: 0.022 | loss_reg: 88.935\n",
      "validation.....\n",
      "Epoch: 4 | Loss: 0.776 | loss_align: 0.022 | loss_reg: 75.465\n",
      "model save!\n",
      "Epoch: 5 | Loss: 0.789 | loss_align: 0.022 | loss_reg: 76.747\n",
      "Epoch: 6 | Loss: 0.774 | loss_align: 0.022 | loss_reg: 75.212\n",
      "Epoch: 7 | Loss: 0.773 | loss_align: 0.022 | loss_reg: 75.113\n",
      "Epoch: 8 | Loss: 0.774 | loss_align: 0.022 | loss_reg: 75.259\n",
      "Epoch: 9 | Loss: 0.768 | loss_align: 0.022 | loss_reg: 74.659\n",
      "validation.....\n",
      "Epoch: 9 | Loss: 0.709 | loss_align: 0.022 | loss_reg: 68.754\n",
      "model save!\n",
      "Epoch: 10 | Loss: 0.769 | loss_align: 0.022 | loss_reg: 74.742\n",
      "Epoch: 11 | Loss: 0.768 | loss_align: 0.022 | loss_reg: 74.585\n",
      "Epoch: 12 | Loss: 0.771 | loss_align: 0.022 | loss_reg: 74.898\n",
      "Epoch: 13 | Loss: 0.768 | loss_align: 0.022 | loss_reg: 74.596\n",
      "Epoch: 14 | Loss: 0.769 | loss_align: 0.022 | loss_reg: 74.735\n",
      "validation.....\n",
      "Epoch: 14 | Loss: 0.698 | loss_align: 0.022 | loss_reg: 67.662\n",
      "model save!\n",
      "Epoch: 15 | Loss: 0.765 | loss_align: 0.022 | loss_reg: 74.340\n",
      "Epoch: 16 | Loss: 0.763 | loss_align: 0.022 | loss_reg: 74.101\n",
      "Epoch: 17 | Loss: 0.758 | loss_align: 0.022 | loss_reg: 73.624\n",
      "Epoch: 18 | Loss: 0.754 | loss_align: 0.022 | loss_reg: 73.267\n",
      "Epoch: 19 | Loss: 0.747 | loss_align: 0.022 | loss_reg: 72.539\n",
      "validation.....\n",
      "Epoch: 19 | Loss: 0.684 | loss_align: 0.022 | loss_reg: 66.197\n",
      "model save!\n",
      "Epoch: 20 | Loss: 0.736 | loss_align: 0.022 | loss_reg: 71.479\n",
      "Epoch: 21 | Loss: 0.731 | loss_align: 0.022 | loss_reg: 70.978\n",
      "Epoch: 22 | Loss: 0.723 | loss_align: 0.022 | loss_reg: 70.181\n",
      "Epoch: 23 | Loss: 0.718 | loss_align: 0.022 | loss_reg: 69.674\n",
      "Epoch: 24 | Loss: 0.711 | loss_align: 0.022 | loss_reg: 68.971\n",
      "validation.....\n",
      "Epoch: 24 | Loss: 0.672 | loss_align: 0.022 | loss_reg: 65.017\n",
      "model save!\n",
      "Epoch: 25 | Loss: 0.708 | loss_align: 0.022 | loss_reg: 68.679\n",
      "Epoch: 26 | Loss: 0.706 | loss_align: 0.022 | loss_reg: 68.427\n",
      "Epoch: 27 | Loss: 0.703 | loss_align: 0.022 | loss_reg: 68.117\n",
      "Epoch: 28 | Loss: 0.695 | loss_align: 0.022 | loss_reg: 67.298\n",
      "Epoch: 29 | Loss: 0.692 | loss_align: 0.022 | loss_reg: 67.074\n",
      "validation.....\n",
      "Epoch: 29 | Loss: 0.669 | loss_align: 0.022 | loss_reg: 64.697\n",
      "model save!\n",
      "Epoch: 30 | Loss: 0.688 | loss_align: 0.022 | loss_reg: 66.598\n",
      "Epoch: 31 | Loss: 0.684 | loss_align: 0.022 | loss_reg: 66.203\n",
      "Epoch: 32 | Loss: 0.678 | loss_align: 0.022 | loss_reg: 65.597\n",
      "Epoch: 33 | Loss: 0.678 | loss_align: 0.022 | loss_reg: 65.660\n",
      "Epoch: 34 | Loss: 0.674 | loss_align: 0.022 | loss_reg: 65.188\n",
      "validation.....\n",
      "Epoch: 34 | Loss: 0.669 | loss_align: 0.022 | loss_reg: 64.762\n",
      "Epoch: 35 | Loss: 0.669 | loss_align: 0.022 | loss_reg: 64.755\n",
      "Epoch: 36 | Loss: 0.662 | loss_align: 0.022 | loss_reg: 64.072\n",
      "Epoch: 37 | Loss: 0.667 | loss_align: 0.022 | loss_reg: 64.539\n",
      "Epoch: 38 | Loss: 0.659 | loss_align: 0.022 | loss_reg: 63.765\n",
      "Epoch: 39 | Loss: 0.655 | loss_align: 0.022 | loss_reg: 63.376\n",
      "validation.....\n",
      "Epoch: 39 | Loss: 0.681 | loss_align: 0.022 | loss_reg: 65.938\n",
      "Epoch: 40 | Loss: 0.649 | loss_align: 0.022 | loss_reg: 62.703\n",
      "Epoch: 41 | Loss: 0.650 | loss_align: 0.022 | loss_reg: 62.799\n",
      "Epoch: 42 | Loss: 0.643 | loss_align: 0.022 | loss_reg: 62.107\n",
      "Epoch: 43 | Loss: 0.643 | loss_align: 0.022 | loss_reg: 62.131\n",
      "Epoch: 44 | Loss: 0.638 | loss_align: 0.022 | loss_reg: 61.618\n",
      "validation.....\n",
      "Epoch: 44 | Loss: 0.682 | loss_align: 0.022 | loss_reg: 65.994\n",
      "Epoch: 45 | Loss: 0.630 | loss_align: 0.022 | loss_reg: 60.841\n",
      "Epoch: 46 | Loss: 0.629 | loss_align: 0.022 | loss_reg: 60.774\n",
      "Epoch: 47 | Loss: 0.627 | loss_align: 0.022 | loss_reg: 60.557\n",
      "Epoch: 48 | Loss: 0.624 | loss_align: 0.022 | loss_reg: 60.280\n",
      "Epoch: 49 | Loss: 0.619 | loss_align: 0.022 | loss_reg: 59.688\n",
      "validation.....\n",
      "Epoch: 49 | Loss: 0.683 | loss_align: 0.022 | loss_reg: 66.164\n",
      "Epoch: 50 | Loss: 0.615 | loss_align: 0.022 | loss_reg: 59.295\n",
      "Epoch: 51 | Loss: 0.618 | loss_align: 0.022 | loss_reg: 59.681\n",
      "Epoch: 52 | Loss: 0.604 | loss_align: 0.022 | loss_reg: 58.239\n",
      "Epoch: 53 | Loss: 0.605 | loss_align: 0.022 | loss_reg: 58.348\n",
      "Epoch: 54 | Loss: 0.607 | loss_align: 0.022 | loss_reg: 58.490\n",
      "validation.....\n",
      "Epoch: 54 | Loss: 0.687 | loss_align: 0.022 | loss_reg: 66.501\n",
      "Epoch: 55 | Loss: 0.601 | loss_align: 0.022 | loss_reg: 57.898\n",
      "Epoch: 56 | Loss: 0.597 | loss_align: 0.022 | loss_reg: 57.567\n",
      "Epoch: 57 | Loss: 0.591 | loss_align: 0.022 | loss_reg: 56.906\n",
      "Epoch: 58 | Loss: 0.590 | loss_align: 0.022 | loss_reg: 56.790\n",
      "Epoch: 59 | Loss: 0.587 | loss_align: 0.022 | loss_reg: 56.534\n",
      "validation.....\n",
      "Epoch: 59 | Loss: 0.686 | loss_align: 0.022 | loss_reg: 66.392\n",
      "Epoch: 60 | Loss: 0.589 | loss_align: 0.022 | loss_reg: 56.762\n",
      "Epoch: 61 | Loss: 0.586 | loss_align: 0.022 | loss_reg: 56.463\n",
      "Epoch: 62 | Loss: 0.578 | loss_align: 0.022 | loss_reg: 55.676\n",
      "Epoch: 63 | Loss: 0.574 | loss_align: 0.022 | loss_reg: 55.238\n",
      "Epoch: 64 | Loss: 0.575 | loss_align: 0.022 | loss_reg: 55.331\n",
      "validation.....\n",
      "Epoch: 64 | Loss: 0.688 | loss_align: 0.022 | loss_reg: 66.624\n",
      "Epoch: 65 | Loss: 0.568 | loss_align: 0.022 | loss_reg: 54.610\n",
      "Epoch: 66 | Loss: 0.569 | loss_align: 0.022 | loss_reg: 54.729\n",
      "Epoch: 67 | Loss: 0.563 | loss_align: 0.022 | loss_reg: 54.090\n",
      "Epoch: 68 | Loss: 0.562 | loss_align: 0.022 | loss_reg: 53.986\n",
      "Epoch: 69 | Loss: 0.558 | loss_align: 0.022 | loss_reg: 53.653\n",
      "validation.....\n",
      "Epoch: 69 | Loss: 0.691 | loss_align: 0.022 | loss_reg: 66.917\n",
      "Epoch: 70 | Loss: 0.555 | loss_align: 0.022 | loss_reg: 53.381\n",
      "Epoch: 71 | Loss: 0.549 | loss_align: 0.022 | loss_reg: 52.707\n",
      "Epoch: 72 | Loss: 0.552 | loss_align: 0.022 | loss_reg: 53.068\n",
      "Epoch: 73 | Loss: 0.552 | loss_align: 0.022 | loss_reg: 53.014\n",
      "Epoch: 74 | Loss: 0.546 | loss_align: 0.022 | loss_reg: 52.421\n",
      "validation.....\n",
      "Epoch: 74 | Loss: 0.685 | loss_align: 0.022 | loss_reg: 66.334\n",
      "Epoch: 75 | Loss: 0.544 | loss_align: 0.022 | loss_reg: 52.233\n",
      "Epoch: 76 | Loss: 0.539 | loss_align: 0.022 | loss_reg: 51.706\n",
      "Epoch: 77 | Loss: 0.537 | loss_align: 0.022 | loss_reg: 51.584\n",
      "Epoch: 78 | Loss: 0.530 | loss_align: 0.022 | loss_reg: 50.880\n",
      "Epoch: 79 | Loss: 0.529 | loss_align: 0.022 | loss_reg: 50.694\n",
      "validation.....\n",
      "Epoch: 79 | Loss: 0.691 | loss_align: 0.022 | loss_reg: 66.924\n",
      "Epoch: 80 | Loss: 0.527 | loss_align: 0.022 | loss_reg: 50.502\n",
      "Epoch: 81 | Loss: 0.527 | loss_align: 0.022 | loss_reg: 50.544\n",
      "Epoch: 82 | Loss: 0.521 | loss_align: 0.022 | loss_reg: 49.956\n",
      "Epoch: 83 | Loss: 0.518 | loss_align: 0.022 | loss_reg: 49.617\n",
      "Epoch: 84 | Loss: 0.523 | loss_align: 0.022 | loss_reg: 50.103\n",
      "validation.....\n",
      "Epoch: 84 | Loss: 0.684 | loss_align: 0.022 | loss_reg: 66.254\n",
      "Epoch: 85 | Loss: 0.516 | loss_align: 0.022 | loss_reg: 49.389\n",
      "Epoch: 86 | Loss: 0.511 | loss_align: 0.022 | loss_reg: 48.970\n",
      "Epoch: 87 | Loss: 0.511 | loss_align: 0.022 | loss_reg: 48.896\n",
      "Epoch: 88 | Loss: 0.506 | loss_align: 0.022 | loss_reg: 48.477\n",
      "Epoch: 89 | Loss: 0.502 | loss_align: 0.022 | loss_reg: 47.992\n",
      "validation.....\n",
      "Epoch: 89 | Loss: 0.690 | loss_align: 0.022 | loss_reg: 66.809\n",
      "Epoch: 90 | Loss: 0.501 | loss_align: 0.022 | loss_reg: 47.901\n",
      "Epoch: 91 | Loss: 0.493 | loss_align: 0.022 | loss_reg: 47.120\n",
      "Epoch: 92 | Loss: 0.496 | loss_align: 0.022 | loss_reg: 47.395\n",
      "Epoch: 93 | Loss: 0.489 | loss_align: 0.022 | loss_reg: 46.779\n",
      "Epoch: 94 | Loss: 0.493 | loss_align: 0.022 | loss_reg: 47.085\n",
      "validation.....\n",
      "Epoch: 94 | Loss: 0.687 | loss_align: 0.022 | loss_reg: 66.554\n",
      "Epoch: 95 | Loss: 0.488 | loss_align: 0.022 | loss_reg: 46.656\n",
      "Epoch: 96 | Loss: 0.489 | loss_align: 0.022 | loss_reg: 46.753\n",
      "Epoch: 97 | Loss: 0.484 | loss_align: 0.022 | loss_reg: 46.279\n",
      "Epoch: 98 | Loss: 0.477 | loss_align: 0.022 | loss_reg: 45.575\n",
      "Epoch: 99 | Loss: 0.481 | loss_align: 0.022 | loss_reg: 45.898\n",
      "validation.....\n",
      "Epoch: 99 | Loss: 0.689 | loss_align: 0.022 | loss_reg: 66.728\n",
      "Epoch: 100 | Loss: 0.485 | loss_align: 0.022 | loss_reg: 46.353\n",
      "Epoch: 101 | Loss: 0.478 | loss_align: 0.022 | loss_reg: 45.667\n",
      "Epoch: 102 | Loss: 0.472 | loss_align: 0.022 | loss_reg: 45.074\n",
      "Epoch: 103 | Loss: 0.465 | loss_align: 0.022 | loss_reg: 44.291\n",
      "Epoch: 104 | Loss: 0.463 | loss_align: 0.022 | loss_reg: 44.170\n",
      "validation.....\n",
      "Epoch: 104 | Loss: 0.690 | loss_align: 0.022 | loss_reg: 66.791\n",
      "Epoch: 105 | Loss: 0.461 | loss_align: 0.022 | loss_reg: 43.976\n",
      "Epoch: 106 | Loss: 0.461 | loss_align: 0.022 | loss_reg: 43.971\n",
      "Epoch: 107 | Loss: 0.466 | loss_align: 0.022 | loss_reg: 44.420\n",
      "Epoch: 108 | Loss: 0.457 | loss_align: 0.022 | loss_reg: 43.529\n",
      "Epoch: 109 | Loss: 0.457 | loss_align: 0.022 | loss_reg: 43.545\n",
      "validation.....\n",
      "Epoch: 109 | Loss: 0.686 | loss_align: 0.022 | loss_reg: 66.449\n",
      "Epoch: 110 | Loss: 0.450 | loss_align: 0.022 | loss_reg: 42.804\n",
      "Epoch: 111 | Loss: 0.449 | loss_align: 0.022 | loss_reg: 42.770\n",
      "Epoch: 112 | Loss: 0.452 | loss_align: 0.022 | loss_reg: 43.063\n",
      "Epoch: 113 | Loss: 0.443 | loss_align: 0.022 | loss_reg: 42.177\n",
      "Epoch: 114 | Loss: 0.441 | loss_align: 0.022 | loss_reg: 41.950\n",
      "validation.....\n",
      "Epoch: 114 | Loss: 0.684 | loss_align: 0.022 | loss_reg: 66.268\n",
      "Epoch: 115 | Loss: 0.442 | loss_align: 0.022 | loss_reg: 41.989\n",
      "Epoch: 116 | Loss: 0.438 | loss_align: 0.022 | loss_reg: 41.651\n",
      "Epoch: 117 | Loss: 0.434 | loss_align: 0.022 | loss_reg: 41.244\n",
      "Epoch: 118 | Loss: 0.436 | loss_align: 0.022 | loss_reg: 41.390\n",
      "Epoch: 119 | Loss: 0.430 | loss_align: 0.022 | loss_reg: 40.835\n",
      "validation.....\n",
      "Epoch: 119 | Loss: 0.680 | loss_align: 0.022 | loss_reg: 65.816\n",
      "Epoch: 120 | Loss: 0.431 | loss_align: 0.022 | loss_reg: 40.958\n",
      "Epoch: 121 | Loss: 0.428 | loss_align: 0.022 | loss_reg: 40.621\n",
      "Epoch: 122 | Loss: 0.424 | loss_align: 0.022 | loss_reg: 40.205\n",
      "Epoch: 123 | Loss: 0.422 | loss_align: 0.022 | loss_reg: 40.028\n",
      "Epoch: 124 | Loss: 0.420 | loss_align: 0.022 | loss_reg: 39.823\n",
      "validation.....\n",
      "Epoch: 124 | Loss: 0.669 | loss_align: 0.022 | loss_reg: 64.749\n",
      "Epoch: 125 | Loss: 0.429 | loss_align: 0.022 | loss_reg: 40.729\n",
      "Epoch: 126 | Loss: 0.421 | loss_align: 0.022 | loss_reg: 39.912\n",
      "Epoch: 127 | Loss: 0.418 | loss_align: 0.022 | loss_reg: 39.674\n",
      "Epoch: 128 | Loss: 0.413 | loss_align: 0.022 | loss_reg: 39.091\n",
      "Epoch: 129 | Loss: 0.410 | loss_align: 0.022 | loss_reg: 38.829\n",
      "validation.....\n",
      "Epoch: 129 | Loss: 0.671 | loss_align: 0.022 | loss_reg: 64.890\n",
      "Epoch: 130 | Loss: 0.422 | loss_align: 0.022 | loss_reg: 40.071\n",
      "Epoch: 131 | Loss: 0.412 | loss_align: 0.022 | loss_reg: 39.036\n",
      "Epoch: 132 | Loss: 0.406 | loss_align: 0.022 | loss_reg: 38.462\n",
      "Epoch: 133 | Loss: 0.411 | loss_align: 0.022 | loss_reg: 38.885\n",
      "Epoch: 134 | Loss: 0.400 | loss_align: 0.022 | loss_reg: 37.873\n",
      "validation.....\n",
      "Epoch: 134 | Loss: 0.671 | loss_align: 0.022 | loss_reg: 64.952\n",
      "Epoch: 135 | Loss: 0.412 | loss_align: 0.022 | loss_reg: 39.025\n",
      "Epoch: 136 | Loss: 0.401 | loss_align: 0.022 | loss_reg: 37.977\n",
      "Epoch: 137 | Loss: 0.395 | loss_align: 0.022 | loss_reg: 37.304\n",
      "Epoch: 138 | Loss: 0.393 | loss_align: 0.022 | loss_reg: 37.128\n",
      "Epoch: 139 | Loss: 0.391 | loss_align: 0.022 | loss_reg: 36.952\n",
      "validation.....\n",
      "Epoch: 139 | Loss: 0.665 | loss_align: 0.022 | loss_reg: 64.377\n",
      "model save!\n",
      "Epoch: 140 | Loss: 0.392 | loss_align: 0.022 | loss_reg: 37.001\n",
      "Epoch: 141 | Loss: 0.384 | loss_align: 0.022 | loss_reg: 36.200\n",
      "Epoch: 142 | Loss: 0.386 | loss_align: 0.022 | loss_reg: 36.406\n",
      "Epoch: 143 | Loss: 0.388 | loss_align: 0.022 | loss_reg: 36.594\n",
      "Epoch: 144 | Loss: 0.381 | loss_align: 0.022 | loss_reg: 35.949\n",
      "validation.....\n",
      "Epoch: 144 | Loss: 0.676 | loss_align: 0.022 | loss_reg: 65.386\n",
      "Epoch: 145 | Loss: 0.379 | loss_align: 0.022 | loss_reg: 35.772\n",
      "Epoch: 146 | Loss: 0.382 | loss_align: 0.022 | loss_reg: 36.013\n",
      "Epoch: 147 | Loss: 0.376 | loss_align: 0.022 | loss_reg: 35.454\n",
      "Epoch: 148 | Loss: 0.373 | loss_align: 0.022 | loss_reg: 35.180\n",
      "Epoch: 149 | Loss: 0.378 | loss_align: 0.022 | loss_reg: 35.655\n",
      "validation.....\n",
      "Epoch: 149 | Loss: 0.677 | loss_align: 0.022 | loss_reg: 65.552\n",
      "Epoch: 150 | Loss: 0.373 | loss_align: 0.022 | loss_reg: 35.112\n",
      "Epoch: 151 | Loss: 0.382 | loss_align: 0.022 | loss_reg: 36.021\n",
      "Epoch: 152 | Loss: 0.376 | loss_align: 0.022 | loss_reg: 35.390\n",
      "Epoch: 153 | Loss: 0.368 | loss_align: 0.022 | loss_reg: 34.638\n",
      "Epoch: 154 | Loss: 0.384 | loss_align: 0.022 | loss_reg: 36.215\n",
      "validation.....\n",
      "Epoch: 154 | Loss: 0.671 | loss_align: 0.022 | loss_reg: 64.935\n",
      "Epoch: 155 | Loss: 0.369 | loss_align: 0.022 | loss_reg: 34.731\n"
     ]
    },
    {
     "ename": "KeyboardInterrupt",
     "evalue": "",
     "output_type": "error",
     "traceback": [
      "\u001b[1;31m---------------------------------------------------------------------------\u001b[0m",
      "\u001b[1;31mKeyboardInterrupt\u001b[0m                         Traceback (most recent call last)",
      "\u001b[1;32m<ipython-input-36-93fd337a0d5c>\u001b[0m in \u001b[0;36m<module>\u001b[1;34m()\u001b[0m\n\u001b[1;32m----> 1\u001b[1;33m \u001b[0mtrain\u001b[0m\u001b[1;33m(\u001b[0m\u001b[1;33m)\u001b[0m\u001b[1;33m\u001b[0m\u001b[1;33m\u001b[0m\u001b[0m\n\u001b[0m",
      "\u001b[1;32m<ipython-input-35-1a32f5328526>\u001b[0m in \u001b[0;36mtrain\u001b[1;34m()\u001b[0m\n\u001b[0;32m     44\u001b[0m                 \u001b[0mloss\u001b[0m\u001b[1;33m=\u001b[0m \u001b[0mlambda_regression\u001b[0m\u001b[1;33m*\u001b[0m\u001b[0mloss_reg\u001b[0m \u001b[1;33m+\u001b[0m\u001b[0mloss_align\u001b[0m\u001b[1;33m\u001b[0m\u001b[1;33m\u001b[0m\u001b[0m\n\u001b[0;32m     45\u001b[0m                 \u001b[0moptimizer\u001b[0m\u001b[1;33m.\u001b[0m\u001b[0mzero_grad\u001b[0m\u001b[1;33m(\u001b[0m\u001b[1;33m)\u001b[0m\u001b[1;33m\u001b[0m\u001b[1;33m\u001b[0m\u001b[0m\n\u001b[1;32m---> 46\u001b[1;33m                 \u001b[0mloss\u001b[0m\u001b[1;33m.\u001b[0m\u001b[0mbackward\u001b[0m\u001b[1;33m(\u001b[0m\u001b[1;33m)\u001b[0m\u001b[1;33m\u001b[0m\u001b[1;33m\u001b[0m\u001b[0m\n\u001b[0m\u001b[0;32m     47\u001b[0m                 \u001b[0moptimizer\u001b[0m\u001b[1;33m.\u001b[0m\u001b[0mstep\u001b[0m\u001b[1;33m(\u001b[0m\u001b[1;33m)\u001b[0m\u001b[1;33m\u001b[0m\u001b[1;33m\u001b[0m\u001b[0m\n\u001b[0;32m     48\u001b[0m                 \u001b[0mtrain_loss\u001b[0m \u001b[1;33m+=\u001b[0m \u001b[0mloss\u001b[0m\u001b[1;33m\u001b[0m\u001b[1;33m\u001b[0m\u001b[0m\n",
      "\u001b[1;32m~\\Anaconda3\\lib\\site-packages\\torch\\tensor.py\u001b[0m in \u001b[0;36mbackward\u001b[1;34m(self, gradient, retain_graph, create_graph)\u001b[0m\n\u001b[0;32m    100\u001b[0m                 \u001b[0mproducts\u001b[0m\u001b[1;33m.\u001b[0m \u001b[0mDefaults\u001b[0m \u001b[0mto\u001b[0m\u001b[0;31m \u001b[0m\u001b[0;31m`\u001b[0m\u001b[0;31m`\u001b[0m\u001b[1;32mFalse\u001b[0m\u001b[0;31m`\u001b[0m\u001b[0;31m`\u001b[0m\u001b[1;33m.\u001b[0m\u001b[1;33m\u001b[0m\u001b[1;33m\u001b[0m\u001b[0m\n\u001b[0;32m    101\u001b[0m         \"\"\"\n\u001b[1;32m--> 102\u001b[1;33m         \u001b[0mtorch\u001b[0m\u001b[1;33m.\u001b[0m\u001b[0mautograd\u001b[0m\u001b[1;33m.\u001b[0m\u001b[0mbackward\u001b[0m\u001b[1;33m(\u001b[0m\u001b[0mself\u001b[0m\u001b[1;33m,\u001b[0m \u001b[0mgradient\u001b[0m\u001b[1;33m,\u001b[0m \u001b[0mretain_graph\u001b[0m\u001b[1;33m,\u001b[0m \u001b[0mcreate_graph\u001b[0m\u001b[1;33m)\u001b[0m\u001b[1;33m\u001b[0m\u001b[1;33m\u001b[0m\u001b[0m\n\u001b[0m\u001b[0;32m    103\u001b[0m \u001b[1;33m\u001b[0m\u001b[0m\n\u001b[0;32m    104\u001b[0m     \u001b[1;32mdef\u001b[0m \u001b[0mregister_hook\u001b[0m\u001b[1;33m(\u001b[0m\u001b[0mself\u001b[0m\u001b[1;33m,\u001b[0m \u001b[0mhook\u001b[0m\u001b[1;33m)\u001b[0m\u001b[1;33m:\u001b[0m\u001b[1;33m\u001b[0m\u001b[1;33m\u001b[0m\u001b[0m\n",
      "\u001b[1;32m~\\Anaconda3\\lib\\site-packages\\torch\\autograd\\__init__.py\u001b[0m in \u001b[0;36mbackward\u001b[1;34m(tensors, grad_tensors, retain_graph, create_graph, grad_variables)\u001b[0m\n\u001b[0;32m     88\u001b[0m     Variable._execution_engine.run_backward(\n\u001b[0;32m     89\u001b[0m         \u001b[0mtensors\u001b[0m\u001b[1;33m,\u001b[0m \u001b[0mgrad_tensors\u001b[0m\u001b[1;33m,\u001b[0m \u001b[0mretain_graph\u001b[0m\u001b[1;33m,\u001b[0m \u001b[0mcreate_graph\u001b[0m\u001b[1;33m,\u001b[0m\u001b[1;33m\u001b[0m\u001b[1;33m\u001b[0m\u001b[0m\n\u001b[1;32m---> 90\u001b[1;33m         allow_unreachable=True)  # allow_unreachable flag\n\u001b[0m\u001b[0;32m     91\u001b[0m \u001b[1;33m\u001b[0m\u001b[0m\n\u001b[0;32m     92\u001b[0m \u001b[1;33m\u001b[0m\u001b[0m\n",
      "\u001b[1;31mKeyboardInterrupt\u001b[0m: "
     ]
    }
   ],
   "source": [
    "train()"
   ]
  },
  {
   "cell_type": "markdown",
   "metadata": {},
   "source": [
    "## 绘制曲线"
   ]
  },
  {
   "cell_type": "code",
   "execution_count": 37,
   "metadata": {
    "collapsed": true
   },
   "outputs": [],
   "source": [
    "def draw(train_loss_list, val_loss_list):\n",
    "    x1 = range(0, len(train_loss_list))\n",
    "    x2 = range(0, len(val_loss_list))\n",
    "    #with plt.style.context(['science']):\n",
    "    plt.subplot(2, 1, 1)\n",
    "    plt.plot(x1, train_loss_list[:len(train_loss_list)], 'o-')\n",
    "    plt.title('train loss vs. epoches')\n",
    "    plt.ylabel('train loss')\n",
    "    plt.subplot(2, 1, 2)\n",
    "    plt.plot(x2,val_loss_list[:len(val_loss_list)] , '.-')\n",
    "    plt.xlabel('Val loss vs. epoches')\n",
    "    plt.ylabel('Val loss')\n",
    "    plt.show()"
   ]
  },
  {
   "cell_type": "code",
   "execution_count": 39,
   "metadata": {},
   "outputs": [
    {
     "data": {
      "image/png": "[encoded data removed]",
      "text/plain": [
       "<Figure size 432x288 with 2 Axes>"
      ]
     },
     "metadata": {},
     "output_type": "display_data"
    }
   ],
   "source": [
    "draw(train_loss_list, val_loss_list)\n",
    "torch.save(TALL_model.state_dict(), save_path + 'final_model_params.pkl')"
   ]
  },
  {
   "cell_type": "markdown",
   "metadata": {},
   "source": [
    "## 对比计算"
   ]
  },
  {
   "cell_type": "code",
   "execution_count": 16,
   "metadata": {
    "collapsed": true
   },
   "outputs": [],
   "source": [
    "# 定义LSTM的结构\n",
    "class LSTM_CNN(nn.Module):\n",
    "    \n",
    "    def __init__(self):\n",
    "        super(LSTM_CNN, self).__init__()\n",
    "        \n",
    "        self.embedding = nn.Embedding(5000, 64)\n",
    "        self.rnn = nn.LSTM(input_size=64, hidden_size=128, num_layers=2, bidirectional=True)\n",
    "        #self.rnn = nn.GRU(input_size=64, hidden_size=128, num_layers=2, bidirectional=True)\n",
    "        self.f1 = nn.Sequential(nn.Linear(256,128),\n",
    "                                nn.Dropout(0.8),\n",
    "                                nn.ReLU())\n",
    "\n",
    "        self.f2 = nn.Sequential(nn.Linear(128,64))\n",
    "        \n",
    "        \n",
    "        self.conv1=torch.nn.Sequential(\n",
    "            torch.nn.Conv1d(1,10,3),\n",
    "            torch.nn.ReLU(),\n",
    "            torch.nn.MaxPool1d(2),\n",
    "        )\n",
    "        \n",
    "        self.conv2=torch.nn.Sequential(\n",
    "            torch.nn.Conv1d(10,20,3),\n",
    "            torch.nn.ReLU(),\n",
    "            torch.nn.MaxPool1d(2),\n",
    "        )\n",
    "\n",
    "        #self.fc1=torch.nn.Linear(2520,128)\n",
    "        self.fc1=torch.nn.Linear(512,128)\n",
    "        self.fc1_drop=torch.nn.Dropout(p=0.4)\n",
    "        self.fc2=torch.nn.Linear(128, 64)\n",
    "        \n",
    "        #特征融合\n",
    "        self.final_fc = nn.Linear(in_features=128, out_features=64)\n",
    "        self.score_fc = torch.nn.Conv2d(64,3,kernel_size=1,stride=1)\n",
    "        \n",
    "        \n",
    "    def cnnout(self, x2):\n",
    "        in_fc=x2.view(x2.size(0),-1)\n",
    "        out_fc1=self.fc1(in_fc)\n",
    "        out_drop=self.fc1_drop(out_fc1)\n",
    "        out_fc2=self.fc2(out_drop)\n",
    "        return out_fc2\n",
    "        \n",
    "    def forward(self, x1, x2): \n",
    "        if x1.shape[0]!=2:\n",
    "            #lstm\n",
    "            x = self.embedding(x1)\n",
    "            x,_ = self.rnn(x)\n",
    "            x = F.dropout(x,p=0.8)\n",
    "            \n",
    "            x = self.f1(x[:,-1,:])\n",
    "            lstm_output = self.f2(x)\n",
    "            cnn_out=self.cnnout(x2)\n",
    "            #concat\n",
    "            output = torch.cat((lstm_output, cnn_out), 1)\n",
    "            output = self.final_fc(output)\n",
    "            return output\n",
    "        else:\n",
    "            cnn_out=self.cnnout(x2)\n",
    "            return cnn_out"
   ]
  },
  {
   "cell_type": "code",
   "execution_count": 17,
   "metadata": {
    "collapsed": true
   },
   "outputs": [],
   "source": [
    "# 定义LSTM的结构\n",
    "class Change(nn.Module):\n",
    "    def __init__(self):\n",
    "        super(Change, self).__init__()\n",
    "        #特征融合\n",
    "        self.score_fc = torch.nn.Conv1d(64, 2, kernel_size=1, stride=1)\n",
    "        \n",
    "    def forward(self, x):\n",
    "        output = x#[10, 64]\n",
    "        output = output.unsqueeze(2)\n",
    "        score = self.score_fc(output)\n",
    "        offset_pred = score.squeeze(2)\n",
    "        return offset_pred"
   ]
  },
  {
   "cell_type": "markdown",
   "metadata": {},
   "source": [
    "#### 加载模型"
   ]
  },
  {
   "cell_type": "code",
   "execution_count": 40,
   "metadata": {},
   "outputs": [],
   "source": [
    "TALL_final_model = TALL()\n",
    "My_model = Change()\n",
    "middle_model = LSTM_CNN()\n",
    "TALL_final_model.load_state_dict(torch.load('C:/Users/wuxun/Desktop/Data/TALL/save_model/final_model_params.pkl'))\n",
    "middle_model.load_state_dict(torch.load('C:/Users/wuxun/Desktop/Data/save_model/189epoch_20200713_64_dim_params.pkl'))\n",
    "My_model.load_state_dict(torch.load('C:/Users/wuxun/Desktop/Data/save_model2/epoch257_batchsize1_params.pkl'))"
   ]
  },
  {
   "cell_type": "markdown",
   "metadata": {},
   "source": [
    "#### 固定模型"
   ]
  },
  {
   "cell_type": "code",
   "execution_count": 41,
   "metadata": {
    "collapsed": true
   },
   "outputs": [
    {
     "data": {
      "text/plain": [
       "TALL(\n",
       "  (v2s_lt): Linear(in_features=1536, out_features=128, bias=True)\n",
       "  (s2s_lt): Linear(in_features=256, out_features=128, bias=True)\n",
       "  (fc1): Conv2d(512, 128, kernel_size=(1, 1), stride=(1, 1))\n",
       "  (fc2): Conv2d(128, 3, kernel_size=(1, 1), stride=(1, 1))\n",
       "  (embedding): Embedding(5000, 64)\n",
       "  (lstm): LSTM(64, 128, num_layers=2, bidirectional=True)\n",
       ")"
      ]
     },
     "execution_count": 41,
     "metadata": {},
     "output_type": "execute_result"
    }
   ],
   "source": [
    "My_model.eval()\n",
    "middle_model.eval()\n",
    "TALL_final_model.eval()"
   ]
  },
  {
   "cell_type": "markdown",
   "metadata": {},
   "source": [
    "#### 功能函数"
   ]
  },
  {
   "cell_type": "code",
   "execution_count": 21,
   "metadata": {
    "collapsed": true
   },
   "outputs": [],
   "source": [
    "IoU_thresh = [0.1, 0.3, 0.5, 0.7]"
   ]
  },
  {
   "cell_type": "code",
   "execution_count": 22,
   "metadata": {
    "collapsed": true
   },
   "outputs": [],
   "source": [
    "def calculate_IoU(i0, i1):\n",
    "    # calculate temporal intersection over union\n",
    "    union = (min(i0[0], i1[0]), max(i0[1], i1[1]))\n",
    "    inter = (max(i0[0], i1[0]), min(i0[1], i1[1]))\n",
    "    iou = 1.0*(inter[1]-inter[0])/(union[1]-union[0])\n",
    "    return iou"
   ]
  },
  {
   "cell_type": "code",
   "execution_count": 23,
   "metadata": {
    "collapsed": true
   },
   "outputs": [],
   "source": [
    "def compute_IoU_recall_top_n_forreg(iou_thresh, time_mat, time_pre_mat):#top\n",
    "    \n",
    "    \n",
    "    \n",
    "    iou = calculate_IoU((gt_start, gt_end),(pred_start, pred_end))\n",
    "    if iou>=iou_thresh:\n",
    "        correct_num+=1\n",
    "    return correct_num"
   ]
  },
  {
   "cell_type": "code",
   "execution_count": 38,
   "metadata": {
    "collapsed": true
   },
   "outputs": [],
   "source": [
    "def pred_for_TALL(outputs):\n",
    "    p_reg_mat = outputs[1]\n",
    "    l_reg_mat = outputs[2]\n",
    "    # regression loss\n",
    "    l_reg_diag = torch.mm(l_reg_mat*I, torch.ones(input_size, 1))\n",
    "    p_reg_diag = torch.mm(p_reg_mat*I, torch.ones(input_size, 1))\n",
    "    offset_pred = torch.cat([p_reg_diag, l_reg_diag], 1)\n",
    "    return offset_pred"
   ]
  },
  {
   "cell_type": "code",
   "execution_count": 33,
   "metadata": {},
   "outputs": [],
   "source": [
    "# 读取test数据集\n",
    "def get_test_dict_for_TALL(path, csv_path):\n",
    "    words, word_to_id = read_vocab(vocab_dir)\n",
    "    data_id = []\n",
    "    csv=[]\n",
    "    time_list=[]\n",
    "    Max_len=-1\n",
    "    count=0\n",
    "    with open(path) as contents:\n",
    "        for line in contents:\n",
    "            count+=1\n",
    "            List = line.split('#')\n",
    "            video_name = List[0]\n",
    "            time_length = float(List[1])\n",
    "            foldtype = List[2]\n",
    "            recipetype = List[3]\n",
    "            target = List[4]\n",
    "            \n",
    "            #将句子转换为id表示：\n",
    "            sentence = List[5].strip('\\n').strip()\n",
    "            sentence = re.split(r\"[,| |.]\",sentence)\n",
    "            sentence_id = [word_to_id[x] for x in sentence if x in word_to_id]\n",
    "            if len(sentence_id) > Max_len:\n",
    "                Max_len = len(sentence_id)\n",
    "            data_id.append(sentence_id)\n",
    "            \n",
    "            #寻找路径,先统一取0001\n",
    "            dir_path = csv_path+'/'+foldtype+'/'+recipetype+'/'+video_name+'/0001/'\n",
    "            name = os.listdir(dir_path)[0]\n",
    "            dir_path = dir_path + name\n",
    "            \n",
    "            #读取csv文件\n",
    "            my_file = Path(dir_path)\n",
    "            if my_file.exists():\n",
    "                frame_sum = pd.read_csv(dir_path, header=None)\n",
    "            else:\n",
    "                print(\"目录不存在！\")\n",
    "            \n",
    "            #确定时间点，前帧后帧取pooling\n",
    "            target = target.split('_')\n",
    "            cur_start = float(target[0])\n",
    "            cur_end = float(target[1])\n",
    "            middle_time = (cur_start + cur_end)//2\n",
    "            \n",
    "            #中间帧\n",
    "            target_frame_num = int(middle_time/time_length*500)\n",
    "            target_middle_frame = frame_sum.loc[target_frame_num]\n",
    "            \n",
    "            #上下文信息\n",
    "            target_frame_start = int(cur_start/time_length*500)\n",
    "            target_frame_end = int(cur_end/time_length*500)\n",
    "            if target_frame_start == target_frame_num:\n",
    "                print(str(cur_start)+\"  \"+str(cur_end)+\" \"+str(time_length))\n",
    "                print(\"出现重复！\")\n",
    "                target_frame_start = min(target_frame_num - 3, 0)\n",
    "            if  target_frame_end ==target_frame_num:\n",
    "                print(str(cur_start)+\"  \"+str(cur_end)+\" \"+str(time_length))\n",
    "                print(\"出现重复！\")\n",
    "                target_frame_start = min(target_frame_num + 3, 499)\n",
    "                \n",
    "            pre_context = np.zeros([target_frame_num - target_frame_start, 512], dtype=np.float32)\n",
    "            post_context = np.zeros([target_frame_end - target_frame_num, 512], dtype=np.float32) \n",
    "            for i in range(target_frame_num - target_frame_start):\n",
    "                pre_context[i] = frame_sum.loc[i]\n",
    "                \n",
    "            for i in range(target_frame_end - target_frame_num):\n",
    "                post_context[i] = frame_sum.loc[i]\n",
    "            \n",
    "            #对pre_context和post_context取均值\n",
    "            pre_context = np.mean(pre_context, axis=0)\n",
    "            post_context = np.mean(post_context, axis=0)\n",
    "            \n",
    "            #对三段信息进行拼接\n",
    "            image = np.hstack((pre_context, target_middle_frame, post_context))\n",
    "            \n",
    "            csv.append(image)\n",
    "            time_list.append([cur_start, cur_end])\n",
    "            \n",
    "    #将所有的句子pad为同一最大长度\n",
    "    batch_data_id = np.array([line +[0]*(Max_len-len(line)) \n",
    "                                            for line in data_id])\n",
    "    batch_seq = torch.LongTensor(batch_data_id)    \n",
    "    print(len(batch_seq),len(csv),len(time_list))\n",
    "    \n",
    "    return batch_seq, csv, time_list"
   ]
  },
  {
   "cell_type": "code",
   "execution_count": 34,
   "metadata": {
    "collapsed": true
   },
   "outputs": [],
   "source": [
    "#读取test集\n",
    "# 读取test数据集\n",
    "def get_test_dict_for_My_model(path, csv_path):\n",
    "    words, word_to_id = read_vocab(vocab_dir)\n",
    "    data_id = []\n",
    "    csv=[]\n",
    "    time_list=[]\n",
    "    Max_len=-1\n",
    "    count=0\n",
    "    with open(path) as contents:\n",
    "        for line in contents:\n",
    "            count+=1\n",
    "            List = line.split('#')\n",
    "            video_name = List[0]\n",
    "            time_length = float(List[1])\n",
    "            foldtype = List[2]\n",
    "            recipetype = List[3]\n",
    "            target = List[4]\n",
    "            \n",
    "            #将句子转换为id表示：\n",
    "            sentence = List[5].strip('\\n').strip()\n",
    "            sentence = re.split(r\"[,| |.]\",sentence)\n",
    "            sentence_id = [word_to_id[x] for x in sentence if x in word_to_id]\n",
    "            if len(sentence_id) > Max_len:\n",
    "                Max_len = len(sentence_id)\n",
    "            data_id.append(sentence_id)\n",
    "            \n",
    "            #寻找路径,先统一取0001\n",
    "            dir_path = csv_path+'/'+foldtype+'/'+recipetype+'/'+video_name+'/0001/'\n",
    "            name = os.listdir(dir_path)[0]\n",
    "            dir_path = dir_path + name\n",
    "            \n",
    "            #读取csv文件\n",
    "            my_file = Path(dir_path)\n",
    "            if my_file.exists():\n",
    "                frame_sum = pd.read_csv(dir_path, header=None)\n",
    "            else:\n",
    "                print(\"目录不存在！\")\n",
    "            \n",
    "            #确定时间点，前帧后帧取pooling\n",
    "            target = target.split('_')\n",
    "            cur_start = float(target[0])\n",
    "            cur_end = float(target[1])\n",
    "            middle_time = (cur_start + cur_end)//2\n",
    "            \n",
    "            #中间帧\n",
    "            target_frame_num = int(middle_time/time_length*500)\n",
    "            target_middle_frame = frame_sum.loc[target_frame_num]\n",
    "            \n",
    "            csv.append(target_middle_frame)\n",
    "            time_list.append([cur_start, cur_end])\n",
    "            \n",
    "    #将所有的句子pad为同一最大长度\n",
    "    batch_data_id = np.array([line +[0]*(Max_len-len(line)) \n",
    "                                            for line in data_id])\n",
    "    batch_seq = torch.LongTensor(batch_data_id)    \n",
    "    print(len(batch_seq),len(csv),len(time_list))\n",
    "    \n",
    "    return batch_seq, csv, time_list"
   ]
  },
  {
   "cell_type": "markdown",
   "metadata": {
    "collapsed": true
   },
   "source": [
    "#### 读取test集"
   ]
  },
  {
   "cell_type": "code",
   "execution_count": 36,
   "metadata": {},
   "outputs": [
    {
     "name": "stdout",
     "output_type": "stream",
     "text": [
      "894.0  896.0 1106.12\n",
      "出现重复！\n",
      "132 132 132\n"
     ]
    }
   ],
   "source": [
    "TALL_test_seq, TALL_test_csv, TALL_test_time_list = get_test_dict_for_TALL(test_path, csv_path)"
   ]
  },
  {
   "cell_type": "code",
   "execution_count": 37,
   "metadata": {},
   "outputs": [
    {
     "name": "stdout",
     "output_type": "stream",
     "text": [
      "132 132 132\n"
     ]
    }
   ],
   "source": [
    "My_test_seq, My_test_csv, My_test_time_list = get_test_dict_for_My_model(test_path, csv_path)"
   ]
  },
  {
   "cell_type": "markdown",
   "metadata": {},
   "source": [
    "#### 计算"
   ]
  },
  {
   "cell_type": "code",
   "execution_count": 39,
   "metadata": {},
   "outputs": [
    {
     "name": "stdout",
     "output_type": "stream",
     "text": [
      "tensor([[  3, 157,   4,  ...,   0,   0,   0],\n",
      "        [ 45,  14,   5,  ...,   0,   0,   0],\n",
      "        [  3,  15, 112,  ...,   0,   0,   0],\n",
      "        ...,\n",
      "        [ 98, 230,   8,  ...,   0,   0,   0],\n",
      "        [ 28,   2,  14,  ...,   0,   0,   0],\n",
      "        [ 52,   2,  14,  ...,   0,   0,   0]])\n"
     ]
    }
   ],
   "source": []
  },
  {
   "cell_type": "code",
   "execution_count": null,
   "metadata": {
    "collapsed": true
   },
   "outputs": [],
   "source": []
  }
 ],
 "metadata": {
  "kernelspec": {
   "display_name": "Python [conda env:Anaconda3]",
   "language": "python",
   "name": "conda-env-Anaconda3-py"
  },
  "language_info": {
   "codemirror_mode": {
    "name": "ipython",
    "version": 3
   },
   "file_extension": ".py",
   "mimetype": "text/x-python",
   "name": "python",
   "nbconvert_exporter": "python",
   "pygments_lexer": "ipython3",
   "version": "3.6.8"
  }
 },
 "nbformat": 4,
 "nbformat_minor": 2
}
