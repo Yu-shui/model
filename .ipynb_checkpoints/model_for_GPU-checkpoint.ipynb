{
 "cells": [
  {
   "cell_type": "markdown",
   "metadata": {},
   "source": [
    "## 导入包"
   ]
  },
  {
   "cell_type": "code",
   "execution_count": 2,
   "metadata": {
    "collapsed": true
   },
   "outputs": [],
   "source": [
    "import torch\n",
    "import torch.nn as nn\n",
    "import torch.nn.functional as F\n",
    "import torch.optim as optim\n",
    "\n",
    "import numpy as np\n",
    "import pandas as pd\n",
    "import torchvision\n",
    "from torch.utils.data import DataLoader\n",
    "from datetime import datetime  # 用于计算时间\n",
    "\n",
    "import os\n",
    "import sys\n",
    "from collections import Counter\n",
    "import re\n",
    "\n",
    "#import tensorflow.contrib.keras as kr\n",
    "from torch.nn.utils.rnn import pack_padded_sequence\n",
    "from torch.nn.utils.rnn import pad_packed_sequence\n",
    "\n",
    "from torchtext import data\n",
    "import jieba\n",
    "\n",
    "import cv2\n",
    "import os\n",
    "\n",
    "from torch.autograd import Variable\n",
    "import tensorwatch as tw\n",
    "import torchvision.models\n",
    "\n",
    "from pathlib import Path\n",
    "import pandas as pd\n",
    "\n",
    "import matplotlib.pyplot as plt\n",
    "torch.set_printoptions(precision=15)\n",
    "pd.set_option('display.max_rows',None)\n",
    "pd.set_option('display.max_columns',None)\n",
    "np.set_printoptions(threshold=np.inf)\n",
    "\n",
    "import time\n",
    "\n",
    "from torch.autograd import Variable\n",
    "from torch.autograd import Function\n",
    "\n",
    "import seaborn as sns\n",
    "# seaborn中文乱码解决方案\n",
    "from matplotlib.font_manager import FontProperties\n",
    "myfont=FontProperties(fname=r'C:\\Windows\\Fonts\\simhei.ttf',size=14)\n",
    "sns.set(font=myfont.get_name())\n",
    "\n",
    "from tensorboardX import SummaryWriter\n",
    "import torch.backends.cudnn as cudnn"
   ]
  },
  {
   "cell_type": "markdown",
   "metadata": {},
   "source": [
    "## 路径"
   ]
  },
  {
   "cell_type": "code",
   "execution_count": 2,
   "metadata": {
    "collapsed": true
   },
   "outputs": [],
   "source": [
    "video_path = 'C:/Users/wuxun/Desktop/Data/feat_dat/'\n",
    "image_path = 'C:/Users/wuxun/Desktop/Data/image/'#存储到image文件夹中\n",
    "clip_path = 'C:/Users/wuxun/Desktop/Data/clip/'\n",
    "text_dir = 'C:/Users/wuxun/Desktop/Data/clear_text.txt'\n",
    "vocab_dir = 'C:/Users/wuxun/Desktop/Data/vocab.txt'\n",
    "train_path = 'C:/Users/wuxun/Desktop/Data/training/training.txt'\n",
    "val_path = 'C:/Users/wuxun/Desktop/Data/validation/validation.txt'\n",
    "csv_path = 'D:/csv/'\n",
    "save_path = 'C:/Users/wuxun/Desktop/Data/save_model/new_model_for_1500_for_logradioLoss/'"
   ]
  },
  {
   "cell_type": "markdown",
   "metadata": {},
   "source": [
    "## 参数定义"
   ]
  },
  {
   "cell_type": "code",
   "execution_count": 3,
   "metadata": {
    "collapsed": true
   },
   "outputs": [],
   "source": [
    "#固定随机数种子\n",
    "seed=0\n",
    "torch.manual_seed(seed)\n",
    "torch.cuda.manual_seed(seed)\n",
    "torch.cuda.manual_seed_all(seed)\n",
    "np.random.seed(seed)"
   ]
  },
  {
   "cell_type": "markdown",
   "metadata": {},
   "source": [
    "## 功能函数"
   ]
  },
  {
   "cell_type": "code",
   "execution_count": 4,
   "metadata": {
    "collapsed": true
   },
   "outputs": [],
   "source": [
    "def write_resualt_file(path, line):\n",
    "    with open(path, 'a') as f:\n",
    "        f.write(line+'\\n')"
   ]
  },
  {
   "cell_type": "code",
   "execution_count": 5,
   "metadata": {
    "collapsed": true
   },
   "outputs": [],
   "source": [
    "def draw(train_loss_list, val_loss_list):\n",
    "    x1 = range(0, len(train_loss_list))\n",
    "    x2 = range(0, len(val_loss_list))\n",
    "    #with plt.style.context(['science']):\n",
    "    plt.subplot(2, 1, 1)\n",
    "    plt.plot(x1, train_loss_list[:len(train_loss_list)], 'o-')\n",
    "    plt.title('train loss vs. epoches')\n",
    "    plt.ylabel('train loss')\n",
    "    plt.subplot(2, 1, 2)\n",
    "    plt.plot(x2,val_loss_list[:len(val_loss_list)] , '.-')\n",
    "    plt.xlabel('Val loss vs. epoches')\n",
    "    plt.ylabel('Val loss')\n",
    "    plt.show()"
   ]
  },
  {
   "cell_type": "code",
   "execution_count": 6,
   "metadata": {
    "collapsed": true
   },
   "outputs": [],
   "source": [
    "def draw_data(data_list):\n",
    "    '''\n",
    "    绘制数据直方图分布\n",
    "    '''\n",
    "    print(type(data_list[0]))\n",
    "    print(len(data_list))\n",
    "    Max_v=-1;\n",
    "    Min_v=2000\n",
    "    for i in range(len(data_list)):\n",
    "        if data_list[i] > Max_v:\n",
    "            Max_v = data_list[i]\n",
    "        if data_list[i] < Min_v:\n",
    "            Min_v = data_list[i]\n",
    "    print(Max_v, Min_v)\n",
    "    num_block = int((Max_v - Min_v)/10)\n",
    "    print(num_block)\n",
    "    plt.hist(x = data_list, # 指定绘图数据\n",
    "         bins = num_block + 1, # 指定直方图中条块的个数\n",
    "         color = 'steelblue', # 指定直方图的填充色\n",
    "         edgecolor = 'black' # 指定直方图的边框色\n",
    "         )\n",
    "    # 添加x轴和y轴标签\n",
    "    plt.xlabel('偏差')\n",
    "    plt.ylabel('频数')\n",
    "    # 添加标题\n",
    "    plt.title('偏差分布')\n",
    "    # 显示图形\n",
    "    plt.show()"
   ]
  },
  {
   "cell_type": "code",
   "execution_count": 7,
   "metadata": {
    "collapsed": true
   },
   "outputs": [],
   "source": [
    "def get_distance(x, y):\n",
    "    return np.sqrt(np.sum(np.square(x - y)))"
   ]
  },
  {
   "cell_type": "code",
   "execution_count": 8,
   "metadata": {
    "collapsed": true
   },
   "outputs": [],
   "source": [
    "def close_grad(model):\n",
    "    '''\n",
    "    冻结模型\n",
    "    '''\n",
    "    model.eval()\n",
    "    for param in model.parameters():\n",
    "        param.requires_grad = False"
   ]
  },
  {
   "cell_type": "code",
   "execution_count": 9,
   "metadata": {
    "collapsed": true
   },
   "outputs": [],
   "source": [
    "def adjust_learning_rate(optimizer, inital_lr, lr_decay = 1e-2):\n",
    "    \"\"\"\n",
    "    Updates the learning rate given the learning rate decay.\n",
    "    \"\"\"\n",
    "    for group in optimizer.param_groups:\n",
    "        if 'step' not in group:\n",
    "            group['step'] = 0\n",
    "        group['step'] += 1\n",
    "        group['lr'] = inital_lr / (1 + group['step'] * lr_decay)"
   ]
  },
  {
   "cell_type": "code",
   "execution_count": 10,
   "metadata": {
    "collapsed": true
   },
   "outputs": [],
   "source": [
    "def get_learning_rate(optimizer):\n",
    "    for p in optimizer.param_groups:\n",
    "        lr = p['lr']\n",
    "    return lr"
   ]
  },
  {
   "cell_type": "code",
   "execution_count": 11,
   "metadata": {
    "collapsed": true
   },
   "outputs": [],
   "source": [
    " def read_file(filename):\n",
    "\n",
    "    \"\"\"读取文件数据\"\"\"\n",
    "    \n",
    "    contents = []\n",
    "    with open(filename) as f:\n",
    "        for line in f:\n",
    "            contents.append(re.split('[, \\n.]',line))\n",
    "    return contents"
   ]
  },
  {
   "cell_type": "code",
   "execution_count": 12,
   "metadata": {
    "collapsed": true
   },
   "outputs": [],
   "source": [
    "def build_vocab(text_dir, vocab_dir, vocab_size=3000):\n",
    "\n",
    "    \"\"\"根据训练集构建词汇表，存储\"\"\"\n",
    "    data_train = read_file(text_dir)\n",
    "    all_data = []\n",
    "    for content in data_train:\n",
    "        for k in content:\n",
    "            if len(k)!=0:\n",
    "                all_data.append(k)\n",
    "    print(all_data)\n",
    "    counter = Counter(all_data)\n",
    "    count_pairs = counter.most_common(vocab_size - 1)\n",
    "    words, _ = list(zip(*count_pairs))\n",
    "    # 添加一个 <PAD> 来将所有文本pad为同一长度\n",
    "    words = ['<PAD>'] + list(words)\n",
    "    open(vocab_dir, mode='w').write('\\n'.join(words) + '\\n')"
   ]
  },
  {
   "cell_type": "code",
   "execution_count": 13,
   "metadata": {
    "collapsed": true
   },
   "outputs": [],
   "source": [
    "def read_vocab(vocab_dir):\n",
    "\n",
    "    \"\"\"读取词汇表\"\"\"\n",
    "\n",
    "    with open(vocab_dir) as fp:\n",
    "        words = [(_.strip()) for _ in fp.readlines()]\n",
    "    word_to_id = dict(zip(words, range(len(words))))\n",
    "    return words, word_to_id"
   ]
  },
  {
   "cell_type": "code",
   "execution_count": 14,
   "metadata": {
    "collapsed": true
   },
   "outputs": [],
   "source": [
    "def to_words(content, words):\n",
    "\n",
    "    \"\"\"将id表示的内容转换为文字\"\"\"\n",
    "\n",
    "    return ''.join(words[x] for x in content)"
   ]
  },
  {
   "cell_type": "code",
   "execution_count": 15,
   "metadata": {
    "collapsed": true
   },
   "outputs": [],
   "source": [
    "def get_dict(path, csv_path):\n",
    "    '''\n",
    "    获得最终的数据集\n",
    "    path:文本数据集\n",
    "    csv_path\n",
    "    '''\n",
    "    words, word_to_id = read_vocab(vocab_dir)\n",
    "    data_id = []\n",
    "    source_csv=[]\n",
    "    target_csv=[]\n",
    "    source_time_list=[]\n",
    "    target_time_list=[]\n",
    "    distance_list = []\n",
    "    Max_len=-1\n",
    "    count=0\n",
    "    with open(path) as contents:\n",
    "        for line in contents:\n",
    "            count+=1\n",
    "            List = line.split('#')\n",
    "            video_name = List[0]\n",
    "            time_length = float(List[1])\n",
    "            foldtype = List[2]\n",
    "            recipetype = List[3]\n",
    "            source = List[4]\n",
    "            target = List[5]\n",
    "            \n",
    "            #将句子转换为id表示：\n",
    "            sentence = List[6].strip('\\n').strip()\n",
    "            sentence = re.split(r\"[,| |.]\",sentence)\n",
    "            sentence_id = [word_to_id[x] for x in sentence if x in word_to_id]\n",
    "            if len(sentence_id) > Max_len:\n",
    "                Max_len = len(sentence_id)\n",
    "            data_id.append(sentence_id)\n",
    "            \n",
    "            #寻找路径,先统一取0001\n",
    "            dir_path = csv_path+'/'+foldtype+'/'+recipetype+'/'+video_name+'/0001/'\n",
    "            name = os.listdir(dir_path)[0]\n",
    "            dir_path = dir_path + name\n",
    "            \n",
    "            #读取csv文件\n",
    "            my_file = Path(dir_path)\n",
    "            if my_file.exists():\n",
    "                frame_sum = pd.read_csv(dir_path, header=None)\n",
    "            else:\n",
    "                print(\"目录不存在！\")\n",
    "            #确定时间点\n",
    "            source = source.split('_')\n",
    "            target = target.split('_')\n",
    "            \n",
    "            source_time = (float(source[0]) + float(source[1])) // 2\n",
    "            source_time_len = np.abs(float(source[1]) - float(source[0]))\n",
    "            source_time_list.append([float(source[0]), float(source[1])])\n",
    "            source_frame_num = int(source_time / time_length * 500)\n",
    "            source_frame = frame_sum.loc[source_frame_num]\n",
    "            source_csv.append([source_frame])\n",
    "            \n",
    "            target_time = (float(target[0]) + float(target[1])) // 2\n",
    "            target_time_len = np.abs(float(target[1]) - float(target[0]))\n",
    "            target_time_list.append([float(target[0]), float(target[1])])\n",
    "            target_frame_num = int(target_time / time_length * 500)\n",
    "            target_frame = frame_sum.loc[target_frame_num]\n",
    "            target_csv.append([target_frame])\n",
    "            '''\n",
    "            gt_dist:中间值与长度的欧氏距离之和\n",
    "            '''\n",
    "            gt_dist = get_distance(source_time, target_time) + get_distance(source_time_len - target_time_len, 2)\n",
    "            distance_list.append([0, gt_dist])\n",
    "    #将所有的句子pad为同一最大长度\n",
    "    batch_data_id = np.array([line +[0] * (Max_len - len(line)) for line in data_id])\n",
    "    batch_seq = torch.LongTensor(batch_data_id)\n",
    "    print(len(batch_seq),len(source_csv),len(target_csv))\n",
    "    return batch_seq, source_csv, target_csv, source_time_list, target_time_list, distance_list"
   ]
  },
  {
   "cell_type": "code",
   "execution_count": 16,
   "metadata": {
    "collapsed": true
   },
   "outputs": [],
   "source": [
    "def batch_iter(x_batch, x_csv, y_csv, source_list, target_list, distance_list, batch_size=64):\n",
    "    \"\"\"\n",
    "    生成批次数据\n",
    "    \"\"\"\n",
    "    data_len = x_batch.shape[0]\n",
    "    num_batch = int((data_len - 1) / batch_size) + 1\n",
    "\n",
    "    indices = np.random.permutation(np.arange(data_len))\n",
    "    x_batch_shuffle = x_batch[indices]\n",
    "    x_csv_shuffle =np.array(x_csv)[indices]\n",
    "    y_csv_shuffle = np.array(y_csv)[indices]\n",
    "    source_list = np.array(source_list)[indices]\n",
    "    target_list = np.array(target_list)[indices]\n",
    "    distance_list = np.array(distance_list)[indices]\n",
    "\n",
    "    for i in range(num_batch):\n",
    "        start_id = i * batch_size\n",
    "        end_id = min((i + 1) * batch_size, data_len)\n",
    "        yield x_batch_shuffle[start_id:end_id], x_csv_shuffle[start_id:end_id], y_csv_shuffle[start_id:end_id], source_list[start_id:end_id], target_list[start_id:end_id], distance_list[start_id:end_id]"
   ]
  },
  {
   "cell_type": "markdown",
   "metadata": {},
   "source": [
    "## 读取数据"
   ]
  },
  {
   "cell_type": "code",
   "execution_count": 17,
   "metadata": {},
   "outputs": [
    {
     "name": "stdout",
     "output_type": "stream",
     "text": [
      "1548 1548 1548\n",
      "523 523 523\n"
     ]
    }
   ],
   "source": [
    "#训练集\n",
    "x_batch_train, x_csv_train, y_csv_train, source_list_train, target_list_train, distance_train_list = get_dict(train_path, csv_path)\n",
    "#验证集\n",
    "x_batch_val, x_csv_val, y_csv_val, source_list_val, target_list_val, distance_val_list = get_dict(val_path, csv_path)"
   ]
  },
  {
   "cell_type": "markdown",
   "metadata": {},
   "source": [
    "## 基础模型定义"
   ]
  },
  {
   "cell_type": "code",
   "execution_count": 18,
   "metadata": {
    "collapsed": true
   },
   "outputs": [],
   "source": [
    "def weights_init(m):\n",
    "    '''\n",
    "    参数初始化函数\n",
    "    '''\n",
    "    classname = m.__class__.__name__\n",
    "    if classname.find('Conv') != -1:\n",
    "        torch.nn.init.normal_(m.weight.data, mean=0, std=0.01)\n",
    "        m.bias.data.fill_(0)\n",
    "    elif classname.find('Linear') != -1:\n",
    "        torch.nn.init.normal_(m.weight.data)\n",
    "        m.bias.data.fill_(0)"
   ]
  },
  {
   "cell_type": "markdown",
   "metadata": {},
   "source": [
    "#### LSTM_CNN"
   ]
  },
  {
   "cell_type": "code",
   "execution_count": 20,
   "metadata": {
    "collapsed": true
   },
   "outputs": [],
   "source": [
    "# 定义LSTM的结构\n",
    "class LSTM_CNN(nn.Module):\n",
    "    \n",
    "    def __init__(self):\n",
    "        super(LSTM_CNN, self).__init__()\n",
    "        \n",
    "        self.embedding = nn.Embedding(5000, 64)\n",
    "        #self.rnn = nn.GRU(input_size=64, hidden_size=256, num_layers=2, bidirectional=True)\n",
    "        self.rnn = nn.LSTM(input_size=64, hidden_size=256, num_layers=2, bidirectional=True)\n",
    "        self.f1 = nn.Sequential(nn.Linear(512,128), nn.Dropout(0.8), nn.ReLU())        \n",
    "        \n",
    "        self.conv1 = torch.nn.Conv1d(512, 256, kernel_size=1, stride=1)\n",
    "        self.conv2 = torch.nn.Conv1d(256, 128, kernel_size=1, stride=1)\n",
    "\n",
    "        self.fc1 = torch.nn.Linear(512,128)\n",
    "        self.fc1_drop = torch.nn.Dropout(p=0.4)\n",
    "        self.fc2 = torch.nn.Linear(128, 64)\n",
    "        \n",
    "        self.final_fc = nn.Linear(in_features=256, out_features=128)\n",
    "        \n",
    "        # Initializing weights\n",
    "        self.apply(weights_init)\n",
    "        \n",
    "        \n",
    "    def cnnout(self, x2):\n",
    "        x2 = x2.permute(0, 2, 1)\n",
    "        out1 = self.conv1(x2)\n",
    "        out1_norm = F.normalize(out1, p=2, dim = 1)\n",
    "        out2 = self.conv2(out1_norm)\n",
    "        out2_norm = F.normalize(out2, p=2, dim = 1)\n",
    "        return out2_norm\n",
    "        \n",
    "        \n",
    "    def forward(self, x1, x2): \n",
    "        if x1.shape[0]!=2:\n",
    "            '''\n",
    "            语义特征提取\n",
    "            '''\n",
    "            x = self.embedding(x1)\n",
    "            x,_ = self.rnn(x)\n",
    "            x = F.dropout(x, p=0.8)\n",
    "            lstm_output = self.f1(x[:,-1,:])\n",
    "            \n",
    "            '''\n",
    "            source帧特征提取\n",
    "            '''\n",
    "            cnn_out=self.cnnout(x2)\n",
    "            \n",
    "            '''\n",
    "            文本与图像特征融合\n",
    "            '''\n",
    "            cnn_out = cnn_out.squeeze(2)\n",
    "            output = torch.cat((lstm_output, cnn_out), 1)\n",
    "            output = self.final_fc(output)\n",
    "            return output\n",
    "        \n",
    "        else:\n",
    "            '''\n",
    "            target帧特征提取\n",
    "            '''\n",
    "            cnn_out=self.cnnout(x2)\n",
    "            cnn_out = cnn_out.squeeze(2)\n",
    "            return cnn_out"
   ]
  },
  {
   "cell_type": "markdown",
   "metadata": {},
   "source": [
    "#### Log-RatioLoss 损失函数定义"
   ]
  },
  {
   "cell_type": "code",
   "execution_count": 3,
   "metadata": {
    "collapsed": true
   },
   "outputs": [],
   "source": [
    "class L2dist(Function):\n",
    "    '''\n",
    "    L2 normal\n",
    "    '''\n",
    "    def __init__(self, p):\n",
    "        super(L2dist, self).__init__()\n",
    "        self.norm = p             # norm 2\n",
    "\n",
    "    def forward(self, x1, x2):\n",
    "        eps = 1e-4 / x1.size(0)\n",
    "        diff = torch.abs(x1 - x2)\n",
    "        out = torch.pow(diff, self.norm).sum(dim = 1)\n",
    "        return torch.pow(out + eps, 1. / self.norm)"
   ]
  },
  {
   "cell_type": "code",
   "execution_count": 4,
   "metadata": {},
   "outputs": [],
   "source": [
    "class LogRatioLoss(Function):\n",
    "    \"\"\"Log ratio loss function. \"\"\"\n",
    "    def __init__(self):\n",
    "        super(LogRatioLoss, self).__init__()\n",
    "        self.pdist = L2dist(2)    # norm 2\n",
    "\n",
    "    def forward(self, input, gt_dist):#gt_dist[2], input:[num, embed_size]\n",
    "        m = input.size()[0] - 1   # #paired\n",
    "        a = input[0]              # anchor\n",
    "        p = input[1:]             # paired (postive, negtive)\n",
    "        \n",
    "        # auxiliary variables\n",
    "        idxs = torch.arange(1, m + 1).cuda()\n",
    "        indc = idxs.repeat(m,1).t() < idxs.repeat(m,1)\n",
    "\n",
    "        epsilon = 1e-6\n",
    "        dist = self.pdist.forward(a, p)\n",
    "        \n",
    "        log_dist = torch.log(dist + epsilon)\n",
    "        log_gt_dist = torch.log(gt_dist + epsilon)\n",
    "        \n",
    "        diff_log_dist = log_dist.repeat(m, 1).t() - log_dist.repeat(m, 1)#log相减就是相除\n",
    "        diff_log_gt_dist = log_gt_dist.repeat(m, 1).t() - log_gt_dist.repeat(m, 1)\n",
    "\n",
    "        #uniform weight coefficients \n",
    "        wgt = indc.clone().float()\n",
    "        wgt = wgt.div(wgt.sum())\n",
    "\n",
    "        log_ratio_loss = (diff_log_dist - diff_log_gt_dist).pow(2)\n",
    "\n",
    "        loss = log_ratio_loss\n",
    "        loss = loss.mul(wgt).sum()\n",
    "\n",
    "        return loss"
   ]
  },
  {
   "cell_type": "code",
   "execution_count": 23,
   "metadata": {
    "collapsed": true
   },
   "outputs": [],
   "source": [
    "#存储loss数据\n",
    "train_loss_list = []\n",
    "val_loss_list = []"
   ]
  },
  {
   "cell_type": "markdown",
   "metadata": {},
   "source": [
    "#### 训练函数"
   ]
  },
  {
   "cell_type": "code",
   "execution_count": 24,
   "metadata": {
    "collapsed": true
   },
   "outputs": [],
   "source": [
    "def train(save_path, EPOCH = 200, inital_epoch = 0, batch_size = 1, inital_lr = 0.01, inital_model = None):\n",
    "    model = LSTM_CNN()\n",
    "    #加载模型\n",
    "    if inital_model is not None:\n",
    "        model.load_state_dict(torch.load(inital_model))\n",
    "    optimizer = optim.Adam(model.parameters(), lr = inital_lr)\n",
    "    T = Variable(torch.FloatTensor([[1.0,1.0],[1.0,1.0]]))\n",
    "    best_val_loss = 1000000\n",
    "    writer = SummaryWriter('runs/exp_for_log-radio-loss')\n",
    "    print(\"train begin......\")\n",
    "    \n",
    "    for epoch in range(EPOCH):\n",
    "        batch_train = batch_iter(x_batch_train, x_csv_train, y_csv_train, source_list_train, target_list_train, distance_train_list, batch_size)\n",
    "        train_loss_sum = 0\n",
    "        train_loss_avg = 0\n",
    "        count = 0\n",
    "        begin_time = time.strftime(\"%Y-%m-%d %H:%M:%S\", time.localtime())\n",
    "        for x_batch, x_csv, y_csv, source_time, target_time, distance in batch_train:\n",
    "            if x_csv.shape[0]==batch_size:\n",
    "                count += 1\n",
    "                x1 = Variable(torch.LongTensor(x_batch))\n",
    "                x2 = Variable(torch.FloatTensor(np.array(x_csv)))\n",
    "                y = Variable(torch.FloatTensor(np.array(y_csv)))\n",
    "                gt = Variable(torch.FloatTensor(distance)).squeeze(0)\n",
    "                pred_y = model(x1, x2)\n",
    "                negtive = model(T, x2)\n",
    "                postive = model(T, y)\n",
    "                '''\n",
    "                pair与anchor进行拼接\n",
    "                '''\n",
    "                embed = torch.cat((pred_y, postive, negtive), 0)\n",
    "                Loss = LogRatioLoss().forward(embed, gt)\n",
    "\n",
    "                train_loss_sum += Loss\n",
    "                optimizer.zero_grad()\n",
    "                Loss.backward()\n",
    "                optimizer.step()\n",
    "        \n",
    "        current_time = time.strftime(\"%Y-%m-%d %H:%M:%S\", time.localtime())\n",
    "        train_loss_avg = train_loss_sum / count\n",
    "        train_loss_list.append(train_loss_sum)\n",
    "        line = begin_time + ' | ' + current_time + (' | Epoch: %3d | Loss: %.6f |' % (inital_epoch + epoch, train_loss_avg))\n",
    "        print(line)\n",
    "        write_resualt_file(save_path + 'resualt.txt', line)\n",
    "        #adjust_learning_rate(optimizer = optimizer, inital_lr= inital_lr)\n",
    "        writer.add_scalar('train_loss', train_loss_sum, global_step = epoch)\n",
    "        writer.add_scalar('lr', get_learning_rate(optimizer), global_step = epoch)\n",
    "\n",
    "        if (epoch + 1) % 5 == 0:\n",
    "            print(\"进行验证.....\")\n",
    "            begin_time = time.strftime(\"%Y-%m-%d %H:%M:%S\", time.localtime())\n",
    "            count = 0\n",
    "            val_loss_sum = 0\n",
    "            val_loss_avg = 0\n",
    "            batch_val = batch_iter(x_batch_val, x_csv_val, y_csv_val,source_list_val,target_list_val, distance_val_list, batch_size)\n",
    "            for x_batch, x_csv, y_csv, source_time, target_time, distance in batch_val:\n",
    "                if x_csv.shape[0]==batch_size:\n",
    "                    count += 1\n",
    "                    x1 = Variable(torch.LongTensor(x_batch))\n",
    "                    x2 = Variable(torch.FloatTensor(np.array(x_csv)))\n",
    "                    y = Variable(torch.FloatTensor(np.array(y_csv)))\n",
    "                    gt = Variable(torch.FloatTensor(distance)).squeeze(0)\n",
    "                    pred_y = model(x1, x2)\n",
    "                    negtive = model(T, x2)\n",
    "                    postive = model(T, y)\n",
    "                    \n",
    "                    embed = torch.cat((pred_y, postive, negtive), 0)\n",
    "                    Loss = LogRatioLoss().forward(embed, gt)\n",
    "                    \n",
    "                    val_loss_sum += Loss\n",
    "                    optimizer.zero_grad()\n",
    "                    Loss.backward()\n",
    "                    optimizer.step()\n",
    "            \n",
    "            current_time = time.strftime(\"%Y-%m-%d %H:%M:%S\", time.localtime())\n",
    "            val_loss_avg = val_loss_sum / count\n",
    "            val_loss_list.append(val_loss_sum) \n",
    "            line = begin_time + ' | ' + current_time + (' | Epoch: %3d | Loss: %.6f |' % (inital_epoch + epoch, val_loss_avg))\n",
    "            print(line)\n",
    "            write_resualt_file(save_path + 'resualt.txt', line)  \n",
    "            writer.add_scalar('val_loss', val_loss_sum, global_step = epoch)\n",
    "            torch.save(model.state_dict(), save_path + str(inital_epoch + epoch)+'_params.pkl')\n",
    "            if val_loss_sum < best_val_loss:\n",
    "                best_val_loss = val_loss_sum\n",
    "                print(\"model save!\")\n",
    "    #关闭tensorboardX\n",
    "    writer.close()"
   ]
  },
  {
   "cell_type": "markdown",
   "metadata": {},
   "source": [
    "### 训练基础模型"
   ]
  },
  {
   "cell_type": "code",
   "execution_count": null,
   "metadata": {
    "scrolled": true
   },
   "outputs": [
    {
     "name": "stdout",
     "output_type": "stream",
     "text": [
      "train begin......\n",
      "2020-08-20 17:47:33 | 2020-08-20 17:49:48 | Epoch:   0 | Loss: 311.027161 |\n",
      "2020-08-20 17:49:48 | 2020-08-20 17:52:01 | Epoch:   1 | Loss: 311.026764 |\n",
      "2020-08-20 17:52:01 | 2020-08-20 17:54:22 | Epoch:   2 | Loss: 311.026642 |\n",
      "2020-08-20 17:54:22 | 2020-08-20 17:56:47 | Epoch:   3 | Loss: 311.027100 |\n",
      "2020-08-20 17:56:47 | 2020-08-20 17:59:19 | Epoch:   4 | Loss: 311.017578 |\n",
      "进行验证.....\n",
      "2020-08-20 17:59:19 | 2020-08-20 18:00:22 | Epoch:   4 | Loss: 309.494537 |\n",
      "model save!\n",
      "2020-08-20 18:00:22 | 2020-08-20 18:03:27 | Epoch:   5 | Loss: 310.990845 |\n",
      "2020-08-20 18:03:27 | 2020-08-20 18:06:21 | Epoch:   6 | Loss: 310.970978 |\n",
      "2020-08-20 18:06:21 | 2020-08-20 18:09:27 | Epoch:   7 | Loss: 311.022705 |\n",
      "2020-08-20 18:09:27 | 2020-08-20 18:12:44 | Epoch:   8 | Loss: 311.003296 |\n",
      "2020-08-20 18:12:44 | 2020-08-20 18:16:18 | Epoch:   9 | Loss: 310.812927 |\n",
      "进行验证.....\n",
      "2020-08-20 18:16:18 | 2020-08-20 18:17:59 | Epoch:   9 | Loss: 309.230865 |\n",
      "model save!\n",
      "2020-08-20 18:17:59 | 2020-08-20 18:24:42 | Epoch:  10 | Loss: 310.643188 |\n",
      "2020-08-20 18:24:42 | 2020-08-20 18:32:37 | Epoch:  11 | Loss: 310.418793 |\n",
      "2020-08-20 18:32:38 | 2020-08-20 18:41:53 | Epoch:  12 | Loss: 310.840393 |\n",
      "2020-08-20 18:41:53 | 2020-08-20 18:46:09 | Epoch:  13 | Loss: 310.772827 |\n",
      "2020-08-20 18:46:09 | 2020-08-20 18:50:07 | Epoch:  14 | Loss: 310.201630 |\n",
      "进行验证.....\n",
      "2020-08-20 18:50:07 | 2020-08-20 18:51:50 | Epoch:  14 | Loss: 308.497375 |\n",
      "model save!\n",
      "2020-08-20 18:51:50 | 2020-08-20 19:07:48 | Epoch:  15 | Loss: 309.603180 |\n",
      "2020-08-20 19:07:48 | 2020-08-20 19:13:32 | Epoch:  16 | Loss: 309.657349 |\n",
      "2020-08-20 19:13:32 | 2020-08-20 19:20:38 | Epoch:  17 | Loss: 308.919617 |\n",
      "2020-08-20 19:20:38 | 2020-08-20 19:25:28 | Epoch:  18 | Loss: 308.425507 |\n",
      "2020-08-20 19:25:28 | 2020-08-20 19:30:25 | Epoch:  19 | Loss: 307.541595 |\n",
      "进行验证.....\n",
      "2020-08-20 19:30:25 | 2020-08-20 19:32:46 | Epoch:  19 | Loss: 303.807068 |\n",
      "model save!\n",
      "2020-08-20 19:32:46 | 2020-08-20 19:54:32 | Epoch:  20 | Loss: 307.151154 |\n",
      "2020-08-20 19:54:32 | 2020-08-20 19:59:54 | Epoch:  21 | Loss: 306.042023 |\n",
      "2020-08-20 19:59:54 | 2020-08-20 20:05:43 | Epoch:  22 | Loss: 306.292572 |\n",
      "2020-08-20 20:05:43 | 2020-08-20 20:11:47 | Epoch:  23 | Loss: 303.950623 |\n"
     ]
    }
   ],
   "source": [
    "train(save_path, EPOCH=300, inital_epoch=0, batch_size=1, inital_lr=0.01, inital_model=None)"
   ]
  },
  {
   "cell_type": "markdown",
   "metadata": {
    "collapsed": true
   },
   "source": [
    "### 绘制Loss曲线"
   ]
  },
  {
   "cell_type": "code",
   "execution_count": null,
   "metadata": {
    "collapsed": true
   },
   "outputs": [],
   "source": [
    "draw(train_loss_list, val_loss_list)"
   ]
  },
  {
   "cell_type": "markdown",
   "metadata": {},
   "source": [
    "# 回归模型"
   ]
  },
  {
   "cell_type": "markdown",
   "metadata": {},
   "source": [
    "### 回归模型一"
   ]
  },
  {
   "cell_type": "code",
   "execution_count": 142,
   "metadata": {
    "collapsed": true
   },
   "outputs": [],
   "source": [
    "batch_size2 = 32"
   ]
  },
  {
   "cell_type": "code",
   "execution_count": 143,
   "metadata": {
    "collapsed": true
   },
   "outputs": [],
   "source": [
    "# 定义LSTM的结构\n",
    "class Change(nn.Module):\n",
    "    def __init__(self):\n",
    "        super(Change, self).__init__()\n",
    "        self.score_fc = torch.nn.Conv2d(128, 3, kernel_size=1, stride=1)\n",
    "        self.apply(weights_init)\n",
    "        \n",
    "    def forward(self, x):\n",
    "        output = x    #[batch_size2, 128]\n",
    "        output_expand = output.expand([batch_size2, batch_size2, 128])  #[batch_size2, batch_size2, 128]\n",
    "        output_expand = output_expand.unsqueeze(0).permute(0, 3, 1, 2)  #[1,batch_size2,batch_size2,128]=>[1,128,batch_size2,batch_size2]\n",
    "        score = self.score_fc(output_expand)\n",
    "        score_out = F.normalize(score, p=2, dim = 1)\n",
    "        score_out = score_out.squeeze(0) #[3, batch_size2, batch_size2]\n",
    "        return score_out"
   ]
  },
  {
   "cell_type": "markdown",
   "metadata": {},
   "source": [
    "### 回归模型二"
   ]
  },
  {
   "cell_type": "code",
   "execution_count": 144,
   "metadata": {
    "collapsed": true
   },
   "outputs": [],
   "source": [
    "# class Change(nn.Module):\n",
    "#     def __init__(self):\n",
    "#         super(Change, self).__init__()\n",
    "#         #特征融合\n",
    "#         self.score_fc = torch.nn.Conv1d(128, 2, kernel_size=1, stride=1)\n",
    "#         self.apply(weights_init)\n",
    "\n",
    "#     def forward(self, x):\n",
    "#         output = x#[batch_size2, 128]\n",
    "#         output = output.unsqueeze(2)\n",
    "#         score = self.score_fc(output)\n",
    "#         offset_pred = score.squeeze(2)\n",
    "#         return offset_pred"
   ]
  },
  {
   "cell_type": "markdown",
   "metadata": {},
   "source": [
    "#### 路径定义"
   ]
  },
  {
   "cell_type": "code",
   "execution_count": 145,
   "metadata": {
    "collapsed": true
   },
   "outputs": [],
   "source": [
    "save_path2 = 'C:/Users/wuxun/Desktop/Data/save_model2/新训练的model1以后训练model2无alignment/'\n",
    "save_resualt_path2 = 'C:/Users/wuxun/Desktop/Data/save_model2/新训练的model1以后训练model2无alignment/resualt.txt'\n",
    "save_path2_with_align = 'C:/Users/wuxun/Desktop/Data/save_model2/新训练的model1以后训练model2有alignment/'\n",
    "save_resualt_path2_with_align = 'C:/Users/wuxun/Desktop/Data/save_model2/新训练的model1以后训练model2有alignment/resualt.txt'\n",
    "save_path2_GRU_with_align = 'C:/Users/wuxun/Desktop/Data/save_model2/model1_GRU_有alignment/'\n",
    "save_resualt_path2_GRU_with_align = 'C:/Users/wuxun/Desktop/Data/save_model2/model1_GRU_有alignment/resualt.txt'"
   ]
  },
  {
   "cell_type": "code",
   "execution_count": 146,
   "metadata": {
    "collapsed": true
   },
   "outputs": [],
   "source": [
    "train_loss_2_list=[]\n",
    "val_loss_2_list=[]"
   ]
  },
  {
   "cell_type": "markdown",
   "metadata": {},
   "source": [
    "### 训练函数"
   ]
  },
  {
   "cell_type": "code",
   "execution_count": 147,
   "metadata": {
    "collapsed": true
   },
   "outputs": [],
   "source": [
    "# def train_for_Change_model_3(resualt_path, model_save_path, inital_epoch, batch_size2, lamba):\n",
    "#     change_model = Change()\n",
    "#     model = LSTM_CNN()\n",
    "#     model.load_state_dict(torch.load('C:/Users/wuxun/Desktop/Data/save_model/new_model_for_1500/494_params.pkl'))\n",
    "    \n",
    "#     #冻结基础模型参数\n",
    "#     model.eval()\n",
    "#     for param in model.parameters():\n",
    "#         param.requires_grad = False\n",
    "    \n",
    "#     #change_model.load_state_dict(torch.load('C:/Users/wuxun/Desktop/Data/save_model2/新训练的model1以后训练model2无alignment/batchsize_is_1_19.pkl'))\n",
    "#     optimizer = optim.Adam(change_model.parameters(), lr = 0.001)\n",
    "#     best_val_loss_2 = 1000000\n",
    "#     print(\"train begin......\")\n",
    "#     for epoch in range(1000):\n",
    "#         batch_train = batch_iter(x_batch_train, x_csv_train, y_csv_train, source_list_train, target_list_train, batch_size2)\n",
    "#         count = 0\n",
    "#         train_loss_sum = 0\n",
    "#         begin_time = time.strftime(\"%Y-%m-%d %H:%M:%S\", time.localtime())\n",
    "#         for x_batch, x_csv, y_csv, source_time, target_time in batch_train:\n",
    "#             if x_csv.shape[0]==batch_size2:\n",
    "#                 count += 1\n",
    "#                 x1 = Variable(torch.LongTensor(x_batch))\n",
    "#                 x2 = Variable(torch.FloatTensor(np.array(x_csv)))\n",
    "#                 source_time = Variable(torch.FloatTensor(np.array(source_time)))\n",
    "#                 target_time = Variable(torch.FloatTensor(np.array(target_time)))\n",
    "#                 pred = model(x1, x2)\n",
    "#                 pred2 = change_model(pred)\n",
    "            \n",
    "#                 Loss = torch.abs(pred2 - target_time).mean()\n",
    "                \n",
    "#                 train_loss_sum += Loss\n",
    "#                 optimizer.zero_grad()\n",
    "#                 Loss.backward()\n",
    "#                 optimizer.step()\n",
    "                \n",
    "#         current_time = time.strftime(\"%Y-%m-%d %H:%M:%S\", time.localtime())        \n",
    "#         line = begin_time+' | '+current_time+(' | Epoch: %3d | Loss: %.6f |' % (inital_epoch + epoch, train_loss_sum / (count)))\n",
    "#         print(line)\n",
    "#         write_resualt_file(resualt_path, line)\n",
    "#         train_loss_2_list.append(train_loss_sum / count)\n",
    "\n",
    "#         if (epoch+1)%5==0:\n",
    "#             print(\"进行验证.......\")\n",
    "#             begin_time = time.strftime(\"%Y-%m-%d %H:%M:%S\", time.localtime())\n",
    "#             batch_val = batch_iter(x_batch_val, x_csv_val, y_csv_val,source_list_val,target_list_val, batch_size2)\n",
    "#             count = 0\n",
    "#             val_loss_sum = 0\n",
    "#             for x_batch, x_csv, y_csv, source_time, target_time in batch_val:\n",
    "#                 if x_csv.shape[0]==batch_size2:\n",
    "#                     count += 1\n",
    "#                     x1 = Variable(torch.LongTensor(x_batch))\n",
    "#                     x2 = Variable(torch.FloatTensor(np.array(x_csv)))\n",
    "#                     source_time = Variable(torch.FloatTensor(np.array(source_time)))\n",
    "#                     target_time = Variable(torch.FloatTensor(np.array(target_time)))\n",
    "#                     pred = model(x1, x2)\n",
    "#                     pred2 = change_model(pred)\n",
    "                    \n",
    "#                     Loss = torch.abs(pred2 - target_time).mean()\n",
    "\n",
    "#                     val_loss_sum += Loss\n",
    "#                     optimizer.zero_grad()\n",
    "#                     Loss.backward()\n",
    "#                     optimizer.step()\n",
    "            \n",
    "#             current_time = time.strftime(\"%Y-%m-%d %H:%M:%S\", time.localtime()) \n",
    "#             line = begin_time+' | '+current_time+(' | Epoch: %3d | Loss: %.6f |' % (inital_epoch + epoch, val_loss_sum / (count)))\n",
    "#             print(line)\n",
    "#             write_resualt_file(resualt_path, line)\n",
    "#             val_loss_2_list.append(val_loss_sum / count) \n",
    "#             #torch.save(change_model.state_dict(), model_save_path + 'batchsize_is_64_the_first_model_300_' + str(inital_epoch + epoch)+'.pkl')\n",
    "#             if (val_loss_sum / count ) < best_val_loss_2:\n",
    "#                 best_val_loss_2 = val_loss_sum / count\n",
    "#                 print(\"model save!\")"
   ]
  },
  {
   "cell_type": "code",
   "execution_count": 148,
   "metadata": {
    "collapsed": true
   },
   "outputs": [],
   "source": [
    "def train_2(resualt_path, model_save_path, EPOCH=500, inital_epoch=0, lamba=0.01, inital_model=None, inital_Change_model=None, inital_lr=0.01):\n",
    "    change_model = Change()\n",
    "    model = LSTM_CNN()\n",
    "    epsilon = 1e-6\n",
    "    if inital_model is not None:\n",
    "        model.load_state_dict(torch.load(inital_model))\n",
    "    #冻结基础模型参数\n",
    "    model.eval()\n",
    "    for param in model.parameters():\n",
    "        param.requires_grad = False\n",
    "        \n",
    "    if inital_Change_model is not None:\n",
    "        change_model.load_state_dict(torch.load(inital_Change_model))\n",
    "        \n",
    "    optimizer = optim.Adam(change_model.parameters(), lr = inital_lr)\n",
    "    best_val_loss_2 = 1000000\n",
    "    for epoch in range(EPOCH):\n",
    "        batch_train = batch_iter(x_batch_train, x_csv_train, y_csv_train, source_list_train, target_list_train, batch_size2)\n",
    "        count = 0\n",
    "        train_loss_sum = 0\n",
    "        train_alignmentloss_sum = 0\n",
    "        train_regloss_sum =0\n",
    "        begin_time = time.strftime(\"%Y-%m-%d %H:%M:%S\", time.localtime())\n",
    "        for x_batch, x_csv, y_csv, source_time, target_time in batch_train:\n",
    "            if x_csv.shape[0]==batch_size2:\n",
    "                count += 1\n",
    "                x1 = Variable(torch.LongTensor(x_batch))\n",
    "                x2 = Variable(torch.FloatTensor(np.array(x_csv)))\n",
    "                y = Variable(torch.FloatTensor(np.array(y_csv)))\n",
    "                source_time = Variable(torch.FloatTensor(np.array(source_time)))\n",
    "                target_time = Variable(torch.FloatTensor(np.array(target_time)))\n",
    "                pred = model(x1, x2)\n",
    "                score = change_model(pred)\n",
    "                alignment_mat = score[0]\n",
    "                l_mat = score[1]\n",
    "                r_mat = score[2]\n",
    "\n",
    "                I = torch.eye(batch_size2)\n",
    "                allone = torch.ones(batch_size2, batch_size2)\n",
    "                mask = allone - 2 * I\n",
    "\n",
    "                l_reg = torch.mm(l_mat * I, torch.ones(batch_size2, 1))\n",
    "                r_reg = torch.mm(r_mat * I, torch.ones(batch_size2, 1))\n",
    "                offset_pred = torch.cat([l_reg, r_reg], 1)\n",
    "\n",
    "                loss_mat = torch.log(allone + torch.exp(mask * score[0] + epsilon))\n",
    "                para = I + 1.0 / batch_size2 * allone\n",
    "                loss_mat = loss_mat * para\n",
    "                loss_alignment = loss_mat.mean()\n",
    "                loss_reg = torch.abs(offset_pred - target_time).mean()\n",
    "                \n",
    "                #最终的损失函数\n",
    "                Loss = loss_reg * lamba + loss_alignment\n",
    "                \n",
    "                train_regloss_sum += loss_reg\n",
    "                train_loss_sum += Loss\n",
    "                train_alignmentloss_sum += loss_alignment\n",
    "                optimizer.zero_grad()\n",
    "                Loss.backward()\n",
    "                #nn.utils.clip_grad_norm_(change_model.parameters(), max_norm=20, norm_type=2)\n",
    "                optimizer.step()\n",
    "                \n",
    "        current_time = time.strftime(\"%Y-%m-%d %H:%M:%S\", time.localtime())    \n",
    "        line = begin_time+' | '+current_time+(' | Epoch: %3d | Loss: %.6f | loss_align: %.6f | loss_reg: %.6f' % (epoch, train_loss_sum / (count), train_alignmentloss_sum / (count), train_regloss_sum / (count)))\n",
    "        print(line)\n",
    "        write_resualt_file(resualt_path, line)\n",
    "        train_loss_2_list.append(train_loss_sum / count)\n",
    "\n",
    "        if (epoch + 1) % 5 == 0:\n",
    "            print(\"进行验证.......\")\n",
    "            begin_time = time.strftime(\"%Y-%m-%d %H:%M:%S\", time.localtime())\n",
    "            batch_val = batch_iter(x_batch_val, x_csv_val, y_csv_val,source_list_val,target_list_val, batch_size2)\n",
    "            count = 0\n",
    "            val_loss_sum = 0\n",
    "            val_alignmentloss_sum =0\n",
    "            val_regloss_sum =0\n",
    "            for x_batch, x_csv, y_csv, source_time, target_time in batch_val:\n",
    "                if x_csv.shape[0]==batch_size2:\n",
    "                    count += 1\n",
    "                    x1 = Variable(torch.LongTensor(x_batch))\n",
    "                    x2 = Variable(torch.FloatTensor(np.array(x_csv)))\n",
    "                    y = Variable(torch.FloatTensor(np.array(y_csv)))\n",
    "                    source_time = Variable(torch.FloatTensor(np.array(source_time)))\n",
    "                    target_time = Variable(torch.FloatTensor(np.array(target_time)))\n",
    "                    pred = model(x1, x2)\n",
    "                    score = change_model(pred)\n",
    "                    \n",
    "                    #特征变换\n",
    "                    alignment_mat = score[0]\n",
    "                    l_mat = score[1]\n",
    "                    r_mat = score[2]\n",
    "\n",
    "                    I = torch.eye(batch_size2)\n",
    "                    allone = torch.ones(batch_size2, batch_size2)\n",
    "                    mask = allone - 2 * I\n",
    "\n",
    "                    l_reg = torch.mm(l_mat * I, torch.ones(batch_size2, 1))\n",
    "                    r_reg = torch.mm(r_mat * I, torch.ones(batch_size2, 1))\n",
    "                    offset_pred = torch.cat([l_reg, r_reg], 1)\n",
    "                    loss_mat = torch.log(allone + torch.exp(mask * score[0] + epsilon))\n",
    "\n",
    "                    para = I + 1.0 / batch_size2 * allone\n",
    "                    loss_mat = loss_mat * para\n",
    "                    loss_alignment = loss_mat.mean()\n",
    "                    loss_reg = torch.abs(offset_pred - target_time).mean()\n",
    "                    \n",
    "                    #模型最终的loss\n",
    "                    Loss = loss_reg * lamba + loss_alignment\n",
    "                    \n",
    "                    val_alignmentloss_sum += loss_alignment\n",
    "                    val_regloss_sum += loss_reg\n",
    "                    val_loss_sum += Loss\n",
    "                    optimizer.zero_grad()\n",
    "                    \n",
    "                    Loss.backward()\n",
    "                    #nn.utils.clip_grad_norm_(change_model.parameters(), max_norm=20, norm_type=2)\n",
    "                    optimizer.step()\n",
    "            \n",
    "            current_time = time.strftime(\"%Y-%m-%d %H:%M:%S\", time.localtime()) \n",
    "            line = begin_time+' | '+current_time+(' | Epoch: %3d | Loss: %.6f | loss_align: %.6f | loss_reg: %.6f' % (epoch, val_loss_sum / (count), val_alignmentloss_sum / (count), val_regloss_sum / (count)))\n",
    "            print(line)\n",
    "            write_resualt_file(resualt_path, line)\n",
    "            val_loss_2_list.append(val_loss_sum / count) \n",
    "            torch.save(change_model.state_dict(), model_save_path + 'epoch_'+str(inital_epoch + epoch)+'.pkl')\n",
    "            if (val_loss_sum / count ) < best_val_loss_2:\n",
    "                best_val_loss_2 = val_loss_sum / count\n",
    "                print(\"model save!\")"
   ]
  },
  {
   "cell_type": "markdown",
   "metadata": {},
   "source": [
    "### 训练回归模型"
   ]
  },
  {
   "cell_type": "code",
   "execution_count": 149,
   "metadata": {
    "collapsed": true
   },
   "outputs": [],
   "source": [
    "# train_for_Change_model_3(save_resualt_path2, save_path2, 0)"
   ]
  },
  {
   "cell_type": "code",
   "execution_count": null,
   "metadata": {},
   "outputs": [
    {
     "name": "stdout",
     "output_type": "stream",
     "text": [
      "2020-08-20 02:04:47 | 2020-08-20 02:04:54 | Epoch:   0 | Loss: 19.068722 | loss_align: 0.043505 | loss_reg: 190.252213\n",
      "2020-08-20 02:04:54 | 2020-08-20 02:05:02 | Epoch:   1 | Loss: 19.069489 | loss_align: 0.043311 | loss_reg: 190.261765\n",
      "2020-08-20 02:05:02 | 2020-08-20 02:05:10 | Epoch:   2 | Loss: 19.009485 | loss_align: 0.043312 | loss_reg: 189.661728\n",
      "2020-08-20 02:05:10 | 2020-08-20 02:05:19 | Epoch:   3 | Loss: 19.085981 | loss_align: 0.043312 | loss_reg: 190.426682\n",
      "2020-08-20 02:05:19 | 2020-08-20 02:05:27 | Epoch:   4 | Loss: 19.075922 | loss_align: 0.043312 | loss_reg: 190.326111\n",
      "进行验证.......\n",
      "2020-08-20 02:05:27 | 2020-08-20 02:06:35 | Epoch:   4 | Loss: 18.260471 | loss_align: 0.043335 | loss_reg: 182.171341\n",
      "model save!\n",
      "2020-08-20 02:06:35 | 2020-08-20 02:07:54 | Epoch:   5 | Loss: 19.067846 | loss_align: 0.043316 | loss_reg: 190.245300\n",
      "2020-08-20 02:07:54 | 2020-08-20 02:08:03 | Epoch:   6 | Loss: 19.051186 | loss_align: 0.043313 | loss_reg: 190.078720\n",
      "2020-08-20 02:08:03 | 2020-08-20 02:08:11 | Epoch:   7 | Loss: 19.053883 | loss_align: 0.043312 | loss_reg: 190.105713\n",
      "2020-08-20 02:08:11 | 2020-08-20 02:08:19 | Epoch:   8 | Loss: 19.002815 | loss_align: 0.043312 | loss_reg: 189.595032\n",
      "2020-08-20 02:08:19 | 2020-08-20 02:08:27 | Epoch:   9 | Loss: 19.019930 | loss_align: 0.043312 | loss_reg: 189.766190\n",
      "进行验证.......\n",
      "2020-08-20 02:08:27 | 2020-08-20 02:09:44 | Epoch:   9 | Loss: 18.237522 | loss_align: 0.043336 | loss_reg: 181.941864\n",
      "model save!\n",
      "2020-08-20 02:09:44 | 2020-08-20 02:11:37 | Epoch:  10 | Loss: 19.095091 | loss_align: 0.043398 | loss_reg: 190.516907\n",
      "2020-08-20 02:11:37 | 2020-08-20 02:11:45 | Epoch:  11 | Loss: 19.094477 | loss_align: 0.043312 | loss_reg: 190.511658\n",
      "2020-08-20 02:11:45 | 2020-08-20 02:11:53 | Epoch:  12 | Loss: 19.038782 | loss_align: 0.043312 | loss_reg: 189.954758\n",
      "2020-08-20 02:11:53 | 2020-08-20 02:12:01 | Epoch:  13 | Loss: 19.044222 | loss_align: 0.043312 | loss_reg: 190.009094\n",
      "2020-08-20 02:12:01 | 2020-08-20 02:12:09 | Epoch:  14 | Loss: 19.070873 | loss_align: 0.043312 | loss_reg: 190.275635\n",
      "进行验证.......\n",
      "2020-08-20 02:12:09 | 2020-08-20 02:12:48 | Epoch:  14 | Loss: 18.191628 | loss_align: 0.043318 | loss_reg: 181.483078\n",
      "model save!\n",
      "2020-08-20 02:12:48 | 2020-08-20 02:13:03 | Epoch:  15 | Loss: 19.073996 | loss_align: 0.043316 | loss_reg: 190.306808\n",
      "2020-08-20 02:13:03 | 2020-08-20 02:13:13 | Epoch:  16 | Loss: 19.115278 | loss_align: 0.043312 | loss_reg: 190.719666\n",
      "2020-08-20 02:13:13 | 2020-08-20 02:13:21 | Epoch:  17 | Loss: 19.003817 | loss_align: 0.043312 | loss_reg: 189.605087\n",
      "2020-08-20 02:13:21 | 2020-08-20 02:13:30 | Epoch:  18 | Loss: 19.065250 | loss_align: 0.043312 | loss_reg: 190.219376\n",
      "2020-08-20 02:13:30 | 2020-08-20 02:13:38 | Epoch:  19 | Loss: 19.045389 | loss_align: 0.043312 | loss_reg: 190.020752\n",
      "进行验证.......\n",
      "2020-08-20 02:13:38 | 2020-08-20 02:13:52 | Epoch:  19 | Loss: 18.261423 | loss_align: 0.043331 | loss_reg: 182.180923\n",
      "2020-08-20 02:13:52 | 2020-08-20 02:14:01 | Epoch:  20 | Loss: 19.036871 | loss_align: 0.043338 | loss_reg: 189.935303\n",
      "2020-08-20 02:14:01 | 2020-08-20 02:14:09 | Epoch:  21 | Loss: 19.024969 | loss_align: 0.043313 | loss_reg: 189.816528\n",
      "2020-08-20 02:14:09 | 2020-08-20 02:14:18 | Epoch:  22 | Loss: 19.002256 | loss_align: 0.043312 | loss_reg: 189.589432\n",
      "2020-08-20 02:14:18 | 2020-08-20 02:14:26 | Epoch:  23 | Loss: 19.046593 | loss_align: 0.043312 | loss_reg: 190.032791\n",
      "2020-08-20 02:14:26 | 2020-08-20 02:14:34 | Epoch:  24 | Loss: 19.037283 | loss_align: 0.043312 | loss_reg: 189.939697\n",
      "进行验证.......\n",
      "2020-08-20 02:14:34 | 2020-08-20 02:14:37 | Epoch:  24 | Loss: 18.195539 | loss_align: 0.043314 | loss_reg: 181.522278\n",
      "2020-08-20 02:14:37 | 2020-08-20 02:14:45 | Epoch:  25 | Loss: 19.045977 | loss_align: 0.043312 | loss_reg: 190.026627\n",
      "2020-08-20 02:14:45 | 2020-08-20 02:14:53 | Epoch:  26 | Loss: 19.051313 | loss_align: 0.043312 | loss_reg: 190.080017\n",
      "2020-08-20 02:14:53 | 2020-08-20 02:15:02 | Epoch:  27 | Loss: 19.049553 | loss_align: 0.043312 | loss_reg: 190.062439\n",
      "2020-08-20 02:15:02 | 2020-08-20 02:15:11 | Epoch:  28 | Loss: 19.079306 | loss_align: 0.043312 | loss_reg: 190.359940\n",
      "2020-08-20 02:15:11 | 2020-08-20 02:15:20 | Epoch:  29 | Loss: 19.039074 | loss_align: 0.043312 | loss_reg: 189.957626\n",
      "进行验证.......\n",
      "2020-08-20 02:15:20 | 2020-08-20 02:15:43 | Epoch:  29 | Loss: 18.126492 | loss_align: 0.043326 | loss_reg: 180.831635\n",
      "model save!\n",
      "2020-08-20 02:15:43 | 2020-08-20 02:15:52 | Epoch:  30 | Loss: 19.072630 | loss_align: 0.043344 | loss_reg: 190.292847\n",
      "2020-08-20 02:15:52 | 2020-08-20 02:16:00 | Epoch:  31 | Loss: 19.059568 | loss_align: 0.043314 | loss_reg: 190.162521\n",
      "2020-08-20 02:16:00 | 2020-08-20 02:16:08 | Epoch:  32 | Loss: 19.053453 | loss_align: 0.043312 | loss_reg: 190.101425\n",
      "2020-08-20 02:16:08 | 2020-08-20 02:16:21 | Epoch:  33 | Loss: 19.070185 | loss_align: 0.043312 | loss_reg: 190.268692\n",
      "2020-08-20 02:16:21 | 2020-08-20 02:16:29 | Epoch:  34 | Loss: 19.011885 | loss_align: 0.043312 | loss_reg: 189.685745\n",
      "进行验证.......\n",
      "2020-08-20 02:16:29 | 2020-08-20 02:16:37 | Epoch:  34 | Loss: 18.159273 | loss_align: 0.043323 | loss_reg: 181.159500\n",
      "2020-08-20 02:16:37 | 2020-08-20 02:16:45 | Epoch:  35 | Loss: 19.062235 | loss_align: 0.043345 | loss_reg: 190.188919\n",
      "2020-08-20 02:16:45 | 2020-08-20 02:16:53 | Epoch:  36 | Loss: 19.034357 | loss_align: 0.043322 | loss_reg: 189.910324\n",
      "2020-08-20 02:16:53 | 2020-08-20 02:17:02 | Epoch:  37 | Loss: 19.066910 | loss_align: 0.043323 | loss_reg: 190.235825\n",
      "2020-08-20 02:17:02 | 2020-08-20 02:17:10 | Epoch:  38 | Loss: 19.078579 | loss_align: 0.043313 | loss_reg: 190.352615\n",
      "2020-08-20 02:17:10 | 2020-08-20 02:17:18 | Epoch:  39 | Loss: 19.070919 | loss_align: 0.043314 | loss_reg: 190.276001\n",
      "进行验证.......\n",
      "2020-08-20 02:17:18 | 2020-08-20 02:17:23 | Epoch:  39 | Loss: 18.185987 | loss_align: 0.043317 | loss_reg: 181.426697\n",
      "2020-08-20 02:17:23 | 2020-08-20 02:17:32 | Epoch:  40 | Loss: 19.026217 | loss_align: 0.043312 | loss_reg: 189.828995\n",
      "2020-08-20 02:17:32 | 2020-08-20 02:17:40 | Epoch:  41 | Loss: 19.039717 | loss_align: 0.043312 | loss_reg: 189.964096\n",
      "2020-08-20 02:17:40 | 2020-08-20 02:17:48 | Epoch:  42 | Loss: 19.077909 | loss_align: 0.043312 | loss_reg: 190.346024\n",
      "2020-08-20 02:17:48 | 2020-08-20 02:17:56 | Epoch:  43 | Loss: 19.015339 | loss_align: 0.043319 | loss_reg: 189.720169\n",
      "2020-08-20 02:17:56 | 2020-08-20 02:18:04 | Epoch:  44 | Loss: 19.038816 | loss_align: 0.043315 | loss_reg: 189.954956\n",
      "进行验证.......\n",
      "2020-08-20 02:18:04 | 2020-08-20 02:19:33 | Epoch:  44 | Loss: 18.271975 | loss_align: 0.043316 | loss_reg: 182.286575\n",
      "2020-08-20 02:19:33 | 2020-08-20 02:22:52 | Epoch:  45 | Loss: 19.067186 | loss_align: 0.043315 | loss_reg: 190.238693\n",
      "2020-08-20 02:22:52 | 2020-08-20 02:23:00 | Epoch:  46 | Loss: 19.109257 | loss_align: 0.043312 | loss_reg: 190.659470\n",
      "2020-08-20 02:23:00 | 2020-08-20 02:23:08 | Epoch:  47 | Loss: 19.039530 | loss_align: 0.043312 | loss_reg: 189.962158\n",
      "2020-08-20 02:23:08 | 2020-08-20 02:23:18 | Epoch:  48 | Loss: 19.084518 | loss_align: 0.043312 | loss_reg: 190.412094\n",
      "2020-08-20 02:23:18 | 2020-08-20 02:23:30 | Epoch:  49 | Loss: 19.038748 | loss_align: 0.043312 | loss_reg: 189.954361\n",
      "进行验证.......\n",
      "2020-08-20 02:23:30 | 2020-08-20 02:25:23 | Epoch:  49 | Loss: 18.232540 | loss_align: 0.043313 | loss_reg: 181.892273\n",
      "2020-08-20 02:25:23 | 2020-08-20 02:28:17 | Epoch:  50 | Loss: 19.065023 | loss_align: 0.043312 | loss_reg: 190.217117\n",
      "2020-08-20 02:28:17 | 2020-08-20 02:28:25 | Epoch:  51 | Loss: 19.055445 | loss_align: 0.043312 | loss_reg: 190.121353\n",
      "2020-08-20 02:28:25 | 2020-08-20 02:28:34 | Epoch:  52 | Loss: 19.005060 | loss_align: 0.043312 | loss_reg: 189.617493\n",
      "2020-08-20 02:28:34 | 2020-08-20 02:28:46 | Epoch:  53 | Loss: 19.073648 | loss_align: 0.043312 | loss_reg: 190.303360\n",
      "2020-08-20 02:28:46 | 2020-08-20 02:30:13 | Epoch:  54 | Loss: 19.050432 | loss_align: 0.043312 | loss_reg: 190.071228\n",
      "进行验证.......\n",
      "2020-08-20 02:30:14 | 2020-08-20 02:32:39 | Epoch:  54 | Loss: 18.277102 | loss_align: 0.043313 | loss_reg: 182.337891\n"
     ]
    }
   ],
   "source": [
    "inital_model = 'C:/Users/wuxun/Desktop/Data/save_model/new_model_for_1500/543_params.pkl'\n",
    "train_2(save_resualt_path2_GRU_with_align, save_path2_GRU_with_align, 500, 0, 0.1, inital_model, None, 0.01)"
   ]
  },
  {
   "cell_type": "markdown",
   "metadata": {},
   "source": [
    "### 绘制loss"
   ]
  },
  {
   "cell_type": "code",
   "execution_count": 97,
   "metadata": {},
   "outputs": [
    {
     "data": {
      "image/png": "[encoded data removed]",
      "text/plain": [
       "<Figure size 432x288 with 2 Axes>"
      ]
     },
     "metadata": {},
     "output_type": "display_data"
    }
   ],
   "source": [
    "draw(train_loss_2_list, val_loss_2_list)"
   ]
  },
  {
   "cell_type": "markdown",
   "metadata": {},
   "source": [
    "## 计算R@1"
   ]
  },
  {
   "cell_type": "code",
   "execution_count": 98,
   "metadata": {
    "collapsed": true
   },
   "outputs": [],
   "source": [
    "IoU_thresh = [0.1, 0.3, 0.5, 0.7]"
   ]
  },
  {
   "cell_type": "code",
   "execution_count": 99,
   "metadata": {
    "collapsed": true
   },
   "outputs": [],
   "source": [
    "def calculate_IoU(i0, i1):\n",
    "    # calculate temporal intersection over union\n",
    "    union = (min(i0[0], i1[0]), max(i0[1], i1[1]))\n",
    "    inter = (max(i0[0], i1[0]), min(i0[1], i1[1]))\n",
    "    iou = 1.0*(inter[1]-inter[0])/(union[1]-union[0])\n",
    "    return iou"
   ]
  },
  {
   "cell_type": "code",
   "execution_count": 100,
   "metadata": {
    "collapsed": true
   },
   "outputs": [],
   "source": [
    "def compute_IoU_recall_top_n_forreg(iou_thresh, time_mat, time_pre_mat):#top\n",
    "    correct_num = 0\n",
    "    for i in range(time_mat.shape[0]):\n",
    "        gt_start = time_mat[i][0]\n",
    "        gt_end = time_mat[i][1]\n",
    "        pred_start = time_pre_mat[i][0]\n",
    "        pred_end = time_pre_mat[i][1]\n",
    "        iou = calculate_IoU((gt_start, gt_end),(pred_start, pred_end))\n",
    "        if iou>=iou_thresh:\n",
    "            correct_num+=1\n",
    "    return correct_num"
   ]
  },
  {
   "cell_type": "code",
   "execution_count": 101,
   "metadata": {
    "collapsed": true
   },
   "outputs": [],
   "source": [
    "#读取test集\n",
    "# 读取test数据集\n",
    "def get_test_dict_for_My_model(path, csv_path):\n",
    "    words, word_to_id = read_vocab(vocab_dir)\n",
    "    data_id = []\n",
    "    csv=[]\n",
    "    time_list=[]\n",
    "    Max_len=-1\n",
    "    count=0\n",
    "    with open(path) as contents:\n",
    "        for line in contents:\n",
    "            count+=1\n",
    "            List = line.split('#')\n",
    "            video_name = List[0]\n",
    "            time_length = float(List[1])\n",
    "            foldtype = List[2]\n",
    "            recipetype = List[3]\n",
    "            target = List[4]\n",
    "            \n",
    "            #将句子转换为id表示：\n",
    "            sentence = List[6].strip('\\n').strip()\n",
    "            sentence = re.split(r\"[,| |.]\",sentence)\n",
    "            sentence_id = [word_to_id[x] for x in sentence if x in word_to_id]\n",
    "            if len(sentence_id) > Max_len:\n",
    "                Max_len = len(sentence_id)\n",
    "            data_id.append(sentence_id)\n",
    "            \n",
    "            #寻找路径,先统一取0001\n",
    "            dir_path = csv_path+'/'+foldtype+'/'+recipetype+'/'+video_name+'/0001/'\n",
    "            name = os.listdir(dir_path)[0]\n",
    "            dir_path = dir_path + name\n",
    "            \n",
    "            #读取csv文件\n",
    "            my_file = Path(dir_path)\n",
    "            if my_file.exists():\n",
    "                frame_sum = pd.read_csv(dir_path, header=None)\n",
    "            else:\n",
    "                print(\"目录不存在！\")\n",
    "            \n",
    "            #确定时间点，前帧后帧取pooling\n",
    "            target = target.split('_')\n",
    "            cur_start = float(target[0])\n",
    "            cur_end = float(target[1])\n",
    "            middle_time = (cur_start + cur_end)//2\n",
    "            \n",
    "            #中间帧\n",
    "            target_frame_num = int(middle_time/time_length*500)\n",
    "            target_middle_frame = frame_sum.loc[target_frame_num]\n",
    "            \n",
    "            csv.append([target_middle_frame])\n",
    "            time_list.append([cur_start, cur_end])\n",
    "            \n",
    "    #将所有的句子pad为同一最大长度\n",
    "    batch_data_id = np.array([line +[0]*(Max_len-len(line)) \n",
    "                                            for line in data_id])\n",
    "    batch_seq = torch.LongTensor(batch_data_id)    \n",
    "    print(len(batch_seq),len(csv),len(time_list))\n",
    "    \n",
    "    return batch_seq, csv, time_list"
   ]
  },
  {
   "cell_type": "code",
   "execution_count": 102,
   "metadata": {},
   "outputs": [
    {
     "name": "stdout",
     "output_type": "stream",
     "text": [
      "523 523 523\n"
     ]
    }
   ],
   "source": [
    "My_test_seq, My_test_csv, My_test_time_list = get_test_dict_for_My_model(val_path, csv_path)\n",
    "#x_batch_train, x_csv_train, y_csv_train, source_list_train, target_list_train"
   ]
  },
  {
   "cell_type": "code",
   "execution_count": 103,
   "metadata": {
    "collapsed": true
   },
   "outputs": [
    {
     "data": {
      "text/plain": [
       "LSTM_CNN(\n",
       "  (embedding): Embedding(5000, 64)\n",
       "  (rnn): LSTM(64, 256, num_layers=2, bidirectional=True)\n",
       "  (f1): Sequential(\n",
       "    (0): Linear(in_features=512, out_features=128, bias=True)\n",
       "    (1): Dropout(p=0.8)\n",
       "    (2): ReLU()\n",
       "  )\n",
       "  (conv1): Conv1d(512, 256, kernel_size=(1,), stride=(1,))\n",
       "  (conv2): Conv1d(256, 128, kernel_size=(1,), stride=(1,))\n",
       "  (fc1): Linear(in_features=512, out_features=128, bias=True)\n",
       "  (fc1_drop): Dropout(p=0.4)\n",
       "  (fc2): Linear(in_features=128, out_features=64, bias=True)\n",
       "  (final_fc): Linear(in_features=256, out_features=128, bias=True)\n",
       ")"
      ]
     },
     "execution_count": 103,
     "metadata": {},
     "output_type": "execute_result"
    }
   ],
   "source": [
    "middle_model = LSTM_CNN()\n",
    "middle_model.load_state_dict(torch.load('C:/Users/wuxun/Desktop/Data/save_model/new_model_for_1500/394_params.pkl'))\n",
    "My_model = Change()\n",
    "#My_model.load_state_dict(torch.load('C:/Users/wuxun/Desktop/Data/save_model2/新训练的model1以后训练model2无alignment/513.pkl'))\n",
    "My_model.load_state_dict(torch.load('C:/Users/wuxun/Desktop/Data/save_model2/新训练的model1以后训练model2有alignment/epoch_178.pkl'))\n",
    "My_model.eval()\n",
    "middle_model.eval()                                                                                                                                             "
   ]
  },
  {
   "cell_type": "code",
   "execution_count": 104,
   "metadata": {
    "collapsed": true
   },
   "outputs": [
    {
     "ename": "RuntimeError",
     "evalue": "input must have 3 dimensions, got 2",
     "output_type": "error",
     "traceback": [
      "\u001b[1;31m---------------------------------------------------------------------------\u001b[0m",
      "\u001b[1;31mRuntimeError\u001b[0m                              Traceback (most recent call last)",
      "\u001b[1;32m<ipython-input-104-87e987a43dfb>\u001b[0m in \u001b[0;36m<module>\u001b[1;34m()\u001b[0m\n\u001b[0;32m      6\u001b[0m     \u001b[0my\u001b[0m \u001b[1;33m=\u001b[0m \u001b[0mVariable\u001b[0m\u001b[1;33m(\u001b[0m\u001b[0mtorch\u001b[0m\u001b[1;33m.\u001b[0m\u001b[0mFloatTensor\u001b[0m\u001b[1;33m(\u001b[0m\u001b[0mnp\u001b[0m\u001b[1;33m.\u001b[0m\u001b[0marray\u001b[0m\u001b[1;33m(\u001b[0m\u001b[0mMy_test_csv\u001b[0m\u001b[1;33m[\u001b[0m\u001b[0mi\u001b[0m\u001b[1;33m]\u001b[0m\u001b[1;33m)\u001b[0m\u001b[1;33m)\u001b[0m\u001b[1;33m)\u001b[0m\u001b[1;33m\u001b[0m\u001b[1;33m\u001b[0m\u001b[0m\n\u001b[0;32m      7\u001b[0m     \u001b[0mMy_time_mat\u001b[0m \u001b[1;33m=\u001b[0m \u001b[0mVariable\u001b[0m\u001b[1;33m(\u001b[0m\u001b[0mtorch\u001b[0m\u001b[1;33m.\u001b[0m\u001b[0mFloatTensor\u001b[0m\u001b[1;33m(\u001b[0m\u001b[0mnp\u001b[0m\u001b[1;33m.\u001b[0m\u001b[0marray\u001b[0m\u001b[1;33m(\u001b[0m\u001b[0mMy_test_time_list\u001b[0m\u001b[1;33m[\u001b[0m\u001b[0mi\u001b[0m\u001b[1;33m]\u001b[0m\u001b[1;33m)\u001b[0m\u001b[1;33m)\u001b[0m\u001b[1;33m)\u001b[0m\u001b[1;33m\u001b[0m\u001b[1;33m\u001b[0m\u001b[0m\n\u001b[1;32m----> 8\u001b[1;33m     \u001b[0mMy_output1\u001b[0m \u001b[1;33m=\u001b[0m \u001b[0mmiddle_model\u001b[0m\u001b[1;33m(\u001b[0m\u001b[0mx\u001b[0m\u001b[1;33m,\u001b[0m \u001b[0my\u001b[0m\u001b[1;33m)\u001b[0m\u001b[1;33m\u001b[0m\u001b[1;33m\u001b[0m\u001b[0m\n\u001b[0m\u001b[0;32m      9\u001b[0m     \u001b[0mscore\u001b[0m \u001b[1;33m=\u001b[0m \u001b[0mMy_model\u001b[0m\u001b[1;33m(\u001b[0m\u001b[0mMy_output1\u001b[0m\u001b[1;33m)\u001b[0m\u001b[1;33m\u001b[0m\u001b[1;33m\u001b[0m\u001b[0m\n\u001b[0;32m     10\u001b[0m \u001b[1;33m\u001b[0m\u001b[0m\n",
      "\u001b[1;32m~\\Anaconda3\\lib\\site-packages\\torch\\nn\\modules\\module.py\u001b[0m in \u001b[0;36m__call__\u001b[1;34m(self, *input, **kwargs)\u001b[0m\n\u001b[0;32m    487\u001b[0m             \u001b[0mresult\u001b[0m \u001b[1;33m=\u001b[0m \u001b[0mself\u001b[0m\u001b[1;33m.\u001b[0m\u001b[0m_slow_forward\u001b[0m\u001b[1;33m(\u001b[0m\u001b[1;33m*\u001b[0m\u001b[0minput\u001b[0m\u001b[1;33m,\u001b[0m \u001b[1;33m**\u001b[0m\u001b[0mkwargs\u001b[0m\u001b[1;33m)\u001b[0m\u001b[1;33m\u001b[0m\u001b[1;33m\u001b[0m\u001b[0m\n\u001b[0;32m    488\u001b[0m         \u001b[1;32melse\u001b[0m\u001b[1;33m:\u001b[0m\u001b[1;33m\u001b[0m\u001b[1;33m\u001b[0m\u001b[0m\n\u001b[1;32m--> 489\u001b[1;33m             \u001b[0mresult\u001b[0m \u001b[1;33m=\u001b[0m \u001b[0mself\u001b[0m\u001b[1;33m.\u001b[0m\u001b[0mforward\u001b[0m\u001b[1;33m(\u001b[0m\u001b[1;33m*\u001b[0m\u001b[0minput\u001b[0m\u001b[1;33m,\u001b[0m \u001b[1;33m**\u001b[0m\u001b[0mkwargs\u001b[0m\u001b[1;33m)\u001b[0m\u001b[1;33m\u001b[0m\u001b[1;33m\u001b[0m\u001b[0m\n\u001b[0m\u001b[0;32m    490\u001b[0m         \u001b[1;32mfor\u001b[0m \u001b[0mhook\u001b[0m \u001b[1;32min\u001b[0m \u001b[0mself\u001b[0m\u001b[1;33m.\u001b[0m\u001b[0m_forward_hooks\u001b[0m\u001b[1;33m.\u001b[0m\u001b[0mvalues\u001b[0m\u001b[1;33m(\u001b[0m\u001b[1;33m)\u001b[0m\u001b[1;33m:\u001b[0m\u001b[1;33m\u001b[0m\u001b[1;33m\u001b[0m\u001b[0m\n\u001b[0;32m    491\u001b[0m             \u001b[0mhook_result\u001b[0m \u001b[1;33m=\u001b[0m \u001b[0mhook\u001b[0m\u001b[1;33m(\u001b[0m\u001b[0mself\u001b[0m\u001b[1;33m,\u001b[0m \u001b[0minput\u001b[0m\u001b[1;33m,\u001b[0m \u001b[0mresult\u001b[0m\u001b[1;33m)\u001b[0m\u001b[1;33m\u001b[0m\u001b[1;33m\u001b[0m\u001b[0m\n",
      "\u001b[1;32m<ipython-input-33-89f150f776fc>\u001b[0m in \u001b[0;36mforward\u001b[1;34m(self, x1, x2)\u001b[0m\n\u001b[0;32m     35\u001b[0m             \u001b[1;31m#lstm\u001b[0m\u001b[1;33m\u001b[0m\u001b[1;33m\u001b[0m\u001b[1;33m\u001b[0m\u001b[0m\n\u001b[0;32m     36\u001b[0m             \u001b[0mx\u001b[0m \u001b[1;33m=\u001b[0m \u001b[0mself\u001b[0m\u001b[1;33m.\u001b[0m\u001b[0membedding\u001b[0m\u001b[1;33m(\u001b[0m\u001b[0mx1\u001b[0m\u001b[1;33m)\u001b[0m\u001b[1;33m\u001b[0m\u001b[1;33m\u001b[0m\u001b[0m\n\u001b[1;32m---> 37\u001b[1;33m             \u001b[0mx\u001b[0m\u001b[1;33m,\u001b[0m\u001b[0m_\u001b[0m \u001b[1;33m=\u001b[0m \u001b[0mself\u001b[0m\u001b[1;33m.\u001b[0m\u001b[0mrnn\u001b[0m\u001b[1;33m(\u001b[0m\u001b[0mx\u001b[0m\u001b[1;33m)\u001b[0m\u001b[1;33m\u001b[0m\u001b[1;33m\u001b[0m\u001b[0m\n\u001b[0m\u001b[0;32m     38\u001b[0m             \u001b[0mx\u001b[0m \u001b[1;33m=\u001b[0m \u001b[0mF\u001b[0m\u001b[1;33m.\u001b[0m\u001b[0mdropout\u001b[0m\u001b[1;33m(\u001b[0m\u001b[0mx\u001b[0m\u001b[1;33m,\u001b[0m \u001b[0mp\u001b[0m\u001b[1;33m=\u001b[0m\u001b[1;36m0.8\u001b[0m\u001b[1;33m)\u001b[0m\u001b[1;33m\u001b[0m\u001b[1;33m\u001b[0m\u001b[0m\n\u001b[0;32m     39\u001b[0m             \u001b[0mlstm_output\u001b[0m \u001b[1;33m=\u001b[0m \u001b[0mself\u001b[0m\u001b[1;33m.\u001b[0m\u001b[0mf1\u001b[0m\u001b[1;33m(\u001b[0m\u001b[0mx\u001b[0m\u001b[1;33m[\u001b[0m\u001b[1;33m:\u001b[0m\u001b[1;33m,\u001b[0m\u001b[1;33m-\u001b[0m\u001b[1;36m1\u001b[0m\u001b[1;33m,\u001b[0m\u001b[1;33m:\u001b[0m\u001b[1;33m]\u001b[0m\u001b[1;33m)\u001b[0m\u001b[1;33m\u001b[0m\u001b[1;33m\u001b[0m\u001b[0m\n",
      "\u001b[1;32m~\\Anaconda3\\lib\\site-packages\\torch\\nn\\modules\\module.py\u001b[0m in \u001b[0;36m__call__\u001b[1;34m(self, *input, **kwargs)\u001b[0m\n\u001b[0;32m    487\u001b[0m             \u001b[0mresult\u001b[0m \u001b[1;33m=\u001b[0m \u001b[0mself\u001b[0m\u001b[1;33m.\u001b[0m\u001b[0m_slow_forward\u001b[0m\u001b[1;33m(\u001b[0m\u001b[1;33m*\u001b[0m\u001b[0minput\u001b[0m\u001b[1;33m,\u001b[0m \u001b[1;33m**\u001b[0m\u001b[0mkwargs\u001b[0m\u001b[1;33m)\u001b[0m\u001b[1;33m\u001b[0m\u001b[1;33m\u001b[0m\u001b[0m\n\u001b[0;32m    488\u001b[0m         \u001b[1;32melse\u001b[0m\u001b[1;33m:\u001b[0m\u001b[1;33m\u001b[0m\u001b[1;33m\u001b[0m\u001b[0m\n\u001b[1;32m--> 489\u001b[1;33m             \u001b[0mresult\u001b[0m \u001b[1;33m=\u001b[0m \u001b[0mself\u001b[0m\u001b[1;33m.\u001b[0m\u001b[0mforward\u001b[0m\u001b[1;33m(\u001b[0m\u001b[1;33m*\u001b[0m\u001b[0minput\u001b[0m\u001b[1;33m,\u001b[0m \u001b[1;33m**\u001b[0m\u001b[0mkwargs\u001b[0m\u001b[1;33m)\u001b[0m\u001b[1;33m\u001b[0m\u001b[1;33m\u001b[0m\u001b[0m\n\u001b[0m\u001b[0;32m    490\u001b[0m         \u001b[1;32mfor\u001b[0m \u001b[0mhook\u001b[0m \u001b[1;32min\u001b[0m \u001b[0mself\u001b[0m\u001b[1;33m.\u001b[0m\u001b[0m_forward_hooks\u001b[0m\u001b[1;33m.\u001b[0m\u001b[0mvalues\u001b[0m\u001b[1;33m(\u001b[0m\u001b[1;33m)\u001b[0m\u001b[1;33m:\u001b[0m\u001b[1;33m\u001b[0m\u001b[1;33m\u001b[0m\u001b[0m\n\u001b[0;32m    491\u001b[0m             \u001b[0mhook_result\u001b[0m \u001b[1;33m=\u001b[0m \u001b[0mhook\u001b[0m\u001b[1;33m(\u001b[0m\u001b[0mself\u001b[0m\u001b[1;33m,\u001b[0m \u001b[0minput\u001b[0m\u001b[1;33m,\u001b[0m \u001b[0mresult\u001b[0m\u001b[1;33m)\u001b[0m\u001b[1;33m\u001b[0m\u001b[1;33m\u001b[0m\u001b[0m\n",
      "\u001b[1;32m~\\Anaconda3\\lib\\site-packages\\torch\\nn\\modules\\rnn.py\u001b[0m in \u001b[0;36mforward\u001b[1;34m(self, input, hx)\u001b[0m\n\u001b[0;32m    173\u001b[0m                 \u001b[0mhx\u001b[0m \u001b[1;33m=\u001b[0m \u001b[1;33m(\u001b[0m\u001b[0mhx\u001b[0m\u001b[1;33m,\u001b[0m \u001b[0mhx\u001b[0m\u001b[1;33m)\u001b[0m\u001b[1;33m\u001b[0m\u001b[1;33m\u001b[0m\u001b[0m\n\u001b[0;32m    174\u001b[0m \u001b[1;33m\u001b[0m\u001b[0m\n\u001b[1;32m--> 175\u001b[1;33m         \u001b[0mself\u001b[0m\u001b[1;33m.\u001b[0m\u001b[0mcheck_forward_args\u001b[0m\u001b[1;33m(\u001b[0m\u001b[0minput\u001b[0m\u001b[1;33m,\u001b[0m \u001b[0mhx\u001b[0m\u001b[1;33m,\u001b[0m \u001b[0mbatch_sizes\u001b[0m\u001b[1;33m)\u001b[0m\u001b[1;33m\u001b[0m\u001b[1;33m\u001b[0m\u001b[0m\n\u001b[0m\u001b[0;32m    176\u001b[0m         \u001b[0m_impl\u001b[0m \u001b[1;33m=\u001b[0m \u001b[0m_rnn_impls\u001b[0m\u001b[1;33m[\u001b[0m\u001b[0mself\u001b[0m\u001b[1;33m.\u001b[0m\u001b[0mmode\u001b[0m\u001b[1;33m]\u001b[0m\u001b[1;33m\u001b[0m\u001b[1;33m\u001b[0m\u001b[0m\n\u001b[0;32m    177\u001b[0m         \u001b[1;32mif\u001b[0m \u001b[0mbatch_sizes\u001b[0m \u001b[1;32mis\u001b[0m \u001b[1;32mNone\u001b[0m\u001b[1;33m:\u001b[0m\u001b[1;33m\u001b[0m\u001b[1;33m\u001b[0m\u001b[0m\n",
      "\u001b[1;32m~\\Anaconda3\\lib\\site-packages\\torch\\nn\\modules\\rnn.py\u001b[0m in \u001b[0;36mcheck_forward_args\u001b[1;34m(self, input, hidden, batch_sizes)\u001b[0m\n\u001b[0;32m    129\u001b[0m             raise RuntimeError(\n\u001b[0;32m    130\u001b[0m                 'input must have {} dimensions, got {}'.format(\n\u001b[1;32m--> 131\u001b[1;33m                     expected_input_dim, input.dim()))\n\u001b[0m\u001b[0;32m    132\u001b[0m         \u001b[1;32mif\u001b[0m \u001b[0mself\u001b[0m\u001b[1;33m.\u001b[0m\u001b[0minput_size\u001b[0m \u001b[1;33m!=\u001b[0m \u001b[0minput\u001b[0m\u001b[1;33m.\u001b[0m\u001b[0msize\u001b[0m\u001b[1;33m(\u001b[0m\u001b[1;33m-\u001b[0m\u001b[1;36m1\u001b[0m\u001b[1;33m)\u001b[0m\u001b[1;33m:\u001b[0m\u001b[1;33m\u001b[0m\u001b[1;33m\u001b[0m\u001b[0m\n\u001b[0;32m    133\u001b[0m             raise RuntimeError(\n",
      "\u001b[1;31mRuntimeError\u001b[0m: input must have 3 dimensions, got 2"
     ]
    }
   ],
   "source": [
    "batch_size = 1\n",
    "batch_size2 = 1\n",
    "for i in range(My_test_seq.shape[0]):\n",
    "    \n",
    "    x = Variable(torch.LongTensor(My_test_seq[i]))\n",
    "    y = Variable(torch.FloatTensor(np.array(My_test_csv[i])))\n",
    "    My_time_mat = Variable(torch.FloatTensor(np.array(My_test_time_list[i])))\n",
    "    My_output1 = middle_model(x, y)\n",
    "    score = My_model(My_output1)\n",
    "\n",
    "    #特征变换\n",
    "    alignment_mat = score[0]\n",
    "    l_mat = score[1]\n",
    "    r_mat = score[2]\n",
    "\n",
    "    I = torch.eye(batch_size2)\n",
    "    allone = torch.ones(batch_size2, batch_size2)\n",
    "    mask = allone - 2 * I\n",
    "\n",
    "    l_reg = torch.mm(l_mat * I, torch.ones(batch_size2, 1))\n",
    "    r_reg = torch.mm(r_mat * I, torch.ones(batch_size2, 1))\n",
    "    offset_pred = torch.cat([l_reg, r_reg], 1)"
   ]
  },
  {
   "cell_type": "code",
   "execution_count": 101,
   "metadata": {},
   "outputs": [
    {
     "name": "stdout",
     "output_type": "stream",
     "text": [
      "My_model: R@1 for iou_thresh: 0.1 is : 0.065\n",
      "My_model: R@1 for iou_thresh: 0.3 is : 0.025\n",
      "My_model: R@1 for iou_thresh: 0.5 is : 0.010\n",
      "My_model: R@1 for iou_thresh: 0.7 is : 0.002\n"
     ]
    }
   ],
   "source": [
    "My_pred_time_mat = offset_pred\n",
    "for iou_thresh in IoU_thresh:\n",
    "    corrnum = compute_IoU_recall_top_n_forreg(iou_thresh, My_time_mat, My_pred_time_mat)\n",
    "    corr_avg = corrnum*1.0 / My_time_mat.shape[0] \n",
    "    print(\"My_model: R@1 for iou_thresh: %.1f is : %.3f\" % (iou_thresh, corr_avg))"
   ]
  },
  {
   "cell_type": "markdown",
   "metadata": {},
   "source": [
    "## 计算偏移"
   ]
  },
  {
   "cell_type": "code",
   "execution_count": null,
   "metadata": {
    "collapsed": true
   },
   "outputs": [],
   "source": [
    "def get_middle_time_list(time_mat):\n",
    "    time_list = []\n",
    "    for i in range(time_mat.shape[0]):\n",
    "        begin = time_mat[i][0].detach().numpy()\n",
    "        end = time_mat[i][1].detach().numpy()\n",
    "        time_list.append((begin + end) / 2)\n",
    "    return time_list"
   ]
  },
  {
   "cell_type": "code",
   "execution_count": null,
   "metadata": {
    "collapsed": true
   },
   "outputs": [],
   "source": [
    "def calculate_offset(My_time_mat, My_pred_time_mat):\n",
    "    '''\n",
    "    返回平均偏移值与offset_list\n",
    "    '''\n",
    "    pred_list_time = get_middle_time_list(My_pred_time_mat)\n",
    "    list_time = get_middle_time_list(My_time_mat)\n",
    "    avg = 0.0\n",
    "    offset_list = []\n",
    "    for i in range(len(list_time)):\n",
    "        offset = list_time[i] - pred_list_time[i]\n",
    "        offset_list.append(offset)\n",
    "        avg = avg + offset\n",
    "    avg = avg / len(list_time)\n",
    "    return avg, offset_list"
   ]
  }
 ],
 "metadata": {
  "kernelspec": {
   "display_name": "Python [conda env:Anaconda3]",
   "language": "python",
   "name": "conda-env-Anaconda3-py"
  },
  "language_info": {
   "codemirror_mode": {
    "name": "ipython",
    "version": 3
   },
   "file_extension": ".py",
   "mimetype": "text/x-python",
   "name": "python",
   "nbconvert_exporter": "python",
   "pygments_lexer": "ipython3",
   "version": "3.6.8"
  }
 },
 "nbformat": 4,
 "nbformat_minor": 2
}
