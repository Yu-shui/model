{
 "cells": [
  {
   "cell_type": "code",
   "execution_count": 63,
   "metadata": {
    "collapsed": true
   },
   "outputs": [],
   "source": [
    "#导入相应的包\n",
    "import torch\n",
    "import torch.nn as nn\n",
    "import torch.nn.functional as F\n",
    "import torch.optim as optim\n",
    "\n",
    "import numpy as np\n",
    "import pandas as pd\n",
    "import torchvision\n",
    "from torch.utils.data import DataLoader\n",
    "from datetime import datetime  # 用于计算时间\n",
    "\n",
    "import os\n",
    "import sys\n",
    "from collections import Counter\n",
    "import re\n",
    "\n",
    "#import tensorflow.contrib.keras as kr\n",
    "from torch.nn.utils.rnn import pack_padded_sequence\n",
    "from torch.nn.utils.rnn import pad_packed_sequence\n",
    "\n",
    "from torchtext import data\n",
    "import jieba\n",
    "\n",
    "import cv2\n",
    "import os\n",
    "\n",
    "from torch.autograd import Variable\n",
    "import tensorwatch as tw\n",
    "import torchvision.models\n",
    "\n",
    "from pathlib import Path\n",
    "import pandas as pd\n",
    "\n",
    "import matplotlib.pyplot as plt\n",
    "torch.set_printoptions(precision=15)\n",
    "pd.set_option('display.max_rows',None)\n",
    "pd.set_option('display.max_columns',None)\n",
    "np.set_printoptions(threshold=np.inf)\n",
    "\n",
    "from torch.optim import lr_scheduler\n"
   ]
  },
  {
   "cell_type": "markdown",
   "metadata": {},
   "source": [
    "## 路径"
   ]
  },
  {
   "cell_type": "code",
   "execution_count": 64,
   "metadata": {
    "collapsed": true
   },
   "outputs": [],
   "source": [
    "video_path = 'C:/Users/wuxun/Desktop/Data/feat_dat/'\n",
    "image_path = 'C:/Users/wuxun/Desktop/Data/image/'#存储到image文件夹中\n",
    "clip_path = 'C:/Users/wuxun/Desktop/Data/clip/'\n",
    "text_dir = 'C:/Users/wuxun/Desktop/Data/clear_text.txt'\n",
    "vocab_dir = 'C:/Users/wuxun/Desktop/Data/vocab.txt'\n",
    "train_path = 'C:/Users/wuxun/Desktop/Data/training/training.txt'\n",
    "val_path = 'C:/Users/wuxun/Desktop/Data/validation/validation.txt'\n",
    "csv_path = 'D:/csv/'\n",
    "save_path = 'C:/Users/wuxun/Desktop/Data/save_model/'\n",
    "save_path2 = 'C:/Users/wuxun/Desktop/Data/save_model2/params.pkl'"
   ]
  },
  {
   "cell_type": "markdown",
   "metadata": {},
   "source": [
    "## 参数定义"
   ]
  },
  {
   "cell_type": "code",
   "execution_count": 65,
   "metadata": {
    "collapsed": true
   },
   "outputs": [],
   "source": [
    "#固定随机数种子\n",
    "seed=0\n",
    "torch.manual_seed(seed)\n",
    "torch.cuda.manual_seed(seed)\n",
    "torch.cuda.manual_seed_all(seed)\n",
    "np.random.seed(seed)"
   ]
  },
  {
   "cell_type": "markdown",
   "metadata": {},
   "source": [
    "# 数据处理"
   ]
  },
  {
   "cell_type": "code",
   "execution_count": 66,
   "metadata": {
    "collapsed": true
   },
   "outputs": [],
   "source": [
    " def read_file(filename):\n",
    "\n",
    "    \"\"\"读取文件数据\"\"\"\n",
    "    \n",
    "    contents = []\n",
    "    with open(filename) as f:\n",
    "        for line in f:\n",
    "            contents.append(re.split('[, \\n.]',line))\n",
    "    return contents"
   ]
  },
  {
   "cell_type": "code",
   "execution_count": 67,
   "metadata": {
    "collapsed": true
   },
   "outputs": [],
   "source": [
    "def build_vocab(text_dir, vocab_dir, vocab_size=3000):\n",
    "\n",
    "    \"\"\"根据训练集构建词汇表，存储\"\"\"\n",
    "    data_train = read_file(text_dir)\n",
    "    all_data = []\n",
    "    for content in data_train:\n",
    "        for k in content:\n",
    "            if len(k)!=0:\n",
    "                all_data.append(k)\n",
    "    print(all_data)\n",
    "    counter = Counter(all_data)\n",
    "    count_pairs = counter.most_common(vocab_size - 1)\n",
    "    words, _ = list(zip(*count_pairs))\n",
    "    # 添加一个 <PAD> 来将所有文本pad为同一长度\n",
    "    words = ['<PAD>'] + list(words)\n",
    "    open(vocab_dir, mode='w').write('\\n'.join(words) + '\\n')"
   ]
  },
  {
   "cell_type": "code",
   "execution_count": 68,
   "metadata": {
    "collapsed": true
   },
   "outputs": [],
   "source": [
    "def read_vocab(vocab_dir):\n",
    "\n",
    "    \"\"\"读取词汇表\"\"\"\n",
    "\n",
    "    with open(vocab_dir) as fp:\n",
    "        words = [(_.strip()) for _ in fp.readlines()]\n",
    "    word_to_id = dict(zip(words, range(len(words))))\n",
    "    return words, word_to_id"
   ]
  },
  {
   "cell_type": "code",
   "execution_count": 69,
   "metadata": {
    "collapsed": true
   },
   "outputs": [],
   "source": [
    "def to_words(content, words):\n",
    "\n",
    "    \"\"\"将id表示的内容转换为文字\"\"\"\n",
    "\n",
    "    return ''.join(words[x] for x in content)"
   ]
  },
  {
   "cell_type": "code",
   "execution_count": 70,
   "metadata": {
    "collapsed": true
   },
   "outputs": [],
   "source": [
    "def get_dict(path, csv_path):\n",
    "    '''\n",
    "    获得最终的数据集\n",
    "    path:文本数据集\n",
    "    csv_path\n",
    "    '''\n",
    "    words, word_to_id = read_vocab(vocab_dir)\n",
    "    data_id = []\n",
    "    source_csv=[]\n",
    "    target_csv=[]\n",
    "    fake_time_list=[]\n",
    "    source_time_list=[]\n",
    "    target_time_list=[]\n",
    "    Max_len=-1\n",
    "    count=0\n",
    "    with open(path) as contents:\n",
    "        for line in contents:\n",
    "            count+=1\n",
    "            List = line.split('#')\n",
    "            video_name = List[0]\n",
    "            time_length = float(List[1])\n",
    "            foldtype = List[2]\n",
    "            recipetype = List[3]\n",
    "            source = List[4]\n",
    "            target = List[5]\n",
    "            fake_time = (List[7].split('_'))\n",
    "            fake_time_l=int(fake_time[0])\n",
    "            fake_time_r=int(fake_time[1])\n",
    "            fake_time_list.append([fake_time_l, fake_time_r])\n",
    "            \n",
    "            #将句子转换为id表示：\n",
    "            sentence = List[6].strip('\\n').strip()\n",
    "            sentence = re.split(r\"[,| |.]\",sentence)\n",
    "            sentence_id = [word_to_id[x] for x in sentence if x in word_to_id]\n",
    "            if len(sentence_id) > Max_len:\n",
    "                Max_len = len(sentence_id)\n",
    "            data_id.append(sentence_id)\n",
    "            \n",
    "            #寻找路径,先统一取0001\n",
    "            dir_path = csv_path+'/'+foldtype+'/'+recipetype+'/'+video_name+'/0001/'\n",
    "            name = os.listdir(dir_path)[0]\n",
    "            dir_path = dir_path + name\n",
    "            \n",
    "            #读取csv文件\n",
    "            my_file = Path(dir_path)\n",
    "            if my_file.exists():\n",
    "                frame_sum = pd.read_csv(dir_path, header=None)\n",
    "            else:\n",
    "                print(\"目录不存在！\")\n",
    "            \n",
    "            #确定时间点\n",
    "            source = source.split('_')\n",
    "            target = target.split('_')\n",
    "            \n",
    "            source_time = (float(source[0])+float(source[1]))//2\n",
    "            source_time_list.append([float(source[0]),float(source[1])])\n",
    "            source_frame_num = int(source_time/time_length*500)\n",
    "            source_frame = frame_sum.loc[source_frame_num]\n",
    "            source_csv.append([source_frame])\n",
    "            \n",
    "            target_time = (float(target[0])+float(target[1]))//2\n",
    "            target_time_list.append([float(target[0]),float(target[1])])\n",
    "            target_frame_num = int(target_time/time_length*500)\n",
    "            target_frame = frame_sum.loc[target_frame_num]\n",
    "            target_csv.append([target_frame])\n",
    "            \n",
    "            #添加其余帧数据作为对抗样本\n",
    "            fake_time = (fake_time_l + fake_time_r)//2\n",
    "            fake_time_num = int(fake_time/time_length*500)\n",
    "            #print(str(count)+\"     \"+str(fake_time_num))\n",
    "            fake_frame = frame_sum.loc[fake_time_num]\n",
    "            \n",
    "            #补充数据\n",
    "            source_csv.append([source_frame])\n",
    "            data_id.append(sentence_id)\n",
    "            target_csv.append([fake_frame])\n",
    "            source_time_list.append([float(source[0]),float(source[1])])\n",
    "            target_time_list.append([fake_time_l, fake_time_r])\n",
    "            \n",
    "    #将所有的句子pad为同一最大长度\n",
    "    batch_data_id = np.array([line +[0]*(Max_len-len(line)) \n",
    "                                for line in data_id])\n",
    "    batch_seq = torch.LongTensor(batch_data_id)\n",
    "            \n",
    "    print(len(batch_seq),len(source_csv),len(target_csv))\n",
    "    \n",
    "    return batch_seq, source_csv, target_csv, source_time_list, target_time_list"
   ]
  },
  {
   "cell_type": "markdown",
   "metadata": {},
   "source": [
    "# 读取数据"
   ]
  },
  {
   "cell_type": "code",
   "execution_count": 71,
   "metadata": {},
   "outputs": [
    {
     "name": "stdout",
     "output_type": "stream",
     "text": [
      "3096 3096 3096\n"
     ]
    }
   ],
   "source": [
    "#训练集\n",
    "x_batch_train, x_csv_train, y_csv_train, source_list_train, target_list_train = get_dict(train_path, csv_path)"
   ]
  },
  {
   "cell_type": "code",
   "execution_count": 72,
   "metadata": {},
   "outputs": [
    {
     "name": "stdout",
     "output_type": "stream",
     "text": [
      "1046 1046 1046\n"
     ]
    }
   ],
   "source": [
    "#验证集\n",
    "x_batch_val, x_csv_val, y_csv_val, source_list_val, target_list_val = get_dict(val_path, csv_path)"
   ]
  },
  {
   "cell_type": "markdown",
   "metadata": {},
   "source": [
    "# 基础模型"
   ]
  },
  {
   "cell_type": "markdown",
   "metadata": {},
   "source": [
    "### 模型定义"
   ]
  },
  {
   "cell_type": "code",
   "execution_count": 74,
   "metadata": {
    "collapsed": true
   },
   "outputs": [],
   "source": [
    "batch_size = 32\n",
    "lamba = 0.2"
   ]
  },
  {
   "cell_type": "code",
   "execution_count": 75,
   "metadata": {
    "collapsed": true
   },
   "outputs": [],
   "source": [
    "# 定义LSTM的结构\n",
    "class LSTM_CNN(nn.Module):\n",
    "    \n",
    "    def __init__(self):\n",
    "        super(LSTM_CNN, self).__init__()\n",
    "        \n",
    "        self.embedding = nn.Embedding(5000, 64)\n",
    "        self.rnn = nn.LSTM(input_size=64, hidden_size=128, num_layers=2, bidirectional=True)\n",
    "        #self.rnn = nn.GRU(input_size=64, hidden_size=128, num_layers=2, bidirectional=True)\n",
    "        self.f1 = nn.Sequential(nn.Linear(256,128),\n",
    "                                nn.Dropout(0.8),\n",
    "                                nn.ReLU())\n",
    "\n",
    "        self.f2 = nn.Sequential(nn.Linear(128,64))\n",
    "        \n",
    "        \n",
    "        self.conv1=torch.nn.Sequential(\n",
    "            torch.nn.Conv1d(1,10,3),\n",
    "            torch.nn.ReLU(),\n",
    "            torch.nn.MaxPool1d(2),\n",
    "        )\n",
    "        \n",
    "        self.conv2=torch.nn.Sequential(\n",
    "            torch.nn.Conv1d(10,20,3),\n",
    "            torch.nn.ReLU(),\n",
    "            torch.nn.MaxPool1d(2),\n",
    "        )\n",
    "\n",
    "        #self.fc1=torch.nn.Linear(2520,128)\n",
    "        self.fc1=torch.nn.Linear(512,128)\n",
    "        self.fc1_drop=torch.nn.Dropout(p=0.4)\n",
    "        self.fc2=torch.nn.Linear(128, 64)\n",
    "        \n",
    "        #特征融合\n",
    "        self.final_fc = nn.Linear(in_features=128, out_features=64)\n",
    "        self.score_fc = torch.nn.Conv2d(64,3,kernel_size=1,stride=1)\n",
    "        \n",
    "        \n",
    "    def cnnout(self, x2):\n",
    "        in_fc=x2.view(x2.size(0),-1)\n",
    "        out_fc1=self.fc1(in_fc)\n",
    "        out_drop=self.fc1_drop(out_fc1)\n",
    "        out_fc2=self.fc2(out_drop)\n",
    "        return out_fc2\n",
    "        \n",
    "    def forward(self, x1, x2): \n",
    "        if x1.shape[0]!=2:\n",
    "            #lstm\n",
    "            x = self.embedding(x1)\n",
    "            x,_ = self.rnn(x)\n",
    "            x = F.dropout(x,p=0.8)\n",
    "            x = self.f1(x[:,-1,:])\n",
    "            lstm_output = self.f2(x)\n",
    "            cnn_out=self.cnnout(x2)\n",
    "            #concat\n",
    "            output = torch.cat((lstm_output, cnn_out), 1)\n",
    "            output = self.final_fc(output)\n",
    "            return output\n",
    "        else:\n",
    "            cnn_out=self.cnnout(x2)\n",
    "            return cnn_out"
   ]
  },
  {
   "cell_type": "markdown",
   "metadata": {},
   "source": [
    "### 生成批次数据"
   ]
  },
  {
   "cell_type": "code",
   "execution_count": 76,
   "metadata": {
    "collapsed": true
   },
   "outputs": [],
   "source": [
    "def batch_iter(x_batch, x_csv, y_csv, source_list, target_list, batch_size=32):\n",
    "\n",
    "    \"\"\"\n",
    "    生成批次数据\n",
    "    \"\"\"\n",
    "\n",
    "    data_len = x_batch.shape[0]\n",
    "    num_batch = int((data_len - 1) / batch_size) + 1\n",
    "\n",
    "    indices = np.random.permutation(np.arange(data_len))\n",
    "    x_batch_shuffle = x_batch[indices]\n",
    "    x_csv_shuffle =np.array(x_csv)[indices]\n",
    "    y_csv_shuffle = np.array(y_csv)[indices]\n",
    "    source_list = np.array(source_list)[indices]\n",
    "    target_list = np.array(target_list)[indices]\n",
    "\n",
    "    for i in range(num_batch):\n",
    "        start_id = i * batch_size\n",
    "        end_id = min((i + 1) * batch_size, data_len)\n",
    "        yield x_batch_shuffle[start_id:end_id], x_csv_shuffle[start_id:end_id], y_csv_shuffle[start_id:end_id], source_list[start_id:end_id], target_list[start_id:end_id]"
   ]
  },
  {
   "cell_type": "code",
   "execution_count": 77,
   "metadata": {
    "collapsed": true
   },
   "outputs": [],
   "source": [
    "#存储loss数据\n",
    "train_loss_list = []\n",
    "val_loss_list = []"
   ]
  },
  {
   "cell_type": "markdown",
   "metadata": {},
   "source": [
    "### 训练函数"
   ]
  },
  {
   "cell_type": "code",
   "execution_count": 78,
   "metadata": {
    "collapsed": true
   },
   "outputs": [],
   "source": [
    "def train():\n",
    "    model = LSTM_CNN()\n",
    "    #model.load_state_dict(torch.load('C:/Users/wuxun/Desktop/Data/save_model/110epoch_20200713_params.pkl'))\n",
    "    Loss = torch.nn.TripletMarginLoss(margin=1.0, p=2)\n",
    "    optimizer = optim.Adam(model.parameters(), lr = 0.001)\n",
    "    T=Variable(torch.FloatTensor([[1.0,1.0],[1.0,1.0]]))\n",
    "    best_val_loss = 1000000\n",
    "    print(\"train begin......\")\n",
    "\n",
    "    for epoch in range(100):\n",
    "        batch_train = batch_iter(x_batch_train, x_csv_train, y_csv_train, source_list_train, target_list_train, batch_size)\n",
    "        print(\"====================  epoch:\"+str(epoch)+\"  ========================\")\n",
    "        train_loss_sum = 0\n",
    "        train_loss_avg = 0\n",
    "        count = 0\n",
    "        for x_batch, x_csv, y_csv, source_time, target_time in batch_train:\n",
    "            if x_csv.shape[0]==batch_size:\n",
    "                count += 1\n",
    "                x1 = Variable(torch.LongTensor(x_batch))\n",
    "                x2 = Variable(torch.FloatTensor(np.array(x_csv)))\n",
    "                y = Variable(torch.FloatTensor(np.array(y_csv)))\n",
    "                pred_y = model(x1, x2)\n",
    "                negtive = model(T, x2)\n",
    "                postive = model(T, y)\n",
    "                loss_reg = Loss(pred_y, postive, negtive)\n",
    "                train_loss_sum += loss_reg\n",
    "                optimizer.zero_grad()\n",
    "                loss_reg.backward()\n",
    "                #nn.utils.clip_grad_norm_(model.parameters(), max_norm=20, norm_type=2)#梯度裁剪\n",
    "                optimizer.step()\n",
    "                \n",
    "        train_loss_avg = train_loss_sum /count\n",
    "        print(\"train_loss: \"+str(train_loss_sum))\n",
    "        train_loss_list.append(train_loss_sum)\n",
    "\n",
    "        #对模型进行验证：\n",
    "        if (epoch+1)%5 == 0:\n",
    "            print(\"进行验证.....\")\n",
    "            count = 0\n",
    "            val_loss_sum = 0\n",
    "            val_loss_avg = 0\n",
    "            batch_val = batch_iter(x_batch_val, x_csv_val, y_csv_val,source_list_val,target_list_val, batch_size)\n",
    "            for x_batch, x_csv, y_csv, source_time, target_time in batch_val:\n",
    "                if x_csv.shape[0]==batch_size:\n",
    "                    count += 1\n",
    "                    x1 = Variable(torch.LongTensor(x_batch))\n",
    "                    x2 = Variable(torch.FloatTensor(np.array(x_csv)))\n",
    "                    y = Variable(torch.FloatTensor(np.array(y_csv)))\n",
    "                    pred_y = model(x1, x2)\n",
    "                    negtive = model(T, x2)\n",
    "                    postive = model(T, y)\n",
    "                    loss_reg = Loss(pred_y, postive, negtive)\n",
    "                    #loss_reg = torch.abs(pred_y - postive).mean()\n",
    "                    val_loss_sum += loss_reg\n",
    "                    optimizer.zero_grad()\n",
    "                    loss_reg.backward()\n",
    "                    #nn.utils.clip_grad_norm_(model.parameters(), max_norm=20, norm_type=2)#梯度裁剪\n",
    "                    optimizer.step()\n",
    "                    \n",
    "            val_loss_avg = val_loss_sum /count\n",
    "            print(\"val_loss: \"+str(val_loss_sum))\n",
    "            val_loss_list.append(val_loss_sum)   \n",
    "            torch.save(model.state_dict(), save_path+str(epoch)+'_not_better_params.pkl')\n",
    "            if val_loss_sum < best_val_loss:\n",
    "                torch.save(model.state_dict(), save_path+str(epoch)+'_better_params.pkl')\n",
    "                best_val_loss = val_loss_sum\n",
    "                print(\"model save!\")"
   ]
  },
  {
   "cell_type": "markdown",
   "metadata": {},
   "source": [
    "### 训练基础模型"
   ]
  },
  {
   "cell_type": "code",
   "execution_count": null,
   "metadata": {},
   "outputs": [],
   "source": [
    "train()"
   ]
  },
  {
   "cell_type": "markdown",
   "metadata": {
    "collapsed": true
   },
   "source": [
    "### 绘制Loss曲线"
   ]
  },
  {
   "cell_type": "code",
   "execution_count": 79,
   "metadata": {
    "collapsed": true
   },
   "outputs": [],
   "source": [
    "def draw(train_loss_list, val_loss_list):\n",
    "    x1 = range(0, len(train_loss_list))\n",
    "    x2 = range(0, len(val_loss_list))\n",
    "    #with plt.style.context(['science']):\n",
    "    plt.subplot(2, 1, 1)\n",
    "    plt.plot(x1, train_loss_list[:len(train_loss_list)], 'o-')\n",
    "    plt.title('train loss vs. epoches')\n",
    "    plt.ylabel('train loss')\n",
    "    plt.subplot(2, 1, 2)\n",
    "    plt.plot(x2,val_loss_list[:len(val_loss_list)] , '.-')\n",
    "    plt.xlabel('Val loss vs. epoches')\n",
    "    plt.ylabel('Val loss')\n",
    "    plt.show()"
   ]
  },
  {
   "cell_type": "code",
   "execution_count": 80,
   "metadata": {},
   "outputs": [
    {
     "data": {
      "image/png": "[encoded data removed]",
      "text/plain": [
       "<Figure size 432x288 with 2 Axes>"
      ]
     },
     "metadata": {},
     "output_type": "display_data"
    }
   ],
   "source": [
    "draw(train_loss_list, val_loss_list)"
   ]
  },
  {
   "cell_type": "markdown",
   "metadata": {},
   "source": [
    "# 回归模型"
   ]
  },
  {
   "cell_type": "markdown",
   "metadata": {},
   "source": [
    "### 回归模型定义"
   ]
  },
  {
   "cell_type": "code",
   "execution_count": 81,
   "metadata": {
    "collapsed": true
   },
   "outputs": [],
   "source": [
    "#超参数lambda\n",
    "lamba = 0.2\n",
    "batch_size2=64"
   ]
  },
  {
   "cell_type": "code",
   "execution_count": null,
   "metadata": {
    "collapsed": true
   },
   "outputs": [],
   "source": [
    "# 定义LSTM的结构\n",
    "class Change(nn.Module):\n",
    "    def __init__(self):\n",
    "        super(Change, self).__init__()\n",
    "        #特征融合\n",
    "        self.score_fc = torch.nn.Conv1d(64, 2, kernel_size=1, stride=1)\n",
    "        \n",
    "    def forward(self, x):\n",
    "        output = x#[10, 64]\n",
    "        output = output.unsqueeze(2)\n",
    "        score = self.score_fc(output)\n",
    "        offset_pred = score.squeeze(2)\n",
    "        return offset_pred"
   ]
  },
  {
   "cell_type": "code",
   "execution_count": null,
   "metadata": {},
   "outputs": [],
   "source": [
    "model = LSTM_CNN()\n",
    "Loss = nn.MSELoss()\n",
    "model.load_state_dict(torch.load('C:/Users/wuxun/Desktop/Data/save_model/189epoch_20200713_params.pkl'))\n",
    "x1 = Variable(torch.LongTensor(x_batch_train[:10]))\n",
    "x2 = Variable(torch.FloatTensor(x_csv_train[:10]))\n",
    "x3 = Variable(torch.FloatTensor(target_list_train[:10]))\n",
    "print(\"target.shape: \"+str(x3.shape))\n",
    "print(x3)\n",
    "y = Variable(torch.FloatTensor(y_csv_train[:10]))\n",
    "pred = model(x1, x2)\n",
    "change_model = Change()\n",
    "pred2 = change_model(pred)\n",
    "print(\"pred2.shape: \"+str(pred2.shape))\n",
    "print(pred2)\n",
    "loss = Loss(pred2, x3)\n",
    "print(loss)"
   ]
  },
  {
   "cell_type": "code",
   "execution_count": 86,
   "metadata": {
    "collapsed": true
   },
   "outputs": [],
   "source": [
    "train_loss_2_list=[]\n",
    "val_loss_2_list=[]\n",
    "resualt_text_path='C:/Users/wuxun/Desktop/resualt.txt'"
   ]
  },
  {
   "cell_type": "markdown",
   "metadata": {},
   "source": [
    "### 训练函数"
   ]
  },
  {
   "cell_type": "code",
   "execution_count": 90,
   "metadata": {
    "collapsed": true
   },
   "outputs": [],
   "source": [
    "def train_2(optimizer, change_model, scheduler):\n",
    "    model = LSTM_CNN()\n",
    "    Loss = nn.MSELoss()\n",
    "    model.load_state_dict(torch.load('C:/Users/wuxun/Des ktop/Data/save_model/189epoch_20200713_params.pkl'))\n",
    "    best_val_loss_2 = 1000000\n",
    "    print(\"train begin......\")\n",
    "    with open(resualt_text_path,'a') as f:\n",
    "        for epoch in range(200):\n",
    "            batch_train = batch_iter(x_batch_train, x_csv_train, y_csv_train, source_list_train, target_list_train, batch_size2)\n",
    "            count = 0\n",
    "            train_loss_sum = 0\n",
    "            train_loss_avg = 0\n",
    "            for x_batch, x_csv, y_csv, source_time, target_time in batch_train:\n",
    "                if x_csv.shape[0]==batch_size2:\n",
    "                    count += 1\n",
    "                    x1 = Variable(torch.LongTensor(x_batch))\n",
    "                    x2 = Variable(torch.FloatTensor(np.array(x_csv)))\n",
    "                    source_time = Variable(torch.FloatTensor(np.array(source_time)))\n",
    "                    target_time = Variable(torch.FloatTensor(np.array(target_time)))\n",
    "\n",
    "                    pred = model(x1, x2)\n",
    "                    pred2 = change_model(pred)\n",
    "                    \n",
    "                    loss_reg = torch.sqrt(Loss(pred2, target_time))\n",
    "                    train_loss_sum +=loss_reg\n",
    "                    optimizer.zero_grad()\n",
    "                    loss_reg.backward()\n",
    "                    optimizer.step()\n",
    "                    \n",
    "            scheduler.step()\n",
    "            train_loss_avg = train_loss_sum /count\n",
    "            print(\"[epoch: \"+str(epoch)+\" ]   loss= \"+str(train_loss_avg)+\" lr = %f\" % (optimizer.param_groups[0]['lr']))\n",
    "            train_loss_2_list.append(train_loss_avg)\n",
    "\n",
    "            if (epoch+1)%5==0:\n",
    "                print(\"进行验证.......\")\n",
    "                batch_val = batch_iter(x_batch_val, x_csv_val, y_csv_val,source_list_val,target_list_val, batch_size2)\n",
    "                count = 0\n",
    "                val_loss_sum = 0\n",
    "                val_loss_avg = 0 \n",
    "                for x_batch, x_csv, y_csv, source_time, target_time in batch_val:\n",
    "                    if x_csv.shape[0]==batch_size2:\n",
    "                        count += 1\n",
    "                        x1 = Variable(torch.LongTensor(x_batch))\n",
    "                        x2 = Variable(torch.FloatTensor(np.array(x_csv)))\n",
    "                        source_time = Variable(torch.FloatTensor(np.array(source_time)))\n",
    "                        target_time = Variable(torch.FloatTensor(np.array(target_time)))\n",
    "\n",
    "                        pred = model(x1, x2)\n",
    "                        pred2 = change_model(pred)\n",
    "                        loss_reg = torch.sqrt(Loss(pred2, target_time))\n",
    "\n",
    "                        val_loss_sum +=loss_reg\n",
    "                        optimizer.zero_grad()\n",
    "                        loss_reg.backward()\n",
    "                        optimizer.step()\n",
    "                        \n",
    "                scheduler.step()\n",
    "                val_loss_avg = val_loss_sum / count\n",
    "                print(\"[epoch: \"+str(epoch)+\" ]   loss= \"+str(val_loss_avg)+\" lr = %f\" % (optimizer.param_groups[0]['lr']))\n",
    "                val_loss_2_list.append(val_loss_avg) \n",
    "                torch.save(change_model.state_dict(), 'C:/Users/wuxun/Desktop/Data/save_model2/epoch'+str(epoch)+'_batchsize1_params.pkl')\n",
    "                if val_loss_avg < best_val_loss_2:\n",
    "                    torch.save(change_model.state_dict(), save_path2)\n",
    "                    best_val_loss_2 = val_loss_avg\n",
    "                    print(\"model save!\")"
   ]
  },
  {
   "cell_type": "markdown",
   "metadata": {},
   "source": [
    "### 学习率调整策略"
   ]
  },
  {
   "cell_type": "code",
   "execution_count": 91,
   "metadata": {},
   "outputs": [],
   "source": [
    "def get_scheduler(optimizer, lr_policy):\n",
    "    \"\"\"Return a learning rate scheduler\n",
    "        Parameters:\n",
    "        optimizer -- 网络优化器\n",
    "        opt.lr_policy -- 学习率scheduler的名称: linear | step | plateau | cosine\n",
    "    \"\"\"\n",
    "    if lr_policy == 'linear':\n",
    "        scheduler = lr_scheduler.LambdaLR(optimizer, lr_lambda=lambda epoch: 1/(epoch+1))\n",
    "    elif lr_policy == 'step':\n",
    "        scheduler = lr_scheduler.StepLR(optimizer, step_size=10, gamma=0.1)\n",
    "    elif lr_policy == 'plateau':\n",
    "        scheduler = lr_scheduler.ReduceLROnPlateau(optimizer, mode='min', factor=0.2, threshold=0.01, patience=5)\n",
    "    elif lr_policy == 'cosine':\n",
    "        scheduler = lr_scheduler.CosineAnnealingLR(optimizer, T_max=5, eta_min=0)\n",
    "    else:\n",
    "        print('learning rate policy [%s] is not implemented'%(lr_policy))\n",
    "    return scheduler"
   ]
  },
  {
   "cell_type": "markdown",
   "metadata": {},
   "source": [
    "### 定义回归模型与优化器"
   ]
  },
  {
   "cell_type": "code",
   "execution_count": 92,
   "metadata": {},
   "outputs": [],
   "source": [
    "change_model = Change()\n",
    "initial_lr = 0.1\n",
    "optimizer = optim.Adam(change_model.parameters(), lr = initial_lr)\n",
    "scheduler = get_scheduler(optimizer, 'step')"
   ]
  },
  {
   "cell_type": "markdown",
   "metadata": {},
   "source": [
    "### 训练回归模型"
   ]
  },
  {
   "cell_type": "code",
   "execution_count": 93,
   "metadata": {
    "scrolled": true
   },
   "outputs": [
    {
     "name": "stdout",
     "output_type": "stream",
     "text": [
      "train begin......\n",
      "[epoch: 0 ]   loss= tensor(169.233062744140625, grad_fn=<DivBackward0>) lr = 0.100000\n",
      "[epoch: 1 ]   loss= tensor(163.440750122070312, grad_fn=<DivBackward0>) lr = 0.050000\n",
      "[epoch: 2 ]   loss= tensor(158.141555786132812, grad_fn=<DivBackward0>) lr = 0.033333\n",
      "[epoch: 3 ]   loss= tensor(156.086654663085938, grad_fn=<DivBackward0>) lr = 0.025000\n",
      "[epoch: 4 ]   loss= tensor(155.096740722656250, grad_fn=<DivBackward0>) lr = 0.020000\n",
      "进行验证.......\n",
      "[epoch: 4 ]   loss= tensor(152.550445556640625, grad_fn=<DivBackward0>) lr = 0.016667\n",
      "model save!\n",
      "[epoch: 5 ]   loss= tensor(154.396194458007812, grad_fn=<DivBackward0>) lr = 0.014286\n",
      "[epoch: 6 ]   loss= tensor(152.676574707031250, grad_fn=<DivBackward0>) lr = 0.012500\n",
      "[epoch: 7 ]   loss= tensor(152.609848022460938, grad_fn=<DivBackward0>) lr = 0.011111\n",
      "[epoch: 8 ]   loss= tensor(153.930709838867188, grad_fn=<DivBackward0>) lr = 0.010000\n",
      "[epoch: 9 ]   loss= tensor(150.360565185546875, grad_fn=<DivBackward0>) lr = 0.009091\n",
      "进行验证.......\n",
      "[epoch: 9 ]   loss= tensor(149.539779663085938, grad_fn=<DivBackward0>) lr = 0.008333\n",
      "model save!\n",
      "[epoch: 10 ]   loss= tensor(155.042251586914062, grad_fn=<DivBackward0>) lr = 0.007692\n",
      "[epoch: 11 ]   loss= tensor(150.727691650390625, grad_fn=<DivBackward0>) lr = 0.007143\n",
      "[epoch: 12 ]   loss= tensor(151.245590209960938, grad_fn=<DivBackward0>) lr = 0.006667\n",
      "[epoch: 13 ]   loss= tensor(151.091384887695312, grad_fn=<DivBackward0>) lr = 0.006250\n",
      "[epoch: 14 ]   loss= tensor(150.630081176757812, grad_fn=<DivBackward0>) lr = 0.005882\n",
      "进行验证.......\n",
      "[epoch: 14 ]   loss= tensor(150.028533935546875, grad_fn=<DivBackward0>) lr = 0.005556\n",
      "[epoch: 15 ]   loss= tensor(152.809020996093750, grad_fn=<DivBackward0>) lr = 0.005263\n",
      "[epoch: 16 ]   loss= tensor(150.573577880859375, grad_fn=<DivBackward0>) lr = 0.005000\n",
      "[epoch: 17 ]   loss= tensor(151.554214477539062, grad_fn=<DivBackward0>) lr = 0.004762\n",
      "[epoch: 18 ]   loss= tensor(150.773910522460938, grad_fn=<DivBackward0>) lr = 0.004545\n",
      "[epoch: 19 ]   loss= tensor(149.519058227539062, grad_fn=<DivBackward0>) lr = 0.004348\n",
      "进行验证.......\n",
      "[epoch: 19 ]   loss= tensor(148.391998291015625, grad_fn=<DivBackward0>) lr = 0.004167\n",
      "model save!\n",
      "[epoch: 20 ]   loss= tensor(151.504516601562500, grad_fn=<DivBackward0>) lr = 0.004000\n",
      "[epoch: 21 ]   loss= tensor(152.289321899414062, grad_fn=<DivBackward0>) lr = 0.003846\n",
      "[epoch: 22 ]   loss= tensor(151.527297973632812, grad_fn=<DivBackward0>) lr = 0.003704\n",
      "[epoch: 23 ]   loss= tensor(150.216339111328125, grad_fn=<DivBackward0>) lr = 0.003571\n",
      "[epoch: 24 ]   loss= tensor(150.550384521484375, grad_fn=<DivBackward0>) lr = 0.003448\n",
      "进行验证.......\n",
      "[epoch: 24 ]   loss= tensor(148.623764038085938, grad_fn=<DivBackward0>) lr = 0.003333\n",
      "[epoch: 25 ]   loss= tensor(149.006362915039062, grad_fn=<DivBackward0>) lr = 0.003226\n",
      "[epoch: 26 ]   loss= tensor(151.244400024414062, grad_fn=<DivBackward0>) lr = 0.003125\n",
      "[epoch: 27 ]   loss= tensor(147.903518676757812, grad_fn=<DivBackward0>) lr = 0.003030\n",
      "[epoch: 28 ]   loss= tensor(151.110473632812500, grad_fn=<DivBackward0>) lr = 0.002941\n",
      "[epoch: 29 ]   loss= tensor(149.667251586914062, grad_fn=<DivBackward0>) lr = 0.002857\n",
      "进行验证.......\n",
      "[epoch: 29 ]   loss= tensor(146.186431884765625, grad_fn=<DivBackward0>) lr = 0.002778\n",
      "model save!\n",
      "[epoch: 30 ]   loss= tensor(149.410263061523438, grad_fn=<DivBackward0>) lr = 0.002703\n",
      "[epoch: 31 ]   loss= tensor(150.223037719726562, grad_fn=<DivBackward0>) lr = 0.002632\n",
      "[epoch: 32 ]   loss= tensor(151.077835083007812, grad_fn=<DivBackward0>) lr = 0.002564\n",
      "[epoch: 33 ]   loss= tensor(149.561981201171875, grad_fn=<DivBackward0>) lr = 0.002500\n",
      "[epoch: 34 ]   loss= tensor(150.498535156250000, grad_fn=<DivBackward0>) lr = 0.002439\n",
      "进行验证.......\n",
      "[epoch: 34 ]   loss= tensor(146.891021728515625, grad_fn=<DivBackward0>) lr = 0.002381\n",
      "[epoch: 35 ]   loss= tensor(150.247360229492188, grad_fn=<DivBackward0>) lr = 0.002326\n",
      "[epoch: 36 ]   loss= tensor(149.854904174804688, grad_fn=<DivBackward0>) lr = 0.002273\n",
      "[epoch: 37 ]   loss= tensor(148.953842163085938, grad_fn=<DivBackward0>) lr = 0.002222\n",
      "[epoch: 38 ]   loss= tensor(150.058013916015625, grad_fn=<DivBackward0>) lr = 0.002174\n",
      "[epoch: 39 ]   loss= tensor(147.571273803710938, grad_fn=<DivBackward0>) lr = 0.002128\n",
      "进行验证.......\n",
      "[epoch: 39 ]   loss= tensor(147.303268432617188, grad_fn=<DivBackward0>) lr = 0.002083\n",
      "[epoch: 40 ]   loss= tensor(148.632369995117188, grad_fn=<DivBackward0>) lr = 0.002041\n",
      "[epoch: 41 ]   loss= tensor(150.952285766601562, grad_fn=<DivBackward0>) lr = 0.002000\n",
      "[epoch: 42 ]   loss= tensor(150.533386230468750, grad_fn=<DivBackward0>) lr = 0.001961\n",
      "[epoch: 43 ]   loss= tensor(151.322799682617188, grad_fn=<DivBackward0>) lr = 0.001923\n",
      "[epoch: 44 ]   loss= tensor(147.928604125976562, grad_fn=<DivBackward0>) lr = 0.001887\n",
      "进行验证.......\n",
      "[epoch: 44 ]   loss= tensor(148.644561767578125, grad_fn=<DivBackward0>) lr = 0.001852\n",
      "[epoch: 45 ]   loss= tensor(150.379608154296875, grad_fn=<DivBackward0>) lr = 0.001818\n",
      "[epoch: 46 ]   loss= tensor(150.261947631835938, grad_fn=<DivBackward0>) lr = 0.001786\n",
      "[epoch: 47 ]   loss= tensor(148.598022460937500, grad_fn=<DivBackward0>) lr = 0.001754\n",
      "[epoch: 48 ]   loss= tensor(148.273513793945312, grad_fn=<DivBackward0>) lr = 0.001724\n",
      "[epoch: 49 ]   loss= tensor(150.014663696289062, grad_fn=<DivBackward0>) lr = 0.001695\n",
      "进行验证.......\n",
      "[epoch: 49 ]   loss= tensor(149.203399658203125, grad_fn=<DivBackward0>) lr = 0.001667\n",
      "[epoch: 50 ]   loss= tensor(149.481643676757812, grad_fn=<DivBackward0>) lr = 0.001639\n",
      "[epoch: 51 ]   loss= tensor(149.314300537109375, grad_fn=<DivBackward0>) lr = 0.001613\n",
      "[epoch: 52 ]   loss= tensor(149.309600830078125, grad_fn=<DivBackward0>) lr = 0.001587\n",
      "[epoch: 53 ]   loss= tensor(148.689849853515625, grad_fn=<DivBackward0>) lr = 0.001563\n",
      "[epoch: 54 ]   loss= tensor(148.277114868164062, grad_fn=<DivBackward0>) lr = 0.001538\n",
      "进行验证.......\n",
      "[epoch: 54 ]   loss= tensor(150.122283935546875, grad_fn=<DivBackward0>) lr = 0.001515\n",
      "[epoch: 55 ]   loss= tensor(148.848007202148438, grad_fn=<DivBackward0>) lr = 0.001493\n",
      "[epoch: 56 ]   loss= tensor(148.581649780273438, grad_fn=<DivBackward0>) lr = 0.001471\n",
      "[epoch: 57 ]   loss= tensor(150.014282226562500, grad_fn=<DivBackward0>) lr = 0.001449\n",
      "[epoch: 58 ]   loss= tensor(149.340179443359375, grad_fn=<DivBackward0>) lr = 0.001429\n",
      "[epoch: 59 ]   loss= tensor(152.579513549804688, grad_fn=<DivBackward0>) lr = 0.001408\n",
      "进行验证.......\n",
      "[epoch: 59 ]   loss= tensor(149.110214233398438, grad_fn=<DivBackward0>) lr = 0.001389\n",
      "[epoch: 60 ]   loss= tensor(148.572128295898438, grad_fn=<DivBackward0>) lr = 0.001370\n",
      "[epoch: 61 ]   loss= tensor(149.008438110351562, grad_fn=<DivBackward0>) lr = 0.001351\n",
      "[epoch: 62 ]   loss= tensor(150.736236572265625, grad_fn=<DivBackward0>) lr = 0.001333\n",
      "[epoch: 63 ]   loss= tensor(149.782836914062500, grad_fn=<DivBackward0>) lr = 0.001316\n",
      "[epoch: 64 ]   loss= tensor(149.488388061523438, grad_fn=<DivBackward0>) lr = 0.001299\n",
      "进行验证.......\n",
      "[epoch: 64 ]   loss= tensor(146.671646118164062, grad_fn=<DivBackward0>) lr = 0.001282\n",
      "[epoch: 65 ]   loss= tensor(148.224578857421875, grad_fn=<DivBackward0>) lr = 0.001266\n",
      "[epoch: 66 ]   loss= tensor(149.286590576171875, grad_fn=<DivBackward0>) lr = 0.001250\n",
      "[epoch: 67 ]   loss= tensor(150.324676513671875, grad_fn=<DivBackward0>) lr = 0.001235\n",
      "[epoch: 68 ]   loss= tensor(150.130340576171875, grad_fn=<DivBackward0>) lr = 0.001220\n",
      "[epoch: 69 ]   loss= tensor(150.177429199218750, grad_fn=<DivBackward0>) lr = 0.001205\n",
      "进行验证.......\n",
      "[epoch: 69 ]   loss= tensor(147.633605957031250, grad_fn=<DivBackward0>) lr = 0.001190\n",
      "[epoch: 70 ]   loss= tensor(148.471420288085938, grad_fn=<DivBackward0>) lr = 0.001176\n",
      "[epoch: 71 ]   loss= tensor(150.274978637695312, grad_fn=<DivBackward0>) lr = 0.001163\n",
      "[epoch: 72 ]   loss= tensor(150.612136840820312, grad_fn=<DivBackward0>) lr = 0.001149\n",
      "[epoch: 73 ]   loss= tensor(148.202682495117188, grad_fn=<DivBackward0>) lr = 0.001136\n",
      "[epoch: 74 ]   loss= tensor(147.888366699218750, grad_fn=<DivBackward0>) lr = 0.001124\n",
      "进行验证.......\n",
      "[epoch: 74 ]   loss= tensor(146.062820434570312, grad_fn=<DivBackward0>) lr = 0.001111\n",
      "model save!\n",
      "[epoch: 75 ]   loss= tensor(149.667755126953125, grad_fn=<DivBackward0>) lr = 0.001099\n"
     ]
    },
    {
     "name": "stdout",
     "output_type": "stream",
     "text": [
      "[epoch: 76 ]   loss= tensor(148.649093627929688, grad_fn=<DivBackward0>) lr = 0.001087\n",
      "[epoch: 77 ]   loss= tensor(149.404388427734375, grad_fn=<DivBackward0>) lr = 0.001075\n",
      "[epoch: 78 ]   loss= tensor(147.427688598632812, grad_fn=<DivBackward0>) lr = 0.001064\n",
      "[epoch: 79 ]   loss= tensor(147.642333984375000, grad_fn=<DivBackward0>) lr = 0.001053\n",
      "进行验证.......\n",
      "[epoch: 79 ]   loss= tensor(146.624862670898438, grad_fn=<DivBackward0>) lr = 0.001042\n",
      "[epoch: 80 ]   loss= tensor(149.265808105468750, grad_fn=<DivBackward0>) lr = 0.001031\n",
      "[epoch: 81 ]   loss= tensor(150.212707519531250, grad_fn=<DivBackward0>) lr = 0.001020\n",
      "[epoch: 82 ]   loss= tensor(149.065414428710938, grad_fn=<DivBackward0>) lr = 0.001010\n",
      "[epoch: 83 ]   loss= tensor(148.764450073242188, grad_fn=<DivBackward0>) lr = 0.001000\n",
      "[epoch: 84 ]   loss= tensor(148.970336914062500, grad_fn=<DivBackward0>) lr = 0.000990\n",
      "进行验证.......\n",
      "[epoch: 84 ]   loss= tensor(146.058792114257812, grad_fn=<DivBackward0>) lr = 0.000980\n",
      "model save!\n",
      "[epoch: 85 ]   loss= tensor(150.243942260742188, grad_fn=<DivBackward0>) lr = 0.000971\n",
      "[epoch: 86 ]   loss= tensor(148.627883911132812, grad_fn=<DivBackward0>) lr = 0.000962\n",
      "[epoch: 87 ]   loss= tensor(148.792282104492188, grad_fn=<DivBackward0>) lr = 0.000952\n",
      "[epoch: 88 ]   loss= tensor(149.791091918945312, grad_fn=<DivBackward0>) lr = 0.000943\n",
      "[epoch: 89 ]   loss= tensor(146.764160156250000, grad_fn=<DivBackward0>) lr = 0.000935\n",
      "进行验证.......\n",
      "[epoch: 89 ]   loss= tensor(147.408737182617188, grad_fn=<DivBackward0>) lr = 0.000926\n",
      "[epoch: 90 ]   loss= tensor(148.658279418945312, grad_fn=<DivBackward0>) lr = 0.000917\n",
      "[epoch: 91 ]   loss= tensor(150.701385498046875, grad_fn=<DivBackward0>) lr = 0.000909\n",
      "[epoch: 92 ]   loss= tensor(149.274597167968750, grad_fn=<DivBackward0>) lr = 0.000901\n",
      "[epoch: 93 ]   loss= tensor(148.130081176757812, grad_fn=<DivBackward0>) lr = 0.000893\n",
      "[epoch: 94 ]   loss= tensor(148.137924194335938, grad_fn=<DivBackward0>) lr = 0.000885\n",
      "进行验证.......\n",
      "[epoch: 94 ]   loss= tensor(146.007232666015625, grad_fn=<DivBackward0>) lr = 0.000877\n",
      "model save!\n",
      "[epoch: 95 ]   loss= tensor(148.165420532226562, grad_fn=<DivBackward0>) lr = 0.000870\n",
      "[epoch: 96 ]   loss= tensor(148.176559448242188, grad_fn=<DivBackward0>) lr = 0.000862\n",
      "[epoch: 97 ]   loss= tensor(147.604919433593750, grad_fn=<DivBackward0>) lr = 0.000855\n",
      "[epoch: 98 ]   loss= tensor(149.295089721679688, grad_fn=<DivBackward0>) lr = 0.000847\n",
      "[epoch: 99 ]   loss= tensor(149.514968872070312, grad_fn=<DivBackward0>) lr = 0.000840\n",
      "进行验证.......\n",
      "[epoch: 99 ]   loss= tensor(145.164199829101562, grad_fn=<DivBackward0>) lr = 0.000833\n",
      "model save!\n",
      "[epoch: 100 ]   loss= tensor(149.093429565429688, grad_fn=<DivBackward0>) lr = 0.000826\n",
      "[epoch: 101 ]   loss= tensor(148.481475830078125, grad_fn=<DivBackward0>) lr = 0.000820\n",
      "[epoch: 102 ]   loss= tensor(149.145858764648438, grad_fn=<DivBackward0>) lr = 0.000813\n",
      "[epoch: 103 ]   loss= tensor(149.013687133789062, grad_fn=<DivBackward0>) lr = 0.000806\n",
      "[epoch: 104 ]   loss= tensor(148.406555175781250, grad_fn=<DivBackward0>) lr = 0.000800\n",
      "进行验证.......\n",
      "[epoch: 104 ]   loss= tensor(146.509704589843750, grad_fn=<DivBackward0>) lr = 0.000794\n",
      "[epoch: 105 ]   loss= tensor(147.501388549804688, grad_fn=<DivBackward0>) lr = 0.000787\n",
      "[epoch: 106 ]   loss= tensor(149.021163940429688, grad_fn=<DivBackward0>) lr = 0.000781\n",
      "[epoch: 107 ]   loss= tensor(148.311172485351562, grad_fn=<DivBackward0>) lr = 0.000775\n",
      "[epoch: 108 ]   loss= tensor(147.209838867187500, grad_fn=<DivBackward0>) lr = 0.000769\n",
      "[epoch: 109 ]   loss= tensor(148.056747436523438, grad_fn=<DivBackward0>) lr = 0.000763\n",
      "进行验证.......\n",
      "[epoch: 109 ]   loss= tensor(144.147018432617188, grad_fn=<DivBackward0>) lr = 0.000758\n",
      "model save!\n",
      "[epoch: 110 ]   loss= tensor(146.690536499023438, grad_fn=<DivBackward0>) lr = 0.000752\n",
      "[epoch: 111 ]   loss= tensor(147.136093139648438, grad_fn=<DivBackward0>) lr = 0.000746\n",
      "[epoch: 112 ]   loss= tensor(146.669738769531250, grad_fn=<DivBackward0>) lr = 0.000741\n",
      "[epoch: 113 ]   loss= tensor(148.100891113281250, grad_fn=<DivBackward0>) lr = 0.000735\n",
      "[epoch: 114 ]   loss= tensor(148.376235961914062, grad_fn=<DivBackward0>) lr = 0.000730\n",
      "进行验证.......\n",
      "[epoch: 114 ]   loss= tensor(146.991378784179688, grad_fn=<DivBackward0>) lr = 0.000725\n",
      "[epoch: 115 ]   loss= tensor(149.569396972656250, grad_fn=<DivBackward0>) lr = 0.000719\n",
      "[epoch: 116 ]   loss= tensor(148.378372192382812, grad_fn=<DivBackward0>) lr = 0.000714\n",
      "[epoch: 117 ]   loss= tensor(148.275299072265625, grad_fn=<DivBackward0>) lr = 0.000709\n",
      "[epoch: 118 ]   loss= tensor(147.395462036132812, grad_fn=<DivBackward0>) lr = 0.000704\n",
      "[epoch: 119 ]   loss= tensor(149.083938598632812, grad_fn=<DivBackward0>) lr = 0.000699\n",
      "进行验证.......\n",
      "[epoch: 119 ]   loss= tensor(145.369720458984375, grad_fn=<DivBackward0>) lr = 0.000694\n",
      "[epoch: 120 ]   loss= tensor(149.322280883789062, grad_fn=<DivBackward0>) lr = 0.000690\n",
      "[epoch: 121 ]   loss= tensor(147.998458862304688, grad_fn=<DivBackward0>) lr = 0.000685\n",
      "[epoch: 122 ]   loss= tensor(149.654815673828125, grad_fn=<DivBackward0>) lr = 0.000680\n",
      "[epoch: 123 ]   loss= tensor(147.857681274414062, grad_fn=<DivBackward0>) lr = 0.000676\n",
      "[epoch: 124 ]   loss= tensor(147.997436523437500, grad_fn=<DivBackward0>) lr = 0.000671\n",
      "进行验证.......\n",
      "[epoch: 124 ]   loss= tensor(146.480133056640625, grad_fn=<DivBackward0>) lr = 0.000667\n",
      "[epoch: 125 ]   loss= tensor(148.462249755859375, grad_fn=<DivBackward0>) lr = 0.000662\n",
      "[epoch: 126 ]   loss= tensor(148.550643920898438, grad_fn=<DivBackward0>) lr = 0.000658\n",
      "[epoch: 127 ]   loss= tensor(149.024414062500000, grad_fn=<DivBackward0>) lr = 0.000654\n",
      "[epoch: 128 ]   loss= tensor(148.688735961914062, grad_fn=<DivBackward0>) lr = 0.000649\n",
      "[epoch: 129 ]   loss= tensor(150.809616088867188, grad_fn=<DivBackward0>) lr = 0.000645\n",
      "进行验证.......\n",
      "[epoch: 129 ]   loss= tensor(146.251586914062500, grad_fn=<DivBackward0>) lr = 0.000641\n",
      "[epoch: 130 ]   loss= tensor(148.045791625976562, grad_fn=<DivBackward0>) lr = 0.000637\n",
      "[epoch: 131 ]   loss= tensor(147.784469604492188, grad_fn=<DivBackward0>) lr = 0.000633\n",
      "[epoch: 132 ]   loss= tensor(147.937637329101562, grad_fn=<DivBackward0>) lr = 0.000629\n",
      "[epoch: 133 ]   loss= tensor(149.815795898437500, grad_fn=<DivBackward0>) lr = 0.000625\n",
      "[epoch: 134 ]   loss= tensor(148.489242553710938, grad_fn=<DivBackward0>) lr = 0.000621\n",
      "进行验证.......\n",
      "[epoch: 134 ]   loss= tensor(146.382095336914062, grad_fn=<DivBackward0>) lr = 0.000617\n",
      "[epoch: 135 ]   loss= tensor(148.820678710937500, grad_fn=<DivBackward0>) lr = 0.000613\n",
      "[epoch: 136 ]   loss= tensor(147.286270141601562, grad_fn=<DivBackward0>) lr = 0.000610\n"
     ]
    },
    {
     "ename": "KeyboardInterrupt",
     "evalue": "",
     "output_type": "error",
     "traceback": [
      "\u001b[1;31m---------------------------------------------------------------------------\u001b[0m",
      "\u001b[1;31mKeyboardInterrupt\u001b[0m                         Traceback (most recent call last)",
      "\u001b[1;32m<ipython-input-93-e46545b320a1>\u001b[0m in \u001b[0;36m<module>\u001b[1;34m()\u001b[0m\n\u001b[1;32m----> 1\u001b[1;33m \u001b[0mtrain_2\u001b[0m\u001b[1;33m(\u001b[0m\u001b[0moptimizer\u001b[0m\u001b[1;33m,\u001b[0m \u001b[0mchange_model\u001b[0m\u001b[1;33m,\u001b[0m \u001b[0mscheduler\u001b[0m\u001b[1;33m)\u001b[0m\u001b[1;33m\u001b[0m\u001b[1;33m\u001b[0m\u001b[0m\n\u001b[0m",
      "\u001b[1;32m<ipython-input-90-be9f039aa123>\u001b[0m in \u001b[0;36mtrain_2\u001b[1;34m(optimizer, change_model, scheduler)\u001b[0m\n\u001b[0;32m     19\u001b[0m                     \u001b[0mtarget_time\u001b[0m \u001b[1;33m=\u001b[0m \u001b[0mVariable\u001b[0m\u001b[1;33m(\u001b[0m\u001b[0mtorch\u001b[0m\u001b[1;33m.\u001b[0m\u001b[0mFloatTensor\u001b[0m\u001b[1;33m(\u001b[0m\u001b[0mnp\u001b[0m\u001b[1;33m.\u001b[0m\u001b[0marray\u001b[0m\u001b[1;33m(\u001b[0m\u001b[0mtarget_time\u001b[0m\u001b[1;33m)\u001b[0m\u001b[1;33m)\u001b[0m\u001b[1;33m)\u001b[0m\u001b[1;33m\u001b[0m\u001b[1;33m\u001b[0m\u001b[0m\n\u001b[0;32m     20\u001b[0m \u001b[1;33m\u001b[0m\u001b[0m\n\u001b[1;32m---> 21\u001b[1;33m                     \u001b[0mpred\u001b[0m \u001b[1;33m=\u001b[0m \u001b[0mmodel\u001b[0m\u001b[1;33m(\u001b[0m\u001b[0mx1\u001b[0m\u001b[1;33m,\u001b[0m \u001b[0mx2\u001b[0m\u001b[1;33m)\u001b[0m\u001b[1;33m\u001b[0m\u001b[1;33m\u001b[0m\u001b[0m\n\u001b[0m\u001b[0;32m     22\u001b[0m                     \u001b[0mpred2\u001b[0m \u001b[1;33m=\u001b[0m \u001b[0mchange_model\u001b[0m\u001b[1;33m(\u001b[0m\u001b[0mpred\u001b[0m\u001b[1;33m)\u001b[0m\u001b[1;33m\u001b[0m\u001b[1;33m\u001b[0m\u001b[0m\n\u001b[0;32m     23\u001b[0m \u001b[1;33m\u001b[0m\u001b[0m\n",
      "\u001b[1;32m~\\Anaconda3\\lib\\site-packages\\torch\\nn\\modules\\module.py\u001b[0m in \u001b[0;36m__call__\u001b[1;34m(self, *input, **kwargs)\u001b[0m\n\u001b[0;32m    487\u001b[0m             \u001b[0mresult\u001b[0m \u001b[1;33m=\u001b[0m \u001b[0mself\u001b[0m\u001b[1;33m.\u001b[0m\u001b[0m_slow_forward\u001b[0m\u001b[1;33m(\u001b[0m\u001b[1;33m*\u001b[0m\u001b[0minput\u001b[0m\u001b[1;33m,\u001b[0m \u001b[1;33m**\u001b[0m\u001b[0mkwargs\u001b[0m\u001b[1;33m)\u001b[0m\u001b[1;33m\u001b[0m\u001b[1;33m\u001b[0m\u001b[0m\n\u001b[0;32m    488\u001b[0m         \u001b[1;32melse\u001b[0m\u001b[1;33m:\u001b[0m\u001b[1;33m\u001b[0m\u001b[1;33m\u001b[0m\u001b[0m\n\u001b[1;32m--> 489\u001b[1;33m             \u001b[0mresult\u001b[0m \u001b[1;33m=\u001b[0m \u001b[0mself\u001b[0m\u001b[1;33m.\u001b[0m\u001b[0mforward\u001b[0m\u001b[1;33m(\u001b[0m\u001b[1;33m*\u001b[0m\u001b[0minput\u001b[0m\u001b[1;33m,\u001b[0m \u001b[1;33m**\u001b[0m\u001b[0mkwargs\u001b[0m\u001b[1;33m)\u001b[0m\u001b[1;33m\u001b[0m\u001b[1;33m\u001b[0m\u001b[0m\n\u001b[0m\u001b[0;32m    490\u001b[0m         \u001b[1;32mfor\u001b[0m \u001b[0mhook\u001b[0m \u001b[1;32min\u001b[0m \u001b[0mself\u001b[0m\u001b[1;33m.\u001b[0m\u001b[0m_forward_hooks\u001b[0m\u001b[1;33m.\u001b[0m\u001b[0mvalues\u001b[0m\u001b[1;33m(\u001b[0m\u001b[1;33m)\u001b[0m\u001b[1;33m:\u001b[0m\u001b[1;33m\u001b[0m\u001b[1;33m\u001b[0m\u001b[0m\n\u001b[0;32m    491\u001b[0m             \u001b[0mhook_result\u001b[0m \u001b[1;33m=\u001b[0m \u001b[0mhook\u001b[0m\u001b[1;33m(\u001b[0m\u001b[0mself\u001b[0m\u001b[1;33m,\u001b[0m \u001b[0minput\u001b[0m\u001b[1;33m,\u001b[0m \u001b[0mresult\u001b[0m\u001b[1;33m)\u001b[0m\u001b[1;33m\u001b[0m\u001b[1;33m\u001b[0m\u001b[0m\n",
      "\u001b[1;32m<ipython-input-75-aa6155c8e9a5>\u001b[0m in \u001b[0;36mforward\u001b[1;34m(self, x1, x2)\u001b[0m\n\u001b[0;32m     50\u001b[0m             \u001b[1;31m#lstm\u001b[0m\u001b[1;33m\u001b[0m\u001b[1;33m\u001b[0m\u001b[1;33m\u001b[0m\u001b[0m\n\u001b[0;32m     51\u001b[0m             \u001b[0mx\u001b[0m \u001b[1;33m=\u001b[0m \u001b[0mself\u001b[0m\u001b[1;33m.\u001b[0m\u001b[0membedding\u001b[0m\u001b[1;33m(\u001b[0m\u001b[0mx1\u001b[0m\u001b[1;33m)\u001b[0m\u001b[1;33m\u001b[0m\u001b[1;33m\u001b[0m\u001b[0m\n\u001b[1;32m---> 52\u001b[1;33m             \u001b[0mx\u001b[0m\u001b[1;33m,\u001b[0m\u001b[0m_\u001b[0m \u001b[1;33m=\u001b[0m \u001b[0mself\u001b[0m\u001b[1;33m.\u001b[0m\u001b[0mrnn\u001b[0m\u001b[1;33m(\u001b[0m\u001b[0mx\u001b[0m\u001b[1;33m)\u001b[0m\u001b[1;33m\u001b[0m\u001b[1;33m\u001b[0m\u001b[0m\n\u001b[0m\u001b[0;32m     53\u001b[0m             \u001b[0mx\u001b[0m \u001b[1;33m=\u001b[0m \u001b[0mF\u001b[0m\u001b[1;33m.\u001b[0m\u001b[0mdropout\u001b[0m\u001b[1;33m(\u001b[0m\u001b[0mx\u001b[0m\u001b[1;33m,\u001b[0m\u001b[0mp\u001b[0m\u001b[1;33m=\u001b[0m\u001b[1;36m0.8\u001b[0m\u001b[1;33m)\u001b[0m\u001b[1;33m\u001b[0m\u001b[1;33m\u001b[0m\u001b[0m\n\u001b[0;32m     54\u001b[0m             \u001b[0mx\u001b[0m \u001b[1;33m=\u001b[0m \u001b[0mself\u001b[0m\u001b[1;33m.\u001b[0m\u001b[0mf1\u001b[0m\u001b[1;33m(\u001b[0m\u001b[0mx\u001b[0m\u001b[1;33m[\u001b[0m\u001b[1;33m:\u001b[0m\u001b[1;33m,\u001b[0m\u001b[1;33m-\u001b[0m\u001b[1;36m1\u001b[0m\u001b[1;33m,\u001b[0m\u001b[1;33m:\u001b[0m\u001b[1;33m]\u001b[0m\u001b[1;33m)\u001b[0m\u001b[1;33m\u001b[0m\u001b[1;33m\u001b[0m\u001b[0m\n",
      "\u001b[1;32m~\\Anaconda3\\lib\\site-packages\\torch\\nn\\modules\\module.py\u001b[0m in \u001b[0;36m__call__\u001b[1;34m(self, *input, **kwargs)\u001b[0m\n\u001b[0;32m    487\u001b[0m             \u001b[0mresult\u001b[0m \u001b[1;33m=\u001b[0m \u001b[0mself\u001b[0m\u001b[1;33m.\u001b[0m\u001b[0m_slow_forward\u001b[0m\u001b[1;33m(\u001b[0m\u001b[1;33m*\u001b[0m\u001b[0minput\u001b[0m\u001b[1;33m,\u001b[0m \u001b[1;33m**\u001b[0m\u001b[0mkwargs\u001b[0m\u001b[1;33m)\u001b[0m\u001b[1;33m\u001b[0m\u001b[1;33m\u001b[0m\u001b[0m\n\u001b[0;32m    488\u001b[0m         \u001b[1;32melse\u001b[0m\u001b[1;33m:\u001b[0m\u001b[1;33m\u001b[0m\u001b[1;33m\u001b[0m\u001b[0m\n\u001b[1;32m--> 489\u001b[1;33m             \u001b[0mresult\u001b[0m \u001b[1;33m=\u001b[0m \u001b[0mself\u001b[0m\u001b[1;33m.\u001b[0m\u001b[0mforward\u001b[0m\u001b[1;33m(\u001b[0m\u001b[1;33m*\u001b[0m\u001b[0minput\u001b[0m\u001b[1;33m,\u001b[0m \u001b[1;33m**\u001b[0m\u001b[0mkwargs\u001b[0m\u001b[1;33m)\u001b[0m\u001b[1;33m\u001b[0m\u001b[1;33m\u001b[0m\u001b[0m\n\u001b[0m\u001b[0;32m    490\u001b[0m         \u001b[1;32mfor\u001b[0m \u001b[0mhook\u001b[0m \u001b[1;32min\u001b[0m \u001b[0mself\u001b[0m\u001b[1;33m.\u001b[0m\u001b[0m_forward_hooks\u001b[0m\u001b[1;33m.\u001b[0m\u001b[0mvalues\u001b[0m\u001b[1;33m(\u001b[0m\u001b[1;33m)\u001b[0m\u001b[1;33m:\u001b[0m\u001b[1;33m\u001b[0m\u001b[1;33m\u001b[0m\u001b[0m\n\u001b[0;32m    491\u001b[0m             \u001b[0mhook_result\u001b[0m \u001b[1;33m=\u001b[0m \u001b[0mhook\u001b[0m\u001b[1;33m(\u001b[0m\u001b[0mself\u001b[0m\u001b[1;33m,\u001b[0m \u001b[0minput\u001b[0m\u001b[1;33m,\u001b[0m \u001b[0mresult\u001b[0m\u001b[1;33m)\u001b[0m\u001b[1;33m\u001b[0m\u001b[1;33m\u001b[0m\u001b[0m\n",
      "\u001b[1;32m~\\Anaconda3\\lib\\site-packages\\torch\\nn\\modules\\rnn.py\u001b[0m in \u001b[0;36mforward\u001b[1;34m(self, input, hx)\u001b[0m\n\u001b[0;32m    177\u001b[0m         \u001b[1;32mif\u001b[0m \u001b[0mbatch_sizes\u001b[0m \u001b[1;32mis\u001b[0m \u001b[1;32mNone\u001b[0m\u001b[1;33m:\u001b[0m\u001b[1;33m\u001b[0m\u001b[1;33m\u001b[0m\u001b[0m\n\u001b[0;32m    178\u001b[0m             result = _impl(input, hx, self._flat_weights, self.bias, self.num_layers,\n\u001b[1;32m--> 179\u001b[1;33m                            self.dropout, self.training, self.bidirectional, self.batch_first)\n\u001b[0m\u001b[0;32m    180\u001b[0m         \u001b[1;32melse\u001b[0m\u001b[1;33m:\u001b[0m\u001b[1;33m\u001b[0m\u001b[1;33m\u001b[0m\u001b[0m\n\u001b[0;32m    181\u001b[0m             result = _impl(input, batch_sizes, hx, self._flat_weights, self.bias,\n",
      "\u001b[1;31mKeyboardInterrupt\u001b[0m: "
     ]
    }
   ],
   "source": [
    "train_2(optimizer, change_model, scheduler)"
   ]
  },
  {
   "cell_type": "markdown",
   "metadata": {},
   "source": [
    "### 绘制loss"
   ]
  },
  {
   "cell_type": "code",
   "execution_count": 94,
   "metadata": {},
   "outputs": [
    {
     "data": {
      "image/png": "[encoded data removed]",
      "text/plain": [
       "<Figure size 432x288 with 2 Axes>"
      ]
     },
     "metadata": {},
     "output_type": "display_data"
    }
   ],
   "source": [
    "draw(train_loss_2_list, val_loss_2_list)"
   ]
  },
  {
   "cell_type": "code",
   "execution_count": null,
   "metadata": {
    "collapsed": true
   },
   "outputs": [],
   "source": [
    "model = LSTM_CNN()\n",
    "Loss = nn.MSELoss()\n",
    "model.load_state_dict(torch.load('C:/Users/wuxun/Desktop/Data/save_model/189epoch_20200713_params.pkl'))\n",
    "x1 = Variable(torch.LongTensor(x_batch_train[:10]))\n",
    "x2 = Variable(torch.FloatTensor(x_csv_train[:10]))\n",
    "x3 = Variable(torch.FloatTensor(target_list_train[:10]))\n",
    "print(\"target.shape: \"+str(x3.shape))\n",
    "print(x3)\n",
    "y = Variable(torch.FloatTensor(y_csv_train[:10]))\n",
    "pred = model(x1, x2)\n",
    "change_model = Change()\n",
    "pred2 = change_model(pred)\n",
    "print(\"pred2.shape: \"+str(pred2.shape))\n",
    "print(pred2)\n",
    "loss = Loss(pred2, x3)\n",
    "print(loss)"
   ]
  },
  {
   "cell_type": "markdown",
   "metadata": {},
   "source": [
    "### 计算R@1在tIOU为0.1/0.3/0.5/0.7的值"
   ]
  },
  {
   "cell_type": "code",
   "execution_count": null,
   "metadata": {
    "collapsed": true
   },
   "outputs": [],
   "source": [
    "def calculate_IoU(i0,i1):\n",
    "    union = (min(i0[0], i1[0]), max(i0[1], i1[1]))\n",
    "    inter = (max(i0[0], i1[0]), min(i0[1], i1[1]))\n",
    "    iou = 1.0*(inter[1]-inter[0])/(union[1]-union[0])\n",
    "    return iou"
   ]
  },
  {
   "cell_type": "code",
   "execution_count": null,
   "metadata": {
    "collapsed": true
   },
   "outputs": [],
   "source": [
    "'''\n",
    "compute recall at certain IoU\n",
    "'''\n",
    "def compute_IoU_recall_top_n_forreg(top_n, iou_thresh, sentence_image_mat, sentence_image_reg_mat, sclips, iclips):\n",
    "    correct_num = 0.0\n",
    "    for k in range(sentence_image_mat.shape[0]):\n",
    "        gt = sclips[k]\n",
    "        gt_start = float(gt.split(\"_\")[1])\n",
    "        gt_end = float(gt.split(\"_\")[2])\n",
    "        sim_v = [v for v in sentence_image_mat[k]]\n",
    "        starts = [s for s in sentence_image_reg_mat[k,:,0]]\n",
    "        ends = [e for e in sentence_image_reg_mat[k,:,1]]\n",
    "        picks = nms_temporal(starts,ends, sim_v, iou_thresh-0.05)\n",
    "        #sim_argsort=np.argsort(sim_v)[::-1][0:top_n]\n",
    "        if top_n<len(picks): picks=picks[0:top_n]\n",
    "        for index in picks:\n",
    "            pred_start = sentence_image_reg_mat[k, index, 0]\n",
    "            pred_end = sentence_image_reg_mat[k, index, 1]\n",
    "            iou = calculate_IoU((gt_start, gt_end),(pred_start, pred_end))\n",
    "            if iou>=iou_thresh:\n",
    "                correct_num+=1\n",
    "                break\n",
    "    return correct_num"
   ]
  },
  {
   "cell_type": "markdown",
   "metadata": {},
   "source": [
    "### VAL_测试"
   ]
  },
  {
   "cell_type": "code",
   "execution_count": null,
   "metadata": {
    "collapsed": true
   },
   "outputs": [],
   "source": [
    "val = []\n",
    "resualt_text_path='C:/Users/wuxun/Desktop/resulat.txt'"
   ]
  },
  {
   "cell_type": "code",
   "execution_count": null,
   "metadata": {
    "collapsed": true
   },
   "outputs": [],
   "source": [
    "def train_3():\n",
    "    change_model = Change()\n",
    "    model = LSTM_CNN()\n",
    "    model.load_state_dict(torch.load('C:/Users/wuxun/Desktop/Data/save_model/60poch_20200713_params.pkl'))\n",
    "    optimizer = optim.Adam(change_model.parameters(), lr = 0.001)\n",
    "    best_val_loss_2 = 1000000\n",
    "    print(\"train begin......\")\n",
    "    with open(resualt_text_path,'a') as f:\n",
    " \n",
    "        for epoch in range(200):\n",
    "            batch_val = batch_iter(x_batch_val, x_csv_val, y_csv_val,source_list_val,target_list_val, batch_size)\n",
    "            count = 0\n",
    "            val_loss_sum = 0\n",
    "            val_loss_avg = 0 \n",
    "            val_alignmentloss_sum =0\n",
    "            val_regloss_sum =0\n",
    "            for x_batch, x_csv, y_csv, source_time, target_time in batch_val:\n",
    "                if x_csv.shape[0]==batch_size:\n",
    "                    count += 1\n",
    "                    x1 = Variable(torch.LongTensor(x_batch))\n",
    "                    x2 = Variable(torch.FloatTensor(np.array(x_csv)))\n",
    "                    source_time = Variable(torch.FloatTensor(np.array(source_time)))\n",
    "                    target_time = Variable(torch.FloatTensor(np.array(target_time)))\n",
    "                    pred = model(x1, x2)\n",
    "                    pred2, loss_alignment = change_model(pred)\n",
    "\n",
    "                    loss_reg = torch.abs(pred2 - target_time).mean()\n",
    "                    for i in range(pred2.shape[0]):\n",
    "                        f.write('target_time:[%d, %d]      (l_reg, r_reg):[%.3f, %.3f]\\n' %(target_time[i][0],target_time[i][1],pred2[i][0], pred2[i][1]))\n",
    "                        #print('target_time:[%d, %d]  (l_reg, r_reg):[%.3f, %.3f]' %(target_time[i][0],target_time[i][1],pred2[i][0], pred2[i][1]))\n",
    "                    val_regloss_sum +=loss_reg\n",
    "                    loss_reg = loss_reg*lamba + loss_alignment\n",
    "\n",
    "                    val_loss_sum +=loss_reg\n",
    "                    val_alignmentloss_sum += loss_alignment\n",
    "\n",
    "                    optimizer.zero_grad()\n",
    "                    loss_reg.backward()\n",
    "                    nn.utils.clip_grad_norm_(change_model.parameters(), max_norm=20, norm_type=2)#梯度裁剪\n",
    "                    optimizer.step()\n",
    "\n",
    "            val_loss_avg = val_loss_sum / count\n",
    "            f.write(\"======================================================================================\\n\")\n",
    "            #print(\"============================================================================\")\n",
    "            #print(\"epoch\"+str(epoch)+\": sum_loss:\"+str((val_loss_avg))+\"  loss_alignment: \"+str(val_alignmentloss_sum/count)+\"  loss_reg: \"+str(val_regloss_sum/count))\n",
    "            f.write('[epoch:%d]     sum_loss: %.3f     loss_alignment: %.3f    loss_reg: %.3f\\n' %(epoch, val_loss_avg, val_alignmentloss_sum/count, val_regloss_sum/count))\n",
    "            print('[epoch:%d]   sum_loss: %.3f   loss_alignment: %.3f  loss_reg: %.3f' %(epoch, val_loss_avg, val_alignmentloss_sum/count, val_regloss_sum/count))\n",
    "            val.append(val_loss_avg)        \n",
    "        "
   ]
  },
  {
   "cell_type": "code",
   "execution_count": null,
   "metadata": {
    "collapsed": true,
    "scrolled": false
   },
   "outputs": [],
   "source": [
    "train_3()"
   ]
  }
 ],
 "metadata": {
  "kernelspec": {
   "display_name": "Python [conda env:Anaconda3]",
   "language": "python",
   "name": "conda-env-Anaconda3-py"
  },
  "language_info": {
   "codemirror_mode": {
    "name": "ipython",
    "version": 3
   },
   "file_extension": ".py",
   "mimetype": "text/x-python",
   "name": "python",
   "nbconvert_exporter": "python",
   "pygments_lexer": "ipython3",
   "version": "3.6.8"
  }
 },
 "nbformat": 4,
 "nbformat_minor": 2
}
