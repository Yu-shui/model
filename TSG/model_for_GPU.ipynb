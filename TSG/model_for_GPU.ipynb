{
 "cells": [
  {
   "cell_type": "markdown",
   "metadata": {},
   "source": [
    "## 导入包"
   ]
  },
  {
   "cell_type": "code",
   "execution_count": null,
   "metadata": {},
   "outputs": [],
   "source": [
    "import torch\n",
    "import torch.nn as nn\n",
    "import torch.nn.functional as F\n",
    "import torch.optim as optim\n",
    "\n",
    "import numpy as np\n",
    "import pandas as pd\n",
    "import torchvision\n",
    "from torch.utils.data import DataLoader\n",
    "from datetime import datetime  # 用于计算时间\n",
    "\n",
    "import os\n",
    "import sys\n",
    "from collections import Counter\n",
    "import re\n",
    "\n",
    "#import tensorflow.contrib.keras as kr\n",
    "from torch.nn.utils.rnn import pack_padded_sequence\n",
    "from torch.nn.utils.rnn import pad_packed_sequence\n",
    "\n",
    "#from torchtext import data\n",
    "import jieba\n",
    "\n",
    "#import cv2\n",
    "import os\n",
    "\n",
    "from torch.autograd import Variable\n",
    "#import tensorwatch as tw\n",
    "import torchvision.models\n",
    "\n",
    "from pathlib import Path\n",
    "import pandas as pd\n",
    "\n",
    "import matplotlib.pyplot as plt\n",
    "torch.set_printoptions(precision=15)\n",
    "pd.set_option('display.max_rows',None)\n",
    "pd.set_option('display.max_columns',None)\n",
    "np.set_printoptions(threshold=np.inf)\n",
    "\n",
    "import time\n",
    "import random\n",
    "\n",
    "from torch.autograd import Variable\n",
    "from torch.autograd import Function\n",
    "\n",
    "import seaborn as sns\n",
    "# seaborn中文乱码解决方案\n",
    "from matplotlib.font_manager import FontProperties\n",
    "\n",
    "from tensorboardX import SummaryWriter\n",
    "import torch.backends.cudnn as cudnn"
   ]
  },
  {
   "cell_type": "markdown",
   "metadata": {},
   "source": [
    "## 路径"
   ]
  },
  {
   "cell_type": "code",
   "execution_count": null,
   "metadata": {
    "collapsed": true
   },
   "outputs": [],
   "source": [
    "vocab_dir = './data/vocab.txt'\n",
    "train_path = './data/training/training.txt'\n",
    "val_path = './data/validation/validation.txt'\n",
    "csv_path = './data/csv'\n",
    "test_path = './data/test/test.txt'\n",
    "run_path = './runs/'\n",
    "save_the_first_model_path = './data/save/save_model/' "
   ]
  },
  {
   "cell_type": "markdown",
   "metadata": {},
   "source": [
    "## GPU"
   ]
  },
  {
   "cell_type": "code",
   "execution_count": null,
   "metadata": {
    "collapsed": true
   },
   "outputs": [],
   "source": [
    "#验证gpu是否有效\n",
    "print(torch.cuda.is_available())\n",
    "if torch.cuda.is_available():\n",
    "    gpu_id = 0\n",
    "    torch.cuda.set_device(gpu_id)"
   ]
  },
  {
   "cell_type": "code",
   "execution_count": null,
   "metadata": {
    "collapsed": true
   },
   "outputs": [],
   "source": [
    "#固定随机数种子\n",
    "seed = 0\n",
    "torch.manual_seed(seed)\n",
    "torch.cuda.manual_seed(seed)\n",
    "torch.cuda.manual_seed_all(seed)\n",
    "np.random.seed(seed)\n",
    "random.seed(seed)"
   ]
  },
  {
   "cell_type": "markdown",
   "metadata": {},
   "source": [
    "## 功能函数"
   ]
  },
  {
   "cell_type": "code",
   "execution_count": null,
   "metadata": {
    "collapsed": true
   },
   "outputs": [],
   "source": [
    "def write_resualt_file(path, line):\n",
    "    with open(path, 'a') as f:\n",
    "        f.write(line+'\\n')"
   ]
  },
  {
   "cell_type": "code",
   "execution_count": null,
   "metadata": {
    "collapsed": true
   },
   "outputs": [],
   "source": [
    "def draw(train_loss_list, val_loss_list):\n",
    "    x1 = range(0, len(train_loss_list))\n",
    "    x2 = range(0, len(val_loss_list))\n",
    "    #with plt.style.context(['science']):\n",
    "    plt.subplot(2, 1, 1)\n",
    "    plt.plot(x1, train_loss_list[:len(train_loss_list)], 'o-')\n",
    "    plt.title('train loss vs. epoches')\n",
    "    plt.ylabel('train loss')\n",
    "    plt.subplot(2, 1, 2)\n",
    "    plt.plot(x2,val_loss_list[:len(val_loss_list)] , '.-')\n",
    "    plt.xlabel('Val loss vs. epoches')\n",
    "    plt.ylabel('Val loss')\n",
    "    plt.show()"
   ]
  },
  {
   "cell_type": "code",
   "execution_count": null,
   "metadata": {
    "collapsed": true
   },
   "outputs": [],
   "source": [
    "def draw_data(data_list):\n",
    "    '''\n",
    "    绘制数据直方图分布\n",
    "    '''\n",
    "    print(type(data_list[0]))\n",
    "    print(len(data_list))\n",
    "    Max_v=-1;\n",
    "    Min_v=2000\n",
    "    for i in range(len(data_list)):\n",
    "        if data_list[i] > Max_v:\n",
    "            Max_v = data_list[i]\n",
    "        if data_list[i] < Min_v:\n",
    "            Min_v = data_list[i]\n",
    "    print(Max_v, Min_v)\n",
    "    num_block = int((Max_v - Min_v)/10)\n",
    "    print(num_block)\n",
    "    plt.hist(x = data_list, # 指定绘图数据\n",
    "         bins = num_block + 1, # 指定直方图中条块的个数\n",
    "         color = 'steelblue', # 指定直方图的填充色\n",
    "         edgecolor = 'black' # 指定直方图的边框色\n",
    "         )\n",
    "    # 添加x轴和y轴标签\n",
    "    plt.xlabel('偏差')\n",
    "    plt.ylabel('频数')\n",
    "    # 添加标题\n",
    "    plt.title('偏差分布')\n",
    "    # 显示图形\n",
    "    plt.show()"
   ]
  },
  {
   "cell_type": "code",
   "execution_count": null,
   "metadata": {
    "collapsed": true
   },
   "outputs": [],
   "source": [
    "def get_distance(x, y):\n",
    "    return np.sqrt(np.sum(np.square(x - y)))"
   ]
  },
  {
   "cell_type": "code",
   "execution_count": null,
   "metadata": {
    "collapsed": true
   },
   "outputs": [],
   "source": [
    "def close_grad(model):\n",
    "    '''\n",
    "    冻结模型\n",
    "    '''\n",
    "    model.eval()\n",
    "    for param in model.parameters():\n",
    "        param.requires_grad = False"
   ]
  },
  {
   "cell_type": "code",
   "execution_count": null,
   "metadata": {
    "collapsed": true
   },
   "outputs": [],
   "source": [
    "def adjust_learning_rate(optimizer, inital_lr, lr_decay = 2e-3):\n",
    "    \"\"\"\n",
    "    Updates the learning rate given the learning rate decay.\n",
    "    \"\"\"\n",
    "    for group in optimizer.param_groups:\n",
    "        if 'step' not in group:\n",
    "            group['step'] = 0\n",
    "        group['step'] += 1\n",
    "        group['lr'] = inital_lr / (1 + group['step'] * lr_decay)"
   ]
  },
  {
   "cell_type": "code",
   "execution_count": null,
   "metadata": {
    "collapsed": true
   },
   "outputs": [],
   "source": [
    "def get_learning_rate(optimizer):\n",
    "    for p in optimizer.param_groups:\n",
    "        lr = p['lr']\n",
    "    return lr"
   ]
  },
  {
   "cell_type": "code",
   "execution_count": null,
   "metadata": {
    "collapsed": true
   },
   "outputs": [],
   "source": [
    " def read_file(filename):\n",
    "\n",
    "    \"\"\"读取文件数据\"\"\"\n",
    "    \n",
    "    contents = []\n",
    "    with open(filename) as f:\n",
    "        for line in f:\n",
    "            contents.append(re.split('[, \\n.]',line))\n",
    "    return contents"
   ]
  },
  {
   "cell_type": "code",
   "execution_count": null,
   "metadata": {
    "collapsed": true
   },
   "outputs": [],
   "source": [
    "def build_vocab(text_dir, vocab_dir, vocab_size=3000):\n",
    "\n",
    "    \"\"\"根据训练集构建词汇表，存储\"\"\"\n",
    "    data_train = read_file(text_dir)\n",
    "    all_data = []\n",
    "    for content in data_train:\n",
    "        for k in content:\n",
    "            if len(k)!=0:\n",
    "                all_data.append(k)\n",
    "    print(all_data)\n",
    "    counter = Counter(all_data)\n",
    "    count_pairs = counter.most_common(vocab_size - 1)\n",
    "    words, _ = list(zip(*count_pairs))\n",
    "    # 添加一个 <PAD> 来将所有文本pad为同一长度\n",
    "    words = ['<PAD>'] + list(words)\n",
    "    open(vocab_dir, mode='w').write('\\n'.join(words) + '\\n')"
   ]
  },
  {
   "cell_type": "code",
   "execution_count": null,
   "metadata": {
    "collapsed": true
   },
   "outputs": [],
   "source": [
    "def read_vocab(vocab_dir):\n",
    "\n",
    "    \"\"\"读取词汇表\"\"\"\n",
    "\n",
    "    with open(vocab_dir) as fp:\n",
    "        words = [(_.strip()) for _ in fp.readlines()]\n",
    "    word_to_id = dict(zip(words, range(len(words))))\n",
    "    return words, word_to_id"
   ]
  },
  {
   "cell_type": "code",
   "execution_count": null,
   "metadata": {
    "collapsed": true
   },
   "outputs": [],
   "source": [
    "def to_words(content, words):\n",
    "\n",
    "    \"\"\"将id表示的内容转换为文字\"\"\"\n",
    "\n",
    "    return ''.join(words[x] for x in content)"
   ]
  },
  {
   "cell_type": "code",
   "execution_count": null,
   "metadata": {
    "collapsed": true
   },
   "outputs": [],
   "source": [
    "def get_dict(path, csv_path):\n",
    "    '''\n",
    "    获得最终的数据集\n",
    "    path:文本数据集\n",
    "    '''\n",
    "    words, word_to_id = read_vocab(vocab_dir)\n",
    "    data_id = []\n",
    "    source_csv=[]\n",
    "    target_csv=[]\n",
    "    source_time_list=[]\n",
    "    target_time_list=[]\n",
    "    distance_list = []\n",
    "    Max_len=-1\n",
    "    count=0\n",
    "    with open(path) as contents:\n",
    "        for line in contents:\n",
    "            count+=1\n",
    "            List = line.split('#')\n",
    "            video_name = List[0]\n",
    "            time_length = float(List[1])\n",
    "            foldtype = List[2]\n",
    "            recipetype = List[3]\n",
    "            source = List[4]\n",
    "            target = List[5]\n",
    "            \n",
    "            #将句子转换为id表示：\n",
    "            sentence = List[6].strip('\\n').strip()\n",
    "            sentence = re.split(r\"[,| |.]\",sentence)\n",
    "            sentence_id = [word_to_id[x] for x in sentence if x in word_to_id]\n",
    "            if len(sentence_id) > Max_len:\n",
    "                Max_len = len(sentence_id)\n",
    "            data_id.append(sentence_id)\n",
    "            \n",
    "            #寻找路径,先统一取0001\n",
    "            dir_path = csv_path+'/'+foldtype+'/'+recipetype+'/'+video_name+'/0001/'\n",
    "            name = os.listdir(dir_path)[0]\n",
    "            dir_path = dir_path + name\n",
    "            \n",
    "            #读取csv文件\n",
    "            my_file = Path(dir_path)\n",
    "            if my_file.exists():\n",
    "                frame_sum = pd.read_csv(dir_path, header=None)\n",
    "            else:\n",
    "                print(\"目录不存在！\")\n",
    "            #确定时间点\n",
    "            source = source.split('_')\n",
    "            target = target.split('_')\n",
    "            \n",
    "            source_time = (float(source[0]) + float(source[1])) // 2\n",
    "            source_time_len = np.abs(float(source[1]) - float(source[0]))\n",
    "            source_time_list.append([float(source[0]), float(source[1])])\n",
    "            source_frame_num = int(source_time / time_length * 500)\n",
    "            source_frame = frame_sum.loc[source_frame_num]\n",
    "            source_csv.append([source_frame])\n",
    "            \n",
    "            target_time = (float(target[0]) + float(target[1])) // 2\n",
    "            target_time_len = np.abs(float(target[1]) - float(target[0]))\n",
    "            target_time_list.append([float(target[0]), float(target[1])])\n",
    "            target_frame_num = int(target_time / time_length * 500)\n",
    "            target_frame = frame_sum.loc[target_frame_num]\n",
    "            target_csv.append([target_frame])\n",
    "            '''\n",
    "            gt_dist:中间值与长度的欧氏距离之和\n",
    "            '''\n",
    "            gt_dist = get_distance(source_time, target_time) + get_distance(source_time_len, target_time_len)\n",
    "            distance_list.append([0, gt_dist])\n",
    "            \n",
    "    #将所有的句子pad为同一最大长度\n",
    "    batch_data_id = np.array([line +[0] * (Max_len - len(line)) for line in data_id])\n",
    "    batch_seq = torch.LongTensor(batch_data_id)\n",
    "    print(len(batch_seq),len(source_csv),len(target_csv))\n",
    "    return batch_seq, source_csv, target_csv, source_time_list, target_time_list, distance_list"
   ]
  },
  {
   "cell_type": "code",
   "execution_count": null,
   "metadata": {
    "collapsed": true
   },
   "outputs": [],
   "source": [
    "def batch_iter(x_batch, x_csv, y_csv, source_list, target_list, distance_list, batch_size = 64):\n",
    "    \"\"\"\n",
    "    生成批次数据\n",
    "    \"\"\"\n",
    "    data_len = x_batch.shape[0]\n",
    "    num_batch = int((data_len - 1) / batch_size) + 1\n",
    "\n",
    "    indices = np.random.permutation(np.arange(data_len))\n",
    "    x_batch_shuffle = x_batch[indices]\n",
    "    x_csv_shuffle =np.array(x_csv)[indices]\n",
    "    y_csv_shuffle = np.array(y_csv)[indices]\n",
    "    source_list = np.array(source_list)[indices]\n",
    "    target_list = np.array(target_list)[indices]\n",
    "    distance_list = np.array(distance_list)[indices]\n",
    "\n",
    "    for i in range(num_batch):\n",
    "        start_id = i * batch_size\n",
    "        end_id = min((i + 1) * batch_size, data_len)\n",
    "        yield x_batch_shuffle[start_id:end_id], x_csv_shuffle[start_id:end_id], y_csv_shuffle[start_id:end_id], source_list[start_id:end_id], target_list[start_id:end_id], distance_list[start_id:end_id]"
   ]
  },
  {
   "cell_type": "markdown",
   "metadata": {},
   "source": [
    "## 读取数据"
   ]
  },
  {
   "cell_type": "code",
   "execution_count": null,
   "metadata": {
    "collapsed": true
   },
   "outputs": [],
   "source": [
    "#训练集\n",
    "x_batch_train, x_csv_train, y_csv_train, source_list_train, target_list_train, distance_train_list = get_dict(train_path, csv_path)"
   ]
  },
  {
   "cell_type": "code",
   "execution_count": null,
   "metadata": {
    "collapsed": true
   },
   "outputs": [],
   "source": [
    "#验证集\n",
    "x_batch_val, x_csv_val, y_csv_val, source_list_val, target_list_val, distance_val_list = get_dict(val_path, csv_path)"
   ]
  },
  {
   "cell_type": "markdown",
   "metadata": {},
   "source": [
    "## 基础模型定义"
   ]
  },
  {
   "cell_type": "code",
   "execution_count": null,
   "metadata": {
    "collapsed": true
   },
   "outputs": [],
   "source": [
    "def weights_init(m):\n",
    "    '''\n",
    "    参数初始化函数\n",
    "    '''\n",
    "    classname = m.__class__.__name__\n",
    "    if classname.find('Conv') != -1:\n",
    "        torch.nn.init.normal_(m.weight.data, mean=0, std=0.01)\n",
    "        m.bias.data.fill_(0)\n",
    "        \n",
    "    elif classname.find('Linear') != -1:\n",
    "        torch.nn.init.normal_(m.weight.data)\n",
    "        m.bias.data.fill_(0)"
   ]
  },
  {
   "cell_type": "markdown",
   "metadata": {},
   "source": [
    "#### LSTM_CNN"
   ]
  },
  {
   "cell_type": "code",
   "execution_count": null,
   "metadata": {
    "collapsed": true
   },
   "outputs": [],
   "source": [
    "# 定义LSTM的结构\n",
    "class LSTM_CNN(nn.Module):\n",
    "    \n",
    "    def __init__(self):\n",
    "        super(LSTM_CNN, self).__init__()\n",
    "        \n",
    "        self.embedding = nn.Embedding(5000, 64)\n",
    "        #self.rnn = nn.GRU(input_size=64, hidden_size=256, num_layers=2, bidirectional=True)\n",
    "        self.rnn = nn.LSTM(input_size=64, hidden_size=256, num_layers=2, bidirectional=True)\n",
    "        self.f1 = nn.Sequential(nn.Linear(512,128), nn.Dropout(0.8), nn.ReLU())        \n",
    "        \n",
    "        self.conv1 = torch.nn.Conv1d(512, 256, kernel_size=1, stride=1)\n",
    "        self.conv2 = torch.nn.Conv1d(256, 128, kernel_size=1, stride=1)\n",
    "\n",
    "        self.fc1 = torch.nn.Linear(512,128)\n",
    "        self.fc1_drop = torch.nn.Dropout(p=0.4)\n",
    "        self.fc2 = torch.nn.Linear(128, 64)\n",
    "        \n",
    "        self.final_fc = nn.Linear(in_features=256, out_features=128)\n",
    "        \n",
    "        # Initializing weights\n",
    "        self.apply(weights_init)\n",
    "        \n",
    "        \n",
    "    def cnnout(self, x2):\n",
    "        x2 = x2.permute(0, 2, 1)\n",
    "        out1 = self.conv1(x2)\n",
    "        out1_norm = F.normalize(out1, p=2, dim = 1)\n",
    "        out2 = self.conv2(out1_norm)\n",
    "        out2_norm = F.normalize(out2, p=2, dim = 1)\n",
    "        return out2_norm\n",
    "        \n",
    "        \n",
    "    def forward(self, x1, x2): \n",
    "        if x1.shape[0]!=2:\n",
    "            '''\n",
    "            语义特征提取\n",
    "            '''\n",
    "            x = self.embedding(x1)\n",
    "            x,_ = self.rnn(x)\n",
    "            x = F.dropout(x, p=0.8)\n",
    "            lstm_output = self.f1(x[:,-1,:])\n",
    "            \n",
    "            '''\n",
    "            source帧特征提取\n",
    "            '''\n",
    "            cnn_out=self.cnnout(x2)\n",
    "            \n",
    "            '''\n",
    "            文本与图像特征融合\n",
    "            '''\n",
    "            cnn_out = cnn_out.squeeze(2)\n",
    "            output = torch.cat((lstm_output, cnn_out), 1)\n",
    "            output = self.final_fc(output)\n",
    "            return output.unsqueeze(1)\n",
    "        \n",
    "        else:\n",
    "            '''\n",
    "            target帧特征提取\n",
    "            '''\n",
    "            cnn_out=self.cnnout(x2)\n",
    "            cnn_out = cnn_out.squeeze(2)\n",
    "            return cnn_out.unsqueeze(1)"
   ]
  },
  {
   "cell_type": "markdown",
   "metadata": {},
   "source": [
    "#### Log-RatioLoss 损失函数定义"
   ]
  },
  {
   "cell_type": "code",
   "execution_count": null,
   "metadata": {
    "collapsed": true
   },
   "outputs": [],
   "source": [
    "class L2dist(Function):\n",
    "    '''\n",
    "    L2 normal\n",
    "    '''\n",
    "    def __init__(self, p):\n",
    "        super(L2dist, self).__init__()\n",
    "        self.norm = p             # norm 2\n",
    "\n",
    "    def forward(self, x1, x2):\n",
    "        eps = 1e-4 / x1.size(0)\n",
    "        diff = torch.abs(x1 - x2)\n",
    "        out = torch.pow(diff, self.norm).sum(dim = 1)\n",
    "        return torch.pow(out + eps, 1. / self.norm)"
   ]
  },
  {
   "cell_type": "code",
   "execution_count": null,
   "metadata": {
    "collapsed": true
   },
   "outputs": [],
   "source": [
    "class LogRatioLoss(Function):\n",
    "    \"\"\"Log ratio loss function. \"\"\"\n",
    "    def __init__(self):\n",
    "        super(LogRatioLoss, self).__init__()\n",
    "        self.pdist = L2dist(2)    # norm 2\n",
    "\n",
    "    def forward(self, input, gt_dist):#gt_dist[2], input:[num, embed_size]\n",
    "        m = input.size()[0] - 1   # #paired\n",
    "        a = input[0]              # anchor\n",
    "        p = input[1:]             # paired (postive, negtive)\n",
    "        \n",
    "        # auxiliary variables\n",
    "        idxs = torch.arange(1, m + 1).cuda()\n",
    "        indc = idxs.repeat(m,1).t() < idxs.repeat(m,1)\n",
    "\n",
    "        epsilon = 1e-6\n",
    "        dist = self.pdist.forward(a, p)\n",
    "        \n",
    "        log_dist = torch.log(dist + epsilon)\n",
    "        log_gt_dist = torch.log(gt_dist + epsilon)\n",
    "        \n",
    "        diff_log_dist = log_dist.repeat(m, 1).t() - log_dist.repeat(m, 1)#log相减就是相除\n",
    "        diff_log_gt_dist = log_gt_dist.repeat(m, 1).t() - log_gt_dist.repeat(m, 1)\n",
    "\n",
    "        #uniform weight coefficients \n",
    "        wgt = indc.clone().float()\n",
    "        wgt = wgt.div(wgt.sum())\n",
    "\n",
    "        log_ratio_loss = (diff_log_dist - diff_log_gt_dist).pow(2)\n",
    "\n",
    "        loss = log_ratio_loss\n",
    "        loss = loss.mul(wgt).sum()\n",
    "\n",
    "        return loss"
   ]
  },
  {
   "cell_type": "markdown",
   "metadata": {},
   "source": [
    "#### 支持批处理的Log-Radio-loss"
   ]
  },
  {
   "cell_type": "code",
   "execution_count": null,
   "metadata": {
    "collapsed": true
   },
   "outputs": [],
   "source": [
    "class L2dist_for_batch(Function):\n",
    "    '''\n",
    "    L2 normal for batch\n",
    "    '''\n",
    "    def __init__(self, p):\n",
    "        super(L2dist_for_batch, self).__init__()\n",
    "        self.norm = p             # norm 2\n",
    "\n",
    "    def forward(self, x1, x2):\n",
    "        eps = 1e-4 / x1.size(1)\n",
    "        x1 = x1.unsqueeze(1) \n",
    "        diff = torch.abs(x1 - x2)\n",
    "        out = torch.pow(diff, self.norm).sum(dim = 2)\n",
    "        \n",
    "        return torch.pow(out + eps, 1. / self.norm)"
   ]
  },
  {
   "cell_type": "code",
   "execution_count": null,
   "metadata": {
    "collapsed": true
   },
   "outputs": [],
   "source": [
    "def op(dist, batch):\n",
    "    '''\n",
    "    diff_log_dist = log_dist.repeat(m, 1).t() - log_dist.repeat(m, 1)操作的批处理版本\n",
    "    '''\n",
    "    dist_t = (dist[:, 0] - dist[:, 1]).reshape(batch, 1).expand(batch, 4).reshape(batch, 2, 2)\n",
    "    o = torch.ones(2, 2).cuda()\n",
    "    b = torch.eye(2, 2).cuda()\n",
    "    t = torch.Tensor([[0, 1], [-1, 0]]).cuda()\n",
    "    \n",
    "    mm = (torch.mul(o - b, t)).repeat(batch, 1).reshape(batch, 2, 2).cuda()\n",
    "    resualt = torch.mul(mm, dist_t)\n",
    "    \n",
    "    return resualt"
   ]
  },
  {
   "cell_type": "code",
   "execution_count": null,
   "metadata": {
    "collapsed": true
   },
   "outputs": [],
   "source": [
    "class LogRatioLoss_for_batch(Function):\n",
    "    \n",
    "    \"\"\"Log ratio loss function for batch. \"\"\"\n",
    "    \n",
    "    def __init__(self):\n",
    "        super(LogRatioLoss_for_batch, self).__init__()\n",
    "        self.pdist = L2dist_for_batch(2)    \n",
    "\n",
    "    def forward(self, input, gt_dist):#gt_dist:[batch_size, 2], input:[batch_size, num, embed_size]\n",
    "        m = input.size()[1] - 1   # #paired\n",
    "        a = input[:, 0, :]              # anchor\n",
    "        p = input[:, 1:m + 1, :]        # paired (postive, negtive)\n",
    "        \n",
    "        batch = input.size()[0]\n",
    "        idxs = torch.arange(1, m + 1).cuda()\n",
    "        indc = idxs.repeat(m, 1).t() < idxs.repeat(m, 1)\n",
    "\n",
    "        epsilon = 1e-6\n",
    "        dist = self.pdist.forward(a, p)\n",
    "        log_dist = torch.log(dist + epsilon)\n",
    "        log_gt_dist = torch.log(gt_dist + epsilon)\n",
    "        \n",
    "\n",
    "        diff_log_dist = op(log_dist, batch)\n",
    "        diff_log_gt_dist = op(log_gt_dist, batch)\n",
    "\n",
    "        wgt = indc.clone().float()\n",
    "        wgt = wgt.div(wgt.sum())\n",
    "        wgt = wgt.repeat(batch, 1).reshape(batch, 2, 2)\n",
    "\n",
    "        log_ratio_loss = (diff_log_dist - diff_log_gt_dist).pow(2)\n",
    "\n",
    "        loss = log_ratio_loss\n",
    "        loss = loss.mul(wgt).sum()\n",
    "        \n",
    "        return loss / batch"
   ]
  },
  {
   "cell_type": "markdown",
   "metadata": {},
   "source": [
    "#### 存储loss数据"
   ]
  },
  {
   "cell_type": "code",
   "execution_count": null,
   "metadata": {
    "collapsed": true
   },
   "outputs": [],
   "source": [
    "train_loss_list = []\n",
    "val_loss_list = []"
   ]
  },
  {
   "cell_type": "markdown",
   "metadata": {},
   "source": [
    "#### 训练函数"
   ]
  },
  {
   "cell_type": "code",
   "execution_count": null,
   "metadata": {
    "collapsed": true
   },
   "outputs": [],
   "source": [
    "def train(save_path, EPOCH = 200, inital_epoch = 0, batch_size = 1, inital_lr = 0.01, inital_model = None):\n",
    "    model = LSTM_CNN()\n",
    "    model.cuda()\n",
    "    #加载模型\n",
    "    if inital_model is not None:\n",
    "        model.load_state_dict(torch.load(inital_model))\n",
    "    optimizer = optim.Adam(model.parameters(), lr = inital_lr)\n",
    "    T = Variable(torch.FloatTensor([[1.0,1.0],[1.0,1.0]])).cuda()\n",
    "    best_val_loss = 1000000\n",
    "    writer = SummaryWriter('runs/exp_for_log-radio-loss')\n",
    "    print(\"train begin......\")\n",
    "    \n",
    "    for epoch in range(EPOCH):\n",
    "        batch_train = batch_iter(x_batch_train, x_csv_train, y_csv_train, source_list_train, target_list_train, distance_train_list, batch_size)\n",
    "        train_loss_sum = 0\n",
    "        train_loss_avg = 0\n",
    "        count = 0\n",
    "        begin_time = time.strftime(\"%Y-%m-%d %H:%M:%S\", time.localtime())\n",
    "        for x_batch, x_csv, y_csv, source_time, target_time, distance in batch_train:\n",
    "            if x_csv.shape[0]==batch_size:\n",
    "                count += 1\n",
    "                x1 = Variable(torch.LongTensor(x_batch)).cuda()\n",
    "                x2 = Variable(torch.FloatTensor(np.array(x_csv))).cuda()\n",
    "                y = Variable(torch.FloatTensor(np.array(y_csv))).cuda()\n",
    "                gt = Variable(torch.FloatTensor(distance)).squeeze(0).cuda()\n",
    "                \n",
    "                pred_y = model(x1, x2).cpu()\n",
    "                negtive = model(T, x2).cpu()\n",
    "                postive = model(T, y).cpu()\n",
    "                '''\n",
    "                pair与anchor进行拼接\n",
    "                '''\n",
    "                embed = torch.cat((pred_y, postive, negtive), 1).cuda()\n",
    "                Loss = LogRatioLoss_for_batch().forward(embed, gt).cuda()\n",
    "\n",
    "                train_loss_sum += Loss\n",
    "                optimizer.zero_grad()\n",
    "                Loss.backward()\n",
    "                optimizer.step()\n",
    "        \n",
    "        current_time = time.strftime(\"%Y-%m-%d %H:%M:%S\", time.localtime())\n",
    "        train_loss_avg = train_loss_sum / count\n",
    "        train_loss_list.append(train_loss_sum)\n",
    "        line = begin_time + ' | ' + current_time + (' | Epoch: %3d | Loss: %.6f | lr: %.6f' % (inital_epoch + epoch, train_loss_avg, get_learning_rate(optimizer)))\n",
    "        print(line)\n",
    "        write_resualt_file(save_path + 'resualt.txt', line)\n",
    "        #adjust_learning_rate(optimizer = optimizer, inital_lr = inital_lr)\n",
    "        writer.add_scalar('train_loss', train_loss_avg, global_step = epoch)\n",
    "        writer.add_scalar('lr', get_learning_rate(optimizer), global_step = epoch)\n",
    "\n",
    "        if (epoch + 1) % 5 == 0:\n",
    "            print(\"进行验证.....\")\n",
    "            begin_time = time.strftime(\"%Y-%m-%d %H:%M:%S\", time.localtime())\n",
    "            count = 0\n",
    "            val_loss_sum = 0\n",
    "            val_loss_avg = 0\n",
    "            batch_val = batch_iter(x_batch_val, x_csv_val, y_csv_val,source_list_val,target_list_val, distance_val_list, batch_size)\n",
    "            for x_batch, x_csv, y_csv, source_time, target_time, distance in batch_val:\n",
    "                if x_csv.shape[0]==batch_size:\n",
    "                    count += 1\n",
    "                    \n",
    "                    x1 = Variable(torch.LongTensor(x_batch)).cuda()\n",
    "                    x2 = Variable(torch.FloatTensor(np.array(x_csv))).cuda()\n",
    "                    y = Variable(torch.FloatTensor(np.array(y_csv))).cuda()\n",
    "                    gt = Variable(torch.FloatTensor(distance)).squeeze(0).cuda()\n",
    "                    \n",
    "                    \n",
    "                    pred_y = model(x1, x2).cpu()\n",
    "                    negtive = model(T, x2).cpu()\n",
    "                    postive = model(T, y).cpu()\n",
    "                    \n",
    "                    embed = torch.cat((pred_y, postive, negtive), 1).cuda()\n",
    "                    Loss = LogRatioLoss_for_batch().forward(embed, gt).cuda()\n",
    "                    \n",
    "                    val_loss_sum += Loss\n",
    "                    optimizer.zero_grad()\n",
    "                    Loss.backward()\n",
    "                    optimizer.step()\n",
    "            \n",
    "            current_time = time.strftime(\"%Y-%m-%d %H:%M:%S\", time.localtime())\n",
    "            val_loss_avg = val_loss_sum / count\n",
    "            val_loss_list.append(val_loss_sum) \n",
    "            line = begin_time + ' | ' + current_time + (' | Epoch: %3d | Loss: %.6f | lr: %.6f' % (inital_epoch + epoch, val_loss_avg, get_learning_rate(optimizer)))\n",
    "            print(line)\n",
    "            write_resualt_file(save_path + 'resualt.txt', line)  \n",
    "            writer.add_scalar('val_loss', val_loss_avg, global_step = epoch)\n",
    "            torch.save(model.state_dict(), save_path + str(inital_epoch + epoch)+'_params.pkl')\n",
    "            if val_loss_sum < best_val_loss:\n",
    "                best_val_loss = val_loss_sum\n",
    "                print(\"model save!\")\n",
    "    #关闭tensorboardX\n",
    "    writer.close()"
   ]
  },
  {
   "cell_type": "markdown",
   "metadata": {},
   "source": [
    "### 训练基础模型"
   ]
  },
  {
   "cell_type": "code",
   "execution_count": null,
   "metadata": {
    "collapsed": true
   },
   "outputs": [],
   "source": [
    "train(save_path = save_the_first_model_path, EPOCH=1000, inital_epoch=0, batch_size=64, inital_lr=0.01, inital_model=inital_model)"
   ]
  },
  {
   "cell_type": "markdown",
   "metadata": {},
   "source": [
    "### 绘制Loss曲线"
   ]
  },
  {
   "cell_type": "code",
   "execution_count": null,
   "metadata": {
    "collapsed": true
   },
   "outputs": [],
   "source": [
    "draw(train_loss_list, val_loss_list)"
   ]
  },
  {
   "cell_type": "markdown",
   "metadata": {},
   "source": [
    "# 回归模型"
   ]
  },
  {
   "cell_type": "markdown",
   "metadata": {},
   "source": [
    "### 回归模型一"
   ]
  },
  {
   "cell_type": "code",
   "execution_count": null,
   "metadata": {
    "collapsed": true
   },
   "outputs": [],
   "source": [
    "batch_size2 = 1"
   ]
  },
  {
   "cell_type": "code",
   "execution_count": null,
   "metadata": {
    "collapsed": true
   },
   "outputs": [],
   "source": [
    "# 定义LSTM的结构\n",
    "class Change(nn.Module):\n",
    "    def __init__(self):\n",
    "        super(Change, self).__init__()\n",
    "        self.score_fc = torch.nn.Conv2d(128, 3, kernel_size=1, stride=1)\n",
    "        self.apply(weights_init)\n",
    "        \n",
    "    def forward(self, x):\n",
    "        output = x    #[batch_size2, 128]\n",
    "        output_expand = output.expand([batch_size2, batch_size2, 128])  #[batch_size2, batch_size2, 128]\n",
    "        output_expand = output_expand.unsqueeze(0).permute(0, 3, 1, 2)  #[1,batch_size2,batch_size2,128]=>[1,128,batch_size2,batch_size2]\n",
    "        score = self.score_fc(output_expand)\n",
    "        score_out = F.normalize(score, p=2, dim = 1)\n",
    "        score_out = score_out.squeeze(0) #[3, batch_size2, batch_size2]\n",
    "        return score_out"
   ]
  },
  {
   "cell_type": "markdown",
   "metadata": {},
   "source": [
    "### 回归模型二"
   ]
  },
  {
   "cell_type": "code",
   "execution_count": null,
   "metadata": {
    "collapsed": true
   },
   "outputs": [],
   "source": [
    "# class Change(nn.Module):\n",
    "#     def __init__(self):\n",
    "#         super(Change, self).__init__()\n",
    "#         #特征融合\n",
    "#         self.score_fc = torch.nn.Conv1d(128, 2, kernel_size=1, stride=1)\n",
    "#         self.apply(weights_init)\n",
    "\n",
    "#     def forward(self, x):\n",
    "#         output = x#[batch_size2, 128]\n",
    "#         output = output.unsqueeze(2)\n",
    "#         score = self.score_fc(output)\n",
    "#         offset_pred = score.squeeze(2)\n",
    "#         return offset_pred"
   ]
  },
  {
   "cell_type": "markdown",
   "metadata": {},
   "source": [
    "#### 路径定义"
   ]
  },
  {
   "cell_type": "code",
   "execution_count": null,
   "metadata": {
    "collapsed": true
   },
   "outputs": [],
   "source": [
    "save_the_second_model_path = './data/save/save_model2/' \n",
    "save_the_second_model_resualt_path = './data/save/save_model2/resualt.txt'"
   ]
  },
  {
   "cell_type": "code",
   "execution_count": null,
   "metadata": {
    "collapsed": true
   },
   "outputs": [],
   "source": [
    "train_loss_2_list=[]\n",
    "val_loss_2_list=[]"
   ]
  },
  {
   "cell_type": "markdown",
   "metadata": {},
   "source": [
    "### 训练函数"
   ]
  },
  {
   "cell_type": "code",
   "execution_count": null,
   "metadata": {
    "collapsed": true,
    "jupyter": {
     "outputs_hidden": true
    }
   },
   "outputs": [],
   "source": [
    "# def train_for_Change_model_3(resualt_path, model_save_path, inital_epoch, batch_size2, lamba):\n",
    "#     change_model = Change()\n",
    "#     model = LSTM_CNN()\n",
    "#     model.load_state_dict(torch.load('C:/Users/wuxun/Desktop/Data/save_model/new_model_for_1500/494_params.pkl'))\n",
    "    \n",
    "#     #冻结基础模型参数\n",
    "#     model.eval()\n",
    "#     for param in model.parameters():\n",
    "#         param.requires_grad = False\n",
    "    \n",
    "#     #change_model.load_state_dict(torch.load('C:/Users/wuxun/Desktop/Data/save_model2/新训练的model1以后训练model2无alignment/batchsize_is_1_19.pkl'))\n",
    "#     optimizer = optim.Adam(change_model.parameters(), lr = 0.001)\n",
    "#     best_val_loss_2 = 1000000\n",
    "#     print(\"train begin......\")\n",
    "#     for epoch in range(1000):\n",
    "#         batch_train = batch_iter(x_batch_train, x_csv_train, y_csv_train, source_list_train, target_list_train, batch_size2)\n",
    "#         count = 0\n",
    "#         train_loss_sum = 0\n",
    "#         begin_time = time.strftime(\"%Y-%m-%d %H:%M:%S\", time.localtime())\n",
    "#         for x_batch, x_csv, y_csv, source_time, target_time in batch_train:\n",
    "#             if x_csv.shape[0]==batch_size2:\n",
    "#                 count += 1\n",
    "#                 x1 = Variable(torch.LongTensor(x_batch))\n",
    "#                 x2 = Variable(torch.FloatTensor(np.array(x_csv)))\n",
    "#                 source_time = Variable(torch.FloatTensor(np.array(source_time)))\n",
    "#                 target_time = Variable(torch.FloatTensor(np.array(target_time)))\n",
    "#                 pred = model(x1, x2)\n",
    "#                 pred2 = change_model(pred)\n",
    "            \n",
    "#                 Loss = torch.abs(pred2 - target_time).mean()\n",
    "                \n",
    "#                 train_loss_sum += Loss\n",
    "#                 optimizer.zero_grad()\n",
    "#                 Loss.backward()\n",
    "#                 optimizer.step()\n",
    "                \n",
    "#         current_time = time.strftime(\"%Y-%m-%d %H:%M:%S\", time.localtime())        \n",
    "#         line = begin_time+' | '+current_time+(' | Epoch: %3d | Loss: %.6f |' % (inital_epoch + epoch, train_loss_sum / (count)))\n",
    "#         print(line)\n",
    "#         write_resualt_file(resualt_path, line)\n",
    "#         train_loss_2_list.append(train_loss_sum / count)\n",
    "\n",
    "#         if (epoch+1)%5==0:\n",
    "#             print(\"进行验证.......\")\n",
    "#             begin_time = time.strftime(\"%Y-%m-%d %H:%M:%S\", time.localtime())\n",
    "#             batch_val = batch_iter(x_batch_val, x_csv_val, y_csv_val,source_list_val,target_list_val, batch_size2)\n",
    "#             count = 0\n",
    "#             val_loss_sum = 0\n",
    "#             for x_batch, x_csv, y_csv, source_time, target_time in batch_val:\n",
    "#                 if x_csv.shape[0]==batch_size2:\n",
    "#                     count += 1\n",
    "#                     x1 = Variable(torch.LongTensor(x_batch))\n",
    "#                     x2 = Variable(torch.FloatTensor(np.array(x_csv)))\n",
    "#                     source_time = Variable(torch.FloatTensor(np.array(source_time)))\n",
    "#                     target_time = Variable(torch.FloatTensor(np.array(target_time)))\n",
    "#                     pred = model(x1, x2)\n",
    "#                     pred2 = change_model(pred)\n",
    "                    \n",
    "#                     Loss = torch.abs(pred2 - target_time).mean()\n",
    "\n",
    "#                     val_loss_sum += Loss\n",
    "#                     optimizer.zero_grad()\n",
    "#                     Loss.backward()\n",
    "#                     optimizer.step()\n",
    "            \n",
    "#             current_time = time.strftime(\"%Y-%m-%d %H:%M:%S\", time.localtime()) \n",
    "#             line = begin_time+' | '+current_time+(' | Epoch: %3d | Loss: %.6f |' % (inital_epoch + epoch, val_loss_sum / (count)))\n",
    "#             print(line)\n",
    "#             write_resualt_file(resualt_path, line)\n",
    "#             val_loss_2_list.append(val_loss_sum / count) \n",
    "#             #torch.save(change_model.state_dict(), model_save_path + 'batchsize_is_64_the_first_model_300_' + str(inital_epoch + epoch)+'.pkl')\n",
    "#             if (val_loss_sum / count ) < best_val_loss_2:\n",
    "#                 best_val_loss_2 = val_loss_sum / count\n",
    "#                 print(\"model save!\")"
   ]
  },
  {
   "cell_type": "code",
   "execution_count": null,
   "metadata": {
    "collapsed": true
   },
   "outputs": [],
   "source": [
    "def train_2(resualt_path, model_save_path, EPOCH=500, inital_epoch=0, lamba=0.01, inital_model=None, inital_Change_model=None, inital_lr=0.01):\n",
    "    change_model = Change()\n",
    "    model = LSTM_CNN()\n",
    "    model.cuda()\n",
    "    change_model.cuda()\n",
    "    epsilon = 1e-6\n",
    "    if inital_model is not None:\n",
    "        model.load_state_dict(torch.load(inital_model))\n",
    "    #冻结基础模型参数\n",
    "    model.eval()\n",
    "    for param in model.parameters():\n",
    "        param.requires_grad = False\n",
    "        \n",
    "    if inital_Change_model is not None:\n",
    "        change_model.load_state_dict(torch.load(inital_Change_model))\n",
    "    \n",
    "    optimizer = optim.Adam(change_model.parameters(), lr = inital_lr)\n",
    "    best_val_loss_2 = 1000000\n",
    "    for epoch in range(EPOCH):\n",
    "        batch_train = batch_iter(x_batch_train, x_csv_train, y_csv_train, source_list_train, target_list_train, distance_train_list,batch_size2)\n",
    "        count = 0\n",
    "        train_loss_sum = 0\n",
    "        train_alignmentloss_sum = 0\n",
    "        train_regloss_sum =0\n",
    "        begin_time = time.strftime(\"%Y-%m-%d %H:%M:%S\", time.localtime())\n",
    "        for x_batch, x_csv, y_csv, source_time, target_time, distance in batch_train:\n",
    "            if x_csv.shape[0]==batch_size2:\n",
    "                count += 1\n",
    "                x1 = Variable(torch.LongTensor(x_batch)).cuda()\n",
    "                x2 = Variable(torch.FloatTensor(np.array(x_csv))).cuda()\n",
    "                y = Variable(torch.FloatTensor(np.array(y_csv))).cuda()\n",
    "                source_time = Variable(torch.FloatTensor(np.array(source_time))).cuda()\n",
    "                target_time = Variable(torch.FloatTensor(np.array(target_time))).cuda()\n",
    "                pred = model(x1, x2)\n",
    "                score = change_model(pred)\n",
    "                alignment_mat = score[0]\n",
    "                l_mat = score[1]\n",
    "                r_mat = score[2]\n",
    "\n",
    "                I = torch.eye(batch_size2).cuda()\n",
    "                allone = torch.ones(batch_size2, batch_size2).cuda()\n",
    "                mask = allone - 2 * I\n",
    "\n",
    "                l_reg = torch.mm(l_mat * I, torch.ones(batch_size2, 1).cuda())\n",
    "                r_reg = torch.mm(r_mat * I, torch.ones(batch_size2, 1).cuda())\n",
    "                offset_pred = torch.cat([l_reg, r_reg], 1)\n",
    "\n",
    "                loss_mat = torch.log(allone + torch.exp(mask * score[0] + epsilon))\n",
    "                para = I + 1.0 / batch_size2 * allone\n",
    "                loss_mat = loss_mat * para\n",
    "                loss_alignment = loss_mat.mean()\n",
    "                loss_reg = torch.abs(offset_pred - target_time).mean()\n",
    "                \n",
    "                #最终的损失函数\n",
    "                Loss = loss_reg * lamba + loss_alignment\n",
    "                \n",
    "                train_regloss_sum += loss_reg\n",
    "                train_loss_sum += Loss\n",
    "                train_alignmentloss_sum += loss_alignment\n",
    "                optimizer.zero_grad()\n",
    "                Loss.backward()\n",
    "                #nn.utils.clip_grad_norm_(change_model.parameters(), max_norm=20, norm_type=2)\n",
    "                optimizer.step()\n",
    "                \n",
    "        current_time = time.strftime(\"%Y-%m-%d %H:%M:%S\", time.localtime())    \n",
    "        line = begin_time+' | '+current_time+(' | Epoch: %3d | Loss: %.6f | loss_align: %.6f | loss_reg: %.6f' % (epoch, train_loss_sum / (count), train_alignmentloss_sum / (count), train_regloss_sum / (count)))\n",
    "        print(line)\n",
    "        adjust_learning_rate(optimizer = optimizer, inital_lr = inital_lr)\n",
    "        write_resualt_file(resualt_path, line)\n",
    "        train_loss_2_list.append(train_loss_sum / count)\n",
    "\n",
    "        if (epoch + 1) % 5 == 0:\n",
    "            print(\"进行验证.......\")\n",
    "            begin_time = time.strftime(\"%Y-%m-%d %H:%M:%S\", time.localtime())\n",
    "            batch_val = batch_iter(x_batch_val, x_csv_val, y_csv_val,source_list_val,target_list_val, distance_val_list, batch_size2)\n",
    "            count = 0\n",
    "            val_loss_sum = 0\n",
    "            val_alignmentloss_sum =0\n",
    "            val_regloss_sum =0\n",
    "            for x_batch, x_csv, y_csv, source_time, target_time, distance in batch_val:\n",
    "                if x_csv.shape[0]==batch_size2:\n",
    "                    count += 1\n",
    "                    x1 = Variable(torch.LongTensor(x_batch)).cuda()\n",
    "                    x2 = Variable(torch.FloatTensor(np.array(x_csv))).cuda()\n",
    "                    y = Variable(torch.FloatTensor(np.array(y_csv))).cuda()\n",
    "                    source_time = Variable(torch.FloatTensor(np.array(source_time))).cuda()\n",
    "                    target_time = Variable(torch.FloatTensor(np.array(target_time))).cuda()\n",
    "                    pred = model(x1, x2)\n",
    "                    score = change_model(pred)\n",
    "                    \n",
    "                    #特征变换\n",
    "                    alignment_mat = score[0]\n",
    "                    l_mat = score[1]\n",
    "                    r_mat = score[2]\n",
    "\n",
    "                    I = torch.eye(batch_size2).cuda()\n",
    "                    allone = torch.ones(batch_size2, batch_size2).cuda()\n",
    "                    mask = allone - 2 * I\n",
    "\n",
    "                    l_reg = torch.mm(l_mat * I, torch.ones(batch_size2, 1).cuda())\n",
    "                    r_reg = torch.mm(r_mat * I, torch.ones(batch_size2, 1).cuda())\n",
    "                    offset_pred = torch.cat([l_reg, r_reg], 1)\n",
    "                    loss_mat = torch.log(allone + torch.exp(mask * score[0] + epsilon))\n",
    "\n",
    "                    para = I + 1.0 / batch_size2 * allone\n",
    "                    loss_mat = loss_mat * para\n",
    "                    loss_alignment = loss_mat.mean()\n",
    "                    loss_reg = torch.abs(offset_pred - target_time).mean()\n",
    "                    \n",
    "                    #模型最终的loss\n",
    "                    Loss = loss_reg * lamba + loss_alignment\n",
    "                    \n",
    "                    val_alignmentloss_sum += loss_alignment\n",
    "                    val_regloss_sum += loss_reg\n",
    "                    val_loss_sum += Loss\n",
    "                    optimizer.zero_grad()\n",
    "                    \n",
    "                    Loss.backward()\n",
    "                    #nn.utils.clip_grad_norm_(change_model.parameters(), max_norm=20, norm_type=2)\n",
    "                    optimizer.step()\n",
    "            \n",
    "            current_time = time.strftime(\"%Y-%m-%d %H:%M:%S\", time.localtime()) \n",
    "            line = begin_time+' | '+current_time+(' | Epoch: %3d | Loss: %.6f | loss_align: %.6f | loss_reg: %.6f' % (epoch, val_loss_sum / (count), val_alignmentloss_sum / (count), val_regloss_sum / (count)))\n",
    "            print(line)\n",
    "            write_resualt_file(resualt_path, line)\n",
    "            val_loss_2_list.append(val_loss_sum / count) \n",
    "            torch.save(change_model.state_dict(), model_save_path + 'epoch_'+str(inital_epoch + epoch)+'.pkl')\n",
    "            if (val_loss_sum / count ) < best_val_loss_2:\n",
    "                best_val_loss_2 = val_loss_sum / count\n",
    "                print(\"model save!\")"
   ]
  },
  {
   "cell_type": "markdown",
   "metadata": {},
   "source": [
    "### 训练回归模型"
   ]
  },
  {
   "cell_type": "code",
   "execution_count": null,
   "metadata": {
    "collapsed": true
   },
   "outputs": [],
   "source": [
    "inital_model = './data/save/save_model/913_params.pkl'\n",
    "inital_model2 = './data/save/save_model2/epoch_103.pkl'"
   ]
  },
  {
   "cell_type": "code",
   "execution_count": null,
   "metadata": {
    "collapsed": true
   },
   "outputs": [],
   "source": [
    "train_2(save_the_second_model_resualt_path, save_the_second_model_path, 500, 29, 0.01, inital_model, inital_model2, 0.1)"
   ]
  },
  {
   "cell_type": "markdown",
   "metadata": {},
   "source": [
    "### 绘制loss"
   ]
  },
  {
   "cell_type": "code",
   "execution_count": null,
   "metadata": {
    "collapsed": true
   },
   "outputs": [],
   "source": [
    "draw(train_loss_2_list, val_loss_2_list)"
   ]
  },
  {
   "cell_type": "markdown",
   "metadata": {},
   "source": [
    "## 计算R@1"
   ]
  },
  {
   "cell_type": "code",
   "execution_count": null,
   "metadata": {
    "collapsed": true
   },
   "outputs": [],
   "source": [
    "IoU_thresh = [0.1, 0.3, 0.5, 0.7]"
   ]
  },
  {
   "cell_type": "code",
   "execution_count": null,
   "metadata": {
    "collapsed": true
   },
   "outputs": [],
   "source": [
    "def calculate_IoU(i0, i1):\n",
    "    # calculate temporal intersection over union\n",
    "    union = (min(i0[0], i1[0]), max(i0[1], i1[1]))\n",
    "    inter = (max(i0[0], i1[0]), min(i0[1], i1[1]))\n",
    "    iou = 1.0*(inter[1]-inter[0])/(union[1]-union[0])\n",
    "    return iou"
   ]
  },
  {
   "cell_type": "code",
   "execution_count": null,
   "metadata": {
    "collapsed": true
   },
   "outputs": [],
   "source": [
    "def compute_IoU_recall_top_n_forreg(iou_thresh, time_mat, time_pre_mat):#top\n",
    "    correct_num = 0\n",
    "    for i in range(time_mat.shape[0]):\n",
    "        gt_start = time_mat[i][0]\n",
    "        gt_end = time_mat[i][1]\n",
    "        pred_start = time_pre_mat[i][0]\n",
    "        pred_end = time_pre_mat[i][1]\n",
    "        iou = calculate_IoU((gt_start, gt_end),(pred_start, pred_end))\n",
    "        if iou>=iou_thresh:\n",
    "            correct_num+=1\n",
    "    return correct_num"
   ]
  },
  {
   "cell_type": "code",
   "execution_count": null,
   "metadata": {
    "collapsed": true
   },
   "outputs": [],
   "source": [
    "#读取test集\n",
    "# 读取test数据集\n",
    "def get_test_dict_for_My_model(path, csv_path):\n",
    "    words, word_to_id = read_vocab(vocab_dir)\n",
    "    data_id = []\n",
    "    csv=[]\n",
    "    time_list=[]\n",
    "    Max_len=-1\n",
    "    count=0\n",
    "    with open(path) as contents:\n",
    "        for line in contents:\n",
    "            count+=1\n",
    "            List = line.split('#')\n",
    "            video_name = List[0]\n",
    "            time_length = float(List[1])\n",
    "            foldtype = List[2]\n",
    "            recipetype = List[3]\n",
    "            target = List[4]\n",
    "            \n",
    "            #将句子转换为id表示：\n",
    "            sentence = List[5].strip('\\n').strip()\n",
    "            sentence = re.split(r\"[,| |.]\",sentence)\n",
    "            sentence_id = [word_to_id[x] for x in sentence if x in word_to_id]\n",
    "            if len(sentence_id) > Max_len:\n",
    "                Max_len = len(sentence_id)\n",
    "            data_id.append(sentence_id)\n",
    "            \n",
    "            #寻找路径,先统一取0001\n",
    "            dir_path = csv_path+'/'+foldtype+'/'+recipetype+'/'+video_name+'/0001/'\n",
    "            name = os.listdir(dir_path)[0]\n",
    "            dir_path = dir_path + name\n",
    "            \n",
    "            #读取csv文件\n",
    "            my_file = Path(dir_path)\n",
    "            if my_file.exists():\n",
    "                frame_sum = pd.read_csv(dir_path, header=None)\n",
    "            else:\n",
    "                print(\"目录不存在！\")\n",
    "            \n",
    "            #确定时间点，前帧后帧取pooling\n",
    "            target = target.split('_')\n",
    "            cur_start = float(target[0])\n",
    "            cur_end = float(target[1])\n",
    "            middle_time = (cur_start + cur_end)//2\n",
    "            \n",
    "            #中间帧\n",
    "            target_frame_num = int(middle_time/time_length*500)\n",
    "            target_middle_frame = frame_sum.loc[target_frame_num]\n",
    "            \n",
    "            csv.append([target_middle_frame])\n",
    "            time_list.append([cur_start, cur_end])\n",
    "            \n",
    "    #将所有的句子pad为同一最大长度\n",
    "    batch_data_id = np.array([line +[0]*(Max_len-len(line)) \n",
    "                                            for line in data_id])\n",
    "    batch_seq = torch.LongTensor(batch_data_id)    \n",
    "    print(len(batch_seq),len(csv),len(time_list))\n",
    "    \n",
    "    return batch_seq, csv, time_list"
   ]
  },
  {
   "cell_type": "code",
   "execution_count": null,
   "metadata": {
    "collapsed": true
   },
   "outputs": [],
   "source": [
    "My_test_seq, My_test_csv, My_test_time_list = get_test_dict_for_My_model(test_path, csv_path)"
   ]
  },
  {
   "cell_type": "code",
   "execution_count": null,
   "metadata": {
    "collapsed": true
   },
   "outputs": [],
   "source": [
    "middle_model = LSTM_CNN()\n",
    "middle_model.load_state_dict(torch.load(inital_model))\n",
    "My_model = Change()\n",
    "My_model.load_state_dict(torch.load(inital_model2))\n",
    "My_model.eval()\n",
    "middle_model.eval()                                                                                                                                             "
   ]
  },
  {
   "cell_type": "code",
   "execution_count": null,
   "metadata": {
    "collapsed": true
   },
   "outputs": [],
   "source": [
    "list_1=[]\n",
    "list_3=[]\n",
    "list_5=[]\n",
    "list_7=[]\n",
    "for i in range(My_test_seq.shape[0]):\n",
    "    x = Variable(torch.LongTensor(np.array(My_test_seq[i])))\n",
    "    y = Variable(torch.FloatTensor(np.array(np.array(My_test_csv[i]))))\n",
    "    My_time_mat = Variable(torch.FloatTensor(np.array(np.array(My_test_time_list[i]))))\n",
    "    My_output1 = middle_model(x, y)\n",
    "    score = My_model(My_output1)\n",
    "\n",
    "    #特征变换\n",
    "    alignment_mat = score[0]\n",
    "    l_mat = score[1]\n",
    "    r_mat = score[2]\n",
    "\n",
    "    I = torch.eye(batch_size2)\n",
    "    allone = torch.ones(batch_size2, batch_size2)\n",
    "    mask = allone - 2 * I\n",
    "\n",
    "    l_reg = torch.mm(l_mat * I, torch.ones(batch_size2, 1))\n",
    "    r_reg = torch.mm(r_mat * I, torch.ones(batch_size2, 1))\n",
    "    offset_pred = torch.cat([l_reg, r_reg], 1)\n",
    "    for iou_thresh in IoU_thresh:\n",
    "        corrnum = compute_IoU_recall_top_n_forreg(iou_thresh, My_time_mat[i], offset_pred)\n",
    "        corr_avg = corrnum*1.0 / My_time_mat.shape[0] \n",
    "        if iou_thresh == 0.1:\n",
    "            list_1.append(corr_avg)\n",
    "        elif iou_thresh == 0.3:\n",
    "            list_3.append(corr_avg)\n",
    "        elif iou_thresh == 0.5:\n",
    "            list_5.append(corr_avg)\n",
    "        elif iou_thresh == 0.7:\n",
    "            list_7.append(corr_avg)"
   ]
  },
  {
   "cell_type": "code",
   "execution_count": null,
   "metadata": {
    "collapsed": true
   },
   "outputs": [],
   "source": [
    "My_pred_time_mat = offset_pred\n",
    "for iou_thresh in IoU_thresh:\n",
    "    corrnum = compute_IoU_recall_top_n_forreg(iou_thresh, My_time_mat, My_pred_time_mat)\n",
    "    corr_avg = corrnum*1.0 / My_time_mat.shape[0] \n",
    "    print(\"My_model: R@1 for iou_thresh: %.1f is : %.3f\" % (iou_thresh, corr_avg))"
   ]
  },
  {
   "cell_type": "markdown",
   "metadata": {},
   "source": [
    "## 计算偏移"
   ]
  },
  {
   "cell_type": "code",
   "execution_count": null,
   "metadata": {
    "collapsed": true
   },
   "outputs": [],
   "source": [
    "def get_middle_time_list(time_mat):\n",
    "    time_list = []\n",
    "    for i in range(time_mat.shape[0]):\n",
    "        begin = time_mat[i][0].detach().numpy()\n",
    "        end = time_mat[i][1].detach().numpy()\n",
    "        time_list.append((begin + end) / 2)\n",
    "    return time_list"
   ]
  },
  {
   "cell_type": "code",
   "execution_count": null,
   "metadata": {
    "collapsed": true
   },
   "outputs": [],
   "source": [
    "def calculate_offset(My_time_mat, My_pred_time_mat):\n",
    "    '''\n",
    "    返回平均偏移值与offset_list\n",
    "    '''\n",
    "    pred_list_time = get_middle_time_list(My_pred_time_mat)\n",
    "    list_time = get_middle_time_list(My_time_mat)\n",
    "    avg = 0.0\n",
    "    offset_list = []\n",
    "    for i in range(len(list_time)):\n",
    "        offset = list_time[i] - pred_list_time[i]\n",
    "        offset_list.append(offset)\n",
    "        avg = avg + offset\n",
    "    avg = avg / len(list_time)\n",
    "    return avg, offset_list"
   ]
  }
 ],
 "metadata": {
  "kernelspec": {
   "display_name": "Python 3.7.0 64-bit",
   "language": "python",
   "name": "python37064bit32c47750aaeb4803bcf34000b3ecc583"
  },
  "language_info": {
   "codemirror_mode": {
    "name": "ipython",
    "version": 3
   },
   "file_extension": ".py",
   "mimetype": "text/x-python",
   "name": "python",
   "nbconvert_exporter": "python",
   "pygments_lexer": "ipython3",
   "version": "3.7.0"
  }
 },
 "nbformat": 4,
 "nbformat_minor": 4
}
