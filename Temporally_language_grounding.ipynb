{
 "cells": [
  {
   "cell_type": "markdown",
   "metadata": {},
   "source": [
    "## TALL模型实现"
   ]
  },
  {
   "cell_type": "code",
   "execution_count": 2,
   "metadata": {
    "collapsed": true
   },
   "outputs": [],
   "source": [
    "import torch\n",
    "import torch.nn as nn\n",
    "import torch.nn.functional as F\n",
    "import numpy as np\n",
    "from torch.autograd import Variable\n",
    "import torch\n",
    "import torch.nn as nn\n",
    "import torch.nn.functional as F\n",
    "import torch.optim as optim\n",
    "\n",
    "import numpy as np\n",
    "import pandas as pd\n",
    "import torchvision\n",
    "from torch.utils.data import DataLoader\n",
    "from datetime import datetime  # 用于计算时间\n",
    "\n",
    "import os\n",
    "import sys\n",
    "from collections import Counter\n",
    "import re\n",
    "\n",
    "#import tensorflow.contrib.keras as kr\n",
    "from torch.nn.utils.rnn import pack_padded_sequence\n",
    "from torch.nn.utils.rnn import pad_packed_sequence\n",
    "\n",
    "from torchtext import data\n",
    "import jieba\n",
    "\n",
    "import cv2\n",
    "import os\n",
    "\n",
    "from torch.autograd import Variable\n",
    "import tensorwatch as tw\n",
    "import torchvision.models\n",
    "\n",
    "from pathlib import Path\n",
    "import pandas as pd\n",
    "\n",
    "import matplotlib.pyplot as plt\n",
    "torch.set_printoptions(precision=15)\n",
    "pd.set_option('display.max_rows',None)\n",
    "pd.set_option('display.max_columns',None)\n",
    "np.set_printoptions(threshold=np.inf)\n",
    "\n",
    "from torch.optim import lr_scheduler\n",
    "\n",
    "import time"
   ]
  },
  {
   "cell_type": "markdown",
   "metadata": {},
   "source": [
    "## 数据准备"
   ]
  },
  {
   "cell_type": "markdown",
   "metadata": {},
   "source": [
    "### 路径"
   ]
  },
  {
   "cell_type": "code",
   "execution_count": 3,
   "metadata": {
    "collapsed": true
   },
   "outputs": [],
   "source": [
    "train_path = 'C:/Users/wuxun/Desktop/Data/TALL/traning/training.txt'\n",
    "val_path = 'C:/Users/wuxun/Desktop/Data/TALL/validation/validation.txt'\n",
    "vocab_dir = 'C:/Users/wuxun/Desktop/Data/vocab.txt'\n",
    "csv_path = 'D:/csv/'\n",
    "save_path = 'C:/Users/wuxun/Desktop/Data/TALL/save_model/'\n",
    "test_path = 'C:/Users/wuxun/Desktop/Data/TALL/testing/test.txt'"
   ]
  },
  {
   "cell_type": "code",
   "execution_count": 4,
   "metadata": {
    "collapsed": true
   },
   "outputs": [],
   "source": [
    "BATCH_SIZE = 1\n",
    "EPOCH = 200"
   ]
  },
  {
   "cell_type": "code",
   "execution_count": 5,
   "metadata": {
    "collapsed": true
   },
   "outputs": [],
   "source": [
    "def read_vocab(vocab_dir):\n",
    "\n",
    "    \"\"\"读取词汇表\"\"\"\n",
    "\n",
    "    with open(vocab_dir) as fp:\n",
    "        words = [(_.strip()) for _ in fp.readlines()]\n",
    "    word_to_id = dict(zip(words, range(len(words))))\n",
    "    return words, word_to_id"
   ]
  },
  {
   "cell_type": "code",
   "execution_count": 6,
   "metadata": {
    "collapsed": true
   },
   "outputs": [],
   "source": [
    "def get_dict(path, csv_path):\n",
    "    '''\n",
    "    获得最终的数据集\n",
    "    path:文本数据集\n",
    "    csv_path\n",
    "    '''\n",
    "    words, word_to_id = read_vocab(vocab_dir)\n",
    "    data_id = []\n",
    "    target_csv=[]\n",
    "    target_time_list=[]\n",
    "    Max_len=-1\n",
    "    count=0\n",
    "    with open(path) as contents:\n",
    "        for line in contents:\n",
    "            count+=1\n",
    "            List = line.split('#')\n",
    "            video_name = List[0]\n",
    "            time_length = float(List[1])\n",
    "            foldtype = List[2]\n",
    "            recipetype = List[3]\n",
    "            target = List[4]\n",
    "            \n",
    "            #将句子转换为id表示：\n",
    "            sentence = List[6].strip('\\n').strip()\n",
    "            sentence = re.split(r\"[,| |.]\",sentence)\n",
    "            sentence_id = [word_to_id[x] for x in sentence if x in word_to_id]\n",
    "            if len(sentence_id) > Max_len:\n",
    "                Max_len = len(sentence_id)\n",
    "            data_id.append(sentence_id)\n",
    "            \n",
    "            #寻找路径,先统一取0001\n",
    "            dir_path = csv_path+'/'+foldtype+'/'+recipetype+'/'+video_name+'/0001/'\n",
    "            name = os.listdir(dir_path)[0]\n",
    "            dir_path = dir_path + name\n",
    "            \n",
    "            #读取csv文件\n",
    "            my_file = Path(dir_path)\n",
    "            if my_file.exists():\n",
    "                frame_sum = pd.read_csv(dir_path, header=None)\n",
    "            else:\n",
    "                print(\"目录不存在！\")\n",
    "            \n",
    "            #确定时间点，前帧后帧取pooling\n",
    "            target = target.split('_')\n",
    "            cur_start = float(target[0])\n",
    "            cur_end = float(target[1])\n",
    "            middle_time = (cur_start + cur_end)//2\n",
    "            \n",
    "            #中间帧\n",
    "            target_frame_num = int(middle_time/time_length*500)\n",
    "            target_middle_frame = frame_sum.loc[target_frame_num]\n",
    "            \n",
    "            #上下文信息\n",
    "            target_frame_start = int(cur_start/time_length*500)\n",
    "            target_frame_end = int(cur_end/time_length*500)\n",
    "            if target_frame_start == target_frame_num:\n",
    "                print(str(cur_start)+\"  \"+str(cur_end)+\" \"+str(time_length))\n",
    "                print(\"出现重复！\")\n",
    "                target_frame_start = min(target_frame_num - 3, 0)\n",
    "            if  target_frame_end ==target_frame_num:\n",
    "                print(str(cur_start)+\"  \"+str(cur_end)+\" \"+str(time_length))\n",
    "                print(\"出现重复！\")\n",
    "                target_frame_start = min(target_frame_num + 3, 499)\n",
    "                \n",
    "            pre_context = np.zeros([target_frame_num - target_frame_start, 512], dtype=np.float32)\n",
    "            post_context = np.zeros([target_frame_end - target_frame_num, 512], dtype=np.float32) \n",
    "            for i in range(target_frame_num - target_frame_start):\n",
    "                pre_context[i] = frame_sum.loc[i]\n",
    "                \n",
    "            for i in range(target_frame_end - target_frame_num):\n",
    "                post_context[i] = frame_sum.loc[i]\n",
    "            \n",
    "            #对pre_context和post_context取均值\n",
    "            pre_context = np.mean(pre_context, axis=0)\n",
    "            post_context = np.mean(post_context, axis=0)\n",
    "            \n",
    "            #对三段信息进行拼接\n",
    "            image = np.hstack((pre_context, target_middle_frame, post_context))\n",
    "            \n",
    "            target_csv.append(image)\n",
    "            target_time_list.append([cur_start, cur_end])\n",
    "            \n",
    "    #将所有的句子pad为同一最大长度\n",
    "    batch_data_id = np.array([line +[0]*(Max_len-len(line)) \n",
    "                                            for line in data_id])\n",
    "    batch_seq = torch.LongTensor(batch_data_id)    \n",
    "    print(len(batch_seq),len(target_csv),len(target_time_list))\n",
    "    \n",
    "    return batch_seq, target_csv, target_time_list"
   ]
  },
  {
   "cell_type": "markdown",
   "metadata": {},
   "source": [
    "### 读取数据"
   ]
  },
  {
   "cell_type": "code",
   "execution_count": 6,
   "metadata": {},
   "outputs": [
    {
     "name": "stdout",
     "output_type": "stream",
     "text": [
      "106.0  107.0 219.22\n",
      "出现重复！\n",
      "50.0  51.0 244.37\n",
      "出现重复！\n",
      "87.0  88.0 244.37\n",
      "出现重复！\n",
      "30.0  31.0 129.24\n",
      "出现重复！\n",
      "258.0  259.0 396.3\n",
      "出现重复！\n",
      "31.0  32.0 88.22\n",
      "出现重复！\n",
      "51.0  52.0 271.07\n",
      "出现重复！\n",
      "1548 1548 1548\n"
     ]
    }
   ],
   "source": [
    "sentence_tarin_batch, target_train_csv, target_train_list = get_dict(train_path, csv_path)"
   ]
  },
  {
   "cell_type": "code",
   "execution_count": 7,
   "metadata": {},
   "outputs": [
    {
     "name": "stdout",
     "output_type": "stream",
     "text": [
      "146.0  148.0 561.49\n",
      "出现重复！\n",
      "262.0  263.0 352.4\n",
      "出现重复！\n",
      "183.0  184.0 329.89\n",
      "出现重复！\n",
      "281.0  282.0 349.68\n",
      "出现重复！\n",
      "523 523 523\n"
     ]
    }
   ],
   "source": [
    "sentence_val_batch, target_val_csv, target_val_list = get_dict(val_path, csv_path)"
   ]
  },
  {
   "cell_type": "code",
   "execution_count": 7,
   "metadata": {
    "collapsed": true
   },
   "outputs": [],
   "source": [
    "def batch_iter(x_batch, target_csv, target_list, batch_size = 64):\n",
    "    \"\"\"\n",
    "    生成批次数据\n",
    "    \"\"\"\n",
    "    data_len = x_batch.shape[0]\n",
    "    num_batch = int((data_len - 1) / batch_size) + 1\n",
    "    indices = np.random.permutation(np.arange(data_len))\n",
    "    \n",
    "    x_batch_shuffle = x_batch[indices]\n",
    "    y_csv_shuffle = np.array(target_csv)[indices]\n",
    "    target_list = np.array(target_list)[indices]\n",
    "\n",
    "    for i in range(num_batch):\n",
    "        start_id = i * batch_size\n",
    "        end_id = min((i + 1) * batch_size, data_len)\n",
    "        yield x_batch_shuffle[start_id:end_id], y_csv_shuffle[start_id:end_id], target_list[start_id:end_id]"
   ]
  },
  {
   "cell_type": "markdown",
   "metadata": {},
   "source": [
    "## 模型定义"
   ]
  },
  {
   "cell_type": "code",
   "execution_count": 8,
   "metadata": {
    "collapsed": true
   },
   "outputs": [],
   "source": [
    "def weights_init(m):\n",
    "    classname = m.__class__.__name__\n",
    "    if classname.find('Conv') != -1:\n",
    "        torch.nn.init.normal_(m.weight.data, mean=0, std=0.01)\n",
    "        m.bias.data.fill_(0)\n",
    "    elif classname.find('Linear') != -1:\n",
    "        torch.nn.init.normal_(m.weight.data)\n",
    "        m.bias.data.fill_(0)"
   ]
  },
  {
   "cell_type": "code",
   "execution_count": 9,
   "metadata": {
    "collapsed": true
   },
   "outputs": [],
   "source": [
    "class TALL(nn.Module):\n",
    "    def __init__(self):\n",
    "        super(TALL, self).__init__()\n",
    "        self.semantic_size = 128 # the size of visual and semantic comparison size\n",
    "        #self.sentence_embedding_size = 4800\n",
    "        self.visual_feature_dim = 1536\n",
    "        self.v2s_lt = nn.Linear(self.visual_feature_dim, self.semantic_size)#视觉提取\n",
    "        self.s2s_lt = nn.Linear(256, 128)#句子提取\n",
    "        self.fc1 = torch.nn.Conv2d(128*4, 128, kernel_size=1, stride=1)\n",
    "        self.fc2 = torch.nn.Conv2d(128, 3, kernel_size=1, stride=1)\n",
    "        # Initializing weights\n",
    "        self.apply(weights_init)\n",
    "        \n",
    "        #self_add\n",
    "        self.embedding = nn.Embedding(5000, 64)\n",
    "        self.lstm = nn.LSTM(input_size=64, hidden_size=128, num_layers=2, bidirectional=True)\n",
    "\n",
    "    def cross_modal_comb(self, visual_feat, sentence_embed):\n",
    "        batch_size = visual_feat.size(0)\n",
    "        #print(\"进入交叉阶段,batch_size = \"+str(batch_size))\n",
    "\n",
    "        vv_feature = visual_feat.expand([batch_size,batch_size,self.semantic_size])\n",
    "        ss_feature = sentence_embed.repeat(1,1,batch_size).view(batch_size,batch_size,self.semantic_size)\n",
    "\n",
    "        concat_feature = torch.cat([vv_feature, ss_feature], 2)\n",
    "\n",
    "        mul_feature = vv_feature * ss_feature # 64,64,128\n",
    "        add_feature = vv_feature + ss_feature # 64,64,128\n",
    "\n",
    "        comb_feature = torch.cat([mul_feature, add_feature, concat_feature], 2)\n",
    "\n",
    "        return comb_feature\n",
    "\n",
    "\n",
    "    def forward(self, visual_feature_train, sentence_embed_train):\n",
    "        transformed_clip_train = self.v2s_lt(visual_feature_train)\n",
    "        transformed_clip_train_norm = F.normalize(transformed_clip_train, p=2, dim=1)\n",
    "        \n",
    "        sentence_embed_train = self.embedding(sentence_embed_train)\n",
    "        sentence_embed_train,_ =self.lstm(sentence_embed_train)\n",
    "        transformed_sentence_train = self.s2s_lt(sentence_embed_train[:,-1,:])\n",
    "        transformed_sentence_train_norm = F.normalize(transformed_sentence_train, p=2, dim=1)\n",
    "        \n",
    "        cross_modal_vec_train = self.cross_modal_comb(transformed_clip_train_norm, transformed_sentence_train_norm)\n",
    "        \n",
    "        cross_modal_vec_train = cross_modal_vec_train.unsqueeze(0).permute(0, 3, 1, 2)\n",
    "        mid_output = self.fc1(cross_modal_vec_train)\n",
    "        mid_output = F.relu(mid_output)\n",
    "        sim_score_mat_train = self.fc2(mid_output).squeeze(0)\n",
    "        \n",
    "        return sim_score_mat_train"
   ]
  },
  {
   "cell_type": "markdown",
   "metadata": {},
   "source": [
    "## 回归阶段"
   ]
  },
  {
   "cell_type": "code",
   "execution_count": 10,
   "metadata": {
    "collapsed": true
   },
   "outputs": [],
   "source": [
    "TALL_model = TALL()\n",
    "TALL_model.load_state_dict(torch.load(save_path + 'epoch665params.pkl'))\n",
    "lr = 0.01\n",
    "train_loss_list = []\n",
    "val_loss_list = []\n",
    "optimizer = torch.optim.Adam(TALL_model.parameters(), lr = lr)"
   ]
  },
  {
   "cell_type": "code",
   "execution_count": 17,
   "metadata": {
    "collapsed": true
   },
   "outputs": [],
   "source": [
    "def train(inital_epoch):\n",
    "    # compute alignment and regression loss\n",
    "    Max_loss = 1000\n",
    "    print(\"start traning.......\")\n",
    "    for epoch in range(EPOCH):\n",
    "        train_loss = 0\n",
    "        loss_align_sum = 0\n",
    "        loss_reg_sum = 0\n",
    "        count = 0\n",
    "        batch_train = batch_iter(sentence_tarin_batch, target_train_csv, target_train_list, BATCH_SIZE)\n",
    "        begin_time = time.strftime(\"%Y-%m-%d %H:%M:%S\", time.localtime())\n",
    "        for x_batch, y_csv, target_time in batch_train:\n",
    "            if y_csv.shape[0]==BATCH_SIZE:\n",
    "                count += 1\n",
    "                x = Variable(torch.LongTensor(x_batch))\n",
    "                y = Variable(torch.FloatTensor(np.array(y_csv)))\n",
    "                offsets = Variable(torch.FloatTensor(np.array(target_time)))\n",
    "                outputs = TALL_model(y, x)\n",
    "                sim_score_mat = outputs[0]\n",
    "                p_reg_mat = outputs[1]\n",
    "                l_reg_mat = outputs[2]\n",
    "                # loss cls, not considering iou\n",
    "                input_size = outputs.size(1)\n",
    "                I = torch.eye(input_size)\n",
    "                I_2 = -2 * I\n",
    "                all1 = torch.ones(input_size, input_size)\n",
    "\n",
    "                mask_mat = I_2 + all1  \n",
    "\n",
    "                alpha = 1.0 / input_size\n",
    "                lambda_regression = 0.01\n",
    "                batch_para_mat = alpha * all1\n",
    "                para_mat = I + batch_para_mat\n",
    "\n",
    "                loss_mat = torch.log(all1 + torch.exp(mask_mat*sim_score_mat))\n",
    "                loss_mat = loss_mat*para_mat\n",
    "                loss_align = loss_mat.mean()\n",
    "\n",
    "                # regression loss\n",
    "                l_reg_diag = torch.mm(l_reg_mat*I, torch.ones(input_size, 1))\n",
    "                p_reg_diag = torch.mm(p_reg_mat*I, torch.ones(input_size, 1))\n",
    "                offset_pred = torch.cat([p_reg_diag, l_reg_diag], 1)\n",
    "                loss_reg = torch.abs(offset_pred - offsets).mean() # L1 loss\n",
    "\n",
    "                loss= lambda_regression*loss_reg +loss_align\n",
    "                optimizer.zero_grad()\n",
    "                loss.backward()\n",
    "                optimizer.step()\n",
    "                train_loss += loss\n",
    "                loss_reg_sum += loss_reg\n",
    "                loss_align_sum += loss_align\n",
    "        \n",
    "        current_time = time.strftime(\"%Y-%m-%d %H:%M:%S\", time.localtime())\n",
    "        print(begin_time+' | '+current_time+' | '+('Epoch: %d | Loss: %.3f | loss_align: %.3f | loss_reg: %.3f' % (inital_epoch + epoch, train_loss / (count), loss_align_sum / (count), loss_reg_sum / (count))))\n",
    "        train_loss_list.append(train_loss / (count))\n",
    "        \n",
    "        if (epoch + 1)%5 == 0:\n",
    "            print(\"validation.....\")\n",
    "            val_loss = 0\n",
    "            valloss_align_sum = 0\n",
    "            valloss_reg_sum = 0\n",
    "            count = 0\n",
    "            batch_val = batch_iter(sentence_val_batch, target_val_csv, target_val_list, BATCH_SIZE)\n",
    "            begin_time = time.strftime(\"%Y-%m-%d %H:%M:%S\", time.localtime())\n",
    "            for x_batch, y_csv, target_time in batch_val:\n",
    "                if y_csv.shape[0]==BATCH_SIZE:\n",
    "                    count += 1\n",
    "                    x = Variable(torch.LongTensor(x_batch))\n",
    "                    y = Variable(torch.FloatTensor(np.array(y_csv)))\n",
    "                    offsets = Variable(torch.FloatTensor(np.array(target_time)))\n",
    "                    outputs = TALL_model(y, x)\n",
    "                    sim_score_mat = outputs[0]\n",
    "                    p_reg_mat = outputs[1]\n",
    "                    l_reg_mat = outputs[2]\n",
    "                    input_size = outputs.size(1)\n",
    "                    I = torch.eye(input_size)\n",
    "                    I_2 = -2 * I\n",
    "                    all1 = torch.ones(input_size, input_size)\n",
    "\n",
    "                    mask_mat = I_2 + all1  \n",
    "\n",
    "                    alpha = 1.0 / input_size\n",
    "                    lambda_regression = 0.01\n",
    "                    batch_para_mat = alpha * all1\n",
    "                    para_mat = I + batch_para_mat\n",
    "\n",
    "                    loss_mat = torch.log(all1 + torch.exp(mask_mat*sim_score_mat))\n",
    "                    loss_mat = loss_mat*para_mat\n",
    "                    loss_align = loss_mat.mean()\n",
    "\n",
    "                    # regression loss\n",
    "                    l_reg_diag = torch.mm(l_reg_mat*I, torch.ones(input_size, 1))\n",
    "                    p_reg_diag = torch.mm(p_reg_mat*I, torch.ones(input_size, 1))\n",
    "                    offset_pred = torch.cat([p_reg_diag, l_reg_diag], 1)\n",
    "                    loss_reg = torch.abs(offset_pred - offsets).mean() # L1 loss\n",
    "\n",
    "                    loss= lambda_regression*loss_reg +loss_align\n",
    "                    optimizer.zero_grad()\n",
    "                    loss.backward()\n",
    "                    optimizer.step()\n",
    "                    val_loss += loss\n",
    "                    valloss_reg_sum += loss_reg\n",
    "                    valloss_align_sum += loss_align\n",
    "            \n",
    "            current_time = time.strftime(\"%Y-%m-%d %H:%M:%S\", time.localtime())\n",
    "            print(begin_time+' | '+current_time+' | '+('Epoch: %d | Loss: %.3f | loss_align: %.3f | loss_reg: %.3f' % (inital_epoch + epoch, val_loss / (count), valloss_align_sum / (count), valloss_reg_sum / (count))))\n",
    "            val_loss_list.append(val_loss / (count))\n",
    "            torch.save(TALL_model.state_dict(), save_path + 'epoch'+str(inital_epoch + epoch)+'params.pkl')\n",
    "            if val_loss / count < Max_loss:\n",
    "                Max_loss = val_loss / count\n",
    "                print(\"model save!\")"
   ]
  },
  {
   "cell_type": "code",
   "execution_count": 18,
   "metadata": {},
   "outputs": [
    {
     "name": "stdout",
     "output_type": "stream",
     "text": [
      "start traning.......\n",
      "2020-08-15 19:01:41 | 2020-08-15 19:02:51 | Epoch: 665 | Loss: 0.069 | loss_align: 0.000 | loss_reg: 6.935\n",
      "2020-08-15 19:02:51 | 2020-08-15 19:04:06 | Epoch: 666 | Loss: 0.065 | loss_align: 0.000 | loss_reg: 6.463\n",
      "2020-08-15 19:04:06 | 2020-08-15 19:05:18 | Epoch: 667 | Loss: 0.067 | loss_align: 0.000 | loss_reg: 6.666\n",
      "2020-08-15 19:05:18 | 2020-08-15 19:06:28 | Epoch: 668 | Loss: 0.065 | loss_align: 0.000 | loss_reg: 6.475\n",
      "2020-08-15 19:06:28 | 2020-08-15 19:07:38 | Epoch: 669 | Loss: 0.063 | loss_align: 0.000 | loss_reg: 6.345\n",
      "validation.....\n",
      "2020-08-15 19:07:38 | 2020-08-15 19:08:02 | Epoch: 669 | Loss: 0.131 | loss_align: 0.000 | loss_reg: 13.112\n",
      "model save!\n",
      "2020-08-15 19:08:02 | 2020-08-15 19:09:13 | Epoch: 670 | Loss: 0.066 | loss_align: 0.000 | loss_reg: 6.632\n",
      "2020-08-15 19:09:13 | 2020-08-15 19:10:23 | Epoch: 671 | Loss: 0.066 | loss_align: 0.000 | loss_reg: 6.620\n",
      "2020-08-15 19:10:23 | 2020-08-15 19:11:34 | Epoch: 672 | Loss: 0.064 | loss_align: 0.000 | loss_reg: 6.446\n",
      "2020-08-15 19:11:34 | 2020-08-15 19:12:46 | Epoch: 673 | Loss: 0.065 | loss_align: 0.000 | loss_reg: 6.547\n",
      "2020-08-15 19:12:46 | 2020-08-15 19:13:57 | Epoch: 674 | Loss: 0.064 | loss_align: 0.000 | loss_reg: 6.396\n",
      "validation.....\n",
      "2020-08-15 19:13:57 | 2020-08-15 19:14:22 | Epoch: 674 | Loss: 0.133 | loss_align: 0.000 | loss_reg: 13.328\n",
      "2020-08-15 19:14:22 | 2020-08-15 19:15:35 | Epoch: 675 | Loss: 0.067 | loss_align: 0.000 | loss_reg: 6.741\n",
      "2020-08-15 19:15:35 | 2020-08-15 19:16:49 | Epoch: 676 | Loss: 0.066 | loss_align: 0.000 | loss_reg: 6.553\n",
      "2020-08-15 19:16:49 | 2020-08-15 19:18:04 | Epoch: 677 | Loss: 0.064 | loss_align: 0.000 | loss_reg: 6.424\n",
      "2020-08-15 19:18:04 | 2020-08-15 19:19:21 | Epoch: 678 | Loss: 0.066 | loss_align: 0.000 | loss_reg: 6.625\n",
      "2020-08-15 19:19:21 | 2020-08-15 19:20:38 | Epoch: 679 | Loss: 0.067 | loss_align: 0.000 | loss_reg: 6.697\n",
      "validation.....\n",
      "2020-08-15 19:20:38 | 2020-08-15 19:21:05 | Epoch: 679 | Loss: 0.128 | loss_align: 0.000 | loss_reg: 12.756\n",
      "model save!\n",
      "2020-08-15 19:21:05 | 2020-08-15 19:22:24 | Epoch: 680 | Loss: 0.067 | loss_align: 0.000 | loss_reg: 6.745\n",
      "2020-08-15 19:22:24 | 2020-08-15 19:23:44 | Epoch: 681 | Loss: 0.064 | loss_align: 0.000 | loss_reg: 6.383\n",
      "2020-08-15 19:23:44 | 2020-08-15 19:25:09 | Epoch: 682 | Loss: 0.064 | loss_align: 0.000 | loss_reg: 6.373\n",
      "2020-08-15 19:25:09 | 2020-08-15 19:26:31 | Epoch: 683 | Loss: 0.064 | loss_align: 0.000 | loss_reg: 6.424\n",
      "2020-08-15 19:26:31 | 2020-08-15 19:27:55 | Epoch: 684 | Loss: 0.064 | loss_align: 0.000 | loss_reg: 6.409\n",
      "validation.....\n",
      "2020-08-15 19:27:55 | 2020-08-15 19:28:22 | Epoch: 684 | Loss: 0.130 | loss_align: 0.000 | loss_reg: 13.024\n",
      "2020-08-15 19:28:22 | 2020-08-15 19:29:44 | Epoch: 685 | Loss: 0.066 | loss_align: 0.000 | loss_reg: 6.631\n",
      "2020-08-15 19:29:44 | 2020-08-15 19:31:09 | Epoch: 686 | Loss: 0.066 | loss_align: 0.000 | loss_reg: 6.588\n",
      "2020-08-15 19:31:09 | 2020-08-15 19:32:34 | Epoch: 687 | Loss: 0.066 | loss_align: 0.000 | loss_reg: 6.644\n",
      "2020-08-15 19:32:34 | 2020-08-15 19:33:57 | Epoch: 688 | Loss: 0.063 | loss_align: 0.000 | loss_reg: 6.257\n",
      "2020-08-15 19:33:57 | 2020-08-15 19:35:19 | Epoch: 689 | Loss: 0.065 | loss_align: 0.000 | loss_reg: 6.535\n",
      "validation.....\n",
      "2020-08-15 19:35:19 | 2020-08-15 19:35:46 | Epoch: 689 | Loss: 0.126 | loss_align: 0.000 | loss_reg: 12.579\n",
      "model save!\n",
      "2020-08-15 19:35:46 | 2020-08-15 19:37:07 | Epoch: 690 | Loss: 0.066 | loss_align: 0.000 | loss_reg: 6.604\n",
      "2020-08-15 19:37:07 | 2020-08-15 19:38:25 | Epoch: 691 | Loss: 0.063 | loss_align: 0.000 | loss_reg: 6.322\n",
      "2020-08-15 19:38:25 | 2020-08-15 19:39:43 | Epoch: 692 | Loss: 0.062 | loss_align: 0.000 | loss_reg: 6.208\n",
      "2020-08-15 19:39:43 | 2020-08-15 19:41:01 | Epoch: 693 | Loss: 0.064 | loss_align: 0.000 | loss_reg: 6.441\n",
      "2020-08-15 19:41:01 | 2020-08-15 19:42:21 | Epoch: 694 | Loss: 0.065 | loss_align: 0.000 | loss_reg: 6.525\n",
      "validation.....\n",
      "2020-08-15 19:42:21 | 2020-08-15 19:42:48 | Epoch: 694 | Loss: 0.129 | loss_align: 0.000 | loss_reg: 12.869\n",
      "2020-08-15 19:42:48 | 2020-08-15 19:44:12 | Epoch: 695 | Loss: 0.067 | loss_align: 0.000 | loss_reg: 6.722\n",
      "2020-08-15 19:44:12 | 2020-08-15 19:45:36 | Epoch: 696 | Loss: 0.063 | loss_align: 0.000 | loss_reg: 6.277\n",
      "2020-08-15 19:45:36 | 2020-08-15 19:46:56 | Epoch: 697 | Loss: 0.062 | loss_align: 0.000 | loss_reg: 6.195\n",
      "2020-08-15 19:46:56 | 2020-08-15 19:48:33 | Epoch: 698 | Loss: 0.064 | loss_align: 0.000 | loss_reg: 6.446\n",
      "2020-08-15 19:48:33 | 2020-08-15 19:50:00 | Epoch: 699 | Loss: 0.063 | loss_align: 0.000 | loss_reg: 6.307\n",
      "validation.....\n",
      "2020-08-15 19:50:00 | 2020-08-15 19:50:27 | Epoch: 699 | Loss: 0.129 | loss_align: 0.000 | loss_reg: 12.882\n",
      "2020-08-15 19:50:27 | 2020-08-15 19:51:50 | Epoch: 700 | Loss: 0.068 | loss_align: 0.000 | loss_reg: 6.765\n",
      "2020-08-15 19:51:50 | 2020-08-15 19:53:13 | Epoch: 701 | Loss: 0.062 | loss_align: 0.000 | loss_reg: 6.225\n",
      "2020-08-15 19:53:13 | 2020-08-15 19:54:39 | Epoch: 702 | Loss: 0.063 | loss_align: 0.000 | loss_reg: 6.280\n",
      "2020-08-15 19:54:39 | 2020-08-15 19:56:03 | Epoch: 703 | Loss: 0.062 | loss_align: 0.000 | loss_reg: 6.184\n",
      "2020-08-15 19:56:03 | 2020-08-15 19:57:32 | Epoch: 704 | Loss: 0.063 | loss_align: 0.000 | loss_reg: 6.342\n",
      "validation.....\n",
      "2020-08-15 19:57:32 | 2020-08-15 19:58:01 | Epoch: 704 | Loss: 0.130 | loss_align: 0.000 | loss_reg: 13.024\n",
      "2020-08-15 19:58:01 | 2020-08-15 19:59:27 | Epoch: 705 | Loss: 0.063 | loss_align: 0.000 | loss_reg: 6.266\n",
      "2020-08-15 19:59:27 | 2020-08-15 20:00:53 | Epoch: 706 | Loss: 0.062 | loss_align: 0.000 | loss_reg: 6.228\n",
      "2020-08-15 20:00:53 | 2020-08-15 20:02:18 | Epoch: 707 | Loss: 0.064 | loss_align: 0.000 | loss_reg: 6.439\n",
      "2020-08-15 20:02:18 | 2020-08-15 20:03:49 | Epoch: 708 | Loss: 0.061 | loss_align: 0.000 | loss_reg: 6.147\n",
      "2020-08-15 20:03:49 | 2020-08-15 20:05:25 | Epoch: 709 | Loss: 0.062 | loss_align: 0.000 | loss_reg: 6.217\n",
      "validation.....\n",
      "2020-08-15 20:05:25 | 2020-08-15 20:05:56 | Epoch: 709 | Loss: 0.120 | loss_align: 0.000 | loss_reg: 11.960\n",
      "model save!\n",
      "2020-08-15 20:05:56 | 2020-08-15 20:07:30 | Epoch: 710 | Loss: 0.065 | loss_align: 0.000 | loss_reg: 6.531\n",
      "2020-08-15 20:07:30 | 2020-08-15 20:08:58 | Epoch: 711 | Loss: 0.060 | loss_align: 0.000 | loss_reg: 6.040\n",
      "2020-08-15 20:08:58 | 2020-08-15 20:10:27 | Epoch: 712 | Loss: 0.063 | loss_align: 0.000 | loss_reg: 6.264\n",
      "2020-08-15 20:10:27 | 2020-08-15 20:11:56 | Epoch: 713 | Loss: 0.063 | loss_align: 0.000 | loss_reg: 6.264\n",
      "2020-08-15 20:11:56 | 2020-08-15 20:13:26 | Epoch: 714 | Loss: 0.065 | loss_align: 0.000 | loss_reg: 6.452\n",
      "validation.....\n",
      "2020-08-15 20:13:26 | 2020-08-15 20:13:56 | Epoch: 714 | Loss: 0.128 | loss_align: 0.000 | loss_reg: 12.818\n",
      "2020-08-15 20:13:56 | 2020-08-15 20:15:28 | Epoch: 715 | Loss: 0.065 | loss_align: 0.000 | loss_reg: 6.452\n",
      "2020-08-15 20:15:28 | 2020-08-15 20:16:57 | Epoch: 716 | Loss: 0.062 | loss_align: 0.000 | loss_reg: 6.229\n",
      "2020-08-15 20:16:57 | 2020-08-15 20:18:28 | Epoch: 717 | Loss: 0.060 | loss_align: 0.000 | loss_reg: 5.973\n",
      "2020-08-15 20:18:28 | 2020-08-15 20:20:01 | Epoch: 718 | Loss: 0.064 | loss_align: 0.000 | loss_reg: 6.355\n",
      "2020-08-15 20:20:01 | 2020-08-15 20:21:32 | Epoch: 719 | Loss: 0.061 | loss_align: 0.000 | loss_reg: 6.080\n",
      "validation.....\n",
      "2020-08-15 20:21:32 | 2020-08-15 20:22:02 | Epoch: 719 | Loss: 0.116 | loss_align: 0.000 | loss_reg: 11.589\n",
      "model save!\n",
      "2020-08-15 20:22:02 | 2020-08-15 20:23:34 | Epoch: 720 | Loss: 0.063 | loss_align: 0.000 | loss_reg: 6.322\n",
      "2020-08-15 20:23:34 | 2020-08-15 20:25:07 | Epoch: 721 | Loss: 0.063 | loss_align: 0.000 | loss_reg: 6.272\n",
      "2020-08-15 20:25:07 | 2020-08-15 20:26:40 | Epoch: 722 | Loss: 0.064 | loss_align: 0.000 | loss_reg: 6.408\n",
      "2020-08-15 20:26:40 | 2020-08-15 20:28:21 | Epoch: 723 | Loss: 0.061 | loss_align: 0.000 | loss_reg: 6.053\n",
      "2020-08-15 20:28:21 | 2020-08-15 20:29:57 | Epoch: 724 | Loss: 0.062 | loss_align: 0.000 | loss_reg: 6.244\n",
      "validation.....\n",
      "2020-08-15 20:29:57 | 2020-08-15 20:30:29 | Epoch: 724 | Loss: 0.124 | loss_align: 0.000 | loss_reg: 12.437\n",
      "2020-08-15 20:30:29 | 2020-08-15 20:32:04 | Epoch: 725 | Loss: 0.064 | loss_align: 0.000 | loss_reg: 6.361\n",
      "2020-08-15 20:32:04 | 2020-08-15 20:33:43 | Epoch: 726 | Loss: 0.063 | loss_align: 0.000 | loss_reg: 6.256\n",
      "2020-08-15 20:33:43 | 2020-08-15 20:35:20 | Epoch: 727 | Loss: 0.058 | loss_align: 0.000 | loss_reg: 5.805\n",
      "2020-08-15 20:35:20 | 2020-08-15 20:36:58 | Epoch: 728 | Loss: 0.062 | loss_align: 0.000 | loss_reg: 6.170\n",
      "2020-08-15 20:36:58 | 2020-08-15 20:38:35 | Epoch: 729 | Loss: 0.063 | loss_align: 0.000 | loss_reg: 6.254\n",
      "validation.....\n",
      "2020-08-15 20:38:35 | 2020-08-15 20:39:09 | Epoch: 729 | Loss: 0.122 | loss_align: 0.000 | loss_reg: 12.212\n",
      "2020-08-15 20:39:09 | 2020-08-15 20:40:48 | Epoch: 730 | Loss: 0.065 | loss_align: 0.000 | loss_reg: 6.483\n",
      "2020-08-15 20:40:48 | 2020-08-15 20:42:27 | Epoch: 731 | Loss: 0.063 | loss_align: 0.000 | loss_reg: 6.260\n",
      "2020-08-15 20:42:27 | 2020-08-15 20:44:11 | Epoch: 732 | Loss: 0.063 | loss_align: 0.000 | loss_reg: 6.326\n",
      "2020-08-15 20:44:11 | 2020-08-15 20:45:52 | Epoch: 733 | Loss: 0.063 | loss_align: 0.000 | loss_reg: 6.265\n",
      "2020-08-15 20:45:52 | 2020-08-15 20:47:33 | Epoch: 734 | Loss: 0.060 | loss_align: 0.000 | loss_reg: 5.993\n",
      "validation.....\n",
      "2020-08-15 20:47:33 | 2020-08-15 20:48:06 | Epoch: 734 | Loss: 0.129 | loss_align: 0.000 | loss_reg: 12.853\n",
      "2020-08-15 20:48:06 | 2020-08-15 20:49:50 | Epoch: 735 | Loss: 0.065 | loss_align: 0.000 | loss_reg: 6.466\n",
      "2020-08-15 20:49:50 | 2020-08-15 20:51:31 | Epoch: 736 | Loss: 0.062 | loss_align: 0.000 | loss_reg: 6.196\n",
      "2020-08-15 20:51:31 | 2020-08-15 20:53:24 | Epoch: 737 | Loss: 0.060 | loss_align: 0.000 | loss_reg: 5.984\n",
      "2020-08-15 20:53:24 | 2020-08-15 20:55:12 | Epoch: 738 | Loss: 0.063 | loss_align: 0.000 | loss_reg: 6.278\n",
      "2020-08-15 20:55:12 | 2020-08-15 20:56:54 | Epoch: 739 | Loss: 0.061 | loss_align: 0.000 | loss_reg: 6.133\n",
      "validation.....\n",
      "2020-08-15 20:56:54 | 2020-08-15 20:57:28 | Epoch: 739 | Loss: 0.121 | loss_align: 0.000 | loss_reg: 12.106\n",
      "2020-08-15 20:57:28 | 2020-08-15 20:59:31 | Epoch: 740 | Loss: 0.062 | loss_align: 0.000 | loss_reg: 6.175\n",
      "2020-08-15 20:59:31 | 2020-08-15 21:01:34 | Epoch: 741 | Loss: 0.061 | loss_align: 0.000 | loss_reg: 6.103\n",
      "2020-08-15 21:01:34 | 2020-08-15 21:03:34 | Epoch: 742 | Loss: 0.062 | loss_align: 0.000 | loss_reg: 6.187\n",
      "2020-08-15 21:03:34 | 2020-08-15 21:05:47 | Epoch: 743 | Loss: 0.061 | loss_align: 0.000 | loss_reg: 6.054\n",
      "2020-08-15 21:05:47 | 2020-08-15 21:07:36 | Epoch: 744 | Loss: 0.061 | loss_align: 0.000 | loss_reg: 6.104\n",
      "validation.....\n",
      "2020-08-15 21:07:36 | 2020-08-15 21:08:11 | Epoch: 744 | Loss: 0.115 | loss_align: 0.000 | loss_reg: 11.519\n",
      "model save!\n",
      "2020-08-15 21:08:11 | 2020-08-15 21:10:01 | Epoch: 745 | Loss: 0.066 | loss_align: 0.000 | loss_reg: 6.623\n",
      "2020-08-15 21:10:01 | 2020-08-15 21:12:01 | Epoch: 746 | Loss: 0.059 | loss_align: 0.000 | loss_reg: 5.864\n",
      "2020-08-15 21:12:01 | 2020-08-15 21:14:24 | Epoch: 747 | Loss: 0.061 | loss_align: 0.000 | loss_reg: 6.079\n",
      "2020-08-15 21:14:24 | 2020-08-15 21:16:19 | Epoch: 748 | Loss: 0.061 | loss_align: 0.000 | loss_reg: 6.071\n",
      "2020-08-15 21:16:19 | 2020-08-15 21:18:17 | Epoch: 749 | Loss: 0.062 | loss_align: 0.000 | loss_reg: 6.152\n",
      "validation.....\n",
      "2020-08-15 21:18:17 | 2020-08-15 21:19:00 | Epoch: 749 | Loss: 0.114 | loss_align: 0.000 | loss_reg: 11.404\n",
      "model save!\n",
      "2020-08-15 21:19:00 | 2020-08-15 21:21:03 | Epoch: 750 | Loss: 0.061 | loss_align: 0.000 | loss_reg: 6.112\n",
      "2020-08-15 21:21:03 | 2020-08-15 21:22:54 | Epoch: 751 | Loss: 0.060 | loss_align: 0.000 | loss_reg: 6.004\n",
      "2020-08-15 21:22:54 | 2020-08-15 21:24:58 | Epoch: 752 | Loss: 0.059 | loss_align: 0.000 | loss_reg: 5.931\n",
      "2020-08-15 21:24:58 | 2020-08-15 21:27:01 | Epoch: 753 | Loss: 0.061 | loss_align: 0.000 | loss_reg: 6.078\n",
      "2020-08-15 21:27:01 | 2020-08-15 21:29:08 | Epoch: 754 | Loss: 0.061 | loss_align: 0.000 | loss_reg: 6.069\n",
      "validation.....\n",
      "2020-08-15 21:29:08 | 2020-08-15 21:29:49 | Epoch: 754 | Loss: 0.112 | loss_align: 0.000 | loss_reg: 11.185\n",
      "model save!\n",
      "2020-08-15 21:29:49 | 2020-08-15 21:31:45 | Epoch: 755 | Loss: 0.065 | loss_align: 0.000 | loss_reg: 6.455\n",
      "2020-08-15 21:31:45 | 2020-08-15 21:33:42 | Epoch: 756 | Loss: 0.060 | loss_align: 0.000 | loss_reg: 5.993\n",
      "2020-08-15 21:33:42 | 2020-08-15 21:35:40 | Epoch: 757 | Loss: 0.060 | loss_align: 0.000 | loss_reg: 5.992\n",
      "2020-08-15 21:35:40 | 2020-08-15 21:37:39 | Epoch: 758 | Loss: 0.060 | loss_align: 0.000 | loss_reg: 6.029\n"
     ]
    },
    {
     "ename": "KeyboardInterrupt",
     "evalue": "",
     "output_type": "error",
     "traceback": [
      "\u001b[1;31m---------------------------------------------------------------------------\u001b[0m",
      "\u001b[1;31mKeyboardInterrupt\u001b[0m                         Traceback (most recent call last)",
      "\u001b[1;32m<ipython-input-18-3b1cb9e3fee2>\u001b[0m in \u001b[0;36m<module>\u001b[1;34m()\u001b[0m\n\u001b[1;32m----> 1\u001b[1;33m \u001b[0mtrain\u001b[0m\u001b[1;33m(\u001b[0m\u001b[1;36m665\u001b[0m\u001b[1;33m)\u001b[0m\u001b[1;33m\u001b[0m\u001b[1;33m\u001b[0m\u001b[0m\n\u001b[0m",
      "\u001b[1;32m<ipython-input-17-25b5ac705c0a>\u001b[0m in \u001b[0;36mtrain\u001b[1;34m(inital_epoch)\u001b[0m\n\u001b[0;32m     46\u001b[0m                 \u001b[0moptimizer\u001b[0m\u001b[1;33m.\u001b[0m\u001b[0mzero_grad\u001b[0m\u001b[1;33m(\u001b[0m\u001b[1;33m)\u001b[0m\u001b[1;33m\u001b[0m\u001b[1;33m\u001b[0m\u001b[0m\n\u001b[0;32m     47\u001b[0m                 \u001b[0mloss\u001b[0m\u001b[1;33m.\u001b[0m\u001b[0mbackward\u001b[0m\u001b[1;33m(\u001b[0m\u001b[1;33m)\u001b[0m\u001b[1;33m\u001b[0m\u001b[1;33m\u001b[0m\u001b[0m\n\u001b[1;32m---> 48\u001b[1;33m                 \u001b[0moptimizer\u001b[0m\u001b[1;33m.\u001b[0m\u001b[0mstep\u001b[0m\u001b[1;33m(\u001b[0m\u001b[1;33m)\u001b[0m\u001b[1;33m\u001b[0m\u001b[1;33m\u001b[0m\u001b[0m\n\u001b[0m\u001b[0;32m     49\u001b[0m                 \u001b[0mtrain_loss\u001b[0m \u001b[1;33m+=\u001b[0m \u001b[0mloss\u001b[0m\u001b[1;33m\u001b[0m\u001b[1;33m\u001b[0m\u001b[0m\n\u001b[0;32m     50\u001b[0m                 \u001b[0mloss_reg_sum\u001b[0m \u001b[1;33m+=\u001b[0m \u001b[0mloss_reg\u001b[0m\u001b[1;33m\u001b[0m\u001b[1;33m\u001b[0m\u001b[0m\n",
      "\u001b[1;32m~\\Anaconda3\\lib\\site-packages\\torch\\optim\\adam.py\u001b[0m in \u001b[0;36mstep\u001b[1;34m(self, closure)\u001b[0m\n\u001b[0;32m     99\u001b[0m                     \u001b[0mdenom\u001b[0m \u001b[1;33m=\u001b[0m \u001b[0mmax_exp_avg_sq\u001b[0m\u001b[1;33m.\u001b[0m\u001b[0msqrt\u001b[0m\u001b[1;33m(\u001b[0m\u001b[1;33m)\u001b[0m\u001b[1;33m.\u001b[0m\u001b[0madd_\u001b[0m\u001b[1;33m(\u001b[0m\u001b[0mgroup\u001b[0m\u001b[1;33m[\u001b[0m\u001b[1;34m'eps'\u001b[0m\u001b[1;33m]\u001b[0m\u001b[1;33m)\u001b[0m\u001b[1;33m\u001b[0m\u001b[1;33m\u001b[0m\u001b[0m\n\u001b[0;32m    100\u001b[0m                 \u001b[1;32melse\u001b[0m\u001b[1;33m:\u001b[0m\u001b[1;33m\u001b[0m\u001b[1;33m\u001b[0m\u001b[0m\n\u001b[1;32m--> 101\u001b[1;33m                     \u001b[0mdenom\u001b[0m \u001b[1;33m=\u001b[0m \u001b[0mexp_avg_sq\u001b[0m\u001b[1;33m.\u001b[0m\u001b[0msqrt\u001b[0m\u001b[1;33m(\u001b[0m\u001b[1;33m)\u001b[0m\u001b[1;33m.\u001b[0m\u001b[0madd_\u001b[0m\u001b[1;33m(\u001b[0m\u001b[0mgroup\u001b[0m\u001b[1;33m[\u001b[0m\u001b[1;34m'eps'\u001b[0m\u001b[1;33m]\u001b[0m\u001b[1;33m)\u001b[0m\u001b[1;33m\u001b[0m\u001b[1;33m\u001b[0m\u001b[0m\n\u001b[0m\u001b[0;32m    102\u001b[0m \u001b[1;33m\u001b[0m\u001b[0m\n\u001b[0;32m    103\u001b[0m                 \u001b[0mbias_correction1\u001b[0m \u001b[1;33m=\u001b[0m \u001b[1;36m1\u001b[0m \u001b[1;33m-\u001b[0m \u001b[0mbeta1\u001b[0m \u001b[1;33m**\u001b[0m \u001b[0mstate\u001b[0m\u001b[1;33m[\u001b[0m\u001b[1;34m'step'\u001b[0m\u001b[1;33m]\u001b[0m\u001b[1;33m\u001b[0m\u001b[1;33m\u001b[0m\u001b[0m\n",
      "\u001b[1;31mKeyboardInterrupt\u001b[0m: "
     ]
    }
   ],
   "source": [
    "train(665)"
   ]
  },
  {
   "cell_type": "markdown",
   "metadata": {},
   "source": [
    "## 绘制曲线"
   ]
  },
  {
   "cell_type": "code",
   "execution_count": 19,
   "metadata": {
    "collapsed": true
   },
   "outputs": [],
   "source": [
    "def draw(train_loss_list, val_loss_list):\n",
    "    x1 = range(0, len(train_loss_list))\n",
    "    x2 = range(0, len(val_loss_list))\n",
    "    #with plt.style.context(['science']):\n",
    "    plt.subplot(2, 1, 1)\n",
    "    plt.plot(x1, train_loss_list[:len(train_loss_list)], 'o-')\n",
    "    plt.title('train loss vs. epoches')\n",
    "    plt.ylabel('train loss')\n",
    "    plt.subplot(2, 1, 2)\n",
    "    plt.plot(x2,val_loss_list[:len(val_loss_list)] , '.-')\n",
    "    plt.xlabel('Val loss vs. epoches')\n",
    "    plt.ylabel('Val loss')\n",
    "    plt.show()"
   ]
  },
  {
   "cell_type": "code",
   "execution_count": 20,
   "metadata": {},
   "outputs": [
    {
     "data": {
      "image/png": "[encoded data removed]",
      "text/plain": [
       "<Figure size 432x288 with 2 Axes>"
      ]
     },
     "metadata": {},
     "output_type": "display_data"
    }
   ],
   "source": [
    "draw(train_loss_list, val_loss_list)\n",
    "torch.save(TALL_model.state_dict(), save_path + 'final_model_params.pkl')"
   ]
  },
  {
   "cell_type": "markdown",
   "metadata": {},
   "source": [
    "## 对比计算"
   ]
  },
  {
   "cell_type": "code",
   "execution_count": 11,
   "metadata": {
    "collapsed": true
   },
   "outputs": [],
   "source": [
    "# 定义LSTM的结构\n",
    "class LSTM_CNN(nn.Module):\n",
    "    \n",
    "    def __init__(self):\n",
    "        super(LSTM_CNN, self).__init__()\n",
    "        \n",
    "        self.embedding = nn.Embedding(5000, 64)\n",
    "        self.rnn = nn.LSTM(input_size=64, hidden_size=128, num_layers=2, bidirectional=True)\n",
    "        #self.rnn = nn.GRU(input_size=64, hidden_size=128, num_layers=2, bidirectional=True)\n",
    "        self.f1 = nn.Sequential(nn.Linear(256,128),\n",
    "                                nn.Dropout(0.8),\n",
    "                                nn.ReLU())\n",
    "\n",
    "        self.f2 = nn.Sequential(nn.Linear(128,64))\n",
    "        \n",
    "        \n",
    "        self.conv1=torch.nn.Sequential(\n",
    "            torch.nn.Conv1d(1,10,3),\n",
    "            torch.nn.ReLU(),\n",
    "            torch.nn.MaxPool1d(2),\n",
    "        )\n",
    "        \n",
    "        self.conv2=torch.nn.Sequential(\n",
    "            torch.nn.Conv1d(10,20,3),\n",
    "            torch.nn.ReLU(),\n",
    "            torch.nn.MaxPool1d(2),\n",
    "        )\n",
    "\n",
    "        #self.fc1=torch.nn.Linear(2520,128)\n",
    "        self.fc1=torch.nn.Linear(512,128)\n",
    "        self.fc1_drop=torch.nn.Dropout(p=0.4)\n",
    "        self.fc2=torch.nn.Linear(128, 64)\n",
    "        \n",
    "        #特征融合\n",
    "        self.final_fc = nn.Linear(in_features=128, out_features=64)\n",
    "        self.score_fc = torch.nn.Conv2d(64,3,kernel_size=1,stride=1)\n",
    "        \n",
    "        \n",
    "    def cnnout(self, x2):\n",
    "        in_fc=x2.view(x2.size(0),-1)\n",
    "        out_fc1=self.fc1(in_fc)\n",
    "        out_drop=self.fc1_drop(out_fc1)\n",
    "        out_fc2=self.fc2(out_drop)\n",
    "        return out_fc2\n",
    "        \n",
    "    def forward(self, x1, x2): \n",
    "        if x1.shape[0]!=2:\n",
    "            #lstm\n",
    "            x = self.embedding(x1)\n",
    "            x,_ = self.rnn(x)\n",
    "            x = F.dropout(x,p=0.8)\n",
    "            \n",
    "            x = self.f1(x[:,-1,:])\n",
    "            lstm_output = self.f2(x)\n",
    "            cnn_out=self.cnnout(x2)\n",
    "            #concat\n",
    "            output = torch.cat((lstm_output, cnn_out), 1)\n",
    "            output = self.final_fc(output)\n",
    "            return output\n",
    "        else:\n",
    "            cnn_out=self.cnnout(x2)\n",
    "            return cnn_out"
   ]
  },
  {
   "cell_type": "code",
   "execution_count": 12,
   "metadata": {
    "collapsed": true
   },
   "outputs": [],
   "source": [
    "# 定义LSTM的结构\n",
    "class Change(nn.Module):\n",
    "    def __init__(self):\n",
    "        super(Change, self).__init__()\n",
    "        #特征融合\n",
    "        self.score_fc = torch.nn.Conv1d(64, 2, kernel_size=1, stride=1)\n",
    "        \n",
    "    def forward(self, x):\n",
    "        output = x#[10, 64]\n",
    "        output = output.unsqueeze(2)\n",
    "        score = self.score_fc(output)\n",
    "        offset_pred = score.squeeze(2)\n",
    "        return offset_pred"
   ]
  },
  {
   "cell_type": "markdown",
   "metadata": {},
   "source": [
    "#### 加载模型"
   ]
  },
  {
   "cell_type": "code",
   "execution_count": 15,
   "metadata": {},
   "outputs": [
    {
     "ename": "RuntimeError",
     "evalue": "Error(s) in loading state_dict for Change:\n\tsize mismatch for score_fc.weight: copying a param with shape torch.Size([2, 128, 1]) from checkpoint, the shape in current model is torch.Size([2, 64, 1]).",
     "output_type": "error",
     "traceback": [
      "\u001b[1;31m---------------------------------------------------------------------------\u001b[0m",
      "\u001b[1;31mRuntimeError\u001b[0m                              Traceback (most recent call last)",
      "\u001b[1;32m<ipython-input-15-083e13f0d4fc>\u001b[0m in \u001b[0;36m<module>\u001b[1;34m()\u001b[0m\n\u001b[0;32m      4\u001b[0m \u001b[0mTALL_final_model\u001b[0m\u001b[1;33m.\u001b[0m\u001b[0mload_state_dict\u001b[0m\u001b[1;33m(\u001b[0m\u001b[0mtorch\u001b[0m\u001b[1;33m.\u001b[0m\u001b[0mload\u001b[0m\u001b[1;33m(\u001b[0m\u001b[1;34m'C:/Users/wuxun/Desktop/Data/TALL/save_model/epoch754params.pkl'\u001b[0m\u001b[1;33m)\u001b[0m\u001b[1;33m)\u001b[0m\u001b[1;33m\u001b[0m\u001b[1;33m\u001b[0m\u001b[0m\n\u001b[0;32m      5\u001b[0m \u001b[0mmiddle_model\u001b[0m\u001b[1;33m.\u001b[0m\u001b[0mload_state_dict\u001b[0m\u001b[1;33m(\u001b[0m\u001b[0mtorch\u001b[0m\u001b[1;33m.\u001b[0m\u001b[0mload\u001b[0m\u001b[1;33m(\u001b[0m\u001b[1;34m'C:/Users/wuxun/Desktop/Data/save_model/189epoch_20200713_64_dim_params.pkl'\u001b[0m\u001b[1;33m)\u001b[0m\u001b[1;33m)\u001b[0m\u001b[1;33m\u001b[0m\u001b[1;33m\u001b[0m\u001b[0m\n\u001b[1;32m----> 6\u001b[1;33m \u001b[0mMy_model\u001b[0m\u001b[1;33m.\u001b[0m\u001b[0mload_state_dict\u001b[0m\u001b[1;33m(\u001b[0m\u001b[0mtorch\u001b[0m\u001b[1;33m.\u001b[0m\u001b[0mload\u001b[0m\u001b[1;33m(\u001b[0m\u001b[1;34m'C:/Users/wuxun/Desktop/Data/save_model2/新训练的model1以后训练model2无alignment/513.pkl'\u001b[0m\u001b[1;33m)\u001b[0m\u001b[1;33m)\u001b[0m\u001b[1;33m\u001b[0m\u001b[1;33m\u001b[0m\u001b[0m\n\u001b[0m",
      "\u001b[1;32m~\\Anaconda3\\lib\\site-packages\\torch\\nn\\modules\\module.py\u001b[0m in \u001b[0;36mload_state_dict\u001b[1;34m(self, state_dict, strict)\u001b[0m\n\u001b[0;32m    767\u001b[0m         \u001b[1;32mif\u001b[0m \u001b[0mlen\u001b[0m\u001b[1;33m(\u001b[0m\u001b[0merror_msgs\u001b[0m\u001b[1;33m)\u001b[0m \u001b[1;33m>\u001b[0m \u001b[1;36m0\u001b[0m\u001b[1;33m:\u001b[0m\u001b[1;33m\u001b[0m\u001b[1;33m\u001b[0m\u001b[0m\n\u001b[0;32m    768\u001b[0m             raise RuntimeError('Error(s) in loading state_dict for {}:\\n\\t{}'.format(\n\u001b[1;32m--> 769\u001b[1;33m                                self.__class__.__name__, \"\\n\\t\".join(error_msgs)))\n\u001b[0m\u001b[0;32m    770\u001b[0m \u001b[1;33m\u001b[0m\u001b[0m\n\u001b[0;32m    771\u001b[0m     \u001b[1;32mdef\u001b[0m \u001b[0m_named_members\u001b[0m\u001b[1;33m(\u001b[0m\u001b[0mself\u001b[0m\u001b[1;33m,\u001b[0m \u001b[0mget_members_fn\u001b[0m\u001b[1;33m,\u001b[0m \u001b[0mprefix\u001b[0m\u001b[1;33m=\u001b[0m\u001b[1;34m''\u001b[0m\u001b[1;33m,\u001b[0m \u001b[0mrecurse\u001b[0m\u001b[1;33m=\u001b[0m\u001b[1;32mTrue\u001b[0m\u001b[1;33m)\u001b[0m\u001b[1;33m:\u001b[0m\u001b[1;33m\u001b[0m\u001b[1;33m\u001b[0m\u001b[0m\n",
      "\u001b[1;31mRuntimeError\u001b[0m: Error(s) in loading state_dict for Change:\n\tsize mismatch for score_fc.weight: copying a param with shape torch.Size([2, 128, 1]) from checkpoint, the shape in current model is torch.Size([2, 64, 1])."
     ]
    }
   ],
   "source": [
    "TALL_final_model = TALL()\n",
    "My_model = Change()\n",
    "middle_model = LSTM_CNN()\n",
    "TALL_final_model.load_state_dict(torch.load('C:/Users/wuxun/Desktop/Data/TALL/save_model/epoch754params.pkl'))\n",
    "middle_model.load_state_dict(torch.load('C:/Users/wuxun/Desktop/Data/save_model/189epoch_20200713_64_dim_params.pkl'))\n",
    "My_model.load_state_dict(torch.load('C:/Users/wuxun/Desktop/Data/save_model2/新训练的model1以后训练model2无alignment/513.pkl'))"
   ]
  },
  {
   "cell_type": "markdown",
   "metadata": {},
   "source": [
    "#### 固定模型"
   ]
  },
  {
   "cell_type": "code",
   "execution_count": 14,
   "metadata": {},
   "outputs": [
    {
     "data": {
      "text/plain": [
       "TALL(\n",
       "  (v2s_lt): Linear(in_features=1536, out_features=128, bias=True)\n",
       "  (s2s_lt): Linear(in_features=256, out_features=128, bias=True)\n",
       "  (fc1): Conv2d(512, 128, kernel_size=(1, 1), stride=(1, 1))\n",
       "  (fc2): Conv2d(128, 3, kernel_size=(1, 1), stride=(1, 1))\n",
       "  (embedding): Embedding(5000, 64)\n",
       "  (lstm): LSTM(64, 128, num_layers=2, bidirectional=True)\n",
       ")"
      ]
     },
     "execution_count": 14,
     "metadata": {},
     "output_type": "execute_result"
    }
   ],
   "source": [
    "My_model.eval()\n",
    "middle_model.eval()\n",
    "TALL_final_model.eval()"
   ]
  },
  {
   "cell_type": "markdown",
   "metadata": {},
   "source": [
    "#### 功能函数"
   ]
  },
  {
   "cell_type": "code",
   "execution_count": 23,
   "metadata": {
    "collapsed": true
   },
   "outputs": [],
   "source": [
    "IoU_thresh = [0.1, 0.3, 0.5, 0.7]"
   ]
  },
  {
   "cell_type": "code",
   "execution_count": 24,
   "metadata": {
    "collapsed": true
   },
   "outputs": [],
   "source": [
    "def calculate_IoU(i0, i1):\n",
    "    # calculate temporal intersection over union\n",
    "    union = (min(i0[0], i1[0]), max(i0[1], i1[1]))\n",
    "    inter = (max(i0[0], i1[0]), min(i0[1], i1[1]))\n",
    "    iou = 1.0*(inter[1]-inter[0])/(union[1]-union[0])\n",
    "    return iou"
   ]
  },
  {
   "cell_type": "code",
   "execution_count": 25,
   "metadata": {
    "collapsed": true
   },
   "outputs": [],
   "source": [
    "def compute_IoU_recall_top_n_forreg(iou_thresh, time_mat, time_pre_mat):#top\n",
    "    correct_num = 0\n",
    "    for i in range(time_mat.shape[0]):\n",
    "        gt_start = time_mat[i][0]\n",
    "        gt_end = time_mat[i][1]\n",
    "        pred_start = time_pre_mat[i][0]\n",
    "        pred_end = time_pre_mat[i][1]\n",
    "        iou = calculate_IoU((gt_start, gt_end),(pred_start, pred_end))\n",
    "        if iou>=iou_thresh:\n",
    "            correct_num+=1\n",
    "    return correct_num"
   ]
  },
  {
   "cell_type": "code",
   "execution_count": 26,
   "metadata": {
    "collapsed": true
   },
   "outputs": [],
   "source": [
    "def pred_for_TALL(outputs):\n",
    "    p_reg_mat = outputs[1]\n",
    "    l_reg_mat = outputs[2]\n",
    "    input_size = outputs.size(1)\n",
    "    I = torch.eye(input_size)\n",
    "    l_reg_diag = torch.mm(l_reg_mat*I, torch.ones(input_size, 1))\n",
    "    p_reg_diag = torch.mm(p_reg_mat*I, torch.ones(input_size, 1))\n",
    "    offset_pred = torch.cat([p_reg_diag, l_reg_diag], 1)\n",
    "    return offset_pred"
   ]
  },
  {
   "cell_type": "code",
   "execution_count": 27,
   "metadata": {
    "collapsed": true
   },
   "outputs": [],
   "source": [
    "# 读取test数据集\n",
    "def get_test_dict_for_TALL(path, csv_path):\n",
    "    words, word_to_id = read_vocab(vocab_dir)\n",
    "    data_id = []\n",
    "    csv=[]\n",
    "    time_list=[]\n",
    "    Max_len=-1\n",
    "    count=0\n",
    "    with open(path) as contents:\n",
    "        for line in contents:\n",
    "            count+=1\n",
    "            List = line.split('#')\n",
    "            video_name = List[0]\n",
    "            time_length = float(List[1])\n",
    "            foldtype = List[2]\n",
    "            recipetype = List[3]\n",
    "            target = List[4]\n",
    "            \n",
    "            #将句子转换为id表示：\n",
    "            sentence = List[5].strip('\\n').strip()\n",
    "            sentence = re.split(r\"[,| |.]\",sentence)\n",
    "            sentence_id = [word_to_id[x] for x in sentence if x in word_to_id]\n",
    "            if len(sentence_id) > Max_len:\n",
    "                Max_len = len(sentence_id)\n",
    "            data_id.append(sentence_id)\n",
    "            \n",
    "            #寻找路径,先统一取0001\n",
    "            dir_path = csv_path+'/'+foldtype+'/'+recipetype+'/'+video_name+'/0001/'\n",
    "            name = os.listdir(dir_path)[0]\n",
    "            dir_path = dir_path + name\n",
    "            \n",
    "            #读取csv文件\n",
    "            my_file = Path(dir_path)\n",
    "            if my_file.exists():\n",
    "                frame_sum = pd.read_csv(dir_path, header=None)\n",
    "            else:\n",
    "                print(\"目录不存在！\")\n",
    "            \n",
    "            #确定时间点，前帧后帧取pooling\n",
    "            target = target.split('_')\n",
    "            cur_start = float(target[0])\n",
    "            cur_end = float(target[1])\n",
    "            middle_time = (cur_start + cur_end)//2\n",
    "            \n",
    "            #中间帧\n",
    "            target_frame_num = int(middle_time/time_length*500)\n",
    "            target_middle_frame = frame_sum.loc[target_frame_num]\n",
    "            \n",
    "            #上下文信息\n",
    "            target_frame_start = int(cur_start/time_length*500)\n",
    "            target_frame_end = int(cur_end/time_length*500)\n",
    "            if target_frame_start == target_frame_num:\n",
    "                print(str(cur_start)+\"  \"+str(cur_end)+\" \"+str(time_length))\n",
    "                print(\"出现重复！\")\n",
    "                target_frame_start = min(target_frame_num - 3, 0)\n",
    "            if  target_frame_end ==target_frame_num:\n",
    "                print(str(cur_start)+\"  \"+str(cur_end)+\" \"+str(time_length))\n",
    "                print(\"出现重复！\")\n",
    "                target_frame_start = min(target_frame_num + 3, 499)\n",
    "                \n",
    "            pre_context = np.zeros([target_frame_num - target_frame_start, 512], dtype=np.float32)\n",
    "            post_context = np.zeros([target_frame_end - target_frame_num, 512], dtype=np.float32) \n",
    "            for i in range(target_frame_num - target_frame_start):\n",
    "                pre_context[i] = frame_sum.loc[i]\n",
    "                \n",
    "            for i in range(target_frame_end - target_frame_num):\n",
    "                post_context[i] = frame_sum.loc[i]\n",
    "            \n",
    "            #对pre_context和post_context取均值\n",
    "            pre_context = np.mean(pre_context, axis=0)\n",
    "            post_context = np.mean(post_context, axis=0)\n",
    "            \n",
    "            #对三段信息进行拼接\n",
    "            image = np.hstack((pre_context, target_middle_frame, post_context))\n",
    "            \n",
    "            csv.append(image)\n",
    "            time_list.append([cur_start, cur_end])\n",
    "            \n",
    "    #将所有的句子pad为同一最大长度\n",
    "    batch_data_id = np.array([line +[0]*(Max_len-len(line)) \n",
    "                                            for line in data_id])\n",
    "    batch_seq = torch.LongTensor(batch_data_id)    \n",
    "    print(len(batch_seq),len(csv),len(time_list))\n",
    "    \n",
    "    return batch_seq, csv, time_list"
   ]
  },
  {
   "cell_type": "code",
   "execution_count": 28,
   "metadata": {
    "collapsed": true
   },
   "outputs": [],
   "source": [
    "#读取test集\n",
    "# 读取test数据集\n",
    "def get_test_dict_for_My_model(path, csv_path):\n",
    "    words, word_to_id = read_vocab(vocab_dir)\n",
    "    data_id = []\n",
    "    csv=[]\n",
    "    time_list=[]\n",
    "    Max_len=-1\n",
    "    count=0\n",
    "    with open(path) as contents:\n",
    "        for line in contents:\n",
    "            count+=1\n",
    "            List = line.split('#')\n",
    "            video_name = List[0]\n",
    "            time_length = float(List[1])\n",
    "            foldtype = List[2]\n",
    "            recipetype = List[3]\n",
    "            target = List[4]\n",
    "            \n",
    "            #将句子转换为id表示：\n",
    "            sentence = List[6].strip('\\n').strip()\n",
    "            sentence = re.split(r\"[,| |.]\",sentence)\n",
    "            sentence_id = [word_to_id[x] for x in sentence if x in word_to_id]\n",
    "            if len(sentence_id) > Max_len:\n",
    "                Max_len = len(sentence_id)\n",
    "            data_id.append(sentence_id)\n",
    "            \n",
    "            #寻找路径,先统一取0001\n",
    "            dir_path = csv_path+'/'+foldtype+'/'+recipetype+'/'+video_name+'/0001/'\n",
    "            name = os.listdir(dir_path)[0]\n",
    "            dir_path = dir_path + name\n",
    "            \n",
    "            #读取csv文件\n",
    "            my_file = Path(dir_path)\n",
    "            if my_file.exists():\n",
    "                frame_sum = pd.read_csv(dir_path, header=None)\n",
    "            else:\n",
    "                print(\"目录不存在！\")\n",
    "            \n",
    "            #确定时间点，前帧后帧取pooling\n",
    "            target = target.split('_')\n",
    "            cur_start = float(target[0])\n",
    "            cur_end = float(target[1])\n",
    "            middle_time = (cur_start + cur_end)//2\n",
    "            \n",
    "            #中间帧\n",
    "            target_frame_num = int(middle_time/time_length*500)\n",
    "            target_middle_frame = frame_sum.loc[target_frame_num]\n",
    "            \n",
    "            csv.append(target_middle_frame)\n",
    "            time_list.append([cur_start, cur_end])\n",
    "            \n",
    "    #将所有的句子pad为同一最大长度\n",
    "    batch_data_id = np.array([line +[0]*(Max_len-len(line)) \n",
    "                                            for line in data_id])\n",
    "    batch_seq = torch.LongTensor(batch_data_id)    \n",
    "    print(len(batch_seq),len(csv),len(time_list))\n",
    "    \n",
    "    return batch_seq, csv, time_list"
   ]
  },
  {
   "cell_type": "markdown",
   "metadata": {
    "collapsed": true
   },
   "source": [
    "#### 读取test集"
   ]
  },
  {
   "cell_type": "code",
   "execution_count": 29,
   "metadata": {},
   "outputs": [
    {
     "name": "stdout",
     "output_type": "stream",
     "text": [
      "894.0  896.0 1106.12\n",
      "出现重复！\n",
      "132 132 132\n"
     ]
    }
   ],
   "source": [
    "TALL_test_seq, TALL_test_csv, TALL_test_time_list = get_test_dict_for_TALL(test_path, csv_path)"
   ]
  },
  {
   "cell_type": "code",
   "execution_count": 44,
   "metadata": {
    "collapsed": true
   },
   "outputs": [],
   "source": [
    "# My_test_seq, My_test_csv, My_test_time_list = get_test_dict_for_My_model(test_path, csv_path)"
   ]
  },
  {
   "cell_type": "markdown",
   "metadata": {},
   "source": [
    "#### TALL计算"
   ]
  },
  {
   "cell_type": "code",
   "execution_count": 30,
   "metadata": {
    "collapsed": true
   },
   "outputs": [],
   "source": [
    "x = Variable(torch.LongTensor(TALL_test_seq))\n",
    "y = Variable(torch.FloatTensor(np.array(TALL_test_csv)))\n",
    "TALL_time_mat = Variable(torch.FloatTensor(np.array(TALL_test_time_list)))\n",
    "TALL_outputs = TALL_final_model(y, x)\n",
    "TALL_pre_time_mat = pred_for_TALL(TALL_outputs)"
   ]
  },
  {
   "cell_type": "code",
   "execution_count": 31,
   "metadata": {},
   "outputs": [
    {
     "name": "stdout",
     "output_type": "stream",
     "text": [
      "TALL: R@1 for iou_thresh: 0.1 is : 0.114\n",
      "TALL: R@1 for iou_thresh: 0.3 is : 0.076\n",
      "TALL: R@1 for iou_thresh: 0.5 is : 0.015\n",
      "TALL: R@1 for iou_thresh: 0.7 is : 0.000\n"
     ]
    }
   ],
   "source": [
    "for iou_thresh in IoU_thresh:\n",
    "    corrnum = compute_IoU_recall_top_n_forreg(iou_thresh, TALL_time_mat, TALL_pre_time_mat)\n",
    "    corr_avg = corrnum*1.0 / TALL_time_mat.shape[0] \n",
    "    print(\"TALL: R@1 for iou_thresh: %.1f is : %.3f\" % (iou_thresh, corr_avg))"
   ]
  },
  {
   "cell_type": "markdown",
   "metadata": {},
   "source": [
    "#### My_model计算"
   ]
  },
  {
   "cell_type": "code",
   "execution_count": 187,
   "metadata": {
    "collapsed": true
   },
   "outputs": [],
   "source": [
    "x = Variable(torch.LongTensor(My_test_seq))\n",
    "y = Variable(torch.FloatTensor(np.array(My_test_csv)))\n",
    "My_time_mat = Variable(torch.FloatTensor(np.array(My_test_time_list)))\n",
    "My_output1 = middle_model(x, y)\n",
    "My_pred_time_mat = My_model(My_output1)"
   ]
  },
  {
   "cell_type": "code",
   "execution_count": 188,
   "metadata": {},
   "outputs": [
    {
     "name": "stdout",
     "output_type": "stream",
     "text": [
      "My_model: R@1 for iou_thresh: 0.1 is : 0.114\n",
      "My_model: R@1 for iou_thresh: 0.3 is : 0.038\n",
      "My_model: R@1 for iou_thresh: 0.5 is : 0.015\n",
      "My_model: R@1 for iou_thresh: 0.7 is : 0.000\n"
     ]
    }
   ],
   "source": [
    "for iou_thresh in IoU_thresh:\n",
    "    corrnum = compute_IoU_recall_top_n_forreg(iou_thresh, My_time_mat, My_pred_time_mat)\n",
    "    corr_avg = corrnum*1.0 / My_time_mat.shape[0] \n",
    "    print(\"My_model: R@1 for iou_thresh: %.1f is : %.3f\" % (iou_thresh, corr_avg))"
   ]
  },
  {
   "cell_type": "code",
   "execution_count": null,
   "metadata": {
    "collapsed": true
   },
   "outputs": [],
   "source": []
  }
 ],
 "metadata": {
  "kernelspec": {
   "display_name": "Python [conda env:Anaconda3]",
   "language": "python",
   "name": "conda-env-Anaconda3-py"
  },
  "language_info": {
   "codemirror_mode": {
    "name": "ipython",
    "version": 3
   },
   "file_extension": ".py",
   "mimetype": "text/x-python",
   "name": "python",
   "nbconvert_exporter": "python",
   "pygments_lexer": "ipython3",
   "version": "3.6.8"
  }
 },
 "nbformat": 4,
 "nbformat_minor": 2
}
