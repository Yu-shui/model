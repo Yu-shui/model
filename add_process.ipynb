{
 "cells": [
  {
   "cell_type": "code",
   "execution_count": 54,
   "metadata": {
    "collapsed": true
   },
   "outputs": [],
   "source": [
    "import os"
   ]
  },
  {
   "cell_type": "code",
   "execution_count": 55,
   "metadata": {
    "collapsed": true
   },
   "outputs": [],
   "source": [
    "train_path='C:/Users/wuxun/Desktop/Data/training/training.txt'\n",
    "val_path='C:/Users/wuxun/Desktop/Data/validation/validation.txt'"
   ]
  },
  {
   "cell_type": "code",
   "execution_count": 56,
   "metadata": {
    "collapsed": true
   },
   "outputs": [],
   "source": [
    "train_new_path='C:/Users/wuxun/Desktop/Data/training/new_training.txt'\n",
    "val_new_path='C:/Users/wuxun/Desktop/Data/validation/new_validation.txt'"
   ]
  },
  {
   "cell_type": "code",
   "execution_count": 57,
   "metadata": {
    "collapsed": true
   },
   "outputs": [],
   "source": [
    "def process(path, new_path):\n",
    "    with open(path) as f:\n",
    "        with open(new_path, 'w') as f2:\n",
    "            for line in f:\n",
    "                #计算三个区间\n",
    "                L=line.split('#')\n",
    "                left=L[4].split('_')\n",
    "                right=L[5].split('_')\n",
    "                Len=float(L[1])\n",
    "                left_l=int(left[0])\n",
    "                left_r=int(left[1])\n",
    "                right_l=int(right[0])\n",
    "                right_r=int(right[1])\n",
    "                #区间一\n",
    "                len1=left_l\n",
    "                #区间二\n",
    "                len2=right_l-left_r\n",
    "                len3=Len-right_r\n",
    "                Max=max(len1,max(len2,len3))\n",
    "                newtome_l=0\n",
    "                newtome_r=0\n",
    "                if Max==len1:\n",
    "                    newtome_l=Max//3\n",
    "                    newtome_r=newtome_l*2\n",
    "                elif Max==len2:\n",
    "                    newtome_l=left_r+(left_r+right_l)//3\n",
    "                    newtome_r=left_r+(left_r+right_l)//3*2\n",
    "                else:\n",
    "                    newtome_l=int(Len-Max/3)\n",
    "                    newtome_r=int(Len)\n",
    "                if line[len(line)-1]=='\\n':\n",
    "                    line=line[:-1]\n",
    "                new_line=line+'#'+str(newtome_l)+'_'+str(newtome_r)+'\\n'\n",
    "                f2.write(new_line)\n",
    "                \n",
    "                \n",
    "    "
   ]
  },
  {
   "cell_type": "code",
   "execution_count": 58,
   "metadata": {
    "collapsed": true
   },
   "outputs": [],
   "source": [
    "process(train_path,train_new_path)"
   ]
  },
  {
   "cell_type": "code",
   "execution_count": 59,
   "metadata": {
    "collapsed": true
   },
   "outputs": [],
   "source": [
    "process(val_path,val_new_path)"
   ]
  },
  {
   "cell_type": "code",
   "execution_count": null,
   "metadata": {
    "collapsed": true
   },
   "outputs": [],
   "source": []
  }
 ],
 "metadata": {
  "kernelspec": {
   "display_name": "Python [conda env:Anaconda3]",
   "language": "python",
   "name": "conda-env-Anaconda3-py"
  },
  "language_info": {
   "codemirror_mode": {
    "name": "ipython",
    "version": 3
   },
   "file_extension": ".py",
   "mimetype": "text/x-python",
   "name": "python",
   "nbconvert_exporter": "python",
   "pygments_lexer": "ipython3",
   "version": "3.6.8"
  }
 },
 "nbformat": 4,
 "nbformat_minor": 2
}
