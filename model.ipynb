{
 "cells": [
  {
   "cell_type": "code",
   "execution_count": 1,
   "metadata": {
    "collapsed": true
   },
   "outputs": [],
   "source": [
    "#导入相应的包\n",
    "import torch\n",
    "import torch.nn as nn\n",
    "import torch.nn.functional as F\n",
    "import torch.optim as optim\n",
    "\n",
    "import numpy as np\n",
    "import pandas as pd\n",
    "import torchvision\n",
    "from torch.utils.data import DataLoader\n",
    "from datetime import datetime  # 用于计算时间\n",
    "\n",
    "import os\n",
    "import sys\n",
    "from collections import Counter\n",
    "import re\n",
    "\n",
    "#import tensorflow.contrib.keras as kr\n",
    "from torch.nn.utils.rnn import pack_padded_sequence\n",
    "from torch.nn.utils.rnn import pad_packed_sequence\n",
    "\n",
    "from torchtext import data\n",
    "import jieba\n",
    "\n",
    "import cv2\n",
    "import os\n",
    "\n",
    "from torch.autograd import Variable\n",
    "import tensorwatch as tw\n",
    "import torchvision.models\n",
    "\n",
    "from pathlib import Path\n",
    "import pandas as pd\n",
    "\n",
    "import matplotlib.pyplot as plt\n",
    "torch.set_printoptions(precision=15)\n",
    "pd.set_option('display.max_rows',None)\n",
    "pd.set_option('display.max_columns',None)\n",
    "np.set_printoptions(threshold=np.inf)\n",
    "\n",
    "from torch.optim import lr_scheduler\n"
   ]
  },
  {
   "cell_type": "markdown",
   "metadata": {},
   "source": [
    "## 路径"
   ]
  },
  {
   "cell_type": "code",
   "execution_count": 2,
   "metadata": {
    "collapsed": true
   },
   "outputs": [],
   "source": [
    "video_path = 'C:/Users/wuxun/Desktop/Data/feat_dat/'\n",
    "image_path = 'C:/Users/wuxun/Desktop/Data/image/'#存储到image文件夹中\n",
    "clip_path = 'C:/Users/wuxun/Desktop/Data/clip/'\n",
    "text_dir = 'C:/Users/wuxun/Desktop/Data/clear_text.txt'\n",
    "vocab_dir = 'C:/Users/wuxun/Desktop/Data/vocab.txt'\n",
    "train_path = 'C:/Users/wuxun/Desktop/Data/training/training.txt'\n",
    "val_path = 'C:/Users/wuxun/Desktop/Data/validation/validation.txt'\n",
    "csv_path = 'D:/csv/'\n",
    "save_path = 'C:/Users/wuxun/Desktop/Data/save_model/'\n",
    "save_path2 = 'C:/Users/wuxun/Desktop/Data/save_model2/params.pkl'"
   ]
  },
  {
   "cell_type": "markdown",
   "metadata": {},
   "source": [
    "## 参数定义"
   ]
  },
  {
   "cell_type": "code",
   "execution_count": 3,
   "metadata": {
    "collapsed": true
   },
   "outputs": [],
   "source": [
    "#固定随机数种子\n",
    "seed=0\n",
    "torch.manual_seed(seed)\n",
    "torch.cuda.manual_seed(seed)\n",
    "torch.cuda.manual_seed_all(seed)\n",
    "np.random.seed(seed)"
   ]
  },
  {
   "cell_type": "markdown",
   "metadata": {},
   "source": [
    "# 数据处理"
   ]
  },
  {
   "cell_type": "code",
   "execution_count": 4,
   "metadata": {
    "collapsed": true
   },
   "outputs": [],
   "source": [
    " def read_file(filename):\n",
    "\n",
    "    \"\"\"读取文件数据\"\"\"\n",
    "    \n",
    "    contents = []\n",
    "    with open(filename) as f:\n",
    "        for line in f:\n",
    "            contents.append(re.split('[, \\n.]',line))\n",
    "    return contents"
   ]
  },
  {
   "cell_type": "code",
   "execution_count": 5,
   "metadata": {
    "collapsed": true
   },
   "outputs": [],
   "source": [
    "def build_vocab(text_dir, vocab_dir, vocab_size=3000):\n",
    "\n",
    "    \"\"\"根据训练集构建词汇表，存储\"\"\"\n",
    "    data_train = read_file(text_dir)\n",
    "    all_data = []\n",
    "    for content in data_train:\n",
    "        for k in content:\n",
    "            if len(k)!=0:\n",
    "                all_data.append(k)\n",
    "    print(all_data)\n",
    "    counter = Counter(all_data)\n",
    "    count_pairs = counter.most_common(vocab_size - 1)\n",
    "    words, _ = list(zip(*count_pairs))\n",
    "    # 添加一个 <PAD> 来将所有文本pad为同一长度\n",
    "    words = ['<PAD>'] + list(words)\n",
    "    open(vocab_dir, mode='w').write('\\n'.join(words) + '\\n')"
   ]
  },
  {
   "cell_type": "code",
   "execution_count": 6,
   "metadata": {
    "collapsed": true
   },
   "outputs": [],
   "source": [
    "def read_vocab(vocab_dir):\n",
    "\n",
    "    \"\"\"读取词汇表\"\"\"\n",
    "\n",
    "    with open(vocab_dir) as fp:\n",
    "        words = [(_.strip()) for _ in fp.readlines()]\n",
    "    word_to_id = dict(zip(words, range(len(words))))\n",
    "    return words, word_to_id"
   ]
  },
  {
   "cell_type": "code",
   "execution_count": 7,
   "metadata": {
    "collapsed": true
   },
   "outputs": [],
   "source": [
    "def to_words(content, words):\n",
    "\n",
    "    \"\"\"将id表示的内容转换为文字\"\"\"\n",
    "\n",
    "    return ''.join(words[x] for x in content)"
   ]
  },
  {
   "cell_type": "code",
   "execution_count": 8,
   "metadata": {
    "collapsed": true
   },
   "outputs": [],
   "source": [
    "def get_dict(path, csv_path):\n",
    "    '''\n",
    "    获得最终的数据集\n",
    "    path:文本数据集\n",
    "    csv_path\n",
    "    '''\n",
    "    words, word_to_id = read_vocab(vocab_dir)\n",
    "    data_id = []\n",
    "    source_csv=[]\n",
    "    target_csv=[]\n",
    "    fake_time_list=[]\n",
    "    source_time_list=[]\n",
    "    target_time_list=[]\n",
    "    Max_len=-1\n",
    "    count=0\n",
    "    with open(path) as contents:\n",
    "        for line in contents:\n",
    "            count+=1\n",
    "            List = line.split('#')\n",
    "            video_name = List[0]\n",
    "            time_length = float(List[1])\n",
    "            foldtype = List[2]\n",
    "            recipetype = List[3]\n",
    "            source = List[4]\n",
    "            target = List[5]\n",
    "            fake_time = (List[7].split('_'))\n",
    "            fake_time_l=int(fake_time[0])\n",
    "            fake_time_r=int(fake_time[1])\n",
    "            fake_time_list.append([fake_time_l, fake_time_r])\n",
    "            \n",
    "            #将句子转换为id表示：\n",
    "            sentence = List[6].strip('\\n').strip()\n",
    "            sentence = re.split(r\"[,| |.]\",sentence)\n",
    "            sentence_id = [word_to_id[x] for x in sentence if x in word_to_id]\n",
    "            if len(sentence_id) > Max_len:\n",
    "                Max_len = len(sentence_id)\n",
    "            data_id.append(sentence_id)\n",
    "            \n",
    "            #寻找路径,先统一取0001\n",
    "            dir_path = csv_path+'/'+foldtype+'/'+recipetype+'/'+video_name+'/0001/'\n",
    "            name = os.listdir(dir_path)[0]\n",
    "            dir_path = dir_path + name\n",
    "            \n",
    "            #读取csv文件\n",
    "            my_file = Path(dir_path)\n",
    "            if my_file.exists():\n",
    "                frame_sum = pd.read_csv(dir_path, header=None)\n",
    "            else:\n",
    "                print(\"目录不存在！\")\n",
    "            \n",
    "            #确定时间点\n",
    "            source = source.split('_')\n",
    "            target = target.split('_')\n",
    "            \n",
    "            source_time = (float(source[0])+float(source[1]))//2\n",
    "            source_time_list.append([float(source[0]),float(source[1])])\n",
    "            source_frame_num = int(source_time/time_length*500)\n",
    "            source_frame = frame_sum.loc[source_frame_num]\n",
    "            source_csv.append([source_frame])\n",
    "            \n",
    "            target_time = (float(target[0])+float(target[1]))//2\n",
    "            target_time_list.append([float(target[0]),float(target[1])])\n",
    "            target_frame_num = int(target_time/time_length*500)\n",
    "            target_frame = frame_sum.loc[target_frame_num]\n",
    "            target_csv.append([target_frame])\n",
    "            \n",
    "            #添加其余帧数据作为对抗样本\n",
    "            fake_time = (fake_time_l + fake_time_r)//2\n",
    "            fake_time_num = int(fake_time/time_length*500)\n",
    "            #print(str(count)+\"     \"+str(fake_time_num))\n",
    "            fake_frame = frame_sum.loc[fake_time_num]\n",
    "            #补充数据\n",
    "            source_csv.append([source_frame])\n",
    "            data_id.append(sentence_id)\n",
    "            target_csv.append([fake_frame])\n",
    "            source_time_list.append([float(source[0]),float(source[1])])\n",
    "            target_time_list.append([fake_time_l, fake_time_r])\n",
    "            \n",
    "    #将所有的句子pad为同一最大长度\n",
    "    batch_data_id = np.array([line +[0]*(Max_len-len(line)) \n",
    "                                for line in data_id])\n",
    "    batch_seq = torch.LongTensor(batch_data_id)\n",
    "            \n",
    "    print(len(batch_seq),len(source_csv),len(target_csv))\n",
    "    \n",
    "    return batch_seq, source_csv, target_csv, source_time_list, target_time_list"
   ]
  },
  {
   "cell_type": "markdown",
   "metadata": {},
   "source": [
    "# 读取数据"
   ]
  },
  {
   "cell_type": "code",
   "execution_count": 9,
   "metadata": {},
   "outputs": [
    {
     "name": "stdout",
     "output_type": "stream",
     "text": [
      "3096 3096 3096\n"
     ]
    }
   ],
   "source": [
    "#训练集\n",
    "x_batch_train, x_csv_train, y_csv_train, source_list_train, target_list_train = get_dict(train_path, csv_path)"
   ]
  },
  {
   "cell_type": "code",
   "execution_count": 10,
   "metadata": {},
   "outputs": [
    {
     "name": "stdout",
     "output_type": "stream",
     "text": [
      "1046 1046 1046\n"
     ]
    }
   ],
   "source": [
    "#验证集\n",
    "x_batch_val, x_csv_val, y_csv_val, source_list_val, target_list_val = get_dict(val_path, csv_path)"
   ]
  },
  {
   "cell_type": "markdown",
   "metadata": {},
   "source": [
    "## 基础模型"
   ]
  },
  {
   "cell_type": "markdown",
   "metadata": {},
   "source": [
    "### 模型定义"
   ]
  },
  {
   "cell_type": "code",
   "execution_count": 11,
   "metadata": {
    "collapsed": true
   },
   "outputs": [],
   "source": [
    "batch_size = 32\n",
    "lamba = 0.2"
   ]
  },
  {
   "cell_type": "code",
   "execution_count": 12,
   "metadata": {
    "collapsed": true
   },
   "outputs": [],
   "source": [
    "# 定义LSTM的结构\n",
    "class LSTM_CNN(nn.Module):\n",
    "    \n",
    "    def __init__(self):\n",
    "        super(LSTM_CNN, self).__init__()\n",
    "        \n",
    "        self.embedding = nn.Embedding(5000, 64)\n",
    "        self.rnn = nn.LSTM(input_size=64, hidden_size=128, num_layers=2, bidirectional=True)\n",
    "        #self.rnn = nn.GRU(input_size=64, hidden_size=128, num_layers=2, bidirectional=True)\n",
    "        self.f1 = nn.Sequential(nn.Linear(256,128),\n",
    "                                nn.Dropout(0.8),\n",
    "                                nn.ReLU())\n",
    "\n",
    "        self.f2 = nn.Sequential(nn.Linear(128,64))\n",
    "        \n",
    "        \n",
    "        self.conv1=torch.nn.Sequential(\n",
    "            torch.nn.Conv1d(1,10,3),\n",
    "            torch.nn.ReLU(),\n",
    "            torch.nn.MaxPool1d(2),\n",
    "        )\n",
    "        \n",
    "        self.conv2=torch.nn.Sequential(\n",
    "            torch.nn.Conv1d(10,20,3),\n",
    "            torch.nn.ReLU(),\n",
    "            torch.nn.MaxPool1d(2),\n",
    "        )\n",
    "\n",
    "        #self.fc1=torch.nn.Linear(2520,128)\n",
    "        self.fc1=torch.nn.Linear(512,128)\n",
    "        self.fc1_drop=torch.nn.Dropout(p=0.4)\n",
    "        self.fc2=torch.nn.Linear(128, 64)\n",
    "        \n",
    "        #特征融合\n",
    "        self.final_fc = nn.Linear(in_features=128, out_features=64)\n",
    "        self.score_fc = torch.nn.Conv2d(64,3,kernel_size=1,stride=1)\n",
    "        \n",
    "        \n",
    "    def cnnout(self, x2):\n",
    "        in_fc=x2.view(x2.size(0),-1)\n",
    "        out_fc1=self.fc1(in_fc)\n",
    "        out_drop=self.fc1_drop(out_fc1)\n",
    "        out_fc2=self.fc2(out_drop)\n",
    "        return out_fc2\n",
    "        \n",
    "    def forward(self, x1, x2): \n",
    "        if x1.shape[0]!=2:\n",
    "            #lstm\n",
    "            x = self.embedding(x1)\n",
    "            x,_ = self.rnn(x)\n",
    "            x = F.dropout(x,p=0.8)\n",
    "            \n",
    "            x = self.f1(x[:,-1,:])\n",
    "            lstm_output = self.f2(x)\n",
    "            cnn_out=self.cnnout(x2)\n",
    "            #concat\n",
    "            output = torch.cat((lstm_output, cnn_out), 1)\n",
    "            output = self.final_fc(output)\n",
    "            return output\n",
    "        else:\n",
    "            cnn_out=self.cnnout(x2)\n",
    "            return cnn_out"
   ]
  },
  {
   "cell_type": "markdown",
   "metadata": {},
   "source": [
    "### 生成批次数据"
   ]
  },
  {
   "cell_type": "code",
   "execution_count": 13,
   "metadata": {
    "collapsed": true
   },
   "outputs": [],
   "source": [
    "def batch_iter(x_batch, x_csv, y_csv, source_list, target_list, batch_size=32):\n",
    "\n",
    "    \"\"\"\n",
    "    生成批次数据\n",
    "    \"\"\"\n",
    "\n",
    "    data_len = x_batch.shape[0]\n",
    "    num_batch = int((data_len - 1) / batch_size) + 1\n",
    "\n",
    "    indices = np.random.permutation(np.arange(data_len))\n",
    "    x_batch_shuffle = x_batch[indices]\n",
    "    x_csv_shuffle =np.array(x_csv)[indices]\n",
    "    y_csv_shuffle = np.array(y_csv)[indices]\n",
    "    source_list = np.array(source_list)[indices]\n",
    "    target_list = np.array(target_list)[indices]\n",
    "\n",
    "    for i in range(num_batch):\n",
    "        start_id = i * batch_size\n",
    "        end_id = min((i + 1) * batch_size, data_len)\n",
    "        yield x_batch_shuffle[start_id:end_id], x_csv_shuffle[start_id:end_id], y_csv_shuffle[start_id:end_id], source_list[start_id:end_id], target_list[start_id:end_id]"
   ]
  },
  {
   "cell_type": "code",
   "execution_count": 14,
   "metadata": {
    "collapsed": true
   },
   "outputs": [],
   "source": [
    "#存储loss数据\n",
    "train_loss_list = []\n",
    "val_loss_list = []"
   ]
  },
  {
   "cell_type": "markdown",
   "metadata": {},
   "source": [
    "### 训练函数"
   ]
  },
  {
   "cell_type": "code",
   "execution_count": 15,
   "metadata": {
    "collapsed": true
   },
   "outputs": [],
   "source": [
    "def train():\n",
    "    model = LSTM_CNN()\n",
    "    #model.load_state_dict(torch.load('C:/Users/wuxun/Desktop/Data/save_model/110epoch_20200713_params.pkl'))\n",
    "    Loss = torch.nn.TripletMarginLoss(margin=1.0, p=2)\n",
    "    optimizer = optim.Adam(model.parameters(), lr = 0.001)\n",
    "    T=Variable(torch.FloatTensor([[1.0,1.0],[1.0,1.0]]))\n",
    "    best_val_loss = 1000000\n",
    "    print(\"train begin......\")\n",
    "\n",
    "    for epoch in range(100):\n",
    "        batch_train = batch_iter(x_batch_train, x_csv_train, y_csv_train, source_list_train, target_list_train, batch_size)\n",
    "        print(\"====================  epoch:\"+str(epoch)+\"  ========================\")\n",
    "        train_loss_sum = 0\n",
    "        train_loss_avg = 0\n",
    "        count = 0\n",
    "        for x_batch, x_csv, y_csv, source_time, target_time in batch_train:\n",
    "            if x_csv.shape[0]==batch_size:\n",
    "                count += 1\n",
    "                x1 = Variable(torch.LongTensor(x_batch))\n",
    "                x2 = Variable(torch.FloatTensor(np.array(x_csv)))\n",
    "                y = Variable(torch.FloatTensor(np.array(y_csv)))\n",
    "                pred_y = model(x1, x2)\n",
    "                negtive = model(T, x2)\n",
    "                postive = model(T, y)\n",
    "                loss_reg = Loss(pred_y, postive, negtive)\n",
    "                train_loss_sum += loss_reg\n",
    "                optimizer.zero_grad()\n",
    "                loss_reg.backward()\n",
    "                #nn.utils.clip_grad_norm_(model.parameters(), max_norm=20, norm_type=2)#梯度裁剪\n",
    "                optimizer.step()\n",
    "                \n",
    "        train_loss_avg = train_loss_sum /count\n",
    "        print(\"train_loss: \"+str(train_loss_sum))\n",
    "        train_loss_list.append(train_loss_sum)\n",
    "\n",
    "        #对模型进行验证：\n",
    "        if (epoch+1)%5 == 0:\n",
    "            print(\"进行验证.....\")\n",
    "            count = 0\n",
    "            val_loss_sum = 0\n",
    "            val_loss_avg = 0\n",
    "            batch_val = batch_iter(x_batch_val, x_csv_val, y_csv_val,source_list_val,target_list_val, batch_size)\n",
    "            for x_batch, x_csv, y_csv, source_time, target_time in batch_val:\n",
    "                if x_csv.shape[0]==batch_size:\n",
    "                    count += 1\n",
    "                    x1 = Variable(torch.LongTensor(x_batch))\n",
    "                    x2 = Variable(torch.FloatTensor(np.array(x_csv)))\n",
    "                    y = Variable(torch.FloatTensor(np.array(y_csv)))\n",
    "                    pred_y = model(x1, x2)\n",
    "                    negtive = model(T, x2)\n",
    "                    postive = model(T, y)\n",
    "                    loss_reg = Loss(pred_y, postive, negtive)\n",
    "                    #loss_reg = torch.abs(pred_y - postive).mean()\n",
    "                    val_loss_sum += loss_reg\n",
    "                    optimizer.zero_grad()\n",
    "                    loss_reg.backward()\n",
    "                    #nn.utils.clip_grad_norm_(model.parameters(), max_norm=20, norm_type=2)#梯度裁剪\n",
    "                    optimizer.step()\n",
    "                    \n",
    "            val_loss_avg = val_loss_sum /count\n",
    "            print(\"val_loss: \"+str(val_loss_sum))\n",
    "            val_loss_list.append(val_loss_sum)   \n",
    "            torch.save(model.state_dict(), save_path+str(epoch)+'_not_better_params.pkl')\n",
    "            if val_loss_sum < best_val_loss:\n",
    "                torch.save(model.state_dict(), save_path+str(epoch)+'_better_params.pkl')\n",
    "                best_val_loss = val_loss_sum\n",
    "                print(\"model save!\")"
   ]
  },
  {
   "cell_type": "markdown",
   "metadata": {},
   "source": [
    "### 训练基础模型"
   ]
  },
  {
   "cell_type": "code",
   "execution_count": null,
   "metadata": {
    "collapsed": true
   },
   "outputs": [],
   "source": [
    "train()"
   ]
  },
  {
   "cell_type": "markdown",
   "metadata": {
    "collapsed": true
   },
   "source": [
    "### 绘制Loss曲线"
   ]
  },
  {
   "cell_type": "code",
   "execution_count": 16,
   "metadata": {
    "collapsed": true
   },
   "outputs": [],
   "source": [
    "def draw(train_loss_list, val_loss_list):\n",
    "    x1 = range(0, len(train_loss_list))\n",
    "    x2 = range(0, len(val_loss_list))\n",
    "    #with plt.style.context(['science']):\n",
    "    plt.subplot(2, 1, 1)\n",
    "    plt.plot(x1, train_loss_list[:len(train_loss_list)], 'o-')\n",
    "    plt.title('train loss vs. epoches')\n",
    "    plt.ylabel('train loss')\n",
    "    plt.subplot(2, 1, 2)\n",
    "    plt.plot(x2,val_loss_list[:len(val_loss_list)] , '.-')\n",
    "    plt.xlabel('Val loss vs. epoches')\n",
    "    plt.ylabel('Val loss')\n",
    "    plt.show()"
   ]
  },
  {
   "cell_type": "code",
   "execution_count": null,
   "metadata": {
    "collapsed": true
   },
   "outputs": [],
   "source": [
    "draw(train_loss_list, val_loss_list)"
   ]
  },
  {
   "cell_type": "markdown",
   "metadata": {},
   "source": [
    "# 回归模型"
   ]
  },
  {
   "cell_type": "markdown",
   "metadata": {},
   "source": [
    "### 回归模型定义"
   ]
  },
  {
   "cell_type": "code",
   "execution_count": 17,
   "metadata": {
    "collapsed": true
   },
   "outputs": [],
   "source": [
    "#超参数lambda\n",
    "lamba = 0.2\n",
    "batch_size2=64"
   ]
  },
  {
   "cell_type": "code",
   "execution_count": 18,
   "metadata": {
    "collapsed": true
   },
   "outputs": [],
   "source": [
    "# 定义LSTM的结构\n",
    "class Change(nn.Module):\n",
    "    def __init__(self):\n",
    "        super(Change, self).__init__()\n",
    "        #特征融合\n",
    "        self.score_fc = torch.nn.Conv1d(64, 2, kernel_size=1, stride=1)\n",
    "        \n",
    "    def forward(self, x):\n",
    "        output = x#[10, 64]\n",
    "        output = output.unsqueeze(2)\n",
    "        score = self.score_fc(output)\n",
    "        offset_pred = score.squeeze(2)\n",
    "        return offset_pred"
   ]
  },
  {
   "cell_type": "code",
   "execution_count": 19,
   "metadata": {},
   "outputs": [
    {
     "name": "stdout",
     "output_type": "stream",
     "text": [
      "target.shape: torch.Size([10, 2])\n",
      "tensor([[132., 138.],\n",
      "        [ 38.,  76.],\n",
      "        [173., 174.],\n",
      "        [ 46.,  92.],\n",
      "        [175., 193.],\n",
      "        [530., 698.],\n",
      "        [600., 618.],\n",
      "        [193., 386.],\n",
      "        [269., 319.],\n",
      "        [572., 698.]])\n",
      "pred2.shape: torch.Size([10, 2])\n",
      "tensor([[ 10.492096900939941, -25.463617324829102],\n",
      "        [ 10.588456153869629, -22.233877182006836],\n",
      "        [ 12.897061347961426, -22.459053039550781],\n",
      "        [-10.064876556396484,   1.429924845695496],\n",
      "        [ 12.114373207092285, -18.420812606811523],\n",
      "        [  7.368268013000488, -15.004589080810547],\n",
      "        [-23.836320877075195,  -9.423895835876465],\n",
      "        [  4.834786415100098, -53.555286407470703],\n",
      "        [  6.708497047424316, -29.200901031494141],\n",
      "        [ -4.756270408630371, -13.690704345703125]],\n",
      "       grad_fn=<SqueezeBackward1>)\n",
      "tensor(151042.531250000000000, grad_fn=<MseLossBackward>)\n"
     ]
    }
   ],
   "source": [
    "model = LSTM_CNN()\n",
    "Loss = nn.MSELoss()\n",
    "model.load_state_dict(torch.load('C:/Users/wuxun/Desktop/Data/save_model/189epoch_20200713_64_dim_params.pkl'))\n",
    "x1 = Variable(torch.LongTensor(x_batch_train[:10]))\n",
    "x2 = Variable(torch.FloatTensor(x_csv_train[:10]))\n",
    "x3 = Variable(torch.FloatTensor(target_list_train[:10]))\n",
    "print(\"target.shape: \"+str(x3.shape))\n",
    "print(x3)\n",
    "y = Variable(torch.FloatTensor(y_csv_train[:10]))\n",
    "pred = model(x1, x2)\n",
    "change_model = Change()\n",
    "pred2 = change_model(pred)\n",
    "print(\"pred2.shape: \"+str(pred2.shape))\n",
    "print(pred2)\n",
    "loss = Loss(pred2, x3)\n",
    "print(loss)"
   ]
  },
  {
   "cell_type": "code",
   "execution_count": 20,
   "metadata": {
    "collapsed": true
   },
   "outputs": [],
   "source": [
    "train_loss_2_list=[]\n",
    "val_loss_2_list=[]\n",
    "resualt_text_path='C:/Users/wuxun/Desktop/resualt.txt'"
   ]
  },
  {
   "cell_type": "markdown",
   "metadata": {},
   "source": [
    "### 训练函数"
   ]
  },
  {
   "cell_type": "code",
   "execution_count": 21,
   "metadata": {
    "collapsed": true
   },
   "outputs": [],
   "source": [
    "def train_2(optimizer, change_model, scheduler):\n",
    "    model = LSTM_CNN()\n",
    "    Loss = nn.MSELoss()\n",
    "    model.load_state_dict(torch.load('C:/Users/wuxun/Desktop/Data/save_model/189epoch_20200713_64_dim_params.pkl'))\n",
    "    best_val_loss_2 = 1000000\n",
    "    print(\"train begin......\")\n",
    "    with open(resualt_text_path,'a') as f:\n",
    "        for epoch in range(200):\n",
    "            batch_train = batch_iter(x_batch_train, x_csv_train, y_csv_train, source_list_train, target_list_train, batch_size2)\n",
    "            count = 0\n",
    "            train_loss_sum = 0\n",
    "            train_loss_avg = 0\n",
    "            for x_batch, x_csv, y_csv, source_time, target_time in batch_train:\n",
    "                if x_csv.shape[0]==batch_size2:\n",
    "                    count += 1\n",
    "                    x1 = Variable(torch.LongTensor(x_batch))\n",
    "                    x2 = Variable(torch.FloatTensor(np.array(x_csv)))\n",
    "                    source_time = Variable(torch.FloatTensor(np.array(source_time)))\n",
    "                    target_time = Variable(torch.FloatTensor(np.array(target_time)))\n",
    "\n",
    "                    pred = model(x1, x2)\n",
    "                    pred2 = change_model(pred)\n",
    "                    \n",
    "                    loss_reg = torch.sqrt(Loss(pred2, target_time))\n",
    "                    train_loss_sum +=loss_reg\n",
    "                    optimizer.zero_grad()\n",
    "                    loss_reg.backward()\n",
    "                    optimizer.step()\n",
    "                    \n",
    "            #scheduler.step()\n",
    "            train_loss_avg = train_loss_sum /count\n",
    "            print(\"[epoch: \"+str(epoch)+\" ]   loss= \"+str(train_loss_avg)+\" lr = %f\" % (optimizer.param_groups[0]['lr']))\n",
    "            train_loss_2_list.append(train_loss_avg)\n",
    "\n",
    "            if (epoch+1)%5==0:\n",
    "                print(\"进行验证.......\")\n",
    "                batch_val = batch_iter(x_batch_val, x_csv_val, y_csv_val,source_list_val,target_list_val, batch_size2)\n",
    "                count = 0\n",
    "                val_loss_sum = 0\n",
    "                val_loss_avg = 0 \n",
    "                for x_batch, x_csv, y_csv, source_time, target_time in batch_val:\n",
    "                    if x_csv.shape[0]==batch_size2:\n",
    "                        count += 1\n",
    "                        x1 = Variable(torch.LongTensor(x_batch))\n",
    "                        x2 = Variable(torch.FloatTensor(np.array(x_csv)))\n",
    "                        source_time = Variable(torch.FloatTensor(np.array(source_time)))\n",
    "                        target_time = Variable(torch.FloatTensor(np.array(target_time)))\n",
    "\n",
    "                        pred = model(x1, x2)\n",
    "                        pred2 = change_model(pred)\n",
    "                        loss_reg = torch.sqrt(Loss(pred2, target_time))\n",
    "\n",
    "                        val_loss_sum +=loss_reg\n",
    "                        optimizer.zero_grad()\n",
    "                        loss_reg.backward()\n",
    "                        optimizer.step()\n",
    "                        \n",
    "                #scheduler.step()\n",
    "                val_loss_avg = val_loss_sum / count\n",
    "                print(\"[epoch: \"+str(epoch)+\" ]   loss= \"+str(val_loss_avg)+\" lr = %f\" % (optimizer.param_groups[0]['lr']))\n",
    "                val_loss_2_list.append(val_loss_avg) \n",
    "                torch.save(change_model.state_dict(), 'C:/Users/wuxun/Desktop/Data/save_model2/epoch'+str(epoch)+'_batchsize1_params.pkl')\n",
    "                if val_loss_avg < best_val_loss_2:\n",
    "                    torch.save(change_model.state_dict(), save_path2)\n",
    "                    best_val_loss_2 = val_loss_avg\n",
    "                    print(\"model save!\")"
   ]
  },
  {
   "cell_type": "markdown",
   "metadata": {},
   "source": [
    "### 学习率调整策略"
   ]
  },
  {
   "cell_type": "code",
   "execution_count": 22,
   "metadata": {
    "collapsed": true
   },
   "outputs": [],
   "source": [
    "def get_scheduler(optimizer, lr_policy):\n",
    "    \"\"\"Return a learning rate scheduler\n",
    "        Parameters:\n",
    "        optimizer -- 网络优化器\n",
    "        opt.lr_policy -- 学习率scheduler的名称: linear | step | plateau | cosine\n",
    "    \"\"\"\n",
    "    if lr_policy == 'linear':\n",
    "        scheduler = lr_scheduler.LambdaLR(optimizer, lr_lambda=lambda epoch: 1/(epoch+1))\n",
    "    elif lr_policy == 'step':\n",
    "        scheduler = lr_scheduler.StepLR(optimizer, step_size=18, gamma=0.1)\n",
    "    elif lr_policy == 'plateau':\n",
    "        scheduler = lr_scheduler.ReduceLROnPlateau(optimizer, mode='min', factor=0.2, threshold=0.01, patience=5)\n",
    "    elif lr_policy == 'cosine':\n",
    "        scheduler = lr_scheduler.CosineAnnealingLR(optimizer, T_max=5, eta_min=0)\n",
    "    else:\n",
    "        print('learning rate policy [%s] is not implemented'%(lr_policy))\n",
    "    return scheduler"
   ]
  },
  {
   "cell_type": "markdown",
   "metadata": {},
   "source": [
    "### 定义回归模型与优化器"
   ]
  },
  {
   "cell_type": "code",
   "execution_count": 23,
   "metadata": {
    "collapsed": true
   },
   "outputs": [],
   "source": [
    "change_model = Change()\n",
    "change_model.load_state_dict(torch.load('C:/Users/wuxun/Desktop/Data/save_model2/epoch257_batchsize1_params.pkl'))\n",
    "initial_lr = 0.01\n",
    "optimizer = optim.Adam(change_model.parameters(), lr = initial_lr)\n",
    "scheduler = get_scheduler(optimizer, 'step')"
   ]
  },
  {
   "cell_type": "markdown",
   "metadata": {},
   "source": [
    "### 训练回归模型"
   ]
  },
  {
   "cell_type": "code",
   "execution_count": 24,
   "metadata": {
    "scrolled": true
   },
   "outputs": [
    {
     "name": "stdout",
     "output_type": "stream",
     "text": [
      "train begin......\n",
      "[epoch: 0 ]   loss= tensor(139.096054077148438, grad_fn=<DivBackward0>) lr = 0.010000\n",
      "[epoch: 1 ]   loss= tensor(138.156982421875000, grad_fn=<DivBackward0>) lr = 0.010000\n",
      "[epoch: 2 ]   loss= tensor(139.832992553710938, grad_fn=<DivBackward0>) lr = 0.010000\n",
      "[epoch: 3 ]   loss= tensor(140.205551147460938, grad_fn=<DivBackward0>) lr = 0.010000\n",
      "[epoch: 4 ]   loss= tensor(139.198715209960938, grad_fn=<DivBackward0>) lr = 0.010000\n",
      "进行验证.......\n",
      "[epoch: 4 ]   loss= tensor(136.126831054687500, grad_fn=<DivBackward0>) lr = 0.010000\n",
      "model save!\n",
      "[epoch: 5 ]   loss= tensor(138.494491577148438, grad_fn=<DivBackward0>) lr = 0.010000\n",
      "[epoch: 6 ]   loss= tensor(139.784576416015625, grad_fn=<DivBackward0>) lr = 0.010000\n",
      "[epoch: 7 ]   loss= tensor(140.725891113281250, grad_fn=<DivBackward0>) lr = 0.010000\n",
      "[epoch: 8 ]   loss= tensor(140.100570678710938, grad_fn=<DivBackward0>) lr = 0.010000\n",
      "[epoch: 9 ]   loss= tensor(139.572280883789062, grad_fn=<DivBackward0>) lr = 0.010000\n",
      "进行验证.......\n",
      "[epoch: 9 ]   loss= tensor(136.241729736328125, grad_fn=<DivBackward0>) lr = 0.010000\n",
      "[epoch: 10 ]   loss= tensor(139.280899047851562, grad_fn=<DivBackward0>) lr = 0.010000\n",
      "[epoch: 11 ]   loss= tensor(139.483139038085938, grad_fn=<DivBackward0>) lr = 0.010000\n",
      "[epoch: 12 ]   loss= tensor(139.533615112304688, grad_fn=<DivBackward0>) lr = 0.010000\n",
      "[epoch: 13 ]   loss= tensor(138.888717651367188, grad_fn=<DivBackward0>) lr = 0.010000\n",
      "[epoch: 14 ]   loss= tensor(139.064682006835938, grad_fn=<DivBackward0>) lr = 0.010000\n",
      "进行验证.......\n",
      "[epoch: 14 ]   loss= tensor(137.186584472656250, grad_fn=<DivBackward0>) lr = 0.010000\n",
      "[epoch: 15 ]   loss= tensor(140.020278930664062, grad_fn=<DivBackward0>) lr = 0.010000\n",
      "[epoch: 16 ]   loss= tensor(138.590072631835938, grad_fn=<DivBackward0>) lr = 0.010000\n",
      "[epoch: 17 ]   loss= tensor(139.413986206054688, grad_fn=<DivBackward0>) lr = 0.010000\n",
      "[epoch: 18 ]   loss= tensor(139.100204467773438, grad_fn=<DivBackward0>) lr = 0.010000\n",
      "[epoch: 19 ]   loss= tensor(138.790893554687500, grad_fn=<DivBackward0>) lr = 0.010000\n",
      "进行验证.......\n",
      "[epoch: 19 ]   loss= tensor(139.095626831054688, grad_fn=<DivBackward0>) lr = 0.010000\n",
      "[epoch: 20 ]   loss= tensor(139.344253540039062, grad_fn=<DivBackward0>) lr = 0.010000\n",
      "[epoch: 21 ]   loss= tensor(139.495407104492188, grad_fn=<DivBackward0>) lr = 0.010000\n",
      "[epoch: 22 ]   loss= tensor(137.799911499023438, grad_fn=<DivBackward0>) lr = 0.010000\n",
      "[epoch: 23 ]   loss= tensor(138.156906127929688, grad_fn=<DivBackward0>) lr = 0.010000\n",
      "[epoch: 24 ]   loss= tensor(138.814819335937500, grad_fn=<DivBackward0>) lr = 0.010000\n",
      "进行验证.......\n",
      "[epoch: 24 ]   loss= tensor(137.246261596679688, grad_fn=<DivBackward0>) lr = 0.010000\n",
      "[epoch: 25 ]   loss= tensor(138.331756591796875, grad_fn=<DivBackward0>) lr = 0.010000\n",
      "[epoch: 26 ]   loss= tensor(138.586730957031250, grad_fn=<DivBackward0>) lr = 0.010000\n",
      "[epoch: 27 ]   loss= tensor(139.197891235351562, grad_fn=<DivBackward0>) lr = 0.010000\n",
      "[epoch: 28 ]   loss= tensor(138.244186401367188, grad_fn=<DivBackward0>) lr = 0.010000\n",
      "[epoch: 29 ]   loss= tensor(139.575302124023438, grad_fn=<DivBackward0>) lr = 0.010000\n",
      "进行验证.......\n",
      "[epoch: 29 ]   loss= tensor(135.707839965820312, grad_fn=<DivBackward0>) lr = 0.010000\n",
      "model save!\n",
      "[epoch: 30 ]   loss= tensor(138.474716186523438, grad_fn=<DivBackward0>) lr = 0.010000\n",
      "[epoch: 31 ]   loss= tensor(137.990447998046875, grad_fn=<DivBackward0>) lr = 0.010000\n",
      "[epoch: 32 ]   loss= tensor(137.266098022460938, grad_fn=<DivBackward0>) lr = 0.010000\n",
      "[epoch: 33 ]   loss= tensor(138.265991210937500, grad_fn=<DivBackward0>) lr = 0.010000\n",
      "[epoch: 34 ]   loss= tensor(138.788757324218750, grad_fn=<DivBackward0>) lr = 0.010000\n",
      "进行验证.......\n",
      "[epoch: 34 ]   loss= tensor(135.707656860351562, grad_fn=<DivBackward0>) lr = 0.010000\n",
      "model save!\n",
      "[epoch: 35 ]   loss= tensor(139.602020263671875, grad_fn=<DivBackward0>) lr = 0.010000\n",
      "[epoch: 36 ]   loss= tensor(138.278579711914062, grad_fn=<DivBackward0>) lr = 0.010000\n",
      "[epoch: 37 ]   loss= tensor(137.626800537109375, grad_fn=<DivBackward0>) lr = 0.010000\n",
      "[epoch: 38 ]   loss= tensor(138.983627319335938, grad_fn=<DivBackward0>) lr = 0.010000\n",
      "[epoch: 39 ]   loss= tensor(138.322082519531250, grad_fn=<DivBackward0>) lr = 0.010000\n",
      "进行验证.......\n",
      "[epoch: 39 ]   loss= tensor(136.693969726562500, grad_fn=<DivBackward0>) lr = 0.010000\n",
      "[epoch: 40 ]   loss= tensor(138.864364624023438, grad_fn=<DivBackward0>) lr = 0.010000\n",
      "[epoch: 41 ]   loss= tensor(138.010528564453125, grad_fn=<DivBackward0>) lr = 0.010000\n",
      "[epoch: 42 ]   loss= tensor(139.044082641601562, grad_fn=<DivBackward0>) lr = 0.010000\n",
      "[epoch: 43 ]   loss= tensor(138.386398315429688, grad_fn=<DivBackward0>) lr = 0.010000\n",
      "[epoch: 44 ]   loss= tensor(137.324798583984375, grad_fn=<DivBackward0>) lr = 0.010000\n",
      "进行验证.......\n",
      "[epoch: 44 ]   loss= tensor(138.712707519531250, grad_fn=<DivBackward0>) lr = 0.010000\n",
      "[epoch: 45 ]   loss= tensor(138.472717285156250, grad_fn=<DivBackward0>) lr = 0.010000\n",
      "[epoch: 46 ]   loss= tensor(137.599731445312500, grad_fn=<DivBackward0>) lr = 0.010000\n",
      "[epoch: 47 ]   loss= tensor(138.334869384765625, grad_fn=<DivBackward0>) lr = 0.010000\n",
      "[epoch: 48 ]   loss= tensor(138.724822998046875, grad_fn=<DivBackward0>) lr = 0.010000\n",
      "[epoch: 49 ]   loss= tensor(138.789001464843750, grad_fn=<DivBackward0>) lr = 0.010000\n",
      "进行验证.......\n",
      "[epoch: 49 ]   loss= tensor(137.865173339843750, grad_fn=<DivBackward0>) lr = 0.010000\n",
      "[epoch: 50 ]   loss= tensor(140.305648803710938, grad_fn=<DivBackward0>) lr = 0.010000\n",
      "[epoch: 51 ]   loss= tensor(137.529739379882812, grad_fn=<DivBackward0>) lr = 0.010000\n",
      "[epoch: 52 ]   loss= tensor(137.522262573242188, grad_fn=<DivBackward0>) lr = 0.010000\n",
      "[epoch: 53 ]   loss= tensor(138.084594726562500, grad_fn=<DivBackward0>) lr = 0.010000\n",
      "[epoch: 54 ]   loss= tensor(137.507431030273438, grad_fn=<DivBackward0>) lr = 0.010000\n",
      "进行验证.......\n",
      "[epoch: 54 ]   loss= tensor(136.343032836914062, grad_fn=<DivBackward0>) lr = 0.010000\n",
      "[epoch: 55 ]   loss= tensor(138.070785522460938, grad_fn=<DivBackward0>) lr = 0.010000\n",
      "[epoch: 56 ]   loss= tensor(138.063125610351562, grad_fn=<DivBackward0>) lr = 0.010000\n",
      "[epoch: 57 ]   loss= tensor(138.999374389648438, grad_fn=<DivBackward0>) lr = 0.010000\n",
      "[epoch: 58 ]   loss= tensor(139.081436157226562, grad_fn=<DivBackward0>) lr = 0.010000\n",
      "[epoch: 59 ]   loss= tensor(137.683029174804688, grad_fn=<DivBackward0>) lr = 0.010000\n",
      "进行验证.......\n",
      "[epoch: 59 ]   loss= tensor(136.677886962890625, grad_fn=<DivBackward0>) lr = 0.010000\n",
      "[epoch: 60 ]   loss= tensor(138.275772094726562, grad_fn=<DivBackward0>) lr = 0.010000\n",
      "[epoch: 61 ]   loss= tensor(139.112472534179688, grad_fn=<DivBackward0>) lr = 0.010000\n",
      "[epoch: 62 ]   loss= tensor(137.346191406250000, grad_fn=<DivBackward0>) lr = 0.010000\n",
      "[epoch: 63 ]   loss= tensor(138.017044067382812, grad_fn=<DivBackward0>) lr = 0.010000\n",
      "[epoch: 64 ]   loss= tensor(138.841796875000000, grad_fn=<DivBackward0>) lr = 0.010000\n",
      "进行验证.......\n",
      "[epoch: 64 ]   loss= tensor(135.698059082031250, grad_fn=<DivBackward0>) lr = 0.010000\n",
      "model save!\n",
      "[epoch: 65 ]   loss= tensor(137.423629760742188, grad_fn=<DivBackward0>) lr = 0.010000\n",
      "[epoch: 66 ]   loss= tensor(137.911087036132812, grad_fn=<DivBackward0>) lr = 0.010000\n",
      "[epoch: 67 ]   loss= tensor(138.890182495117188, grad_fn=<DivBackward0>) lr = 0.010000\n",
      "[epoch: 68 ]   loss= tensor(138.384475708007812, grad_fn=<DivBackward0>) lr = 0.010000\n",
      "[epoch: 69 ]   loss= tensor(137.944259643554688, grad_fn=<DivBackward0>) lr = 0.010000\n",
      "进行验证.......\n",
      "[epoch: 69 ]   loss= tensor(134.478485107421875, grad_fn=<DivBackward0>) lr = 0.010000\n",
      "model save!\n",
      "[epoch: 70 ]   loss= tensor(137.408966064453125, grad_fn=<DivBackward0>) lr = 0.010000\n",
      "[epoch: 71 ]   loss= tensor(138.340499877929688, grad_fn=<DivBackward0>) lr = 0.010000\n",
      "[epoch: 72 ]   loss= tensor(137.685440063476562, grad_fn=<DivBackward0>) lr = 0.010000\n",
      "[epoch: 73 ]   loss= tensor(136.414642333984375, grad_fn=<DivBackward0>) lr = 0.010000\n",
      "[epoch: 74 ]   loss= tensor(138.128845214843750, grad_fn=<DivBackward0>) lr = 0.010000\n",
      "进行验证.......\n",
      "[epoch: 74 ]   loss= tensor(136.370635986328125, grad_fn=<DivBackward0>) lr = 0.010000\n",
      "[epoch: 75 ]   loss= tensor(138.967849731445312, grad_fn=<DivBackward0>) lr = 0.010000\n",
      "[epoch: 76 ]   loss= tensor(137.912216186523438, grad_fn=<DivBackward0>) lr = 0.010000\n",
      "[epoch: 77 ]   loss= tensor(139.068557739257812, grad_fn=<DivBackward0>) lr = 0.010000\n",
      "[epoch: 78 ]   loss= tensor(137.895767211914062, grad_fn=<DivBackward0>) lr = 0.010000\n",
      "[epoch: 79 ]   loss= tensor(137.839523315429688, grad_fn=<DivBackward0>) lr = 0.010000\n",
      "进行验证.......\n",
      "[epoch: 79 ]   loss= tensor(135.026260375976562, grad_fn=<DivBackward0>) lr = 0.010000\n",
      "[epoch: 80 ]   loss= tensor(137.138595581054688, grad_fn=<DivBackward0>) lr = 0.010000\n",
      "[epoch: 81 ]   loss= tensor(137.184463500976562, grad_fn=<DivBackward0>) lr = 0.010000\n",
      "[epoch: 82 ]   loss= tensor(137.874801635742188, grad_fn=<DivBackward0>) lr = 0.010000\n",
      "[epoch: 83 ]   loss= tensor(137.928695678710938, grad_fn=<DivBackward0>) lr = 0.010000\n",
      "[epoch: 84 ]   loss= tensor(136.373657226562500, grad_fn=<DivBackward0>) lr = 0.010000\n",
      "进行验证.......\n",
      "[epoch: 84 ]   loss= tensor(134.771194458007812, grad_fn=<DivBackward0>) lr = 0.010000\n",
      "[epoch: 85 ]   loss= tensor(138.410324096679688, grad_fn=<DivBackward0>) lr = 0.010000\n",
      "[epoch: 86 ]   loss= tensor(137.827438354492188, grad_fn=<DivBackward0>) lr = 0.010000\n",
      "[epoch: 87 ]   loss= tensor(138.502792358398438, grad_fn=<DivBackward0>) lr = 0.010000\n",
      "[epoch: 88 ]   loss= tensor(137.438247680664062, grad_fn=<DivBackward0>) lr = 0.010000\n",
      "[epoch: 89 ]   loss= tensor(137.937820434570312, grad_fn=<DivBackward0>) lr = 0.010000\n",
      "进行验证.......\n",
      "[epoch: 89 ]   loss= tensor(134.209472656250000, grad_fn=<DivBackward0>) lr = 0.010000\n",
      "model save!\n",
      "[epoch: 90 ]   loss= tensor(137.765396118164062, grad_fn=<DivBackward0>) lr = 0.010000\n",
      "[epoch: 91 ]   loss= tensor(137.572631835937500, grad_fn=<DivBackward0>) lr = 0.010000\n",
      "[epoch: 92 ]   loss= tensor(137.523208618164062, grad_fn=<DivBackward0>) lr = 0.010000\n",
      "[epoch: 93 ]   loss= tensor(138.944808959960938, grad_fn=<DivBackward0>) lr = 0.010000\n",
      "[epoch: 94 ]   loss= tensor(137.651229858398438, grad_fn=<DivBackward0>) lr = 0.010000\n",
      "进行验证.......\n",
      "[epoch: 94 ]   loss= tensor(132.736755371093750, grad_fn=<DivBackward0>) lr = 0.010000\n",
      "model save!\n",
      "[epoch: 95 ]   loss= tensor(137.876968383789062, grad_fn=<DivBackward0>) lr = 0.010000\n",
      "[epoch: 96 ]   loss= tensor(137.219451904296875, grad_fn=<DivBackward0>) lr = 0.010000\n",
      "[epoch: 97 ]   loss= tensor(137.542007446289062, grad_fn=<DivBackward0>) lr = 0.010000\n",
      "[epoch: 98 ]   loss= tensor(137.999206542968750, grad_fn=<DivBackward0>) lr = 0.010000\n",
      "[epoch: 99 ]   loss= tensor(137.648849487304688, grad_fn=<DivBackward0>) lr = 0.010000\n",
      "进行验证.......\n",
      "[epoch: 99 ]   loss= tensor(132.961380004882812, grad_fn=<DivBackward0>) lr = 0.010000\n",
      "[epoch: 100 ]   loss= tensor(137.571533203125000, grad_fn=<DivBackward0>) lr = 0.010000\n",
      "[epoch: 101 ]   loss= tensor(136.675460815429688, grad_fn=<DivBackward0>) lr = 0.010000\n",
      "[epoch: 102 ]   loss= tensor(136.695770263671875, grad_fn=<DivBackward0>) lr = 0.010000\n",
      "[epoch: 103 ]   loss= tensor(137.264633178710938, grad_fn=<DivBackward0>) lr = 0.010000\n",
      "[epoch: 104 ]   loss= tensor(136.959869384765625, grad_fn=<DivBackward0>) lr = 0.010000\n",
      "进行验证.......\n",
      "[epoch: 104 ]   loss= tensor(136.960891723632812, grad_fn=<DivBackward0>) lr = 0.010000\n",
      "[epoch: 105 ]   loss= tensor(136.959686279296875, grad_fn=<DivBackward0>) lr = 0.010000\n",
      "[epoch: 106 ]   loss= tensor(138.585327148437500, grad_fn=<DivBackward0>) lr = 0.010000\n",
      "[epoch: 107 ]   loss= tensor(137.493576049804688, grad_fn=<DivBackward0>) lr = 0.010000\n",
      "[epoch: 108 ]   loss= tensor(138.296401977539062, grad_fn=<DivBackward0>) lr = 0.010000\n",
      "[epoch: 109 ]   loss= tensor(137.080764770507812, grad_fn=<DivBackward0>) lr = 0.010000\n",
      "进行验证.......\n",
      "[epoch: 109 ]   loss= tensor(134.858596801757812, grad_fn=<DivBackward0>) lr = 0.010000\n",
      "[epoch: 110 ]   loss= tensor(137.051101684570312, grad_fn=<DivBackward0>) lr = 0.010000\n",
      "[epoch: 111 ]   loss= tensor(137.387405395507812, grad_fn=<DivBackward0>) lr = 0.010000\n",
      "[epoch: 112 ]   loss= tensor(137.360855102539062, grad_fn=<DivBackward0>) lr = 0.010000\n",
      "[epoch: 113 ]   loss= tensor(136.855728149414062, grad_fn=<DivBackward0>) lr = 0.010000\n",
      "[epoch: 114 ]   loss= tensor(137.068344116210938, grad_fn=<DivBackward0>) lr = 0.010000\n",
      "进行验证.......\n",
      "[epoch: 114 ]   loss= tensor(135.761138916015625, grad_fn=<DivBackward0>) lr = 0.010000\n",
      "[epoch: 115 ]   loss= tensor(136.783248901367188, grad_fn=<DivBackward0>) lr = 0.010000\n",
      "[epoch: 116 ]   loss= tensor(136.698623657226562, grad_fn=<DivBackward0>) lr = 0.010000\n",
      "[epoch: 117 ]   loss= tensor(137.291122436523438, grad_fn=<DivBackward0>) lr = 0.010000\n",
      "[epoch: 118 ]   loss= tensor(137.454666137695312, grad_fn=<DivBackward0>) lr = 0.010000\n",
      "[epoch: 119 ]   loss= tensor(136.272506713867188, grad_fn=<DivBackward0>) lr = 0.010000\n",
      "进行验证.......\n",
      "[epoch: 119 ]   loss= tensor(135.757064819335938, grad_fn=<DivBackward0>) lr = 0.010000\n",
      "[epoch: 120 ]   loss= tensor(137.898941040039062, grad_fn=<DivBackward0>) lr = 0.010000\n",
      "[epoch: 121 ]   loss= tensor(137.007522583007812, grad_fn=<DivBackward0>) lr = 0.010000\n"
     ]
    },
    {
     "ename": "KeyboardInterrupt",
     "evalue": "",
     "output_type": "error",
     "traceback": [
      "\u001b[1;31m---------------------------------------------------------------------------\u001b[0m",
      "\u001b[1;31mKeyboardInterrupt\u001b[0m                         Traceback (most recent call last)",
      "\u001b[1;32m<ipython-input-24-e46545b320a1>\u001b[0m in \u001b[0;36m<module>\u001b[1;34m()\u001b[0m\n\u001b[1;32m----> 1\u001b[1;33m \u001b[0mtrain_2\u001b[0m\u001b[1;33m(\u001b[0m\u001b[0moptimizer\u001b[0m\u001b[1;33m,\u001b[0m \u001b[0mchange_model\u001b[0m\u001b[1;33m,\u001b[0m \u001b[0mscheduler\u001b[0m\u001b[1;33m)\u001b[0m\u001b[1;33m\u001b[0m\u001b[1;33m\u001b[0m\u001b[0m\n\u001b[0m",
      "\u001b[1;32m<ipython-input-21-30c791c23f34>\u001b[0m in \u001b[0;36mtrain_2\u001b[1;34m(optimizer, change_model, scheduler)\u001b[0m\n\u001b[0;32m     25\u001b[0m                     \u001b[0mtrain_loss_sum\u001b[0m \u001b[1;33m+=\u001b[0m\u001b[0mloss_reg\u001b[0m\u001b[1;33m\u001b[0m\u001b[1;33m\u001b[0m\u001b[0m\n\u001b[0;32m     26\u001b[0m                     \u001b[0moptimizer\u001b[0m\u001b[1;33m.\u001b[0m\u001b[0mzero_grad\u001b[0m\u001b[1;33m(\u001b[0m\u001b[1;33m)\u001b[0m\u001b[1;33m\u001b[0m\u001b[1;33m\u001b[0m\u001b[0m\n\u001b[1;32m---> 27\u001b[1;33m                     \u001b[0mloss_reg\u001b[0m\u001b[1;33m.\u001b[0m\u001b[0mbackward\u001b[0m\u001b[1;33m(\u001b[0m\u001b[1;33m)\u001b[0m\u001b[1;33m\u001b[0m\u001b[1;33m\u001b[0m\u001b[0m\n\u001b[0m\u001b[0;32m     28\u001b[0m                     \u001b[0moptimizer\u001b[0m\u001b[1;33m.\u001b[0m\u001b[0mstep\u001b[0m\u001b[1;33m(\u001b[0m\u001b[1;33m)\u001b[0m\u001b[1;33m\u001b[0m\u001b[1;33m\u001b[0m\u001b[0m\n\u001b[0;32m     29\u001b[0m \u001b[1;33m\u001b[0m\u001b[0m\n",
      "\u001b[1;32m~\\Anaconda3\\lib\\site-packages\\torch\\tensor.py\u001b[0m in \u001b[0;36mbackward\u001b[1;34m(self, gradient, retain_graph, create_graph)\u001b[0m\n\u001b[0;32m    100\u001b[0m                 \u001b[0mproducts\u001b[0m\u001b[1;33m.\u001b[0m \u001b[0mDefaults\u001b[0m \u001b[0mto\u001b[0m\u001b[0;31m \u001b[0m\u001b[0;31m`\u001b[0m\u001b[0;31m`\u001b[0m\u001b[1;32mFalse\u001b[0m\u001b[0;31m`\u001b[0m\u001b[0;31m`\u001b[0m\u001b[1;33m.\u001b[0m\u001b[1;33m\u001b[0m\u001b[1;33m\u001b[0m\u001b[0m\n\u001b[0;32m    101\u001b[0m         \"\"\"\n\u001b[1;32m--> 102\u001b[1;33m         \u001b[0mtorch\u001b[0m\u001b[1;33m.\u001b[0m\u001b[0mautograd\u001b[0m\u001b[1;33m.\u001b[0m\u001b[0mbackward\u001b[0m\u001b[1;33m(\u001b[0m\u001b[0mself\u001b[0m\u001b[1;33m,\u001b[0m \u001b[0mgradient\u001b[0m\u001b[1;33m,\u001b[0m \u001b[0mretain_graph\u001b[0m\u001b[1;33m,\u001b[0m \u001b[0mcreate_graph\u001b[0m\u001b[1;33m)\u001b[0m\u001b[1;33m\u001b[0m\u001b[1;33m\u001b[0m\u001b[0m\n\u001b[0m\u001b[0;32m    103\u001b[0m \u001b[1;33m\u001b[0m\u001b[0m\n\u001b[0;32m    104\u001b[0m     \u001b[1;32mdef\u001b[0m \u001b[0mregister_hook\u001b[0m\u001b[1;33m(\u001b[0m\u001b[0mself\u001b[0m\u001b[1;33m,\u001b[0m \u001b[0mhook\u001b[0m\u001b[1;33m)\u001b[0m\u001b[1;33m:\u001b[0m\u001b[1;33m\u001b[0m\u001b[1;33m\u001b[0m\u001b[0m\n",
      "\u001b[1;32m~\\Anaconda3\\lib\\site-packages\\torch\\autograd\\__init__.py\u001b[0m in \u001b[0;36mbackward\u001b[1;34m(tensors, grad_tensors, retain_graph, create_graph, grad_variables)\u001b[0m\n\u001b[0;32m     88\u001b[0m     Variable._execution_engine.run_backward(\n\u001b[0;32m     89\u001b[0m         \u001b[0mtensors\u001b[0m\u001b[1;33m,\u001b[0m \u001b[0mgrad_tensors\u001b[0m\u001b[1;33m,\u001b[0m \u001b[0mretain_graph\u001b[0m\u001b[1;33m,\u001b[0m \u001b[0mcreate_graph\u001b[0m\u001b[1;33m,\u001b[0m\u001b[1;33m\u001b[0m\u001b[1;33m\u001b[0m\u001b[0m\n\u001b[1;32m---> 90\u001b[1;33m         allow_unreachable=True)  # allow_unreachable flag\n\u001b[0m\u001b[0;32m     91\u001b[0m \u001b[1;33m\u001b[0m\u001b[0m\n\u001b[0;32m     92\u001b[0m \u001b[1;33m\u001b[0m\u001b[0m\n",
      "\u001b[1;31mKeyboardInterrupt\u001b[0m: "
     ]
    }
   ],
   "source": [
    "train_2(optimizer, change_model, scheduler)"
   ]
  },
  {
   "cell_type": "markdown",
   "metadata": {},
   "source": [
    "### 绘制loss"
   ]
  },
  {
   "cell_type": "code",
   "execution_count": 25,
   "metadata": {},
   "outputs": [
    {
     "data": {
      "image/png": "[encoded data removed]",
      "text/plain": [
       "<Figure size 432x288 with 2 Axes>"
      ]
     },
     "metadata": {},
     "output_type": "display_data"
    }
   ],
   "source": [
    "draw(train_loss_2_list, val_loss_2_list)"
   ]
  },
  {
   "cell_type": "code",
   "execution_count": null,
   "metadata": {
    "collapsed": true
   },
   "outputs": [],
   "source": [
    "model = LSTM_CNN()\n",
    "Loss = nn.MSELoss()\n",
    "model.load_state_dict(torch.load('C:/Users/wuxun/Desktop/Data/save_model/189epoch_20200713_params.pkl'))\n",
    "x1 = Variable(torch.LongTensor(x_batch_train[:10]))\n",
    "x2 = Variable(torch.FloatTensor(x_csv_train[:10]))\n",
    "x3 = Variable(torch.FloatTensor(target_list_train[:10]))\n",
    "print(\"target.shape: \"+str(x3.shape))\n",
    "print(x3)\n",
    "y = Variable(torch.FloatTensor(y_csv_train[:10]))\n",
    "pred = model(x1, x2)\n",
    "change_model = Change()\n",
    "pred2 = change_model(pred)\n",
    "print(\"pred2.shape: \"+str(pred2.shape))\n",
    "print(pred2)\n",
    "loss = Loss(pred2, x3)\n",
    "print(loss)"
   ]
  },
  {
   "cell_type": "markdown",
   "metadata": {},
   "source": [
    "### 计算R@1在tIOU为0.1/0.3/0.5/0.7的值"
   ]
  },
  {
   "cell_type": "code",
   "execution_count": null,
   "metadata": {
    "collapsed": true
   },
   "outputs": [],
   "source": [
    "def calculate_IoU(i0,i1):\n",
    "    union = (min(i0[0], i1[0]), max(i0[1], i1[1]))\n",
    "    inter = (max(i0[0], i1[0]), min(i0[1], i1[1]))\n",
    "    iou = 1.0*(inter[1]-inter[0])/(union[1]-union[0])\n",
    "    return iou"
   ]
  },
  {
   "cell_type": "code",
   "execution_count": null,
   "metadata": {
    "collapsed": true
   },
   "outputs": [],
   "source": [
    "'''\n",
    "compute recall at certain IoU\n",
    "'''\n",
    "def compute_IoU_recall_top_n_forreg(top_n, iou_thresh, sentence_image_mat, sentence_image_reg_mat, sclips, iclips):\n",
    "    correct_num = 0.0\n",
    "    for k in range(sentence_image_mat.shape[0]):\n",
    "        gt = sclips[k]\n",
    "        gt_start = float(gt.split(\"_\")[1])\n",
    "        gt_end = float(gt.split(\"_\")[2])\n",
    "        sim_v = [v for v in sentence_image_mat[k]]\n",
    "        starts = [s for s in sentence_image_reg_mat[k,:,0]]\n",
    "        ends = [e for e in sentence_image_reg_mat[k,:,1]]\n",
    "        picks = nms_temporal(starts,ends, sim_v, iou_thresh-0.05)\n",
    "        #sim_argsort=np.argsort(sim_v)[::-1][0:top_n]\n",
    "        if top_n<len(picks): picks=picks[0:top_n]\n",
    "        for index in picks:\n",
    "            pred_start = sentence_image_reg_mat[k, index, 0]\n",
    "            pred_end = sentence_image_reg_mat[k, index, 1]\n",
    "            iou = calculate_IoU((gt_start, gt_end),(pred_start, pred_end))\n",
    "            if iou>=iou_thresh:\n",
    "                correct_num+=1\n",
    "                break\n",
    "    return correct_num"
   ]
  },
  {
   "cell_type": "markdown",
   "metadata": {},
   "source": [
    "### VAL_测试"
   ]
  },
  {
   "cell_type": "code",
   "execution_count": null,
   "metadata": {
    "collapsed": true
   },
   "outputs": [],
   "source": [
    "val = []\n",
    "resualt_text_path='C:/Users/wuxun/Desktop/resulat.txt'"
   ]
  },
  {
   "cell_type": "code",
   "execution_count": null,
   "metadata": {
    "collapsed": true
   },
   "outputs": [],
   "source": [
    "def train_3():\n",
    "    change_model = Change()\n",
    "    model = LSTM_CNN()\n",
    "    model.load_state_dict(torch.load('C:/Users/wuxun/Desktop/Data/save_model/60poch_20200713_params.pkl'))\n",
    "    optimizer = optim.Adam(change_model.parameters(), lr = 0.001)\n",
    "    best_val_loss_2 = 1000000\n",
    "    print(\"train begin......\")\n",
    "    with open(resualt_text_path,'a') as f:\n",
    " \n",
    "        for epoch in range(200):\n",
    "            batch_val = batch_iter(x_batch_val, x_csv_val, y_csv_val,source_list_val,target_list_val, batch_size)\n",
    "            count = 0\n",
    "            val_loss_sum = 0\n",
    "            val_loss_avg = 0 \n",
    "            val_alignmentloss_sum =0\n",
    "            val_regloss_sum =0\n",
    "            for x_batch, x_csv, y_csv, source_time, target_time in batch_val:\n",
    "                if x_csv.shape[0]==batch_size:\n",
    "                    count += 1\n",
    "                    x1 = Variable(torch.LongTensor(x_batch))\n",
    "                    x2 = Variable(torch.FloatTensor(np.array(x_csv)))\n",
    "                    source_time = Variable(torch.FloatTensor(np.array(source_time)))\n",
    "                    target_time = Variable(torch.FloatTensor(np.array(target_time)))\n",
    "                    pred = model(x1, x2)\n",
    "                    pred2, loss_alignment = change_model(pred)\n",
    "\n",
    "                    loss_reg = torch.abs(pred2 - target_time).mean()\n",
    "                    for i in range(pred2.shape[0]):\n",
    "                        f.write('target_time:[%d, %d]      (l_reg, r_reg):[%.3f, %.3f]\\n' %(target_time[i][0],target_time[i][1],pred2[i][0], pred2[i][1]))\n",
    "                        #print('target_time:[%d, %d]  (l_reg, r_reg):[%.3f, %.3f]' %(target_time[i][0],target_time[i][1],pred2[i][0], pred2[i][1]))\n",
    "                    val_regloss_sum +=loss_reg\n",
    "                    loss_reg = loss_reg*lamba + loss_alignment\n",
    "\n",
    "                    val_loss_sum +=loss_reg\n",
    "                    val_alignmentloss_sum += loss_alignment\n",
    "\n",
    "                    optimizer.zero_grad()\n",
    "                    loss_reg.backward()\n",
    "                    nn.utils.clip_grad_norm_(change_model.parameters(), max_norm=20, norm_type=2)#梯度裁剪\n",
    "                    optimizer.step()\n",
    "\n",
    "            val_loss_avg = val_loss_sum / count\n",
    "            f.write(\"======================================================================================\\n\")\n",
    "            #print(\"============================================================================\")\n",
    "            #print(\"epoch\"+str(epoch)+\": sum_loss:\"+str((val_loss_avg))+\"  loss_alignment: \"+str(val_alignmentloss_sum/count)+\"  loss_reg: \"+str(val_regloss_sum/count))\n",
    "            f.write('[epoch:%d]     sum_loss: %.3f     loss_alignment: %.3f    loss_reg: %.3f\\n' %(epoch, val_loss_avg, val_alignmentloss_sum/count, val_regloss_sum/count))\n",
    "            print('[epoch:%d]   sum_loss: %.3f   loss_alignment: %.3f  loss_reg: %.3f' %(epoch, val_loss_avg, val_alignmentloss_sum/count, val_regloss_sum/count))\n",
    "            val.append(val_loss_avg)        \n",
    "        "
   ]
  },
  {
   "cell_type": "code",
   "execution_count": null,
   "metadata": {
    "collapsed": true,
    "scrolled": false
   },
   "outputs": [],
   "source": [
    "train_3()"
   ]
  }
 ],
 "metadata": {
  "kernelspec": {
   "display_name": "Python [conda env:Anaconda3]",
   "language": "python",
   "name": "conda-env-Anaconda3-py"
  },
  "language_info": {
   "codemirror_mode": {
    "name": "ipython",
    "version": 3
   },
   "file_extension": ".py",
   "mimetype": "text/x-python",
   "name": "python",
   "nbconvert_exporter": "python",
   "pygments_lexer": "ipython3",
   "version": "3.6.8"
  }
 },
 "nbformat": 4,
 "nbformat_minor": 2
}
